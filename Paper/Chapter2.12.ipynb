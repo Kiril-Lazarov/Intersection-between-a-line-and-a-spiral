{
 "cells": [
  {
   "cell_type": "code",
   "execution_count": 1,
   "id": "6b9f1c9e-fa21-4664-975b-5a59acc19c01",
   "metadata": {},
   "outputs": [],
   "source": [
    "from IPython.display import HTML\n",
    "from image_functions import *"
   ]
  },
  {
   "cell_type": "markdown",
   "id": "fba912c5-3c4e-4e90-beec-208feb171235",
   "metadata": {},
   "source": [
    "### <center> 2.1.2 Description and General Strategy of the Angular-Based Algorithm\n",
    "    \n",
    "The goal of the *angular-based algorithm* is to execute a series of rotations of the spiral's radius vector toward its intersection with the vertical line. The rotations are determined by an angular difference $\\Delta \\phi$, which is transformed into time $t$. Unlike the formula for determining the initial values, which transforms space into time only once, the algorithm involves two transformations in the following sequence:\n",
    "    \n",
    "$$Time -> Space - > Time$$\n",
    "    \n",
    "In each iteration, the algorithm performs this double transformation. The steps are as follows:\n",
    "\n",
    "1. Takes its initial input value $t_0$ from formula 2.1.31 or $t_{n-1}$ from previous iteration.\n",
    "\n",
    "2. Converts this value into the coordinates of the spiral's radius vector using the formulas:\n",
    "    \n",
    "$$x_s(t_{n-1}) = vt_{n-1}cos(k\\frac{\\pi}{2} + \\omega t_{n-1}), \\quad\\quad\\quad\\quad (2.1.2.1)$$\n",
    "    \n",
    "$$y_s(t_{n-1}) = vt_{n-1}sin(k\\frac{\\pi}{2} + \\omega t_{n-1}). \\quad\\quad\\quad\\quad (2.1.2.2)$$ \n",
    "\n",
    "3. Determines the relationship of these coordinates to the point $x_l$ where the vertical line is positioned, i.e.:\n",
    "\n",
    "$\\quad$ - Computes the absolute value (magnitude) of the angular difference $\\Delta \\phi$ between the tip of the radius vector and its projection on the vertical line.\n",
    "    \n",
    "$\\quad$ - 'Decides' the direction in which to rotate the radius vector through algebraic checks.\n",
    "    \n",
    "4. Transforms the obtained angular difference into time and adds (or subtracts) it from the input time value $t_{n-1}$.\n",
    "\n",
    "5. Returns the new value $t_n$, which is then used as the input for the next iteration.\n",
    "    \n",
    "Since the algorithm is iterative and returns multiple values, it can also be viewed as a numerical sequence, just like the formula for initial values. That is, it constructs a numerical sequence {$t_m$} using a member of another numerical sequence {$t_n$} as its starting value. From this perspective, the numerical-analytical method for finding the intersection points between a line and a spiral can be regarded as a formula for the general term of a two-dimensional numerical sequence.  \n",
    "\n",
    "We adopt the following notation for the general term:  \n",
    "    \n",
    "$$\\left\\{ t_{[n; m]} \\right\\} = Expression \\quad\\quad\\quad\\quad (2.1.2.3)$$\n",
    "\n",
    "where $n$ is the nth moment in time when the spiral intersects the ordinate axis, and $m$ is the mth approximation of the spiral's radius vector to the vertical line.  \n",
    "\n",
    "We separate $n$ and $m$ with semicolon in the index and represent them as an ordered pair to avoid confusion between them. For example, if we simply used $t_{123}$, it would be unclear whether this refers to the 23rd approximation to the line from the first intersection point with the ordinate or the third approximation from the 12th intersection point.\n",
    "    \n",
    "The algorithm itself, for simplicity, will be denoted by the abbreviation **AB-Alg**. It is a function of five parameters - $t_{[n: m-1]}$, $v$, $\\omega$, $k$ and  $x_l$, .Then, formula 2.1.34 takes the following form:\n",
    "    \n",
    "$$\\left\\{ t_{[n; m]} \\right\\} = AB\\text{-}Alg(t_{[n: m-1]}, v, \\omega, k, x_l), \\quad t_{[n: 0]} = \\left\\{ t_n \\right\\}, \\quad v, \\omega, k, x_l = const.\\quad\\quad\\quad\\quad (2.1.2.4)$$\n",
    "    \n",
    "With $t_{[n: 0]} = \\left\\{ t_n \\right\\}$ we denote the zero-th approximation, which is the n-th input value from the numerical sequence $\\left\\{ t_n \\right\\}$.\n",
    "    \n",
    "The four constants are the three parameters of the spiral: the rate of increase of the radius vector $v$, the angular velocity $\\omega$, and the coefficient of the initial angle $k$; and the position $x_l$ of the vertical line on the abscissa axis.\n",
    "    \n",
    "Following the description of the algorithm above, its algebraic form is as follows:\n",
    "    \n",
    "$$AB\\text{-}Alg(t_{[n; m]}) = t_{[n; m-1]} + \\Delta t (t_{[n; m-1]}, v, \\omega, k, x_l). \\quad\\quad\\quad\\quad (2.1.2.5)$$\n",
    "    \n",
    "Then, for the two-dimensional numerical sequence, we have:\n",
    "    \n",
    "$$\\left\\{ t_{[n; m]} \\right\\} = t_{[n; m-1]} + \\Delta t (t_{[n; m-1]}, v, \\omega, k, x_l). \\quad\\quad\\quad\\quad (2.1.2.6)$$\n",
    "    \n",
    "The task, therefore, is to calculate $\\Delta t (t_{[n; m-1]}, v, \\omega, k, x_l)$, which for simplicity will be denoted as $\\Delta t_m$ from now on.\n",
    "    \n",
    "    "
   ]
  },
  {
   "cell_type": "markdown",
   "id": "ecbcc4ad-34ac-4eae-a8fc-3998daaf0f84",
   "metadata": {},
   "source": [
    "### <center> 2.1.3 Derivation of the Angle-Based Algorithm\n",
    "    \n",
    "Let us consider an *Archimedean spiral* with a radial growth rate $v = 3$, an angular velocity $\\omega = 2$, an initial angle coefficient $k=3$ (start angle of 270 degrees), and a vertical line positioned at point $x_l = 2$.\n",
    "    \n",
    "*Figure 15* illustrates this configuration.\n"
   ]
  },
  {
   "cell_type": "code",
   "execution_count": 2,
   "id": "94e6286f-4d9d-4668-aa01-0691465b5e65",
   "metadata": {},
   "outputs": [
    {
     "data": {
      "text/html": [
       "\n",
       "    <div style=\"display: flex; justify-content: center; align-items: center; height: 300px;\">\n",
       "        <img src=\"Images/fig15.png\" style=\"width: 562px; height: 300px;\">\n",
       "        <div style=\"position: absolute; top: 0px; right: 80px; color: black; font-size: 14px; background-color: rgba(255, 255, 255, 0.7); padding:           5px; border-radius: 5px;\">\n",
       "            Fig.15\n",
       "        </div>\n",
       "    </div>\n",
       "    "
      ],
      "text/plain": [
       "<IPython.core.display.HTML object>"
      ]
     },
     "execution_count": 2,
     "metadata": {},
     "output_type": "execute_result"
    }
   ],
   "source": [
    "load_image('fig15')"
   ]
  },
  {
   "cell_type": "markdown",
   "id": "51e5691f-1761-4930-8fe7-0f6a715f2550",
   "metadata": {},
   "source": [
    "#### <center> Step 1\n",
    "\n",
    "For this configuration of the spiral's parameters, formula 2.1.31 calculates the following values:\n",
    "\n",
    "1. The angle of rotation $\\Delta \\theta $ of the spiral's radius vector (the black radius vector lying on the positive side of the ordinate axis) to the next ordinate axis in the direction of the spiral's rotation ($\\omega > 0$) is equal to $\\pi$ (180 degrees).\n",
    "\n",
    "2. This angle of rotation corresponds to the moment $t_1 = 1.57079...$.\n",
    "\n",
    "This is the moment of the first intersection $n = 1$ of the ordinate axis by the spiral's radius vector. The input value of the algorithm is **nth_t 1** = $1.57079....$ and accordingly, this is the zeroth approximation **mth_t 0** to the vertical line.\n",
    "    \n",
    "#### <center> Step 2\n",
    "    \n",
    "The obtained initial time value $t_1$ must be converted into the coordinates of the corresponding radius vector using formulas 2.1.2.1 and 2.1.2.2. In this case, the specific coordinate values are $x_s(t_1) = 0$ and $y_s(t_1) = 4.71238...$. As seen, the obtained radius vector of the spiral at moment $t_1$ lies on the next ordinate axis relative to its initial angle.\n",
    "    \n",
    "#### <center> Step 3   \n",
    "    \n",
    "To calculate the first approximation $m = 1$ of the radius vector of the spiral to the line, we need to construct a triangle between it, the center of the coordinate system, and the line. *Figure 16* shows the already calculated first approximation, where the black radius vector is the result of the calculation, and the green one is the initial radius vector, obtained as a function of the input value $t_1$."
   ]
  },
  {
   "cell_type": "code",
   "execution_count": 3,
   "id": "6938a109-139e-4d70-8725-b45ea441868d",
   "metadata": {},
   "outputs": [
    {
     "data": {
      "text/html": [
       "\n",
       "    <div style=\"display: flex; justify-content: center; align-items: center; height: 300px;\">\n",
       "        <img src=\"Images/fig16.png\" style=\"width: 562px; height: 300px;\">\n",
       "        <div style=\"position: absolute; top: 0px; right: 80px; color: black; font-size: 14px; background-color: rgba(255, 255, 255, 0.7); padding:           5px; border-radius: 5px;\">\n",
       "            Fig.16\n",
       "        </div>\n",
       "    </div>\n",
       "    "
      ],
      "text/plain": [
       "<IPython.core.display.HTML object>"
      ]
     },
     "execution_count": 3,
     "metadata": {},
     "output_type": "execute_result"
    }
   ],
   "source": [
    "load_image('fig16')"
   ]
  },
  {
   "cell_type": "markdown",
   "id": "9459aec3-6b3f-452c-9c3f-03fdb14b2bd9",
   "metadata": {},
   "source": [
    "The image shows a right triangle with sides $a$, $b$ and $c$ ($a$ - hypotenuse, $b$ and $c$ - legs) and an angle $\\Delta \\phi$ opposite the side $c$ (we define the triangle by its sides, as we are interested in the magnitudes of the sides rather than the positions of its vertices). Our goal is to determine the magnitude of the angle $\\Delta \\phi$. \n",
    "\n",
    "We construct the triangle based on the radius vector from the previous iteration, taking its $y$-coordinate and finding the distance between it and its projection onto the straight line positioned at point $x_l$. This distance forms the side $c$. This point is then connected to the origin of the coordinate system, forming the side $a$, which serves as the hypotenuse of this right triangle. Then, we can easily find the angle $\\Delta \\phi$ using the cosine rule, as we know the lengths of all three sides. \n",
    "\n",
    "The cosine rule for the leg $c$ is:\n",
    "\n",
    "$$ c^2 = a^2 + b^2 - 2abcos\\Delta \\phi. \\quad\\quad\\quad\\quad (2.1.3.1)$$\n",
    "\n",
    "Solving for the angle $\\Delta \\phi$, we have:\n",
    "\n",
    "$$ \\Delta \\phi = arccos\\frac{a^2 + b^2 - c^2}{2ab}. \\quad\\quad\\quad\\quad (2.1.3.2)$$\n",
    "\n",
    "\n",
    "As seen from the image, the angle $\\Delta \\phi$ is a central angle, and therefore there exists a radius vector of the spiral whose angle is equal to $\\frac{\\pi}{2} - \\Delta \\phi$. This vector lies on the hypotenuse $a$ of the right triangle. However, there are infinitely many radius vectors of the spiral with this angle.\n",
    "\n",
    "*Important note*: To isolate the radius vector of interest, we use the cosine rule, not the tangent of the hypotenuse, because the tangent is undefined when the angle is 90 degrees. This occurs when the line coincides with the ordinate axis $x_l = 0$. In this case, however, the intersection points of the spiral and the line are well-defined, and these are the intersection points obtained through the initial values algorithm.\n",
    "\n",
    "The leg $b$ represents the length of the radius vector from the previous iteration:\n",
    "\n",
    "$$b = \\sqrt{x_s(t_{[n; m-1]})^2 + y_s(t_{[n; m-1]})^2}. \\quad\\quad\\quad\\quad (2.1.3.3)$$\n",
    "\n",
    "The leg $c$ is the distance between the point $x_l$, where the line is positioned, and the $x$-coordinate of the radius vector from the previous iteration:\n",
    "\n",
    "$$ c = |x_l| - |x_s(t_{[n; m-1]})|. \\quad\\quad\\quad\\quad (2.1.3.4)$$\n",
    "\n",
    "Here, we take the absolute values of the points, but the sign of the difference between them will be necessary in the equation.\n"
   ]
  }
 ],
 "metadata": {
  "kernelspec": {
   "display_name": "Python 3 (ipykernel)",
   "language": "python",
   "name": "python3"
  },
  "language_info": {
   "codemirror_mode": {
    "name": "ipython",
    "version": 3
   },
   "file_extension": ".py",
   "mimetype": "text/x-python",
   "name": "python",
   "nbconvert_exporter": "python",
   "pygments_lexer": "ipython3",
   "version": "3.9.13"
  }
 },
 "nbformat": 4,
 "nbformat_minor": 5
}
