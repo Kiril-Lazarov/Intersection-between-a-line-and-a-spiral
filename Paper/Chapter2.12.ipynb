{
 "cells": [
  {
   "cell_type": "markdown",
   "id": "fba912c5-3c4e-4e90-beec-208feb171235",
   "metadata": {},
   "source": [
    "### <center> 2.1.2 Description and General Strategy of the Angular-Based Algorithm\n",
    "    \n",
    "The goal of the *angular-based algorithm* is to execute a series of rotations of the spiral's radius vector toward its intersection with the vertical line. The rotations are determined by an angular difference $\\Delta \\phi$, which is transformed into time $t$. Unlike the formula for determining the initial values, which transforms space into time only once, the algorithm involves two transformations in the following sequence:\n",
    "    \n",
    "$$Time -> Space - > Time$$\n",
    "    \n",
    "In each iteration, the algorithm performs this double transformation. The steps are as follows:\n",
    "\n",
    "1. Takes its initial input value $t_0$ from formula 2.1.31 or $t_{n-1}$ from previous iteration.\n",
    "\n",
    "2. Converts this value into the coordinates of the spiral's radius vector using the formulas:\n",
    "    \n",
    "$$x_s(t_{n-1}) = vt_{n-1}cos(k\\frac{\\pi}{2} + \\omega t_{n-1}), \\quad\\quad\\quad\\quad (2.1.32)$$\n",
    "    \n",
    "$$y_s(t_{n-1}) = vt_{n-1}sin(k\\frac{\\pi}{2} + \\omega t_{n-1}). \\quad\\quad\\quad\\quad (2.1.33)$$ \n",
    "\n",
    "3. Determines the relationship of these coordinates to the point $x_l$ where the vertical line is positioned, i.e.:\n",
    "\n",
    "$\\quad$ - Computes the absolute value (magnitude) of the angular difference $\\Delta \\phi$ between the tip of the radius vector and its projection on the vertical line.\n",
    "    \n",
    "$\\quad$ - 'Decides' the direction in which to rotate the radius vector through algebraic checks.\n",
    "    \n",
    "4. Transforms the obtained angular difference into time and adds (or subtracts) it from the input time value $t_{n-1}$.\n",
    "\n",
    "5. Returns the new value $t_n$, which is then used as the input for the next iteration.\n",
    "    \n",
    "Since the algorithm is iterative and returns multiple values, it can also be viewed as a numerical sequence, just like the formula for initial values. That is, it constructs a numerical sequence {$t_m$} using a member of another numerical sequence {$t_n$} as its starting value. From this perspective, the numerical-analytical method for finding the intersection points between a line and a spiral can be regarded as a formula for the general term of a two-dimensional numerical sequence.  \n",
    "\n",
    "We adopt the following notation for the general term:  \n",
    "    \n",
    "$$\\left\\{ t_{[n; m]} \\right\\} = Expression \\quad\\quad\\quad\\quad (2.1.34)$$\n",
    "\n",
    "where $n$ is the nth moment in time when the spiral intersects the ordinate axis, and $m$ is the mth approximation of the spiral's radius vector to the vertical line.  \n",
    "\n",
    "We separate $n$ and $m$ with semicolon in the index and represent them as an ordered pair to avoid confusion between them. For example, if we simply used $t_{123}$, it would be unclear whether this refers to the 23rd approximation to the line from the first intersection point with the ordinate or the third approximation from the 12th intersection point.\n",
    "    \n",
    "The algorithm itself, for simplicity, will be denoted by the abbreviation **AB-Alg**. It is a function of five parameters - $t_{[n: m-1]}$, $v$, $\\omega$, $k$ and  $x_l$, .Then, formula 2.1.34 takes the following form:\n",
    "    \n",
    "$$\\left\\{ t_{[n; m]} \\right\\} = AB\\text{-}Alg(t_{[n: m-1]}, v, \\omega, k, x_l), \\quad t_{[n: 0]} = \\left\\{ t_n \\right\\}, \\quad v, \\omega, k, x_l = const.\\quad\\quad\\quad\\quad (2.1.35)$$\n",
    "    \n",
    "With $t_{[n: 0]} = \\left\\{ t_n \\right\\}$ we denote the zero-th approximation, which is the n-th input value from the numerical sequence $\\left\\{ t_n \\right\\}$.\n",
    "    \n",
    "The four constants are the three parameters of the spiral: the rate of increase of the radius vector $v$, the angular velocity $\\omega$, and the coefficient of the initial angle $k$; and the position $x_l$ of the vertical line on the abscissa axis.\n",
    "    \n",
    "Following the description of the algorithm above, its algebraic form is as follows:\n",
    "    \n",
    "$$AB\\text{-}Alg(t_{[n: m]}) = t_{[n; m-1]} + \\Delta t (t_{[n: m-1]}, v, \\omega, k, x_l). \\quad\\quad\\quad\\quad (2.1.36)$$\n",
    "    \n",
    "Then, for the two-dimensional numerical sequence, we have:\n",
    "    \n",
    "$$\\left\\{ t_{[n; m]} \\right\\} = t_{[n; m-1]} + \\Delta t (t_{[n: m-1]}, v, \\omega, k, x_l). \\quad\\quad\\quad\\quad (2.1.37)$$\n",
    "    \n",
    "The task, therefore, is to calculate $\\Delta t (t_{[n: m-1]}, v, \\omega, k, x_l)$, which for simplicity will be denoted as $\\Delta t_m$ from now on."
   ]
  }
 ],
 "metadata": {
  "kernelspec": {
   "display_name": "Python 3 (ipykernel)",
   "language": "python",
   "name": "python3"
  },
  "language_info": {
   "codemirror_mode": {
    "name": "ipython",
    "version": 3
   },
   "file_extension": ".py",
   "mimetype": "text/x-python",
   "name": "python",
   "nbconvert_exporter": "python",
   "pygments_lexer": "ipython3",
   "version": "3.9.13"
  }
 },
 "nbformat": 4,
 "nbformat_minor": 5
}
