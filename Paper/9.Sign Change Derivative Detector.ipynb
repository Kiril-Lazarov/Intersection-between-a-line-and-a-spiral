{
 "cells": [
  {
   "cell_type": "code",
   "execution_count": 1,
   "id": "9372d91d-45e6-4e9e-990a-694ec4db00a3",
   "metadata": {},
   "outputs": [],
   "source": [
    "from IPython.display import HTML\n",
    "from image_functions import *"
   ]
  },
  {
   "cell_type": "markdown",
   "id": "a35adb21-de1f-416d-a0bf-216f44d66bf1",
   "metadata": {},
   "source": [
    "#### <center> 2.2.1.2 Sign Change Derivative Detector\n",
    "    \n",
    "To construct the algebraic check needed for correcting $\\text{LB-Alg}$ in cases where the vertical line does not intersect the first turn of the spiral, we will use the sign change of the derivative $x'(t)$. For clarity, we will call this check the  **Sign Change Derivative Detector**, although what it will actually check is whether the signs of two variables are the same. We have already used such a check once as part of the more complex check $\\text{KWL}$, and that was $\\text{ExpressionB}$. Let's recall $\\text{ExpressionB}$.\n",
    "    \n",
    "$$ \\text{ExpressionB} =  \\frac{S_{(x_l)} + S_{(\\omega)}}{E_{(S_{(x_l)} + S_{(\\omega)})}} =\n",
    "\\frac{\\frac{x_l}{|E_{(x_l)}|} + \n",
    "\\frac{\\omega}{|E_{(\\omega)}|}}\n",
    "{E_{(\\frac{x_l}{|E_{(x_l)}|} +\n",
    "\\frac{\\omega}{|E_{(\\omega)}|})}}\n",
    ". \\quad\\quad\\quad\\quad(2.2.1.14)$$\n",
    "    \n",
    "This check answers the question \"Are the signs of $x_l$ and $\\omega$ the same?\" If they are the same, it returns a positive response with one. Let's recall the other outputs as well."
   ]
  },
  {
   "cell_type": "code",
   "execution_count": 2,
   "id": "a136f96e-f4fc-4220-8f24-7185a40d1c03",
   "metadata": {},
   "outputs": [
    {
     "data": {
      "text/html": [
       "\n",
       "    <div style=\"display: flex; flex-direction: column; justify-content: center; align-items: center; width: 100%;\">\n",
       "        <h3>$Expression B$</h3>\n",
       "        <table border=\"1\" style=\"border-collapse: collapse; text-align: center; width: 85%; font-size: 13px;\">\n",
       "            <tr>\n",
       "                <th></th>\n",
       "                <th>$\\omega < 0 $</th>\n",
       "                <th>$ \\omega = 0 $</th>\n",
       "                <th>$\\omega > 0 $</th>\n",
       "\n",
       "                 \n",
       "            </tr>\n",
       "                <th>$x_l<0$</th>\n",
       "                <th>$1$</th>\n",
       "                <th>$1$</th>\n",
       "                <th>$0$</th>\n",
       "\n",
       "                \n",
       "            </tr>\n",
       "            </tr>\n",
       "                <th>$x_l=0$</th>\n",
       "                <th>$1$</th>\n",
       "                <th>$0$</th>\n",
       "                <th>$1$</th>\n",
       "\n",
       "                \n",
       "            </tr>\n",
       "            </tr>\n",
       "                <th>$x_l>0$</th>\n",
       "                <th>$0$</th>\n",
       "                <th>$1$</th>\n",
       "                <th>$1$</th>\n",
       "\n",
       "                \n",
       "            </tr>\n",
       "\n",
       "\n",
       "        </table>\n",
       "        Fig.90\n",
       "    </div>\n",
       "    "
      ],
      "text/plain": [
       "<IPython.core.display.HTML object>"
      ]
     },
     "metadata": {},
     "output_type": "display_data"
    }
   ],
   "source": [
    "expression_b_table()"
   ]
  },
  {
   "cell_type": "markdown",
   "id": "b5cad6bd-98b6-4592-9add-3b2324d33ef9",
   "metadata": {},
   "source": [
    "As we can see, the answer is $1$ if one of the signs is $0$. However, if both are $0$, the answer is $0$. Further down, we will see that this case will not occur, so it is not problematic.\n",
    "\n",
    "To construct $\\text{SCDD}_{(a, b)}^{[0 \\vee 1]}$ (**Sign Change Derivative Detector**) we will simply pass different values into $\\text{ExpressionB}$ as arguments.\n",
    "\n",
    "$$ \\text{SCDD}_{(f'_a(t), f'_b(t))}^{[0 \\vee 1]} = \n",
    "\\frac{\\frac{f'_a(t)}{|E_{(f'_a(t))}|} + \\frac{f'_b(t)}{|E_{(f'_b(t))}|}}\n",
    "{E_{\\left( \\frac{f'_a(t)}{|E_{(f'_a(t))}|} + \\frac{f'_b(t)}{|E_{(f'_b(t))}|} \\right)}}\\quad\\quad\\quad\\quad (2.2.1.2.1)$$\n",
    "\n",
    "Now, we need to find which are the derivatives $f'_a(t)$ and $f'_b(t)$. Let's visualize a vertical line that is tangent to the first spiral turn."
   ]
  },
  {
   "cell_type": "code",
   "execution_count": 3,
   "id": "5e25f2bc-f71d-496e-a221-c22518ccb107",
   "metadata": {},
   "outputs": [
    {
     "data": {
      "text/html": [
       "\n",
       "    <div style=\"display: flex; justify-content: center; align-items: center; height: 300px;\">\n",
       "        <img src=\"Images/fig114.png\" style=\"width: 562px; height: 300px;\">\n",
       "        <div style=\"position: absolute; top: 0px; right: 80px; color: black; font-size: 14px; background-color: rgba(255, 255, 255, 0.7); padding:           5px; border-radius: 5px;\">\n",
       "            Fig.114\n",
       "        </div>\n",
       "    </div>\n",
       "    "
      ],
      "text/plain": [
       "<IPython.core.display.HTML object>"
      ]
     },
     "execution_count": 3,
     "metadata": {},
     "output_type": "execute_result"
    }
   ],
   "source": [
    "load_image('fig114')"
   ]
  },
  {
   "cell_type": "markdown",
   "id": "11246697-965a-4945-819a-29973a0d857e",
   "metadata": {},
   "source": [
    "The derivative $f'_b(t)$ is the red line at the black point - i.e., the input value for $\\text{LB-Alg}$. Its slope is positive because it is located \"before\" $\\text{PMD}$ and the $x$-coordinate of the spiral vector is increasing.\n",
    "The sign of this derivative will be compared with the sign of $f'_a(0)$, which is the derivative at the moment $t=0$ and is located at the origin of the coordinate system. The derivative $f'_a(0)$ at this exact moment is the only possible reference point for comparison, as it is simultaneously before $\\text{PMD}$ and before the input for $\\text{LB-Alg}$.\n",
    "\n",
    "Now, we need to define $f'_a(t)$ and $f'_b(t)$. As we showed in the previous section, the derivative $x'_s(0)$ of the $x$-component of the spiral at the moment $t=0$ is equal to the cosine of the initial angle multiplied by $v$.\n",
    "\n",
    "$$ x'_s(0) = v cos(k\\frac{\\pi}{2}). \\quad\\quad\\quad\\quad (2.2.1.1.9)$$\n",
    "\n",
    "\n",
    "$$ f'_a(0) = x'_s(0)= v cos(k\\frac{\\pi}{2}). \\quad\\quad\\quad\\quad (2.2.1.2.2)$$\n",
    "\n",
    "Similarly, $f'_b(t)$ is the derivative of the $x$-component at the initial moment $t_{[0, 0]}$. This is the initial moment we derived as a function of the position $x_l$ of the vertical line and it is the fundamental formula for $\\text{LB-Alg}$. Let us recall the formula:\n",
    "\n",
    "$$ t_{[0;0]} = \\frac{|x_l|}{E_{(v)}}. \\quad\\quad\\quad\\quad (2.2.14)$$\n",
    "\n",
    "We pass $t_{[0;0]}$ as an argument to the derivative $x'(t)$.\n",
    "\n",
    "$$ f'_b(t_{[0;0]}) =x'_s(t_{[0;0]}) = v \\left ( cos(k\\frac{\\pi}{2} + \\omega t_{[0;0]}) - \\omega t_{[0;0]}sin(k\\frac{\\pi}{2} + \\omega t_{[0;0]}) \\right ) \\quad\\quad\\quad\\quad (2.2.1.2.3)$$\n",
    "\n",
    "$$ x'_s(t_{[0;0]}) = v \\left ( cos(k\\frac{\\pi}{2} + \\omega \\frac{|x_l|}{E_{(v)}}) -\n",
    "\\omega \\frac{|x_l|}{E_{(v)}}sin(k\\frac{\\pi}{2} \n",
    "+ \\omega \\frac{|x_l|}{E_{(v)}}) \\right ) \\quad\\quad\\quad\\quad (2.2.1.2.4)$$\n",
    "\n",
    "\n",
    "We substitute in $2.2.1.2.1$ and obtain the final formula for the $\\text{SCDD}$-check.\n",
    "\n",
    "$$ \\text{SCDD}_{(x'_s(0), x'_s(t_{[0;0]}))}^{[0 \\vee 1]} = \n",
    "\\frac{\\frac{v cos(k\\frac{\\pi}{2})}{|E_{(v cos(k\\frac{\\pi}{2}))}|} + \n",
    "\\frac{v \\left ( cos(k\\frac{\\pi}{2} + \\omega \\frac{|x_l|}{E_{(v)}}) -\n",
    "\\omega \\frac{|x_l|}{E_{(v)}}sin(k\\frac{\\pi}{2} \n",
    "+ \\omega \\frac{|x_l|}{E_{(v)}}) \\right )}\n",
    "{|E_{\\left (v \\left ( cos(k\\frac{\\pi}{2} + \\omega \\frac{|x_l|}{E_{(v)}}) -\n",
    "\\omega \\frac{|x_l|}{E_{(v)}}sin(k\\frac{\\pi}{2} \n",
    "+ \\omega \\frac{|x_l|}{E_{(v)}}) \\right )\\right )}|}}\n",
    "{E_{\\left(  \\frac{v cos(k\\frac{\\pi}{2})}{|E_{(v cos(k\\frac{\\pi}{2}))}|} + \n",
    "\\frac{v \\left ( cos(k\\frac{\\pi}{2} + \\omega \\frac{|x_l|}{E_{(v)}}) -\n",
    "\\omega \\frac{|x_l|}{E_{(v)}}sin(k\\frac{\\pi}{2} \n",
    "+ \\omega \\frac{|x_l|}{E_{(v)}}) \\right )}\n",
    "{|E_{\\left (v \\left ( cos(k\\frac{\\pi}{2} + \\omega \\frac{|x_l|}{E_{(v)}}) -\n",
    "\\omega \\frac{|x_l|}{E_{(v)}}sin(k\\frac{\\pi}{2} \n",
    "+ \\omega \\frac{|x_l|}{E_{(v)}}) \\right )\\right )}|}\\right)}}\\quad\\quad\\quad\\quad (2.2.1.2.5)$$\n",
    "\n",
    "\n",
    "Before adding it as a multiplier in front of $\\text{LB-Alg}$, let's once again show which scenarios the $\\text{SCDD}$-check should prevent."
   ]
  },
  {
   "cell_type": "code",
   "execution_count": 4,
   "id": "b59db8f7-edb4-497c-8428-872f65f04838",
   "metadata": {},
   "outputs": [
    {
     "data": {
      "text/html": [
       "\n",
       "    <div style=\"display: flex; justify-content: center; align-items: center; height: 300px;\">\n",
       "        <img src=\"Images/fig115.png\" style=\"width: 562px; height: 300px;\">\n",
       "        <div style=\"position: absolute; top: 0px; right: 80px; color: black; font-size: 14px; background-color: rgba(255, 255, 255, 0.7); padding:           5px; border-radius: 5px;\">\n",
       "            Fig.115\n",
       "        </div>\n",
       "    </div>\n",
       "    "
      ],
      "text/plain": [
       "<IPython.core.display.HTML object>"
      ]
     },
     "execution_count": 4,
     "metadata": {},
     "output_type": "execute_result"
    }
   ],
   "source": [
    "load_image('fig115')"
   ]
  },
  {
   "cell_type": "markdown",
   "id": "1c6ca6f0-e7cd-4b68-92a5-227926fac623",
   "metadata": {},
   "source": [
    "In this situation, the vertical line is in a position where its corresponding radius vector, in terms of length, is located after $\\text{PMD}$. As seen, the derivative $x'_s(t_{[0;0]})$ at this point has a negative sign, while the derivative $x'_s(0)$ has a positive sign. Now, we apply the $\\text{SCDD}$-check as a coefficient and obtain:\n",
    "\n",
    "$$\\lim_{n, m \\to \\infty} \\left\\{ t_{[n; m]} \\right\\}= \n",
    "\\overline{NSwitch_{(n)}^{[0 \\vee  1]}}\n",
    "\\text{SCDD}_{(x'_s(0), x'_s(t_{[0;0]}))}^{[0 \\vee 1]}\n",
    "\\left(\n",
    "KWL_{(k, w, x_l)}^{[0 \\vee  1]} +\n",
    "KL_{(k, x_l)}^{[0 \\vee  1]}\n",
    "\\right)\n",
    "\\text{LB-Alg} +\\\\\n",
    "+ NSwitch_{(n)}^{[0 \\vee  1]}\\text{AB-Alg}, \\quad n, m \\ge 0.  \\quad\\quad\\quad\\quad (2.2.1.2.6)$$\n",
    "\n",
    "Here is how $\\text{SCDD}$ works. The same scenario from *Figure 115*, with the visualizations of the derivatives included. The check returns $0$, $\\text{LB-Alg}$ is also zero, and the final result for the sequence boundary at $n=0$ is zero."
   ]
  },
  {
   "cell_type": "code",
   "execution_count": 5,
   "id": "35a3aa63-9a27-44b1-9b29-656d76bfe658",
   "metadata": {},
   "outputs": [
    {
     "data": {
      "text/html": [
       "\n",
       "    <div style=\"display: flex; justify-content: center; align-items: center; height: 300px;\">\n",
       "        <img src=\"Images/fig116.png\" style=\"width: 562px; height: 300px;\">\n",
       "        <div style=\"position: absolute; top: 0px; right: 80px; color: black; font-size: 14px; background-color: rgba(255, 255, 255, 0.7); padding:           5px; border-radius: 5px;\">\n",
       "            Fig.116\n",
       "        </div>\n",
       "    </div>\n",
       "    "
      ],
      "text/plain": [
       "<IPython.core.display.HTML object>"
      ]
     },
     "execution_count": 5,
     "metadata": {},
     "output_type": "execute_result"
    }
   ],
   "source": [
    "load_image('fig116')"
   ]
  },
  {
   "cell_type": "markdown",
   "id": "814f2bc5-2471-473a-9b39-0b02cc968f6d",
   "metadata": {},
   "source": [
    "The next two images show the boundary case where $\\text{SCDD}$ returns $1$. This happens when the vertical line is in a position $x_l$ where the initial radius vector lies exactly on $\\text{PMD}$. A slight change in $x_l$ and $\\text{SCDD}$ returns $0$."
   ]
  },
  {
   "cell_type": "code",
   "execution_count": 6,
   "id": "739c916c-e7b3-4d27-800e-b836f7946eed",
   "metadata": {},
   "outputs": [
    {
     "data": {
      "text/html": [
       "<div style='display: flex; justify-content: space-between;'>\n",
       "        <div style=\"text-align: center; margin: 0 10px;\">\n",
       "            <img src=\"Images/fig117.png\" style=\"width: 375px; height: 200px;\">\n",
       "            <div style=\"color: black; font-size: 14px; background-color: rgba(255, 255, 255, 0.7); padding: 5px; border-radius: 5px;\">\n",
       "                Fig.117\n",
       "            </div>\n",
       "        </div>\n",
       "        \n",
       "        <div style=\"text-align: center; margin: 0 10px;\">\n",
       "            <img src=\"Images/fig118.png\" style=\"width: 375px; height: 200px;\">\n",
       "            <div style=\"color: black; font-size: 14px; background-color: rgba(255, 255, 255, 0.7); padding: 5px; border-radius: 5px;\">\n",
       "                Fig.118\n",
       "            </div>\n",
       "        </div>\n",
       "        </div>"
      ],
      "text/plain": [
       "<IPython.core.display.HTML object>"
      ]
     },
     "metadata": {},
     "output_type": "display_data"
    }
   ],
   "source": [
    "display(load_images([('fig117', 'left'), ('fig118', 'right')]))"
   ]
  },
  {
   "cell_type": "markdown",
   "id": "e26e71c7-4843-44e8-8545-607ddf709756",
   "metadata": {},
   "source": [
    "$\\text{SCDD}$ however has limitations. One of them is visible in *Figure 117*. Slightly above the black point -where the tip of the initial radius vector is located - there is another point, purple, which should not be there. It is not an intersection point of the spiral and the line. Let's track the iterations of the algorithm to see that it indeed places an intersection point there on the $199$-th iteration."
   ]
  },
  {
   "cell_type": "code",
   "execution_count": 7,
   "id": "a59ceae1-f01a-47e1-b759-cee9dc1913c7",
   "metadata": {},
   "outputs": [
    {
     "data": {
      "text/html": [
       "\n",
       "    <div style=\"display: flex; justify-content: center; align-items: center; height: 300px;\">\n",
       "        <img src=\"Images/fig119.png\" style=\"width: 562px; height: 300px;\">\n",
       "        <div style=\"position: absolute; top: 0px; right: 80px; color: black; font-size: 14px; background-color: rgba(255, 255, 255, 0.7); padding:           5px; border-radius: 5px;\">\n",
       "            Fig.119\n",
       "        </div>\n",
       "    </div>\n",
       "    "
      ],
      "text/plain": [
       "<IPython.core.display.HTML object>"
      ]
     },
     "execution_count": 7,
     "metadata": {},
     "output_type": "execute_result"
    }
   ],
   "source": [
    "load_image('fig119')"
   ]
  },
  {
   "cell_type": "markdown",
   "id": "bc72e82b-1aae-4f1d-8482-aebd8e3b46e7",
   "metadata": {},
   "source": [
    "Before solving this problem, we will address another issue. Since $\\text{SCDD}$ compares the signs of derivatives, it will return $1$ in all cases where the signs are the same. Such a case is shown in the figure below, where the vertical line is in a position where its corresponding radius vector has a derivative with the same sign as the derivative at $t=0$."
   ]
  },
  {
   "cell_type": "code",
   "execution_count": 8,
   "id": "f9e9fe2f-8271-4309-a920-49a3ee9baf1f",
   "metadata": {},
   "outputs": [
    {
     "data": {
      "text/html": [
       "\n",
       "    <div style=\"display: flex; justify-content: center; align-items: center; height: 300px;\">\n",
       "        <img src=\"Images/fig120.png\" style=\"width: 562px; height: 300px;\">\n",
       "        <div style=\"position: absolute; top: 0px; right: 80px; color: black; font-size: 14px; background-color: rgba(255, 255, 255, 0.7); padding:           5px; border-radius: 5px;\">\n",
       "            Fig.120\n",
       "        </div>\n",
       "    </div>\n",
       "    "
      ],
      "text/plain": [
       "<IPython.core.display.HTML object>"
      ]
     },
     "execution_count": 8,
     "metadata": {},
     "output_type": "execute_result"
    }
   ],
   "source": [
    "load_image('fig120')"
   ]
  },
  {
   "cell_type": "markdown",
   "id": "94d9b332-546a-4dd3-88a8-861226a37bb5",
   "metadata": {},
   "source": [
    "The tip of this radius vector is located slightly after $\\text{PMD}$, and accordingly, its derivative is positive. The solution to this problem is to introduce a restriction on the cases where the algorithm calculates a zero intersection point. This restriction will set a maximum allowable value for the position of the vertical line at which a zero intersection point can be computed.\n",
    "\n",
    "We will call this new check **X Maximum Distance** ($\\text{XMD}$), and it will verify whether the absolute value of $x_l$ is less than  to a specified threshold. We will choose this threshold to be the length of the radius vector at its first intersection with the ordinate axis."
   ]
  },
  {
   "cell_type": "code",
   "execution_count": 9,
   "id": "489029a1-a2b0-4654-80b8-d70bba4e7be2",
   "metadata": {},
   "outputs": [
    {
     "data": {
      "text/html": [
       "\n",
       "    <div style=\"display: flex; justify-content: center; align-items: center; height: 300px;\">\n",
       "        <img src=\"Images/fig121.png\" style=\"width: 562px; height: 300px;\">\n",
       "        <div style=\"position: absolute; top: 0px; right: 80px; color: black; font-size: 14px; background-color: rgba(255, 255, 255, 0.7); padding:           5px; border-radius: 5px;\">\n",
       "            Fig.121\n",
       "        </div>\n",
       "    </div>\n",
       "    "
      ],
      "text/plain": [
       "<IPython.core.display.HTML object>"
      ]
     },
     "execution_count": 9,
     "metadata": {},
     "output_type": "execute_result"
    }
   ],
   "source": [
    "load_image('fig121')"
   ]
  },
  {
   "cell_type": "markdown",
   "id": "8c0695fd-6318-4d7e-9477-2db60ccf40bb",
   "metadata": {},
   "source": [
    "For this specific spiral on the image above, this value is $1.570796...$. The $\\text{XMD}$ check is defined as follows:\n",
    "\n",
    "$$ \\text{XMD}_{(x_l, y_s(t_{[1; 0]}))}^{[0 \\vee 1]} =\n",
    "\\lfloor \n",
    "\\frac{1+\\frac{|y_s(t_{[1; 0]})| - |x_l|}{ E_{\\left( |y_s(t_{[1; 0]})| - |x_l| \\right)}}}\n",
    "{2}\n",
    "\\rfloor\n",
    "\\quad\\quad\\quad\\quad (2.2.1.2.6)$$"
   ]
  },
  {
   "cell_type": "code",
   "execution_count": 10,
   "id": "156f3ec3-2b3a-417f-9b8f-2acc464cdad7",
   "metadata": {},
   "outputs": [
    {
     "data": {
      "text/html": [
       "\n",
       "    <div style=\"display: flex; flex-direction: column; justify-content: center; align-items: center; width: 100%;\">\n",
       "        <h3>X Maximum Distance</h3>\n",
       "        <table border=\"1\" style=\"border-collapse: collapse; text-align: center; width: 80%; font-size: 13px;\">\n",
       "            <tr>\n",
       "                <th></th>\n",
       "                <th>$|y_s(t_{[1; 0]})| > |x_l|$</th>\n",
       "                <th>$|y_s(t_{[1; 0]})| \\le |x_l|$</th>\n",
       "\n",
       "                 \n",
       "            </tr>\n",
       "            <tr>\n",
       "                <th>$\\lfloor \n",
       "\\frac{1+\\frac{|y_s(t_{[1; 0]})| - |x_l|}{ E_{\\left( |y_s(t_{[1; 0]})| - |x_l| \\right)}}}\n",
       "{2}\n",
       "\\rfloor$</th>\n",
       "                <td>$1$</td>\n",
       "                <td>$0$</td>\n",
       "\n",
       "         \n",
       "            </tr>\n",
       "\n",
       "        </table>\n",
       "        Fig.122\n",
       "    </div>\n",
       "    "
      ],
      "text/plain": [
       "<IPython.core.display.HTML object>"
      ]
     },
     "metadata": {},
     "output_type": "display_data"
    }
   ],
   "source": [
    "XMD_table()"
   ]
  },
  {
   "cell_type": "markdown",
   "id": "2fb5961e-afc2-4077-b3f0-78f4f750dce2",
   "metadata": {},
   "source": [
    "Since the radius vector we use as a constraint lies on the ordinate axis, its length is equal to its $y$-component at the moment $t_{[1; 0]} = 1.570796...$.\n",
    "\n",
    "$$ y_s(t_{[1; 0]}) = vt_{[1; 0]}sin(k\\frac{\\pi}{2} + \\omega t_{[1; 0]})\\quad\\quad\\quad\\quad (2.2.1.2.7)$$\n",
    "\n",
    "The moment $t_{[1; 0]}$ will be found using formula $2.1.31$.\n",
    "\n",
    "$$t_n = \\frac{\\pi\\left(\n",
    "Greather_{(\\omega)}^{[0 \\vee 1]}\\Delta \\theta(k)^+ +\n",
    "Less_{(\\omega)}^{[0 \\vee 1]}\\Delta \\theta(k)^- +\n",
    "(n-1)\\right)}{2|E_{(\\omega)}^{[1 \\vee  \\omega]}|}. \\quad\\quad\\quad\\quad(2.1.31)$$\n",
    "\n",
    "By setting $n=1$ and $t_1 = t_{[1; 0]}$  we obtain:\n",
    "\n",
    "$$t_{[1; 0]} = \\frac{\\pi\\left(\n",
    "Greather_{(\\omega)}^{[0 \\vee 1]}\\Delta \\theta(k)^+ +\n",
    "Less_{(\\omega)}^{[0 \\vee 1]}\\Delta \\theta(k)^- \n",
    "\\right)}{2|E_{(\\omega)}^{[1 \\vee  \\omega]}|}. \\quad\\quad\\quad\\quad(2.2.1.2.7)$$\n",
    "\n",
    "We will leave the equation for $\\text{XMD}$ in the form of formula $2.2.1.2.6$ since substituting $t_{[1; 0]}$ would make it difficult to read and write.\n",
    "\n",
    "Let's add $\\text{XMD}$ to the equation and return to the situation from *Figure 120* to see how it works.\n",
    "\n",
    "$$\\lim_{n, m \\to \\infty} \\left\\{ t_{[n; m]} \\right\\} = \n",
    "\\overline{NSwitch_{(n)}^{[0 \\vee  1]}}\n",
    "\\text{XMD}_{(x_l, y_s(t_{[1; 0]}))}^{[0 \\vee 1]}\n",
    "\\text{SCDD}_{(x'_s(0), x'_s(t_{[0;0]}))}^{[0 \\vee 1]}\n",
    "\\left(\n",
    "KWL_{(k, w, x_l)}^{[0 \\vee  1]} +\n",
    "KL_{(k, x_l)}^{[0 \\vee  1]}\n",
    "\\right)\n",
    "\\text{LB-Alg}\n",
    "+ NSwitch_{(n)}^{[0 \\vee  1]}\\text{AB-Alg}, \\quad n, m \\ge 0.  \\quad\\quad\\quad\\quad (2.2.1.2.8)$$\n"
   ]
  },
  {
   "cell_type": "code",
   "execution_count": 11,
   "id": "6483d92c-0e0a-47eb-b0f5-e215ed438214",
   "metadata": {},
   "outputs": [
    {
     "data": {
      "text/html": [
       "\n",
       "    <div style=\"display: flex; justify-content: center; align-items: center; height: 300px;\">\n",
       "        <img src=\"Images/fig122.png\" style=\"width: 562px; height: 300px;\">\n",
       "        <div style=\"position: absolute; top: 0px; right: 80px; color: black; font-size: 14px; background-color: rgba(255, 255, 255, 0.7); padding:           5px; border-radius: 5px;\">\n",
       "            Fig.122\n",
       "        </div>\n",
       "    </div>\n",
       "    "
      ],
      "text/plain": [
       "<IPython.core.display.HTML object>"
      ]
     },
     "execution_count": 11,
     "metadata": {},
     "output_type": "execute_result"
    }
   ],
   "source": [
    "load_image('fig122')"
   ]
  },
  {
   "cell_type": "markdown",
   "id": "46237c46-ed3d-40a0-a0f1-6ec46760901e",
   "metadata": {},
   "source": [
    "Although $\\text{SCDD}$ returns $1$, $\\text{XMD}$ returns $0$ and correctly 'turns off' $\\text{LB-Alg}$.\n",
    "\n",
    "The first problem we mentioned earlier from *Figure 119* concerns the process of iterative approximation. In this scenario, the vertical line does not intersect the spiral in its specific turn, but $\\text{LB-Alg}$ computes a zero intersection point, which triggers further iteration.\n",
    "\n",
    "This undesired behavior of the algorithm can be corrected by constructing another check that also uses the derivative $x'_s(t)$, but this time verifying its value at each iteration. This check is fundamentally the same as $\\text{SCDD}$, with the difference that instead of comparing the current derivative with the derivative $x'_s(t)$ at $t=0$, it will compare it with the derivative at the initial value from which the iterative process begins. To distinguish it from the first $\\text{SCDD}$ check, we will call it **Iteration Start Sign Change Derivative Detector** or $\\text{ISSCDD}$.\n",
    "\n",
    "$$ \\text{ISSCDD}_{(x'_s(t_{[n;0]}), x'_s(t_{[n;m]}))}^{[0 \\vee 1]} =\n",
    "\\frac{\\frac{ x'_s(t_{[n;0]}) }{|E_{( x'_s(t_{[n;0]}) )}|} + \n",
    "\\frac{x'_s(t_{[n;m]}) }{|E_{( x'_s(t_{[n;m]}))}|}}\n",
    "{E_{\\left( \\frac{ x'_s(t_{[n;0]}) }{|E_{( x'_s(t_{[n;0]}) )}|} + \n",
    "\\frac{x'_s(t_{[n;m]}) }{|E_{(x'_s(t_{[n;m]}) )}|} \\right)}},\\quad\\quad\\quad\\quad (2.2.1.2.9)$$\n",
    "\n",
    "where $t_{[n;0]}$ is the $n$-th initial moment of the algorithm, and $t_{[n;m]}$ is the moment of the $m$-th iteration. Here, two very important points need to be explained.\n",
    "\n",
    "The first is that this check must be performed not only for the zero initial \"intersection\" point but for every $n$-th intersection point. In other words, this check will be carried out for the iterations of $\\text{LB-Alg}$ as well as for $\\text{AB-Alg}$. Later, we will see why this is necessary when addressing one of the final issues of the algorithm.\n",
    "\n",
    "Second, the moment $t_{[n;m]}$ at which we will check the sign of the derivative $x'_s(t_{[n;m]}))$ is actually the result of the algorithm’s operation rather than just an input value. This means that the formula enters recursion - the result of the current iteration is simultaneously an input parameter. \n",
    "\n",
    "In other words, the formula calculates the derivative at the current $m$-th iteration, compares its sign with the sign of the derivative at the initial moment, and if they are different, it nullifies the result computed by itself. If the signs are the same, it continues iterating forward until the intersection point is reached with the chosen level of accuracy.\n",
    "\n",
    "Since this check will be executed for both algorithms, it requires $\\text{ISSCDD}$ to be placed as a multiplier in front of the entire formula. Here is how its addition will look:\n",
    "\n",
    "$$\\lim_{n, m \\to \\infty} \\left\\{ t_{[n; m]} \\right\\} =\n",
    "\\text{ISSCDD}_{(x'_s(t_{[n;0]}), x'_s(t_{[n;m]}))}^{[0 \\vee 1]}\n",
    "\\left( \\overline{NSwitch_{(n)}^{[0 \\vee  1]}}\n",
    "\\text{XMD}_{(x_l, y_s(t_{[1; 0]}))}^{[0 \\vee 1]}\n",
    "\\text{SCDD}_{(x'_s(0), x'_s(t_{[0;0]}))}^{[0 \\vee 1]}\\\\\n",
    "\\left(\n",
    "KWL_{(k, w, x_l)}^{[0 \\vee  1]} +\n",
    "KL_{(k, x_l)}^{[0 \\vee  1]}\n",
    "\\right)\n",
    "\\text{LB-Alg}\n",
    "+ NSwitch_{(n)}^{[0 \\vee  1]}\\text{AB-Alg} \\right), \\quad n, m \\ge 0.  \\quad\\quad\\quad\\quad (2.2.1.2.10)$$\n",
    "\n",
    "The entry into recursion is indicated in the formula through the arguments we pass to the new check $\\text{ISSCDD}$ - namely, $x'_s(t_{[n;0]})$ and $x'_s(t_{[n;m]})$.\n",
    "\n",
    "Let’s now take a closer look at how this check works. We will use the same spiral parameters as in *Figure 119* but position the line slightly to the left so that it does not intersect the spiral, while the initial vector of the zero point remains before $\\text{PMD}$.\n",
    "\n",
    "First, we will examine what happens during the first four iterations without the new check."
   ]
  },
  {
   "cell_type": "code",
   "execution_count": 12,
   "id": "dd330fb4-5410-4e84-9a15-24eabe755a5f",
   "metadata": {},
   "outputs": [
    {
     "data": {
      "text/html": [
       "<div style='display: flex; justify-content: space-between;'>\n",
       "        <div style=\"text-align: center; margin: 0 10px;\">\n",
       "            <img src=\"Images/fig123.png\" style=\"width: 375px; height: 200px;\">\n",
       "            <div style=\"color: black; font-size: 14px; background-color: rgba(255, 255, 255, 0.7); padding: 5px; border-radius: 5px;\">\n",
       "                Fig.123\n",
       "            </div>\n",
       "        </div>\n",
       "        \n",
       "        <div style=\"text-align: center; margin: 0 10px;\">\n",
       "            <img src=\"Images/fig124.png\" style=\"width: 375px; height: 200px;\">\n",
       "            <div style=\"color: black; font-size: 14px; background-color: rgba(255, 255, 255, 0.7); padding: 5px; border-radius: 5px;\">\n",
       "                Fig.124\n",
       "            </div>\n",
       "        </div>\n",
       "        </div>"
      ],
      "text/plain": [
       "<IPython.core.display.HTML object>"
      ]
     },
     "metadata": {},
     "output_type": "display_data"
    },
    {
     "data": {
      "text/html": [
       "<div style='display: flex; justify-content: space-between;'>\n",
       "        <div style=\"text-align: center; margin: 0 10px;\">\n",
       "            <img src=\"Images/fig125.png\" style=\"width: 375px; height: 200px;\">\n",
       "            <div style=\"color: black; font-size: 14px; background-color: rgba(255, 255, 255, 0.7); padding: 5px; border-radius: 5px;\">\n",
       "                Fig.125\n",
       "            </div>\n",
       "        </div>\n",
       "        \n",
       "        <div style=\"text-align: center; margin: 0 10px;\">\n",
       "            <img src=\"Images/fig126.png\" style=\"width: 375px; height: 200px;\">\n",
       "            <div style=\"color: black; font-size: 14px; background-color: rgba(255, 255, 255, 0.7); padding: 5px; border-radius: 5px;\">\n",
       "                Fig.126\n",
       "            </div>\n",
       "        </div>\n",
       "        </div>"
      ],
      "text/plain": [
       "<IPython.core.display.HTML object>"
      ]
     },
     "metadata": {},
     "output_type": "display_data"
    }
   ],
   "source": [
    "display(load_images([('fig123', 'left'), ('fig124', 'right')]))\n",
    "display(load_images([('fig125', 'left'), ('fig126', 'right')]))"
   ]
  },
  {
   "cell_type": "markdown",
   "id": "d0700f6b-0aee-47b0-bc55-44bf39db0b8d",
   "metadata": {},
   "source": [
    "The initial derivative $x'_s(t_{[n;0]})$ (in this scenario $x'_s(t_{[0;0]})$) is at the point of the initial radius vector and has a positive $x$-derivarive's slope. We compare the derivative $x'_s(t_{[n;m]})$ ($x'_s(t_{[0;m]})$) against it.\n",
    "\n",
    "On the third iteration $m=3$, the derivative $x'_s(t_{[0;2]})$ (*Figure 125*) changes its sign, and its slope becomes negative. Despite this, the process continues.\n",
    "\n",
    "Now we will add $\\text{ISSCDD}$ and run the same scenario."
   ]
  },
  {
   "cell_type": "code",
   "execution_count": 13,
   "id": "ee4c7909-e002-47eb-a6b7-5c8e0b0f34d1",
   "metadata": {},
   "outputs": [
    {
     "data": {
      "text/html": [
       "<div style='display: flex; justify-content: space-between;'>\n",
       "        <div style=\"text-align: center; margin: 0 10px;\">\n",
       "            <img src=\"Images/fig127.png\" style=\"width: 375px; height: 200px;\">\n",
       "            <div style=\"color: black; font-size: 14px; background-color: rgba(255, 255, 255, 0.7); padding: 5px; border-radius: 5px;\">\n",
       "                Fig.127\n",
       "            </div>\n",
       "        </div>\n",
       "        \n",
       "        <div style=\"text-align: center; margin: 0 10px;\">\n",
       "            <img src=\"Images/fig128.png\" style=\"width: 375px; height: 200px;\">\n",
       "            <div style=\"color: black; font-size: 14px; background-color: rgba(255, 255, 255, 0.7); padding: 5px; border-radius: 5px;\">\n",
       "                Fig.128\n",
       "            </div>\n",
       "        </div>\n",
       "        </div>"
      ],
      "text/plain": [
       "<IPython.core.display.HTML object>"
      ]
     },
     "metadata": {},
     "output_type": "display_data"
    },
    {
     "data": {
      "text/html": [
       "<div style='display: flex; justify-content: space-between;'>\n",
       "        <div style=\"text-align: center; margin: 0 10px;\">\n",
       "            <img src=\"Images/fig129.png\" style=\"width: 375px; height: 200px;\">\n",
       "            <div style=\"color: black; font-size: 14px; background-color: rgba(255, 255, 255, 0.7); padding: 5px; border-radius: 5px;\">\n",
       "                Fig.129\n",
       "            </div>\n",
       "        </div>\n",
       "        \n",
       "        <div style=\"text-align: center; margin: 0 10px;\">\n",
       "            <img src=\"Images/fig130.png\" style=\"width: 375px; height: 200px;\">\n",
       "            <div style=\"color: black; font-size: 14px; background-color: rgba(255, 255, 255, 0.7); padding: 5px; border-radius: 5px;\">\n",
       "                Fig.130\n",
       "            </div>\n",
       "        </div>\n",
       "        </div>"
      ],
      "text/plain": [
       "<IPython.core.display.HTML object>"
      ]
     },
     "metadata": {},
     "output_type": "display_data"
    }
   ],
   "source": [
    "display(load_images([('fig127', 'left'), ('fig128', 'right')]))\n",
    "display(load_images([('fig129', 'left'), ('fig130', 'right')]))"
   ]
  },
  {
   "cell_type": "markdown",
   "id": "45c8be38-9022-4675-b0ac-8f8e241cb5a9",
   "metadata": {},
   "source": [
    "During the first two iterations - *Figures 127 and 128* - $\\text{ISSCDD}$ returns $1$ and executes $\\text{LB-Alg}$. On the third iteration - *Figure 129* - the $x$-derivative is already negative, $\\text{ISSCDD}$ returns $0$, stops the execution of $\\text{LB-Alg}$, and computes a radius vector with a length of $0$, where its $x$-derivative is the same as the $x$-derivative at $t=0$.\n",
    "\n",
    "*Note:* In *Figure 129*, a green radius vector is shown, whose extension to the vertical line is the blue point. This is not the current radius vector but the radius vector from the previous iteration, i.e., the black radius vector from *Figure 128*.\n",
    "\n",
    "Since we defined $\\text{ISSCDD}$ as a check applicable to every $n$-th intersection point, let's verify whether it works correctly in these cases as well. In the images below, we will track what happens if $n=1$."
   ]
  },
  {
   "cell_type": "code",
   "execution_count": 14,
   "id": "afdf4328-ec9c-40c4-8071-b95491ca4294",
   "metadata": {},
   "outputs": [
    {
     "data": {
      "text/html": [
       "<div style='display: flex; justify-content: space-between;'>\n",
       "        <div style=\"text-align: center; margin: 0 10px;\">\n",
       "            <img src=\"Images/fig131.png\" style=\"width: 375px; height: 200px;\">\n",
       "            <div style=\"color: black; font-size: 14px; background-color: rgba(255, 255, 255, 0.7); padding: 5px; border-radius: 5px;\">\n",
       "                Fig.131\n",
       "            </div>\n",
       "        </div>\n",
       "        \n",
       "        <div style=\"text-align: center; margin: 0 10px;\">\n",
       "            <img src=\"Images/fig132.png\" style=\"width: 375px; height: 200px;\">\n",
       "            <div style=\"color: black; font-size: 14px; background-color: rgba(255, 255, 255, 0.7); padding: 5px; border-radius: 5px;\">\n",
       "                Fig.132\n",
       "            </div>\n",
       "        </div>\n",
       "        </div>"
      ],
      "text/plain": [
       "<IPython.core.display.HTML object>"
      ]
     },
     "metadata": {},
     "output_type": "display_data"
    },
    {
     "data": {
      "text/html": [
       "<div style='display: flex; justify-content: space-between;'>\n",
       "        <div style=\"text-align: center; margin: 0 10px;\">\n",
       "            <img src=\"Images/fig133.png\" style=\"width: 375px; height: 200px;\">\n",
       "            <div style=\"color: black; font-size: 14px; background-color: rgba(255, 255, 255, 0.7); padding: 5px; border-radius: 5px;\">\n",
       "                Fig.133\n",
       "            </div>\n",
       "        </div>\n",
       "        \n",
       "        <div style=\"text-align: center; margin: 0 10px;\">\n",
       "            <img src=\"Images/fig134.png\" style=\"width: 375px; height: 200px;\">\n",
       "            <div style=\"color: black; font-size: 14px; background-color: rgba(255, 255, 255, 0.7); padding: 5px; border-radius: 5px;\">\n",
       "                Fig.134\n",
       "            </div>\n",
       "        </div>\n",
       "        </div>"
      ],
      "text/plain": [
       "<IPython.core.display.HTML object>"
      ]
     },
     "metadata": {},
     "output_type": "display_data"
    }
   ],
   "source": [
    "display(load_images([('fig131', 'left'), ('fig132', 'right')]))\n",
    "display(load_images([('fig133', 'left'), ('fig134', 'right')]))"
   ]
  },
  {
   "cell_type": "markdown",
   "id": "ed34212e-03ec-44f7-b0ff-bac9c9decdfb",
   "metadata": {},
   "source": [
    "At $n=1$, the equation activates $\\text{AB-Alg}$ instead of $\\text{LB-Alg}$. The $x$-derivative of the initial radius vector (*Figure 131*) is negative. We skip two iterations, and in *Figures 132 and 133*  we jump directly to the fourth and fifth iterations ($m=4, m=5$), where the derivative angle approaches $180$ degrees. In *Figure 134*, the algorithm has moved the radius vector to a position below $\\text{PMD}$, where its derivative is now positive. $\\text{ISSCDD}$ detects this and, by returning zero, deactivates $\\text{AB-Alg}$. The result is once again a radius vector with zero length.\n",
    "\n",
    "\n",
    "After implementing these corrections, we move on to the next issues of the algorithm."
   ]
  },
  {
   "cell_type": "code",
   "execution_count": null,
   "id": "94823958-a17f-4ffa-937f-b20432b3be00",
   "metadata": {},
   "outputs": [],
   "source": []
  }
 ],
 "metadata": {
  "kernelspec": {
   "display_name": "Python 3 (ipykernel)",
   "language": "python",
   "name": "python3"
  },
  "language_info": {
   "codemirror_mode": {
    "name": "ipython",
    "version": 3
   },
   "file_extension": ".py",
   "mimetype": "text/x-python",
   "name": "python",
   "nbconvert_exporter": "python",
   "pygments_lexer": "ipython3",
   "version": "3.9.13"
  }
 },
 "nbformat": 4,
 "nbformat_minor": 5
}
