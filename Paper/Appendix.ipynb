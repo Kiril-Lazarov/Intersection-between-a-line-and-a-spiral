{
 "cells": [
  {
   "cell_type": "code",
   "execution_count": 11,
   "id": "ab5d2542-9df4-4bd9-a6fa-99bc879f3ec1",
   "metadata": {},
   "outputs": [],
   "source": [
    "from IPython.display import HTML\n",
    "from image_functions import *"
   ]
  },
  {
   "cell_type": "markdown",
   "id": "65c0fe75-d887-4a94-98d7-8ba6830c9c7b",
   "metadata": {},
   "source": [
    "### <center> 5.1 Sequences with arbitrary terms\n",
    "    \n",
    "    \n",
    "The statement $0^0 = 1$ can also be used for the algebraic construction of numerical sequences with arbitrary terms. By definition, a numerical sequence (or simply a sequence) is an ordered set of elements, where each element is associated with a natural number n through a function, and is obtained as its value. Each term of the sequence is obtained from $n$ by some rule. For example, the sequence with the general term $a_n$:\n",
    "    \n",
    "$$ \\left\\{a_n\\right\\} = n^2. \\quad\\quad\\quad\\quad (5.1.1)$$\n",
    "    \n",
    "The rule defines the values of the sequence based on the position number of each term. Now we will define a sequence where each term is associated with a natural number, but the values of the terms are not a function of the position number.\n",
    "    \n",
    "$$ \\left\\{a_n\\right\\} = 0^{|n-1|}x_1 + 0^{|n-2|}x_2 + 0^{|n-3|}x_3 ... 0^{|n-k|}x_k,\\quad n, k \\in \\mathbb{N}. \\quad\\quad\\quad\\quad (5.1.2)$$\n",
    "    \n",
    "We define the numerical sequence $\\left\\{a_n\\right\\}$ as a sum of variables $x_k$ with coefficients $0^{|n-k|}$. This sum nullifies all the terms of the sequence except for the chosen $n$-th term. For example, for $n=2$, we have:\n",
    "    \n",
    "$$ a_2 = 0x_1 + 1x_2 + 0x_3 ... 0x_k = x_2. \\quad\\quad\\quad\\quad (5.1.3)$$\n",
    "    \n",
    "It is clear that the variables $x_k$ are the arbitrary elements of the sequence. They can be replaced with a number, a function, another sequence, another term of the same sequence (i.e., recursion), etc. Here is an example:\n",
    "    \n",
    "$$ \\left\\{a_{n,x}\\right\\} = 0^{|n-1|}5 + 0^{|n-2|}x^2 + 0^{|n-3|}\\sqrt{x} +\n",
    "0^{|n-4|}sinx + 0^{|n-5|}e^x + 0^{|n-6|}(a_{2,3} + a_{3, x^2}). \\quad\\quad\\quad\\quad (5.1.4)$$\n",
    "    \n",
    "We add $x$ as an argument along with the index $n$ since it appears in several of the terms of the sequence. Let us consider some of them.\n",
    "    \n",
    "$$ a_{2,3} = 3^2 = 9; \\quad a_{5,3} = e^3; \\quad a_{5,e} = e^e; \\quad a_{6,2} = 4 + 2=6.  $$\n",
    "    \n",
    "Adding the variable $x$ provides another level of flexibility in the sequence because the same term in the sequence has different values depending on $x$. In any arbitrary sequence, a given term can represent a whole series of mathematical operations, which can include both independent expressions and terms from the sequence itself. In the example above, this is the sixth term of the sequence. The formula derived in the main exposition for the two-dimensional numerical sequence is actually an arbitrary numerical sequence whose terms are separate algorithms. It is clear that algebraic checks can also be added before each term of the sequence, as we did for the two-dimensional sequence.\n",
    "    \n",
    "The numerical sequence defined in this way with arbitrary terms is, in fact, an algebraic analog of an array in programming languages. We have seen how this algebraic structure can be used to construct complex algorithms. In the next section, we will demonstrate another possible application of it – avoiding complex actions such as taking successive derivatives and integrals.\n",
    "\n",
    "### <center> 5.2 Parametric Spirals of an Infinite Order\n",
    "    \n",
    "In this section, we will explore the possibility of defining a separate class of spirals based on t-parameterization. Their number is literally infinite, and some of them have truly peculiar shapes.\n",
    "\n",
    "Let’s begin with the formulas for the $x$ and $y$ components of a parameterized Archimedean spiral.\n",
    "    \n",
    "$$ x(t) = vtcos(k\\frac{\\pi}{2} + \\omega t),\\quad\\quad\\quad\\quad (5.1.1)$$\n",
    "    \n",
    "$$ y(t) = vtsin(k\\frac{\\pi}{2} + \\omega t),\\quad\\quad\\quad\\quad (5.1.2)$$\n",
    "    \n",
    "where\n",
    "    \n",
    "$v \\in \\mathbb{R}, v \\ge 0$ - radial velocity, \n",
    "\n",
    "$\\omega \\in \\mathbb{R}$ - angular velocity,\n",
    "\n",
    "$0 \\le k <4$ - initial angular coefficient.\n",
    "    \n",
    "In section *2.2.1.1 Derivatives of an Archimedean Spiral*, we have already defined the first derivatives of $x(t)$ and $y(t)$.\n",
    "    \n",
    "$$ x'(t) = v \\left ( cos(k\\frac{\\pi}{2} + \\omega t) - \\omega tsin(k\\frac{\\pi}{2} + \\omega t) \\right ), \\quad\\quad\\quad\\quad (5.1.3)$$\n",
    "    \n",
    "$$ y'(t) = v \\left ( sin(k\\frac{\\pi}{2} + \\omega t) + \\omega tcos(k\\frac{\\pi}{2} + \\omega t) \\right ). \\quad\\quad\\quad\\quad (5.1.4)$$\n",
    "    \n",
    "Seen on their own, these are simply two equations, even though they were obtained through differentiation from two other equations. Nothing prevents us from visualizing them as well."
   ]
  },
  {
   "cell_type": "code",
   "execution_count": 2,
   "id": "093881f9-f98c-4fce-92b2-e5510e110f7f",
   "metadata": {},
   "outputs": [
    {
     "data": {
      "text/html": [
       "\n",
       "    <div style=\"display: flex; justify-content: center; align-items: center; height: 300px;\">\n",
       "        <img src=\"Images/fig203.png\" style=\"width: 562px; height: 300px;\">\n",
       "        <div style=\"position: absolute; top: 0px; right: 80px; color: black; font-size: 14px; background-color: rgba(255, 255, 255, 0.7); padding:           5px; border-radius: 5px;\">\n",
       "            Fig.203\n",
       "        </div>\n",
       "    </div>\n",
       "    "
      ],
      "text/plain": [
       "<IPython.core.display.HTML object>"
      ]
     },
     "execution_count": 2,
     "metadata": {},
     "output_type": "execute_result"
    }
   ],
   "source": [
    "load_image('fig203')"
   ]
  },
  {
   "cell_type": "markdown",
   "id": "303269a5-8b38-4926-8c21-a45eb17e1c55",
   "metadata": {},
   "source": [
    "On the display on the second row to the left under **Spiral parameters:**, we have **deg:\\[1, 1\\]**. This shows the degree of the derivative of the Archimedean spiral in the format: **\\[x-derivative, y-derivative \\]**.\n",
    "\n",
    "In this specific case, these are the first derivatives. The spiral constructed through them closely resembles the Archimedean spiral, with the difference being that its expansion does not start from the center of the coordinate system (0,0), but from (0.5, 0). The starting point on the $x$-coordinate is set by the radial speed $v$. Let's see what this spiral looks like in the **t-diagram.**"
   ]
  },
  {
   "cell_type": "code",
   "execution_count": 3,
   "id": "03230fb3-01d7-4260-9f40-07f14b102201",
   "metadata": {},
   "outputs": [
    {
     "data": {
      "text/html": [
       "\n",
       "    <div style=\"display: flex; justify-content: center; align-items: center; height: 300px;\">\n",
       "        <img src=\"Images/fig204.png\" style=\"width: 562px; height: 300px;\">\n",
       "        <div style=\"position: absolute; top: 0px; right: 80px; color: black; font-size: 14px; background-color: rgba(255, 255, 255, 0.7); padding:           5px; border-radius: 5px;\">\n",
       "            Fig.204\n",
       "        </div>\n",
       "    </div>\n",
       "    "
      ],
      "text/plain": [
       "<IPython.core.display.HTML object>"
      ]
     },
     "execution_count": 3,
     "metadata": {},
     "output_type": "execute_result"
    }
   ],
   "source": [
    "load_image('fig204')"
   ]
  },
  {
   "cell_type": "markdown",
   "id": "5de1c823-ce83-4c29-a59d-99e0d60b2f7f",
   "metadata": {},
   "source": [
    "Let’s zoom in on the image in the area around the center of the coordinate system."
   ]
  },
  {
   "cell_type": "code",
   "execution_count": 5,
   "id": "28cc1e03-1cf9-42f7-a0ba-fd604e1fe793",
   "metadata": {},
   "outputs": [
    {
     "data": {
      "text/html": [
       "\n",
       "    <div style=\"display: flex; justify-content: center; align-items: center; height: 300px;\">\n",
       "        <img src=\"Images/fig205.png\" style=\"width: 562px; height: 300px;\">\n",
       "        <div style=\"position: absolute; top: 0px; right: 80px; color: black; font-size: 14px; background-color: rgba(255, 255, 255, 0.7); padding:           5px; border-radius: 5px;\">\n",
       "            Fig.205\n",
       "        </div>\n",
       "    </div>\n",
       "    "
      ],
      "text/plain": [
       "<IPython.core.display.HTML object>"
      ]
     },
     "execution_count": 5,
     "metadata": {},
     "output_type": "execute_result"
    }
   ],
   "source": [
    "load_image('fig205')"
   ]
  },
  {
   "cell_type": "markdown",
   "id": "19091dc5-f9bd-4dbb-9ebc-6b1a674703e7",
   "metadata": {},
   "source": [
    "The green line traces the increase of the radius vector of the spiral, and we can see that near the center, it forms a curved line.\n",
    "\n",
    "The process of differentiation can continue indefinitely since the formulas contain trigonometric functions. Let's focus only on the $x$-coordinate and take the next three derivatives.\n",
    "\n",
    "$$ x''(t) = v\\omega \\left ( -2sin(k\\frac{\\pi}{2} + \\omega t) - \\omega tcos(k\\frac{\\pi}{2} + \\omega t) \\right ), \\quad\\quad\\quad\\quad (5.1.5)$$\n",
    "\n",
    "$$ x'''(t) = v\\omega^2 \\left ( -3cos(k\\frac{\\pi}{2} + \\omega t) + \\omega tsin(k\\frac{\\pi}{2} + \\omega t) \\right ), \\quad\\quad\\quad\\quad (5.1.6)$$\n",
    "\n",
    "$$ x''''(t) = v\\omega^3 \\left ( 4sin(k\\frac{\\pi}{2} + \\omega t) + \\omega tcos(k\\frac{\\pi}{2} + \\omega t) \\right ). \\quad\\quad\\quad\\quad (5.1.7)$$\n",
    "\n",
    "A clear pattern for the $n$-th derivative emerges:\n",
    "\n",
    "$$ \\frac{d^nx}{dt^n} = v\\omega^{n-1} \\left( n\\frac{d^{n-1}}{dt^{n-1}}cos(k\\frac{\\pi}{2} + \\omega t) - \\omega t\\frac{d^{n-1}}{dt^{n-1}}sin(k\\frac{\\pi}{2} + \\omega t)\\right). \\quad\\quad\\quad\\quad (5.1.8)$$\n",
    "\n",
    "Here, however, we need to make a change to one of the multipliers in front of the parentheses – $\\omega^{n-1}$. We will change its exponent to $\\omega^{n-2}$. This is necessary due to the chain rule, which, when differentiating the trigonometric functions with the argument $k\\frac{\\pi}{2} + \\omega t$, brings out $\\omega$ as a factor in front of each of them. This leads to its subsequent extraction in front of the large parentheses, adding ones to the multiplier $\\omega^{n-1}$ before the parentheses. Thus, the corrected equation takes the form:\n",
    "\n",
    "Now, let's take the first four derivatives of the equation for the $y$-coordinate.\n",
    "\n",
    "$$ y(t) = vtsin(k\\frac{\\pi}{2} + \\omega t),\\quad\\quad\\quad\\quad (5.1.2)$$\n",
    "\n",
    "$$ y'(t) = v \\left(sin(k\\frac{\\pi}{2} + \\omega t) + \\omega t cos(k\\frac{\\pi}{2} + \\omega t) \\right),  \\quad\\quad\\quad\\quad (5.1.9)$$\n",
    "\n",
    "$$ y''(t) = v\\omega \\left(2cos(k\\frac{\\pi}{2} + \\omega t) - \\omega t sin(k\\frac{\\pi}{2} + \\omega t) \\right),  \\quad\\quad\\quad\\quad (5.1.10)$$\n",
    "\n",
    "$$ y'''(t) = v\\omega^2 \\left(-3sin(k\\frac{\\pi}{2} + \\omega t) - \\omega t cos(k\\frac{\\pi}{2} + \\omega t) \\right),  \\quad\\quad\\quad\\quad (5.1.11)$$\n",
    "\n",
    "$$ y''''(t) = v\\omega^3 \\left(-4cos(k\\frac{\\pi}{2} + \\omega t) + \\omega t sin(k\\frac{\\pi}{2} + \\omega t) \\right).  \\quad\\quad\\quad\\quad (5.1.12)$$\n",
    "\n",
    "The model is similar to $x^{(n)}$ but with swapped trigonometric functions and signs.\n",
    "\n",
    "$$ \\frac{d^ny}{dt^n} = v\\omega ^{n-1} \\left( n\\frac{d^{n-1}}{dt^{n-1}}sin(k\\frac{\\pi}{2} + \\omega t) + \\omega t\\frac{d^{n-1}}{dt^{n-1}}cos(k\\frac{\\pi}{2} + \\omega t)\\right).  \\quad\\quad\\quad\\quad(5.1.13)$$\n",
    "\n",
    "This sequence of derivatives allows us to define an infinite number of variations of parametric spirals. To denote them, we can adopt the following notation:\n",
    "\n",
    "$$ S^{n, m}_{(t)} : \\mathbb{R} \\to \\mathbb{R}^2, \\quad S^{n, m}_{(t)} = \n",
    "\\left( \n",
    "\\frac{d^nx}{dt^n},\\frac{d^my}{dt^m} \n",
    "\\right), \\quad n,m \\in \\mathbb(N),\n",
    "\\quad\\quad\\quad\\quad(5.1.14)$$\n",
    "\n",
    "where $n$ is the order of the derivative of the $x$-component, and $m$ is the order of the derivative of the $y$-component of the parametric spriral $S$. In this notation, the Archimedean spiral will look like this:\n",
    "\n",
    "$$ S^{0, 0}_{(t)} = \\left( vtcos(k\\frac{\\pi}{2} + \\omega t), vtsin(k\\frac{\\pi}{2} + \\omega t) \\right).\n",
    "\\quad\\quad\\quad\\quad(5.1.15)$$\n",
    "\n",
    "From the perspective of this formula, the Archimedean spiral is a parametric spiral of zero degree $(n=0, m=0)$, or more briefly, a *zero parametric spiral.* \n",
    "\n",
    "However, the problem here is that the parameterized Archimedean spiral cannot be obtained using the formulas $5.1.8$ and $5.1.13$, even though it is precisely the foundation of these formulas. Earlier, we defined the domain for $n$ and $m$ as $n, m \\in \\mathbb{N}$, i.e., only for positive integers. We would like to extend this domain to include all integers $n, m \\in \\mathbb{Z}$. Before doing so, let us demonstrate why the formulas $5.1.8$ and $5.1.13$ cannot be applied to $S^{0, 0}_{(t)}$. We will consider only the $x$-component.\n",
    "\n",
    "$$ \\frac{d^0x}{dt^0} = v\\omega^{-1} \\left( 0\\frac{d^{-1}}{dt^{-1}}cos(k\\frac{\\pi}{2} + \\omega t) - \\omega t\\frac{d^{-1}}{dt^{-1}}sin(k\\frac{\\pi}{2} + \\omega t)\\right), \\quad\\quad\\quad\\quad (5.1.16)$$\n",
    "\n",
    "$$ \\frac{d^0x}{dt^0} = -vt\\frac{d^{-1}}{dt^{-1}}sin(k\\frac{\\pi}{2} + \\omega t). \\quad\\quad\\quad\\quad (5.1.17)$$\n",
    "\n",
    "By setting $n=0$, we arrive at the negative derivative of a trigonometric function. Following the fundamental theorem of calculus, we can consider the negative first derivative of $sinx$ as the integral of $sinx$. Let’s follow this logic and see where it leads.\n",
    "\n",
    "$$ \\frac{d^0x}{dt^0} = -vt\\int sin(k\\frac{\\pi}{2} + \\omega t)dt, \\quad\\quad\\quad\\quad (5.1.18)$$"
   ]
  },
  {
   "cell_type": "markdown",
   "id": "185eaffc-d660-49e7-ae93-3149d6fedb63",
   "metadata": {},
   "source": [
    "$$ \\frac{d^0x}{dt^0} = \\frac{vt}{\\omega} cos(k\\frac{\\pi}{2} + \\omega t) -vtC, \\quad\\quad\\quad\\quad (5.1.19)$$\n",
    "\n",
    "Even if we set $C=0$, this is still not the correct formula for the $x$-component of the Archimedean spiral due to the factor $\\frac{1}{w}$. Before we formulate a solution to this problem, let’s ensure that the $n-1$ derivative is the antiderivative of the function at $n$.\n",
    "\n",
    "Let's start with the $x$-component for $n=2$ using $5.1.8$.\n",
    "\n",
    "$$ \\frac{d^2x}{dt^2} = v\\omega \\left( -2sin(k\\frac{\\pi}{2} + \\omega t) - \\omega tcos(k\\frac{\\pi}{2} + \\omega t)\\right). \\quad\\quad\\quad\\quad (5.1.20)$$\n",
    "\n",
    "Now we will derive the equation for $n=3$ and then take the integral from it to see if we obtain the above equation.\n",
    "\n",
    "$$ \\frac{d^3x}{dt^3} = v\\omega^2 \\left( -3cos(k\\frac{\\pi}{2} + \\omega t) + \\omega tsin(k\\frac{\\pi}{2} + \\omega t)\\right), \\quad\\quad\\quad\\quad (5.1.20)$$\n",
    "\n",
    "$$ \\int \\frac{d^3x}{dt^3}dt = \\int v\\omega ^2 \\left( -3cos(k\\frac{\\pi}{2} + \\omega t) + \\omega tsin(k\\frac{\\pi}{2} + \\omega t)\\right)dt, \\quad\\quad\\quad\\quad (5.1.21)$$\n",
    "\n",
    "$$ \\int \\frac{d^3x}{dt^3}dt = \\int -3v\\omega ^2cos(k\\frac{\\pi}{2} + \\omega t)dt + \\int v\\omega^3 tsin(k\\frac{\\pi}{2} + \\omega t)dt, \\quad\\quad\\quad\\quad (5.1.22)$$\n",
    "\n",
    "$$ \\int \\frac{d^3x}{dt^3}dt = -3v\\omega sin(k\\frac{\\pi}{2} + \\omega t) + C_1 +\n",
    "\\left(\n",
    "-v\\omega^2tcos(k\\frac{\\pi}{2} + \\omega t) - \\int -v\\omega^2cos(k\\frac{\\pi}{2} + \\omega t)\n",
    "\\right)\n",
    ", \\quad\\quad\\quad\\quad (5.1.23)$$\n",
    "\n",
    "$$ \\int \\frac{d^3x}{dt^3}dt = -3v\\omega sin(k\\frac{\\pi}{2} + \\omega t) + C_1 +\n",
    "\\left(\n",
    "-v\\omega^2tcos(k\\frac{\\pi}{2} + \\omega t) + v\\omega sin(k\\frac{\\pi}{2} + \\omega t) + C_2\n",
    "\\right)\n",
    ", \\quad\\quad\\quad\\quad (5.1.24)$$\n",
    "\n",
    "$$ \\int \\frac{d^3x}{dt^3}dt = v\\omega \\left( -2sin(k\\frac{\\pi}{2} + \\omega t) - \\omega tcos(k\\frac{\\pi}{2} + \\omega t)\\right) + C_1 + C_2\n",
    ". \\quad\\quad\\quad\\quad (5.1.25)$$\n",
    "\n",
    "If we assume $C_1 = C_2 = 0$, we will see that in fact:\n",
    "\n",
    "$$ \\int \\frac{d^3x}{dt^3}dt = \\frac{d^2x}{dt^2}. \\quad\\quad\\quad\\quad (5.1.26)$$\n",
    "\n",
    "Continuing the logic of integration, the integrals should theoretically continue infinitely 'downward' with respect to $n$. Let’s take a few successive integrals for the $x$-component, starting from the formula for the first derivative. We set $n=1$ in $5.1.8.$\n",
    "\n",
    "$$ \\frac{d^1x}{dt^1} =v \\left ( cos(k\\frac{\\pi}{2} + \\omega t) - \\omega tsin(k\\frac{\\pi}{2} + \\omega t) \\right ). \\quad\\quad\\quad\\quad (5.1.27)$$"
   ]
  },
  {
   "cell_type": "markdown",
   "id": "48ec26c6-be4d-4cdc-b6e3-4d3e2e096778",
   "metadata": {},
   "source": [
    "The first integral of this function corresponds to $n=0$.\n",
    "\n",
    "$$ x^{(0)}(t) = \\int \\frac{d^1x}{dt^1}dt =  vtcos(k\\frac{\\pi}{2} + \\omega t) + C_1 + C_2, \\quad C_1 = C_2 = 0.  \\quad\\quad\\quad\\quad (5.1.28)$$\n",
    "\n",
    "We obtained the formula for the $x$-component of the Archimedean (zero-order parametric spiral) plus two integration constants, which we set to zero. The next $3$ integrals are as follows.\n",
    "\n",
    "$$ x^{(-1)}(t) = \\int x^{(0)}(t)dt =   \n",
    "\\frac{v}{\\omega ^ 2} \\left(\n",
    "cos(k\\frac{\\pi}{2} + \\omega t) + \\omega tsin(k\\frac{\\pi}{2} + \\omega t)\n",
    "\\right) + C_1 + C_2, \\quad C_1 = C_2 = 0,  \\quad\\quad\\quad\\quad (5.1.29)$$\n",
    "\n",
    "$$ x^{(-2)}(t) = \\int x^{(-1)}(t)dt =   \n",
    "\\frac{v}{\\omega ^ 3} \\left(\n",
    "2sin(k\\frac{\\pi}{2} + \\omega t) - \\omega tcos(k\\frac{\\pi}{2} + \\omega t)\n",
    "\\right) + C_1 + C_2, \\quad C_1 = C_2 = 0,  \\quad\\quad\\quad\\quad (5.1.30)$$\n",
    "\n",
    "$$ x^{(-3)}(t) = \\int x^{(-2)}(t)dt =   \n",
    "\\frac{v}{\\omega ^ 4} \\left(\n",
    "-3cos(k\\frac{\\pi}{2} + \\omega t) - \\omega tsin(k\\frac{\\pi}{2} + \\omega t)\n",
    "\\right) + C_1 + C_2, \\quad C_1 = C_2 = 0.  \\quad\\quad\\quad\\quad (5.1.31)$$\n",
    "\n",
    "As expected, we again observe a cyclic pattern in the formulas obtained through successive integration. In the table below, we will show only the cycle of the trigonometric functions from the above formulas."
   ]
  },
  {
   "cell_type": "markdown",
   "id": "faee3e25-78a8-48ff-9f2f-2cadc43412c9",
   "metadata": {},
   "source": []
  },
  {
   "cell_type": "code",
   "execution_count": null,
   "id": "13fb9591-3ff2-4a79-99e4-842ef586d8ba",
   "metadata": {},
   "outputs": [],
   "source": []
  },
  {
   "cell_type": "markdown",
   "id": "b3f35119-6ba8-433d-aaea-f27abaf96aee",
   "metadata": {},
   "source": [
    "Nothing forces $n = m$. When $n = m$ spirals closely resemble the Archimedean spiral. Above, we have shown $S^{1, 1}_{(t)}$. The strange-looking spirals are when $n \\ne m$. Here are a few examples."
   ]
  },
  {
   "cell_type": "code",
   "execution_count": 6,
   "id": "6cb4aca8-2604-4c40-86f1-820d99d5e334",
   "metadata": {},
   "outputs": [
    {
     "data": {
      "text/html": [
       "<div style='display: flex; justify-content: space-between;'>\n",
       "        <div style=\"text-align: center; margin: 0 10px;\">\n",
       "            <img src=\"Images/fig206.png\" style=\"width: 375px; height: 200px;\">\n",
       "            <div style=\"color: black; font-size: 14px; background-color: rgba(255, 255, 255, 0.7); padding: 5px; border-radius: 5px;\">\n",
       "                Fig.206\n",
       "            </div>\n",
       "        </div>\n",
       "        \n",
       "        <div style=\"text-align: center; margin: 0 10px;\">\n",
       "            <img src=\"Images/fig207.png\" style=\"width: 375px; height: 200px;\">\n",
       "            <div style=\"color: black; font-size: 14px; background-color: rgba(255, 255, 255, 0.7); padding: 5px; border-radius: 5px;\">\n",
       "                Fig.207\n",
       "            </div>\n",
       "        </div>\n",
       "        </div>"
      ],
      "text/plain": [
       "<IPython.core.display.HTML object>"
      ]
     },
     "metadata": {},
     "output_type": "display_data"
    }
   ],
   "source": [
    "display(load_images([('fig206', 'left'), ('fig207', 'right')]))"
   ]
  },
  {
   "cell_type": "markdown",
   "id": "775aade0-a295-4522-bd84-a9faffa57a05",
   "metadata": {},
   "source": [
    "Here we have an elliptical spiral $S^{0, 2}_{(t)}$, whose minor and major axes are oriented along the abscissa and ordinate, respectively. In the t-diagram, it is very evident that the magnitude of the radius vector varies sinusoidally, despite the radial velocity being constant."
   ]
  },
  {
   "cell_type": "code",
   "execution_count": 8,
   "id": "e2caf9db-5968-43ea-8865-c224aceae492",
   "metadata": {},
   "outputs": [
    {
     "data": {
      "text/html": [
       "<div style='display: flex; justify-content: space-between;'>\n",
       "        <div style=\"text-align: center; margin: 0 10px;\">\n",
       "            <img src=\"Images/fig208.png\" style=\"width: 375px; height: 200px;\">\n",
       "            <div style=\"color: black; font-size: 14px; background-color: rgba(255, 255, 255, 0.7); padding: 5px; border-radius: 5px;\">\n",
       "                Fig.208\n",
       "            </div>\n",
       "        </div>\n",
       "        \n",
       "        <div style=\"text-align: center; margin: 0 10px;\">\n",
       "            <img src=\"Images/fig209.png\" style=\"width: 375px; height: 200px;\">\n",
       "            <div style=\"color: black; font-size: 14px; background-color: rgba(255, 255, 255, 0.7); padding: 5px; border-radius: 5px;\">\n",
       "                Fig.209\n",
       "            </div>\n",
       "        </div>\n",
       "        </div>"
      ],
      "text/plain": [
       "<IPython.core.display.HTML object>"
      ]
     },
     "metadata": {},
     "output_type": "display_data"
    }
   ],
   "source": [
    "display(load_images([('fig208', 'left'), ('fig209', 'right')]))"
   ]
  },
  {
   "cell_type": "markdown",
   "id": "f328616c-3bb0-463a-a32c-89b362e263b7",
   "metadata": {},
   "source": [
    "$S^{3, 1}_{(t)}$ is also an elliptical spiral, but with the opposite axis orientation compared to the previous spiral."
   ]
  },
  {
   "cell_type": "code",
   "execution_count": 10,
   "id": "e6c31c23-0aee-4108-b26f-77321fcb09f7",
   "metadata": {},
   "outputs": [
    {
     "data": {
      "text/html": [
       "<div style='display: flex; justify-content: space-between;'>\n",
       "        <div style=\"text-align: center; margin: 0 10px;\">\n",
       "            <img src=\"Images/fig210.png\" style=\"width: 375px; height: 200px;\">\n",
       "            <div style=\"color: black; font-size: 14px; background-color: rgba(255, 255, 255, 0.7); padding: 5px; border-radius: 5px;\">\n",
       "                Fig.210\n",
       "            </div>\n",
       "        </div>\n",
       "        \n",
       "        <div style=\"text-align: center; margin: 0 10px;\">\n",
       "            <img src=\"Images/fig211.png\" style=\"width: 375px; height: 200px;\">\n",
       "            <div style=\"color: black; font-size: 14px; background-color: rgba(255, 255, 255, 0.7); padding: 5px; border-radius: 5px;\">\n",
       "                Fig.211\n",
       "            </div>\n",
       "        </div>\n",
       "        </div>"
      ],
      "text/plain": [
       "<IPython.core.display.HTML object>"
      ]
     },
     "metadata": {},
     "output_type": "display_data"
    }
   ],
   "source": [
    "display(load_images([('fig210', 'left'), ('fig211', 'right')]))"
   ]
  },
  {
   "cell_type": "markdown",
   "id": "56afbd9b-95b4-4a06-9b59-f0b553b99238",
   "metadata": {},
   "source": [
    "Above, in the definition of parameterized spirals, we specified $n$ and $m$ as belonging to the set of integers. Now, we will show that the formulas for the derivatives hold even for $n, m < 0$. Let us consider $5.1.1$.\n",
    "\n",
    "$$ x(t) = vtcos(k\\frac{\\pi}{2} + \\omega t),\\quad\\quad\\quad\\quad (5.1.1)$$"
   ]
  },
  {
   "cell_type": "markdown",
   "id": "122400ec-d7ef-4330-a16a-8b2a1cce203c",
   "metadata": {},
   "source": [
    "$$\\int vtcos(k\\frac{\\pi}{2} + \\omega t) = \\frac{vtsin(k\\frac{\\pi}{2} + \\omega t)}{\\omega} - \n",
    "\\int \\frac{vsin(k\\frac{\\pi}{2} + \\omega t)}{\\omega}dt$$\n",
    "\n",
    "$$\\int vtcos(k\\frac{\\pi}{2} + \\omega t) = \\frac{vtsin(k\\frac{\\pi}{2} + \\omega t)}{\\omega} - \n",
    "\\frac{vcos(k\\frac{\\pi}{2} + \\omega t)}{\\omega^2}$$\n",
    "\n",
    "$$\\int vtcos(k\\frac{\\pi}{2} + \\omega t) = \\frac{vtsin(k\\frac{\\pi}{2} + \\omega t)}{\\omega} + \n",
    "\\frac{vcos(k\\frac{\\pi}{2} + \\omega t)}{\\omega}$$"
   ]
  }
 ],
 "metadata": {
  "kernelspec": {
   "display_name": "Python 3 (ipykernel)",
   "language": "python",
   "name": "python3"
  },
  "language_info": {
   "codemirror_mode": {
    "name": "ipython",
    "version": 3
   },
   "file_extension": ".py",
   "mimetype": "text/x-python",
   "name": "python",
   "nbconvert_exporter": "python",
   "pygments_lexer": "ipython3",
   "version": "3.9.13"
  }
 },
 "nbformat": 4,
 "nbformat_minor": 5
}
