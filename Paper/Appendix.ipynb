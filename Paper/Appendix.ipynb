{
 "cells": [
  {
   "cell_type": "code",
   "execution_count": 1,
   "id": "ab5d2542-9df4-4bd9-a6fa-99bc879f3ec1",
   "metadata": {},
   "outputs": [],
   "source": [
    "from image_functions import *"
   ]
  },
  {
   "cell_type": "markdown",
   "id": "65c0fe75-d887-4a94-98d7-8ba6830c9c7b",
   "metadata": {},
   "source": [
    "### <center> 5.1 Parametric Spirals of an Infinite Order\n",
    "    \n",
    "In this section, we will explore the possibility of defining a separate class of spirals based on t-parameterization. Their number is literally infinite, and some of them have truly peculiar shapes.\n",
    "\n",
    "Let’s begin with the formulas for the $x$ and $y$ components of a parameterized Archimedean spiral.\n",
    "    \n",
    "$$ x(t) = vtcos(k\\frac{\\pi}{2} + \\omega t),\\quad\\quad\\quad\\quad (5.1.1)$$\n",
    "    \n",
    "$$ y(t) = vtsin(k\\frac{\\pi}{2} + \\omega t),\\quad\\quad\\quad\\quad (5.1.2)$$\n",
    "    \n",
    "where\n",
    "    \n",
    "$v \\in \\mathbb{R}, v \\ge 0$ - radial velocity, \n",
    "\n",
    "$\\omega \\in \\mathbb{R}$ - angular velocity,\n",
    "\n",
    "$0 \\le k <4$ - initial angular coefficient.\n",
    "    \n",
    "In section *2.2.1.1 Derivatives of an Archimedean Spiral*, we have already defined the first derivatives of $x(t)$ and $y(t)$.\n",
    "    \n",
    "$$ x'(t) = v \\left ( cos(k\\frac{\\pi}{2} + \\omega t) - \\omega tsin(k\\frac{\\pi}{2} + \\omega t) \\right ), \\quad\\quad\\quad\\quad (5.1.3)$$\n",
    "    \n",
    "$$ y'(t) = v \\left ( sin(k\\frac{\\pi}{2} + \\omega t) + \\omega tcos(k\\frac{\\pi}{2} + \\omega t) \\right ). \\quad\\quad\\quad\\quad (5.1.4)$$\n",
    "    \n",
    "Seen on their own, these are simply two equations, even though they were obtained through differentiation from two other equations. Nothing prevents us from visualizing them as well."
   ]
  },
  {
   "cell_type": "code",
   "execution_count": 2,
   "id": "093881f9-f98c-4fce-92b2-e5510e110f7f",
   "metadata": {},
   "outputs": [
    {
     "data": {
      "text/html": [
       "\n",
       "    <div style=\"display: flex; justify-content: center; align-items: center; height: 300px;\">\n",
       "        <img src=\"Images/fig203.png\" style=\"width: 562px; height: 300px;\">\n",
       "        <div style=\"position: absolute; top: 0px; right: 80px; color: black; font-size: 14px; background-color: rgba(255, 255, 255, 0.7); padding:           5px; border-radius: 5px;\">\n",
       "            Fig.203\n",
       "        </div>\n",
       "    </div>\n",
       "    "
      ],
      "text/plain": [
       "<IPython.core.display.HTML object>"
      ]
     },
     "execution_count": 2,
     "metadata": {},
     "output_type": "execute_result"
    }
   ],
   "source": [
    "load_image('fig203')"
   ]
  },
  {
   "cell_type": "markdown",
   "id": "303269a5-8b38-4926-8c21-a45eb17e1c55",
   "metadata": {},
   "source": [
    "On the display on the second row to the left under **Spiral parameters:**, we have **deg:\\[1, 1\\]**. This shows the degree of the derivative of the Archimedean spiral in the format: **\\[x-derivative, y-derivative \\]**.\n",
    "\n",
    "In this specific case, these are the first derivatives. The spiral constructed through them closely resembles the Archimedean spiral, with the difference being that its expansion does not start from the center of the coordinate system (0,0), but from (0.5, 0). The starting point on the $x$-coordinate is set by the radial speed $v$. Let's see what this spiral looks like in the **t-diagram.**"
   ]
  },
  {
   "cell_type": "code",
   "execution_count": 3,
   "id": "03230fb3-01d7-4260-9f40-07f14b102201",
   "metadata": {},
   "outputs": [
    {
     "data": {
      "text/html": [
       "\n",
       "    <div style=\"display: flex; justify-content: center; align-items: center; height: 300px;\">\n",
       "        <img src=\"Images/fig204.png\" style=\"width: 562px; height: 300px;\">\n",
       "        <div style=\"position: absolute; top: 0px; right: 80px; color: black; font-size: 14px; background-color: rgba(255, 255, 255, 0.7); padding:           5px; border-radius: 5px;\">\n",
       "            Fig.204\n",
       "        </div>\n",
       "    </div>\n",
       "    "
      ],
      "text/plain": [
       "<IPython.core.display.HTML object>"
      ]
     },
     "execution_count": 3,
     "metadata": {},
     "output_type": "execute_result"
    }
   ],
   "source": [
    "load_image('fig204')"
   ]
  },
  {
   "cell_type": "markdown",
   "id": "5de1c823-ce83-4c29-a59d-99e0d60b2f7f",
   "metadata": {},
   "source": [
    "Let’s zoom in on the image in the area around the center of the coordinate system."
   ]
  },
  {
   "cell_type": "code",
   "execution_count": 5,
   "id": "28cc1e03-1cf9-42f7-a0ba-fd604e1fe793",
   "metadata": {},
   "outputs": [
    {
     "data": {
      "text/html": [
       "\n",
       "    <div style=\"display: flex; justify-content: center; align-items: center; height: 300px;\">\n",
       "        <img src=\"Images/fig205.png\" style=\"width: 562px; height: 300px;\">\n",
       "        <div style=\"position: absolute; top: 0px; right: 80px; color: black; font-size: 14px; background-color: rgba(255, 255, 255, 0.7); padding:           5px; border-radius: 5px;\">\n",
       "            Fig.205\n",
       "        </div>\n",
       "    </div>\n",
       "    "
      ],
      "text/plain": [
       "<IPython.core.display.HTML object>"
      ]
     },
     "execution_count": 5,
     "metadata": {},
     "output_type": "execute_result"
    }
   ],
   "source": [
    "load_image('fig205')"
   ]
  },
  {
   "cell_type": "markdown",
   "id": "19091dc5-f9bd-4dbb-9ebc-6b1a674703e7",
   "metadata": {},
   "source": [
    "The green line traces the increase of the radius vector of the spiral, and we can see that near the center, it forms a curved line.\n",
    "\n",
    "The process of differentiation can continue indefinitely since the formulas contain trigonometric functions. Let's focus only on the $x$-coordinate and take the next three derivatives.\n",
    "\n",
    "$$ x''(t) = v\\omega \\left ( -2sin(k\\frac{\\pi}{2} + \\omega t) - \\omega tcos(k\\frac{\\pi}{2} + \\omega t) \\right ), \\quad\\quad\\quad\\quad (5.1.5)$$\n",
    "\n",
    "$$ x'''(t) = v\\omega^2 \\left ( -3cos(k\\frac{\\pi}{2} + \\omega t) + \\omega tsin(k\\frac{\\pi}{2} + \\omega t) \\right ), \\quad\\quad\\quad\\quad (5.1.6)$$\n",
    "\n",
    "$$ x''''(t) = v\\omega^3 \\left ( 4sin(k\\frac{\\pi}{2} + \\omega t) + \\omega tcos(k\\frac{\\pi}{2} + \\omega t) \\right ). \\quad\\quad\\quad\\quad (5.1.7)$$\n",
    "\n",
    "A clear pattern for the $n$-th derivative emerges:\n",
    "\n",
    "$$ x^{(n)}(t) = v\\omega^{(n-1)} \\left (nx^{(n-1)}(t)cos(k\\frac{\\pi}{2} + \\omega t) + \\omega tx^{(n-1)}(t)sin(k\\frac{\\pi}{2} + \\omega t) \\right ). \\quad\\quad\\quad\\quad (5.1.7)$$\n",
    "\n",
    "Now, let's take the first four derivatives of the equation for the $y$-coordinate.\n",
    "\n",
    "$$ y(t) = vtsin(k\\frac{\\pi}{2} + \\omega t),\\quad\\quad\\quad\\quad (5.1.2)$$\n",
    "\n",
    "$$ y'(t) = v \\left(sin(k\\frac{\\pi}{2} + \\omega t) + \\omega t cos(k\\frac{\\pi}{2} + \\omega t) \\right),  \\quad\\quad\\quad\\quad (5.1.8)$$\n",
    "\n",
    "$$ y''(t) = v\\omega \\left(2cos(k\\frac{\\pi}{2} + \\omega t) - \\omega t sin(k\\frac{\\pi}{2} + \\omega t) \\right),  \\quad\\quad\\quad\\quad (5.1.9)$$\n",
    "\n",
    "$$ y'''(t) = v\\omega^2 \\left(-3sin(k\\frac{\\pi}{2} + \\omega t) - \\omega t cos(k\\frac{\\pi}{2} + \\omega t) \\right),  \\quad\\quad\\quad\\quad (5.1.10)$$\n",
    "\n",
    "$$ y''''(t) = v\\omega^3 \\left(-4cos(k\\frac{\\pi}{2} + \\omega t) + \\omega t sin(k\\frac{\\pi}{2} + \\omega t) \\right).  \\quad\\quad\\quad\\quad (5.1.11)$$\n",
    "\n",
    "The model is similar to $x^{(n)}$ but with swapped trigonometric functions and signs.\n",
    "\n",
    "$$ y^{(n)}(t) = v\\omega ^ {(n-1)} \\left( ny^{(n-1)}(t)sin(k\\frac{\\pi}{2} + \\omega t) + \\omega ty^{(n-1)}(t)cos(k\\frac{\\pi}{2} + \\omega t) \\right)  \\quad\\quad\\quad\\quad(5.1.12)$$"
   ]
  },
  {
   "cell_type": "code",
   "execution_count": null,
   "id": "6cb4aca8-2604-4c40-86f1-820d99d5e334",
   "metadata": {},
   "outputs": [],
   "source": []
  }
 ],
 "metadata": {
  "kernelspec": {
   "display_name": "Python 3 (ipykernel)",
   "language": "python",
   "name": "python3"
  },
  "language_info": {
   "codemirror_mode": {
    "name": "ipython",
    "version": 3
   },
   "file_extension": ".py",
   "mimetype": "text/x-python",
   "name": "python",
   "nbconvert_exporter": "python",
   "pygments_lexer": "ipython3",
   "version": "3.9.13"
  }
 },
 "nbformat": 4,
 "nbformat_minor": 5
}
