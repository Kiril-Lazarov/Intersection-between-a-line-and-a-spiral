{
 "cells": [
  {
   "cell_type": "code",
   "execution_count": 11,
   "id": "ab5d2542-9df4-4bd9-a6fa-99bc879f3ec1",
   "metadata": {},
   "outputs": [],
   "source": [
    "from IPython.display import HTML\n",
    "from image_functions import *"
   ]
  },
  {
   "cell_type": "markdown",
   "id": "65c0fe75-d887-4a94-98d7-8ba6830c9c7b",
   "metadata": {},
   "source": [
    "### <center> 5.1 Sequences with arbitrary terms\n",
    "    \n",
    "    \n",
    "The statement $0^0 = 1$ can also be used for the algebraic construction of numerical sequences with arbitrary terms. By definition, a numerical sequence (or simply a sequence) is an ordered set of elements, where each element is associated with a natural number n through a function, and is obtained as its value. Each term of the sequence is obtained from $n$ by some rule. For example, the sequence with the general term $a_n$:\n",
    "    \n",
    "$$ \\left\\{a_n\\right\\} = n^2. \\quad\\quad\\quad\\quad (5.1.1)$$\n",
    "    \n",
    "The rule defines the values of the sequence based on the position number of each term. Now we will define a sequence where each term is associated with a natural number, but the values of the terms are not a function of the position number.\n",
    "    \n",
    "$$ \\left\\{a_n\\right\\} = 0^{|n-1|}x_1 + 0^{|n-2|}x_2 + 0^{|n-3|}x_3 ... 0^{|n-k|}x_k,\\quad n, k \\in \\mathbb{N}. \\quad\\quad\\quad\\quad (5.1.2)$$\n",
    "    \n",
    "We define the numerical sequence $\\left\\{a_n\\right\\}$ as a sum of variables $x_k$ with coefficients $0^{|n-k|}$. This sum nullifies all the terms of the sequence except for the chosen $n$-th term. For example, for $n=2$, we have:\n",
    "    \n",
    "$$ a_2 = 0x_1 + 1x_2 + 0x_3 ... 0x_k = x_2. \\quad\\quad\\quad\\quad (5.1.3)$$\n",
    "    \n",
    "It is clear that the variables $x_k$ are the arbitrary elements of the sequence. They can be replaced with a number, a function, another sequence, another term of the same sequence (i.e., recursion), etc. Here is an example:\n",
    "    \n",
    "$$ \\left\\{a_{n,x}\\right\\} = 0^{|n-1|}5 + 0^{|n-2|}x^2 + 0^{|n-3|}\\sqrt{x} +\n",
    "0^{|n-4|}sinx + 0^{|n-5|}e^x + 0^{|n-6|}(a_{2,3} + a_{3, x^2}). \\quad\\quad\\quad\\quad (5.1.4)$$\n",
    "    \n",
    "We add $x$ as an argument along with the index $n$ since it appears in several of the terms of the sequence. Let us consider some of them.\n",
    "    \n",
    "$$ a_{2,3} = 3^2 = 9; \\quad a_{5,3} = e^3; \\quad a_{5,e} = e^e; \\quad a_{6,2} = 4 + 2=6.  $$\n",
    "    \n",
    "Adding the variable $x$ provides another level of flexibility in the sequence because the same term in the sequence has different values depending on $x$. In any arbitrary sequence, a given term can represent a whole series of mathematical operations, which can include both independent expressions and terms from the sequence itself. In the example above, this is the sixth term of the sequence. The formula derived in the main exposition for the two-dimensional numerical sequence is actually an arbitrary numerical sequence whose terms are separate algorithms. It is clear that algebraic checks can also be added before each term of the sequence, as we did for the two-dimensional sequence.\n",
    "    \n",
    "The numerical sequence defined in this way with arbitrary terms is, in fact, an algebraic analog of an array in programming languages. We have seen how this algebraic structure can be used to construct complex algorithms. In the next section, we will demonstrate another possible application of it – avoiding complex actions such as taking successive derivatives and integrals.\n",
    "\n",
    "### <center> 5.2 Parametric Spirals of an Infinite Order\n",
    "    \n",
    "In this section, we will explore the possibility of defining a separate class of spirals based on t-parameterization. Their number is literally infinite, and some of them have truly peculiar shapes.\n",
    "\n",
    "Let’s begin with the formulas for the $x$ and $y$ components of a parameterized Archimedean spiral.\n",
    "    \n",
    "$$ x(t) = vtcos(k\\frac{\\pi}{2} + \\omega t),\\quad\\quad\\quad\\quad (5.2.1)$$\n",
    "    \n",
    "$$ y(t) = vtsin(k\\frac{\\pi}{2} + \\omega t),\\quad\\quad\\quad\\quad (5.2.2)$$\n",
    "    \n",
    "where\n",
    "    \n",
    "$v \\in \\mathbb{R}, v \\ge 0$ - radial velocity, \n",
    "\n",
    "$\\omega \\in \\mathbb{R}$ - angular velocity,\n",
    "\n",
    "$0 \\le k <4$ - initial angular coefficient.\n",
    "    \n",
    "In section *2.2.1.1 Derivatives of an Archimedean Spiral*, we have already defined the first derivatives of $x(t)$ and $y(t)$.\n",
    "    \n",
    "$$ x'(t) = v \\left ( cos(k\\frac{\\pi}{2} + \\omega t) - \\omega tsin(k\\frac{\\pi}{2} + \\omega t) \\right ), \\quad\\quad\\quad\\quad (5.2.3)$$\n",
    "    \n",
    "$$ y'(t) = v \\left ( sin(k\\frac{\\pi}{2} + \\omega t) + \\omega tcos(k\\frac{\\pi}{2} + \\omega t) \\right ). \\quad\\quad\\quad\\quad (5.2.4)$$\n",
    "    \n",
    "Seen on their own, these are simply two equations, even though they were obtained through differentiation from two other equations. Nothing prevents us from visualizing them as well."
   ]
  },
  {
   "cell_type": "code",
   "execution_count": 2,
   "id": "093881f9-f98c-4fce-92b2-e5510e110f7f",
   "metadata": {},
   "outputs": [
    {
     "data": {
      "text/html": [
       "\n",
       "    <div style=\"display: flex; justify-content: center; align-items: center; height: 300px;\">\n",
       "        <img src=\"Images/fig203.png\" style=\"width: 562px; height: 300px;\">\n",
       "        <div style=\"position: absolute; top: 0px; right: 80px; color: black; font-size: 14px; background-color: rgba(255, 255, 255, 0.7); padding:           5px; border-radius: 5px;\">\n",
       "            Fig.203\n",
       "        </div>\n",
       "    </div>\n",
       "    "
      ],
      "text/plain": [
       "<IPython.core.display.HTML object>"
      ]
     },
     "execution_count": 2,
     "metadata": {},
     "output_type": "execute_result"
    }
   ],
   "source": [
    "load_image('fig203')"
   ]
  },
  {
   "cell_type": "markdown",
   "id": "303269a5-8b38-4926-8c21-a45eb17e1c55",
   "metadata": {},
   "source": [
    "On the display on the second row to the left under **Spiral parameters:**, we have **deg:\\[1, 1\\]**. This shows the degree of the derivative of the Archimedean spiral in the format: **\\[x-derivative, y-derivative \\]**.\n",
    "\n",
    "In this specific case, these are the first derivatives. The spiral constructed through them closely resembles the Archimedean spiral, with the difference being that its expansion does not start from the center of the coordinate system (0,0), but from (0.5, 0). The starting point on the $x$-coordinate is set by the radial velocity $v$. Let's see what this spiral looks like in the **t-diagram.**"
   ]
  },
  {
   "cell_type": "code",
   "execution_count": 3,
   "id": "03230fb3-01d7-4260-9f40-07f14b102201",
   "metadata": {},
   "outputs": [
    {
     "data": {
      "text/html": [
       "\n",
       "    <div style=\"display: flex; justify-content: center; align-items: center; height: 300px;\">\n",
       "        <img src=\"Images/fig204.png\" style=\"width: 562px; height: 300px;\">\n",
       "        <div style=\"position: absolute; top: 0px; right: 80px; color: black; font-size: 14px; background-color: rgba(255, 255, 255, 0.7); padding:           5px; border-radius: 5px;\">\n",
       "            Fig.204\n",
       "        </div>\n",
       "    </div>\n",
       "    "
      ],
      "text/plain": [
       "<IPython.core.display.HTML object>"
      ]
     },
     "execution_count": 3,
     "metadata": {},
     "output_type": "execute_result"
    }
   ],
   "source": [
    "load_image('fig204')"
   ]
  },
  {
   "cell_type": "markdown",
   "id": "5de1c823-ce83-4c29-a59d-99e0d60b2f7f",
   "metadata": {},
   "source": [
    "Let’s zoom in on the image in the area around the center of the coordinate system."
   ]
  },
  {
   "cell_type": "code",
   "execution_count": 5,
   "id": "28cc1e03-1cf9-42f7-a0ba-fd604e1fe793",
   "metadata": {},
   "outputs": [
    {
     "data": {
      "text/html": [
       "\n",
       "    <div style=\"display: flex; justify-content: center; align-items: center; height: 300px;\">\n",
       "        <img src=\"Images/fig205.png\" style=\"width: 562px; height: 300px;\">\n",
       "        <div style=\"position: absolute; top: 0px; right: 80px; color: black; font-size: 14px; background-color: rgba(255, 255, 255, 0.7); padding:           5px; border-radius: 5px;\">\n",
       "            Fig.205\n",
       "        </div>\n",
       "    </div>\n",
       "    "
      ],
      "text/plain": [
       "<IPython.core.display.HTML object>"
      ]
     },
     "execution_count": 5,
     "metadata": {},
     "output_type": "execute_result"
    }
   ],
   "source": [
    "load_image('fig205')"
   ]
  },
  {
   "cell_type": "markdown",
   "id": "19091dc5-f9bd-4dbb-9ebc-6b1a674703e7",
   "metadata": {},
   "source": [
    "The green line traces the increase of the radius vector of the spiral, and we can see that near the center, it forms a curved line.\n",
    "\n",
    "The process of differentiation can continue indefinitely since the formulas contain trigonometric functions. Let's focus only on the $x$-coordinate and take the next three derivatives.\n",
    "\n",
    "$$ x''(t) = v\\omega \\left ( -2sin(k\\frac{\\pi}{2} + \\omega t) - \\omega tcos(k\\frac{\\pi}{2} + \\omega t) \\right ), \\quad\\quad\\quad\\quad (5.2.5)$$\n",
    "\n",
    "$$ x'''(t) = v\\omega^2 \\left ( -3cos(k\\frac{\\pi}{2} + \\omega t) + \\omega tsin(k\\frac{\\pi}{2} + \\omega t) \\right ), \\quad\\quad\\quad\\quad (5.2.6)$$\n",
    "\n",
    "$$ x''''(t) = v\\omega^3 \\left ( 4sin(k\\frac{\\pi}{2} + \\omega t) + \\omega tcos(k\\frac{\\pi}{2} + \\omega t) \\right ). \\quad\\quad\\quad\\quad (5.2.7)$$\n",
    "\n",
    "A clear pattern for the $n$-th derivative emerges:\n",
    "\n",
    "$$ \\frac{d^nx}{dt^n} = v\\omega^{n-1} \\left( n\\frac{d^{n-1}}{dt^{n-1}}cos(k\\frac{\\pi}{2} + \\omega t) - \\omega t\\frac{d^{n-1}}{dt^{n-1}}sin(k\\frac{\\pi}{2} + \\omega t)\\right). \\quad\\quad\\quad\\quad (5.2.8)$$\n",
    "\n",
    "However, there is a problem with this formula – substituting $n$ with a given value will lead to an incorrect result. The reason for this is the chain rule of differentiation. Let’s choose $n=2$ and perform the operations in the formula step by step.\n",
    "\n",
    "$$ \\frac{d^2x}{dt^2} = v\\omega^{1} \\left( 2\\frac{d}{dt}cos(k\\frac{\\pi}{2} + \\omega t) - \\omega t\\frac{d}{dt}sin(k\\frac{\\pi}{2} + \\omega t)\\right). \\quad\\quad\\quad\\quad (5.2.9)$$\n",
    "\n",
    "We substituted $n=2$ and see that we need to take the first derivatives of the trigonometric functions. They are as follows:\n",
    "\n",
    "$$ \\frac{d}{dt}cos(k\\frac{\\pi}{2} + \\omega t) = -\\omega sin(k\\frac{\\pi}{2} + \\omega t), \\quad\\quad\\quad\\quad (5.2.10)$$\n",
    "\n",
    "$$ \\frac{d}{dt}sin(k\\frac{\\pi}{2} + \\omega t) = \\omega cos(k\\frac{\\pi}{2} + \\omega t). \\quad\\quad\\quad\\quad (5.2.11)$$\n",
    "\n",
    "We substitute in $5.2.9$:\n",
    "\n",
    "$$ \\frac{d^2x}{dt^2} = v\\omega^{1} \\left( -2\\omega sin(k\\frac{\\pi}{2} + \\omega t) - \\omega^2 tcos(k\\frac{\\pi}{2} + \\omega t)\\right), \\quad\\quad\\quad\\quad (5.2.12)$$\n",
    "\n",
    "$$ \\frac{d^2x}{dt^2} = v\\omega^{2} \\left( -2sin(k\\frac{\\pi}{2} + \\omega t) - \\omega tcos(k\\frac{\\pi}{2} + \\omega t)\\right). \\quad\\quad\\quad\\quad (5.2.13)$$\n",
    "\n",
    "Comparing this result with $5.2.5$, we see that the expression inside the parentheses is the same, but outside the parentheses, we have $\\omega^2$ instead of $\\omega$. The chain rule introduces a factor of $\\omega$ outside the parentheses, and the exponent of this factor will grow along with $n$, as it directly depends on the number of times we differentiate inside the parentheses.\n",
    "\n",
    "There are two ways to address this issue. One is simply to remove $\\omega$ from equation $5.2.8$, and then we will have:\n",
    "\n",
    "$$ \\frac{d^nx}{dt^n} = v\\left( n\\frac{d^{n-1}}{dt^{n-1}}cos(k\\frac{\\pi}{2} + \\omega t) - \\omega t\\frac{d^{n-1}}{dt^{n-1}}sin(k\\frac{\\pi}{2} + \\omega t)\\right). \\quad\\quad\\quad\\quad (5.2.14)$$\n",
    "\n",
    "This solution is valid, but it does not suit us because it does not save us from performing differentiation $(n-1)$ times inside the parentheses.\n",
    "\n",
    "Things get even worse with successive integration - as we will see below - because it will require integration by parts the corresponding number of times. However, there is a way to bypass these operations so that the $(n-1)$-th derivative (or integral) can be obtained solely based on $n$ by substitution into the new formula.\n",
    "\n",
    "Here, the defined numerical sequence with arbitrary values comes into play.\n",
    "\n",
    "We will use the fact that the derivatives of trigonometric functions are cyclic. We define a sequence of four terms representing the order of trigonometric derivatives.\n",
    "\n",
    "$$ \\left\\{D_n\\right\\} = 0^{|n|}sin(k\\frac{\\pi}{2} + \\omega t) + \n",
    "0^{|n-1|}cos(k\\frac{\\pi}{2} + \\omega t) - \n",
    "0^{|n-2|}sin(k\\frac{\\pi}{2} + \\omega t) -\n",
    "0^{|n-3|}cos(k\\frac{\\pi}{2} + \\omega t).\n",
    "\\quad\\quad\\quad\\quad (5.2.15)$$\n",
    "\n",
    "We define this sequence for indices from 0 to 3 so that we can access them using modular division by 4. We define the domain of the indices $n$ as $n \\in \\mathbb{Z}$, because the logic of successive differentiation and integration allows for this and thus provides a greater variety of parametric spirals. The cycle of derivatives of the sine function consists of only four steps. This means that the index $n$ must be reduced to just four numbers. The most convenient way to achieve this is through modular division, which, however, will reduce $n$ to zero for every $n$ that is a multiple of 4.\n",
    "\n",
    "Let us first substitute the derivatives of the trigonometric functions in 5.2.8 with the appropriate term from the sequence $D_{n}$.\n",
    "\n",
    "$$ \\frac{d^nx}{dt^n} = v\\omega^{n-1} \\left( n {D_{n}} - \\omega tD_{n-1}\\right). \\quad\\quad\\quad\\quad (5.2.16)$$\n",
    "\n",
    "Now we need to verify whether we are correctly substituting the trigonometric functions. For the first derivative $n=1$, the equation for the $x$-component has the form:\n",
    "\n",
    "$$ \\frac{dx}{dt}  = v \\left ( cos(k\\frac{\\pi}{2} + \\omega t) - \\omega tsin(k\\frac{\\pi}{2} + \\omega t) \\right ). \\quad\\quad\\quad\\quad (5.2.17)$$\n",
    "\n",
    "Indeed:\n",
    "\n",
    "$$ D_1 = cos(k\\frac{\\pi}{2} + \\omega t), \\quad\\quad\\quad\\quad (5.2.18)$$\n",
    "\n",
    "$$ D_0 = sin(k\\frac{\\pi}{2} + \\omega t). \\quad\\quad\\quad\\quad (5.2.19)$$\n",
    "\n",
    "The general formula for each $n$, including the modular division in the indices of the numerical sequence, is as follows:\n",
    "\n",
    "$$ \\frac{d^nx}{dt^n} = v\\omega^{n-1} \\left( n D_{(n)\\text{mod}4} - \\omega tD_{(n-1)\\text{mod}4}\\right). \\quad\\quad\\quad\\quad (5.2.20)$$\n",
    "\n",
    "Let’s check for $n>4$, for example, $n=6$.\n",
    "\n",
    "$$ \\frac{d^6x}{dt^6} = v\\omega^{5} \\left( -6sin(k\\frac{\\pi}{2} + \\omega t) - \\omega tcos(k\\frac{\\pi}{2} + \\omega t)\\right), \\quad\\quad\\quad\\quad (5.2.21)$$\n",
    "\n",
    "$$ D_{(6)\\text{mod}4} = D_2 = -sin(k\\frac{\\pi}{2} + \\omega t), \\quad\\quad\\quad\\quad (5.2.22)$$\n",
    "\n",
    "$$ D_{(5)\\text{mod}4} = D_1 = cos(k\\frac{\\pi}{2} + \\omega t). \\quad\\quad\\quad\\quad (5.2.23)$$"
   ]
  },
  {
   "cell_type": "markdown",
   "id": "124dff81-fe66-4d9e-a9a9-464a1315de5d",
   "metadata": {},
   "source": [
    "Before we check how things stand for $n \\le 0$, where we need to integrate instead of differentiating, let's first look at the corresponding formulas for the $y$-component of the parameterized spiral.\n",
    "\n",
    "$$ y(t) = vtsin(k\\frac{\\pi}{2} + \\omega t),\\quad\\quad\\quad\\quad (5.2.2)$$\n",
    "\n",
    "$$ y'(t) = v \\left(sin(k\\frac{\\pi}{2} + \\omega t) + \\omega t cos(k\\frac{\\pi}{2} + \\omega t) \\right),  \\quad\\quad\\quad\\quad (5.2.24)$$\n",
    "\n",
    "$$ y''(t) = v\\omega \\left(2cos(k\\frac{\\pi}{2} + \\omega t) - \\omega t sin(k\\frac{\\pi}{2} + \\omega t) \\right),  \\quad\\quad\\quad\\quad (5.2.25)$$\n",
    "\n",
    "$$ y'''(t) = v\\omega^2 \\left(-3sin(k\\frac{\\pi}{2} + \\omega t) - \\omega t cos(k\\frac{\\pi}{2} + \\omega t) \\right),  \\quad\\quad\\quad\\quad (5.2.26)$$\n",
    "\n",
    "$$ y''''(t) = v\\omega^3 \\left(-4cos(k\\frac{\\pi}{2} + \\omega t) + \\omega t sin(k\\frac{\\pi}{2} + \\omega t) \\right).  \\quad\\quad\\quad\\quad (5.2.27)$$\n",
    "\n",
    "The model is similar to $\\frac{d^nx}{dt^n}$ but with swapped trigonometric functions and signs.\n",
    "\n",
    "$$ \\frac{d^ny}{dt^n} = v\\omega ^{n-1} \\left( n\\frac{d^{n-1}}{dt^{n-1}}sin(k\\frac{\\pi}{2} + \\omega t) + \\omega t\\frac{d^{n-1}}{dt^{n-1}}cos(k\\frac{\\pi}{2} + \\omega t)\\right).  \\quad\\quad\\quad\\quad(5.2.28)$$\n",
    "\n",
    "The corresponding formula with the numerical sequence $\\left\\{D_n\\right\\}$ is as follows:\n",
    "\n",
    "$$ \\frac{d^ny}{dt^n} = v\\omega^{n-1} \\left( n D_{(n-1)\\text{mod}4} + \\omega tD_{(n)\\text{mod}4}\\right). \\quad\\quad\\quad\\quad(5.2.29)$$\n",
    "\n",
    "\n",
    "This sequence of derivatives allows us to define an infinite number of variations of parametric spirals. To denote them, we can adopt the following notation:\n",
    "\n",
    "$$ S^{n, m}_{(t)} : \\mathbb{R} \\to \\mathbb{R}^2, \\quad S^{n, m}_{(t)} = \n",
    "\\left( \n",
    "\\frac{d^nx}{dt^n},\\frac{d^my}{dt^m} \n",
    "\\right), \\quad n,m \\in \\mathbb{Z},\n",
    "\\quad\\quad\\quad\\quad(5.2.30)$$\n",
    "\n",
    "$$ \\quad S^{n, m}_{(t)} = \n",
    "\\left( \n",
    "v\\omega^{n-1} \\left( n D_{(n)\\text{mod}4} - \\omega tD_{(n-1)\\text{mod}4}\\right),\n",
    "v\\omega^{n-1} \\left( n D_{(n-1)\\text{mod}4} + \\omega tD_{(n)\\text{mod}4}\\right),\n",
    "\\right)\\quad\\quad\\quad\\quad(5.2.31)$$\n",
    "\n",
    "where $n$ is the order of the derivative of the $x$-component, and $m$ is the order of the derivative of the $y$-component of the parametric spriral $S$. In this notation, the Archimedean spiral will look like this:\n",
    "\n",
    "$$ S^{0, 0}_{(t)} = \\left( vtcos(k\\frac{\\pi}{2} + \\omega t), vtsin(k\\frac{\\pi}{2} + \\omega t) \\right).\n",
    "\\quad\\quad\\quad\\quad(5.2.32)$$\n",
    "\n",
    "From the perspective of this formula, the Archimedean spiral is a parametric spiral of zero degree $(n=0, m=0)$, or more briefly, a *zero parametric spiral.* \n",
    "\n"
   ]
  },
  {
   "cell_type": "markdown",
   "id": "b207b1e8-a0b4-4c7f-9532-27b1c71c8d99",
   "metadata": {},
   "source": [
    "Now let’s consider the cases where $n \\le 0$. We will start with $n=0$. Substituting into 5.2.8 for the $x$-component we obtain:\n",
    "\n",
    "$$ \\frac{d^0x}{dt^0} = v\\omega^{-1} \\left( 0\\frac{d^{-1}}{dt^{-1}}cos(k\\frac{\\pi}{2} + \\omega t) - \\omega t\\frac{d^{-1}}{dt^{-1}}sin(k\\frac{\\pi}{2} + \\omega t)\\right), \\quad\\quad\\quad\\quad (5.2.33)$$\n",
    "\n",
    "$$ \\frac{d^0x}{dt^0} = -v\\omega t\\frac{d^{-1}}{dt^{-1}}sin(k\\frac{\\pi}{2} + \\omega t). \\quad\\quad\\quad\\quad (5.2.34)$$\n",
    "\n",
    "The first problem - the presence of $\\omega$ as a factor - has already been resolved using the numerical sequence with arbitrary values. The second problem is the negative derivative. From the fundamental theorem of calculus, it follows that the negative first derivative is equivalent to the first antiderivative. Let’s integrate 5.2.8 for $n=1$ to see what happens.\n",
    "\n",
    "$$ \\frac{dx}{dt} = v \\left ( cos(k\\frac{\\pi}{2} + \\omega t) - \\omega tsin(k\\frac{\\pi}{2} + \\omega t) \\right ), \\quad\\quad\\quad\\quad (5.2.35)$$\n",
    "\n",
    "$$ \\int \\frac{dx}{dt}dt = \\int v \\left ( cos(k\\frac{\\pi}{2} + \\omega t) - \\omega tsin(k\\frac{\\pi}{2} + \\omega t) \\right )dt, \\quad\\quad\\quad\\quad (5.2.36)$$\n",
    "\n",
    "$$ \\int \\frac{dx}{dt}dt = \\int vcos(k\\frac{\\pi}{2} + \\omega t)dt - \\int v\\omega tsin(k\\frac{\\pi}{2} + \\omega t)dt, \\quad\\quad\\quad\\quad (5.2.37)$$\n",
    "\n",
    "$$ \\int \\frac{dx}{dt}dt = \\frac{v}{\\omega} sin(k\\frac{\\pi}{2} + \\omega t) + C_1 -\n",
    "\\left(\n",
    "-v tcos(k\\frac{\\pi}{2} + \\omega t) + \\frac{v}{\\omega} sin(k\\frac{\\pi}{2} + \\omega t)\n",
    "+ C_2\\right)\n",
    ", \\quad\\quad\\quad\\quad (5.2.38)$$\n",
    "\n",
    "$$ \\int \\frac{dx}{dt}dt = vtcos(k\\frac{\\pi}{2} + \\omega t) + C_1 + C_2. \\quad\\quad\\quad\\quad (5.2.39)$$\n",
    "\n",
    "As expected, we obtain the formula for the $x$-component of the Archimedean spiral if we set $C_1=C_2=0$. We remind that we have just computed the integral of the first derivative of the $x$-component. Now, we will compare the obtained result with the formula $5.2.20$ using the numerical sequence:\n",
    "\n",
    "$$ \\frac{d^0x}{dt^0} = v\\omega^{-1} \\left( 0 D_{(0)\\text{mod}4} - \\omega tD_{(-1)\\text{mod}4}\\right), \\quad\\quad\\quad\\quad (5.2.40)$$\n",
    "\n",
    "$$ \\frac{d^0x}{dt^0} = v\\omega^{-1} \\left( 0 D_0 - \\omega tD_3\\right), \\quad\\quad\\quad\\quad (5.2.40)$$\n",
    "\n",
    "$$ \\frac{d^0x}{dt^0} = v\\omega^{-1} \\left( 0 sin(k\\frac{\\pi}{2} + \\omega t)  - \\omega t(-cos(k\\frac{\\pi}{2} + \\omega t))\\right), \\quad\\quad\\quad\\quad (5.2.41)$$\n",
    "\n",
    "$$ \\frac{d^0x}{dt^0} = vtcos(k\\frac{\\pi}{2} + \\omega t). \\quad\\quad\\quad\\quad (5.2.42)$$\n",
    "\n",
    "We see that the modular division in the indices of the sequence selects the correct term. This formula also has the advantage of not computing integration constants, despite yielding the same result as standard integration.\n",
    "\n",
    "Let's finally check for $n<0$. Let's integrate $5.2.42$.\n",
    "\n",
    "$$ \\int \\frac{d^0x}{dt^0}dt = \\int vtcos(k\\frac{\\pi}{2} + \\omega t)dt, \\quad\\quad\\quad\\quad (5.2.43)$$\n",
    "\n",
    "$$ \\int \\frac{d^0x}{dt^0}dt = \\frac{v}{\\omega^2}\n",
    "\\left(\n",
    "cos(k\\frac{\\pi}{2} + \\omega t) + \\omega tsin(k\\frac{\\pi}{2} + \\omega t)\n",
    "\\right)  + C_1 + C_2. \\quad\\quad\\quad\\quad (5.2.44)$$\n",
    "\n",
    "$$ \\frac{d^{-1}x}{dt^{-1}} = v\\omega^{-2} \\left(-1 D_{(-1)\\text{mod}4} - \\omega tD_{(-1-1)\\text{mod}4} \\right), \\quad\\quad\\quad\\quad (5.2.45)$$\n",
    "\n",
    "$$ \\frac{d^{-1}x}{dt^{-1}} = v\\omega^{-2} \\left(-1 D_3 - \\omega tD_2 \\right), \\quad\\quad\\quad\\quad (5.2.46)$$\n",
    "\n",
    "$$ D_3 = -cos(k\\frac{\\pi}{2} + \\omega t), \\quad\\quad\\quad\\quad (5.2.46)$$\n",
    "\n",
    "$$ D_2 = -sin(k\\frac{\\pi}{2} + \\omega t). \\quad\\quad\\quad\\quad (5.2.47)$$\n",
    "\n",
    "Again, if we assume $C_1=C_2=0$, then:\n",
    "\n",
    "$$ \\int \\frac{d^0x}{dt^0}dt = v\\omega^{-2} \\left(-1 D_3 - \\omega tD_2 \\right), \\quad\\quad\\quad\\quad (5.2.48)$$\n",
    "\n",
    "or more general:\n",
    "\n",
    "$$ \\int \\frac{d^nx}{dt^n}dt = v\\omega^{n-1} \\left((n-1) D_{(n-1)\\text{mod}4} - \\omega tD_{(n-2)\\text{mod}4} \\right), \\quad\\quad\\quad\\quad (5.2.49)$$\n",
    "\n",
    "$$ \\int \\frac{d^my}{dt^m}dt = v\\omega^{m-1} \\left((m-1) D_{(m-2)\\text{mod}4} + \\omega tD_{(m-1)\\text{mod}4} \\right). \\quad\\quad\\quad\\quad (5.2.50)$$\n",
    "\n",
    "Now let's discuss why we can eliminate integration constants when integrating. As we have seen, the cyclic nature of the derivatives of the sine function allows the differentiation process to continue indefinitely. The same applies in the opposite direction with integration.\n",
    "\n",
    "This means that any given link $n$ in this infinite chain can be obtained in two ways - either by differentiating $n-1$, or by integrating from $n+1$. It depends on where we start in order to reach $n$. However, the formula for the $n$-th derivative with an arbitrary numerical sequence allows this derivative to be found directly by substitution, instead of through the tedious and often quite cumbersome process of differentiation or integration.\n",
    "\n",
    "Indeed, if we decide to define the spiral $S^{-11, -11}_{(t)}$, starting from $S^{0, 0}_{(t)}$, we would need to perform integration by parts eleven times.\n",
    "\n",
    "Let's still examine the role of the integration constant in parameterized spirals. We will integrate both components of the spiral $S^{1, 1}_{(t)}$ and obtain the Archimedean spiral $S^{0, 0}_{(t)}$. Let $C_1 + C_2 = 1$ for both components."
   ]
  },
  {
   "cell_type": "code",
   "execution_count": 82,
   "id": "bee6359f-54f8-4cf5-ba64-cbc21f572576",
   "metadata": {},
   "outputs": [
    {
     "data": {
      "text/html": [
       "\n",
       "    <div style=\"display: flex; justify-content: center; align-items: center; height: 300px;\">\n",
       "        <img src=\"Images/fig206.png\" style=\"width: 562px; height: 300px;\">\n",
       "        <div style=\"position: absolute; top: 0px; right: 80px; color: black; font-size: 14px; background-color: rgba(255, 255, 255, 0.7); padding:           5px; border-radius: 5px;\">\n",
       "            Fig.206\n",
       "        </div>\n",
       "    </div>\n",
       "    "
      ],
      "text/plain": [
       "<IPython.core.display.HTML object>"
      ]
     },
     "execution_count": 82,
     "metadata": {},
     "output_type": "execute_result"
    }
   ],
   "source": [
    "load_image('fig206')"
   ]
  },
  {
   "cell_type": "markdown",
   "id": "9e45a2db-1e61-4725-8358-040c42c0fb5a",
   "metadata": {},
   "source": [
    "As seen, the integration constant shifts the starting point of the spiral to the point $(1,1)$. Since the primary goal of the formula for parameterized spirals is to define curves, we can assume that we define them centered at the origin of the coordinate system. Therefore, we can disregard the integration constant by setting it to zero."
   ]
  },
  {
   "cell_type": "code",
   "execution_count": null,
   "id": "13fb9591-3ff2-4a79-99e4-842ef586d8ba",
   "metadata": {},
   "outputs": [],
   "source": []
  },
  {
   "cell_type": "markdown",
   "id": "b3f35119-6ba8-433d-aaea-f27abaf96aee",
   "metadata": {},
   "source": [
    "Nothing forces $n = m$. When $n = m$ spirals closely resemble the Archimedean spiral. Above, we have shown $S^{1, 1}_{(t)}$. The strange-looking spirals are when $n \\ne m$. Here are a few examples."
   ]
  },
  {
   "cell_type": "code",
   "execution_count": 6,
   "id": "6cb4aca8-2604-4c40-86f1-820d99d5e334",
   "metadata": {},
   "outputs": [
    {
     "data": {
      "text/html": [
       "<div style='display: flex; justify-content: space-between;'>\n",
       "        <div style=\"text-align: center; margin: 0 10px;\">\n",
       "            <img src=\"Images/fig206.png\" style=\"width: 375px; height: 200px;\">\n",
       "            <div style=\"color: black; font-size: 14px; background-color: rgba(255, 255, 255, 0.7); padding: 5px; border-radius: 5px;\">\n",
       "                Fig.206\n",
       "            </div>\n",
       "        </div>\n",
       "        \n",
       "        <div style=\"text-align: center; margin: 0 10px;\">\n",
       "            <img src=\"Images/fig207.png\" style=\"width: 375px; height: 200px;\">\n",
       "            <div style=\"color: black; font-size: 14px; background-color: rgba(255, 255, 255, 0.7); padding: 5px; border-radius: 5px;\">\n",
       "                Fig.207\n",
       "            </div>\n",
       "        </div>\n",
       "        </div>"
      ],
      "text/plain": [
       "<IPython.core.display.HTML object>"
      ]
     },
     "metadata": {},
     "output_type": "display_data"
    }
   ],
   "source": [
    "display(load_images([('fig206', 'left'), ('fig207', 'right')]))"
   ]
  },
  {
   "cell_type": "markdown",
   "id": "775aade0-a295-4522-bd84-a9faffa57a05",
   "metadata": {},
   "source": [
    "Here we have an elliptical spiral $S^{0, 2}_{(t)}$, whose minor and major axes are oriented along the abscissa and ordinate, respectively. In the t-diagram, it is very evident that the magnitude of the radius vector varies sinusoidally, despite the radial velocity being constant."
   ]
  },
  {
   "cell_type": "code",
   "execution_count": 8,
   "id": "e2caf9db-5968-43ea-8865-c224aceae492",
   "metadata": {},
   "outputs": [
    {
     "data": {
      "text/html": [
       "<div style='display: flex; justify-content: space-between;'>\n",
       "        <div style=\"text-align: center; margin: 0 10px;\">\n",
       "            <img src=\"Images/fig208.png\" style=\"width: 375px; height: 200px;\">\n",
       "            <div style=\"color: black; font-size: 14px; background-color: rgba(255, 255, 255, 0.7); padding: 5px; border-radius: 5px;\">\n",
       "                Fig.208\n",
       "            </div>\n",
       "        </div>\n",
       "        \n",
       "        <div style=\"text-align: center; margin: 0 10px;\">\n",
       "            <img src=\"Images/fig209.png\" style=\"width: 375px; height: 200px;\">\n",
       "            <div style=\"color: black; font-size: 14px; background-color: rgba(255, 255, 255, 0.7); padding: 5px; border-radius: 5px;\">\n",
       "                Fig.209\n",
       "            </div>\n",
       "        </div>\n",
       "        </div>"
      ],
      "text/plain": [
       "<IPython.core.display.HTML object>"
      ]
     },
     "metadata": {},
     "output_type": "display_data"
    }
   ],
   "source": [
    "display(load_images([('fig208', 'left'), ('fig209', 'right')]))"
   ]
  },
  {
   "cell_type": "markdown",
   "id": "f328616c-3bb0-463a-a32c-89b362e263b7",
   "metadata": {},
   "source": [
    "$S^{3, 1}_{(t)}$ is also an elliptical spiral, but with the opposite axis orientation compared to the previous spiral."
   ]
  },
  {
   "cell_type": "code",
   "execution_count": 10,
   "id": "e6c31c23-0aee-4108-b26f-77321fcb09f7",
   "metadata": {},
   "outputs": [
    {
     "data": {
      "text/html": [
       "<div style='display: flex; justify-content: space-between;'>\n",
       "        <div style=\"text-align: center; margin: 0 10px;\">\n",
       "            <img src=\"Images/fig210.png\" style=\"width: 375px; height: 200px;\">\n",
       "            <div style=\"color: black; font-size: 14px; background-color: rgba(255, 255, 255, 0.7); padding: 5px; border-radius: 5px;\">\n",
       "                Fig.210\n",
       "            </div>\n",
       "        </div>\n",
       "        \n",
       "        <div style=\"text-align: center; margin: 0 10px;\">\n",
       "            <img src=\"Images/fig211.png\" style=\"width: 375px; height: 200px;\">\n",
       "            <div style=\"color: black; font-size: 14px; background-color: rgba(255, 255, 255, 0.7); padding: 5px; border-radius: 5px;\">\n",
       "                Fig.211\n",
       "            </div>\n",
       "        </div>\n",
       "        </div>"
      ],
      "text/plain": [
       "<IPython.core.display.HTML object>"
      ]
     },
     "metadata": {},
     "output_type": "display_data"
    }
   ],
   "source": [
    "display(load_images([('fig210', 'left'), ('fig211', 'right')]))"
   ]
  },
  {
   "cell_type": "markdown",
   "id": "56afbd9b-95b4-4a06-9b59-f0b553b99238",
   "metadata": {},
   "source": [
    "Above, in the definition of parameterized spirals, we specified $n$ and $m$ as belonging to the set of integers. Now, we will show that the formulas for the derivatives hold even for $n, m < 0$. Let us consider $5.1.1$.\n",
    "\n",
    "$$ x(t) = vtcos(k\\frac{\\pi}{2} + \\omega t),\\quad\\quad\\quad\\quad (5.1.1)$$"
   ]
  },
  {
   "cell_type": "markdown",
   "id": "122400ec-d7ef-4330-a16a-8b2a1cce203c",
   "metadata": {},
   "source": [
    "$$\\int vtcos(k\\frac{\\pi}{2} + \\omega t) = \\frac{vtsin(k\\frac{\\pi}{2} + \\omega t)}{\\omega} - \n",
    "\\int \\frac{vsin(k\\frac{\\pi}{2} + \\omega t)}{\\omega}dt$$\n",
    "\n",
    "$$\\int vtcos(k\\frac{\\pi}{2} + \\omega t) = \\frac{vtsin(k\\frac{\\pi}{2} + \\omega t)}{\\omega} - \n",
    "\\frac{vcos(k\\frac{\\pi}{2} + \\omega t)}{\\omega^2}$$\n",
    "\n",
    "$$\\int vtcos(k\\frac{\\pi}{2} + \\omega t) = \\frac{vtsin(k\\frac{\\pi}{2} + \\omega t)}{\\omega} + \n",
    "\\frac{vcos(k\\frac{\\pi}{2} + \\omega t)}{\\omega}$$"
   ]
  }
 ],
 "metadata": {
  "kernelspec": {
   "display_name": "Python 3 (ipykernel)",
   "language": "python",
   "name": "python3"
  },
  "language_info": {
   "codemirror_mode": {
    "name": "ipython",
    "version": 3
   },
   "file_extension": ".py",
   "mimetype": "text/x-python",
   "name": "python",
   "nbconvert_exporter": "python",
   "pygments_lexer": "ipython3",
   "version": "3.9.13"
  }
 },
 "nbformat": 4,
 "nbformat_minor": 5
}
