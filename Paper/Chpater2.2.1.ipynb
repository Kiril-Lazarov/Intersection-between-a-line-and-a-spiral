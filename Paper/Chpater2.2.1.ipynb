{
 "cells": [
  {
   "cell_type": "code",
   "execution_count": 2,
   "id": "3fce98d7-b41d-45b5-b86f-3f008e1d9cc6",
   "metadata": {},
   "outputs": [],
   "source": [
    "from IPython.display import HTML\n",
    "from image_functions import *"
   ]
  },
  {
   "cell_type": "markdown",
   "id": "c832bc82-1e24-49b6-9af4-810978ac9663",
   "metadata": {},
   "source": [
    "### <center> 2.2.1 Limitations of the Length-based algorithm"
   ]
  },
  {
   "cell_type": "markdown",
   "id": "c030506d-8a25-4fe3-a4f9-3285dd8ab6f4",
   "metadata": {},
   "source": [
    "Let's recall the schematic formula of the method, including the two algorithms and the algebraic verification.\n",
    "\n",
    "$$\\lim_{n, m \\to \\infty} \\left\\{ t_{[n; m]} \\right\\} = \n",
    "\\overline{NSwitch_{(n)}^{[0,1]}}\\text{LB-Alg} +\n",
    "NSwitch_{(n)}^{[0,1]}\\text{AB-Alg}, \\quad n, m \\ge 0.  \\quad\\quad\\quad\\quad (2.2.7)$$\n",
    "\n",
    "Let's see how it looks in algebraic form.\n",
    "\n",
    "$$\\lim_{n, m \\to \\infty} \\left\\{ t_{[n; m]} \\right\\} = \n",
    "\\left( 1 - \\frac{n}{E_{(n)}} \\right)\n",
    "\\left(  \\frac{|x_l|}\n",
    "{E_{(v)}\\cos(\\arctan(|\\frac{y_s(t_{[0;m-1]})}{E_{(x_s(t_{[0;m-1]}))}}|))} \\right) +\\\\\n",
    "\\left( \\frac{n}{E_{(n)}} \\right)\n",
    "\\left(  t_{[n; m-1]} +\n",
    "S_{(|x_l| - |x_s(t_{[n; m-1]})|)}\n",
    "S_{(\\omega x_l y_s(t_{[n; m-1]}))}\n",
    "\\frac{\\Delta \\phi_m(t_{[n; m-1]}, x_l, v, \\omega, k)}\n",
    "{|E_{(\\omega)}|} \\right). \\quad n, m \\ge 0.  \\quad\\quad\\quad\\quad (2.2.1.1)$$\n",
    "\n",
    "\n",
    "All adjustments we will introduce to the length algorithm will be placed as coefficients before it in formula 2.2.7. Moving forward, we will use this formula as it is shorter and clearer.\n",
    "\n",
    "\n",
    "The first constraint we will examine concerns the problem of determining when a zero intersection point should be calculated and when it should not."
   ]
  }
 ],
 "metadata": {
  "kernelspec": {
   "display_name": "Python 3 (ipykernel)",
   "language": "python",
   "name": "python3"
  },
  "language_info": {
   "codemirror_mode": {
    "name": "ipython",
    "version": 3
   },
   "file_extension": ".py",
   "mimetype": "text/x-python",
   "name": "python",
   "nbconvert_exporter": "python",
   "pygments_lexer": "ipython3",
   "version": "3.9.13"
  }
 },
 "nbformat": 4,
 "nbformat_minor": 5
}
