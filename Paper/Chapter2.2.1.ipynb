{
 "cells": [
  {
   "cell_type": "code",
   "execution_count": 1,
   "id": "3fce98d7-b41d-45b5-b86f-3f008e1d9cc6",
   "metadata": {},
   "outputs": [],
   "source": [
    "from IPython.display import HTML\n",
    "from image_functions import *"
   ]
  },
  {
   "cell_type": "markdown",
   "id": "c832bc82-1e24-49b6-9af4-810978ac9663",
   "metadata": {},
   "source": [
    "### <center> 2.2.1 Limitations of the Length-based algorithm"
   ]
  },
  {
   "cell_type": "markdown",
   "id": "c030506d-8a25-4fe3-a4f9-3285dd8ab6f4",
   "metadata": {},
   "source": [
    "Let's recall the schematic formula of the method, including the two algorithms and the algebraic verification.\n",
    "\n",
    "$$\\lim_{n, m \\to \\infty} \\left\\{ t_{[n; m]} \\right\\} = \n",
    "\\overline{NSwitch_{(n)}^{[0 \\vee  1]}}\\text{LB-Alg} +\n",
    "NSwitch_{(n)}^{[0 \\vee  1]}\\text{AB-Alg}, \\quad n, m \\ge 0.  \\quad\\quad\\quad\\quad (2.2.7)$$\n",
    "\n",
    "Let's see how it looks in algebraic form.\n",
    "\n",
    "$$\\lim_{n, m \\to \\infty} \\left\\{ t_{[n; m]} \\right\\} = \n",
    "\\left( 1 - \\frac{n}{E_{(n)}} \\right)\n",
    "\\left(  \\frac{|x_l|}\n",
    "{E_{(v)}\\cos(\\arctan(|\\frac{y_s(t_{[0;m-1]})}{E_{(x_s(t_{[0;m-1]}))}}|))} \\right) +\\\\\n",
    "\\left( \\frac{n}{E_{(n)}} \\right)\n",
    "\\left(  t_{[n; m-1]} +\n",
    "S_{(|x_l| - |x_s(t_{[n; m-1]})|)}\n",
    "S_{(\\omega x_l y_s(t_{[n; m-1]}))}\n",
    "\\frac{\\Delta \\phi_m(t_{[n; m-1]}, x_l, v, \\omega, k)}\n",
    "{|E_{(\\omega)}|} \\right), \\quad n, m \\ge 0.  \\quad\\quad\\quad\\quad (2.2.1.1)$$\n",
    "\n",
    "\n",
    "All adjustments we will introduce to the length algorithm will be placed as coefficients before it in formula 2.2.7. Moving forward, we will use this formula as it is shorter and clearer.\n",
    "\n",
    "\n",
    "The first constraint we will examine concerns the problem of determining when a zero intersection point should be calculated and when it should not.\n",
    "\n",
    "For this purpose, in the upcoming images, we will display the equation for the two-dimensional sequence schematically at the top."
   ]
  },
  {
   "cell_type": "code",
   "execution_count": 2,
   "id": "bc0b455c-d29c-4a41-9848-d471c18059df",
   "metadata": {},
   "outputs": [
    {
     "data": {
      "text/html": [
       "\n",
       "    <div style=\"display: flex; justify-content: center; align-items: center; height: 300px;\">\n",
       "        <img src=\"Images/fig72.png\" style=\"width: 562px; height: 300px;\">\n",
       "        <div style=\"position: absolute; top: 0px; right: 80px; color: black; font-size: 14px; background-color: rgba(255, 255, 255, 0.7); padding:           5px; border-radius: 5px;\">\n",
       "            Fig.72\n",
       "        </div>\n",
       "    </div>\n",
       "    "
      ],
      "text/plain": [
       "<IPython.core.display.HTML object>"
      ]
     },
     "execution_count": 2,
     "metadata": {},
     "output_type": "execute_result"
    }
   ],
   "source": [
    "load_image('fig72')"
   ]
  },
  {
   "cell_type": "markdown",
   "id": "b06320c8-a716-46a8-bcd7-279229f7cbd8",
   "metadata": {},
   "source": [
    "In the figure above, the equation is shown as the sum of the two algorithms $\\text{LB-Alg}$ and $\\text{AB-Alg}$, along with the names of the two algebraic checks – $\\text{~NSwitch}$ and $\\text{NSwitch}$, respectively. The algebraic checks with a result of $1$ are marked in green, while those with a result of $0$ are marked in red. Which of the two algorithms will execute the formula depends on the product of the algebraic checks placed as factors before it. Above, we see that $\\text{LB-Alg}$ is green because the check $\\text{~NSwitch}$ before it is green. Similarly, $\\text{AB-Alg}$ is red because $\\text{NSwitch}$ is red.\n",
    "\n",
    "If we substitute the results of the algebraic checks into 2.2.1.1, then we will have:\n",
    "\n",
    "$$\\lim_{n, m \\to \\infty} \\left\\{ t_{[n; m]} \\right\\} = \n",
    "1\n",
    "\\left(  \\frac{|x_l|}\n",
    "{E_{(v)}\\cos(\\arctan(|\\frac{y_s(t_{[0;m-1]})}{E_{(x_s(t_{[0;m-1]}))}}|))} \\right) +\\\\\n",
    "0\n",
    "\\left(  t_{[n; m-1]} +\n",
    "S_{(|x_l| - |x_s(t_{[n; m-1]})|)}\n",
    "S_{(\\omega x_l y_s(t_{[n; m-1]}))}\n",
    "\\frac{\\Delta \\phi_m(t_{[n; m-1]}, x_l, v, \\omega, k)}\n",
    "{|E_{(\\omega)}|} \\right), \\quad n, m \\ge 0.  \\quad\\quad\\quad\\quad (2.2.1.2)$$\n",
    "\n",
    "In the next image, we have the opposite situation because we have $n=1$."
   ]
  },
  {
   "cell_type": "code",
   "execution_count": 3,
   "id": "8b4d4174-17f3-4801-b479-8eb32dcae726",
   "metadata": {},
   "outputs": [
    {
     "data": {
      "text/html": [
       "\n",
       "    <div style=\"display: flex; justify-content: center; align-items: center; height: 300px;\">\n",
       "        <img src=\"Images/fig73.png\" style=\"width: 562px; height: 300px;\">\n",
       "        <div style=\"position: absolute; top: 0px; right: 80px; color: black; font-size: 14px; background-color: rgba(255, 255, 255, 0.7); padding:           5px; border-radius: 5px;\">\n",
       "            Fig.73\n",
       "        </div>\n",
       "    </div>\n",
       "    "
      ],
      "text/plain": [
       "<IPython.core.display.HTML object>"
      ]
     },
     "execution_count": 3,
     "metadata": {},
     "output_type": "execute_result"
    }
   ],
   "source": [
    "load_image('fig73')"
   ]
  },
  {
   "cell_type": "markdown",
   "id": "78075ccc-bb3b-4108-a827-bdfa92a995fd",
   "metadata": {},
   "source": [
    "A problem with $\\text{LB-Alg}$ arises when we position the line on the other side of the $x$-axis."
   ]
  },
  {
   "cell_type": "code",
   "execution_count": 4,
   "id": "d338e01a-6c18-4e2b-8656-5213a6a96173",
   "metadata": {},
   "outputs": [
    {
     "data": {
      "text/html": [
       "\n",
       "    <div style=\"display: flex; justify-content: center; align-items: center; height: 300px;\">\n",
       "        <img src=\"Images/fig74.png\" style=\"width: 562px; height: 300px;\">\n",
       "        <div style=\"position: absolute; top: 0px; right: 80px; color: black; font-size: 14px; background-color: rgba(255, 255, 255, 0.7); padding:           5px; border-radius: 5px;\">\n",
       "            Fig.74\n",
       "        </div>\n",
       "    </div>\n",
       "    "
      ],
      "text/plain": [
       "<IPython.core.display.HTML object>"
      ]
     },
     "execution_count": 4,
     "metadata": {},
     "output_type": "execute_result"
    }
   ],
   "source": [
    "load_image('fig74')"
   ]
  },
  {
   "cell_type": "markdown",
   "id": "95dfa8a1-1d26-44ef-b7ab-5d32f229fccc",
   "metadata": {},
   "source": [
    "In this configuration, the line is positioned behind the first intersection point of the spiral, and $\\text{LB-Alg}$ should not calculate a zero intersection point. However, it does calculate such a point because $\\text{~NSwitch}$ returns 1, and it operates with the absolute value of $x_l$. To address this issue, it is necessary to introduce an additional **algebraic check** as a multiplier in front of it. Its function is to disable the algorithm if the line is located on the opposite side of the first loop of the spiral. \n",
    "\n",
    "We will call this **algebraic check** $KL_{(k,x_l)}^{[0,1]}$ as it will take the initial angular coefficient $k$ and the position of the vertical line $x_l$ as arguments. It will be a more complex check, as it will need to verify whether the value of $k$ falls within a given interval and simultaneously check the sign of $x_l$.\n",
    "\n",
    "To construct an interval for verification, we need to extend the function of the sign $S_{(x)}^{[-1 \\vee  0 \\vee  1]}$ and compose a product of multiple extended functions $S_{(x)}^{[-1 \\vee  0 \\vee  1]}$. Let us recall the definition.\n",
    "\n",
    "$$S_{(x)}^{[-1 \\vee  0 \\vee  1]} = \\frac{x}{|E_{(x)}^{[1 \\vee  x]}|}. \\quad\\quad\\quad\\quad(1.2.1.28)$$\n",
    "\n",
    "$$S_{(x)}^{[-1 \\vee  0 \\vee  1]} = 1, \\quad x > 0, \\quad\\quad\\quad\\quad(1.2.1.29)$$\n",
    "\n",
    "$$S_{(x)}^{[-1 \\vee  0 \\vee  1]} = -1, \\quad x < 0,  \\quad\\quad\\quad\\quad(1.2.1.30)$$\n",
    "\n",
    "$$S_{(x)}^{[-1 \\vee  0 \\vee  1]} = 0, \\quad x = 0.  \\quad\\quad\\quad\\quad(1.2.1.31)$$\n",
    "\n",
    "Defined in this way, the function returns the signs of the argument relative to zero. If we want it to return the signs relative to another number, we can achieve this as follows:\n",
    "\n",
    "$$S_{(x-a)}^{[-1 \\vee  0 \\vee  1]} = \\frac{x-a}{|E_{(x-a)}|}. \\quad\\quad\\quad\\quad(2.2.1.3)$$\n",
    "\n",
    "$$S_{(x-a)}^{[-1 \\vee  0 \\vee  1]} = 1, \\quad x > a, \\quad\\quad\\quad\\quad(2.2.1.4)$$\n",
    "\n",
    "$$S_{(x-a)}^{[-1 \\vee  0 \\vee  1]} = -1, \\quad x < a,  \\quad\\quad\\quad\\quad(2.2.1.5)$$\n",
    "\n",
    "$$S_{(x-a)}^{[-1 \\vee  0 \\vee  1]} = 0, \\quad x = a,  \\quad\\quad\\quad\\quad(2.2.1.6)$$\n",
    "\n",
    "where $a \\in \\mathbb{R}$.\n",
    "\n",
    "Now, we need to determine where the initial angle is located relative to the $y$-axis. For the vertical line, it is sufficient to determine the sign of $x_l$ through an algebraic check. For the coefficient $k$, it is slightly more complicated to determine on which side of the $y$-axis it is located due to the domain of definition of $k$, which accepts only non-negative values - $ 0 \\le k < 4$. The coefficient $k$ is located to the left of the $y$-axis when $1 < k < 3$ and to the right of the $y$-axis when $0 \\le k < 1$ or  $3 < k < 4$. For this purpose, we will construct a check that answers the question of whether $1 < k < 3$. We define two separate sign functions, respectively for 1 and 3. The tables below show the values they return in both cases."
   ]
  },
  {
   "cell_type": "code",
   "execution_count": 5,
   "id": "b2308dfa-8417-4710-ad95-d9189e9c746e",
   "metadata": {},
   "outputs": [
    {
     "data": {
      "text/html": [
       "\n",
       "    <div style=\"display: flex; flex-direction: column; justify-content: center; align-items: center; width: 100%;\">\n",
       "        <h3>Sign of $k$ relative to 1</h3>\n",
       "        <table border=\"1\" style=\"border-collapse: collapse; text-align: center; width: 70%; font-size: 13px;\">\n",
       "            <tr>\n",
       "                <th></th>\n",
       "                <th>$k<1$</th>\n",
       "                <th>$k=1$</th>\n",
       "                <th>$k>1$</th>\n",
       "                 \n",
       "            </tr>\n",
       "            <tr>\n",
       "                <th>$\\frac{k-1}{|E_{(k-1)}|}$</th>\n",
       "                <td>-1</td>\n",
       "                <td>$0$</td>\n",
       "                <td>$1$</td>         \n",
       "            </tr>\n",
       "        </table>\n",
       "        Fig.75\n",
       "    </div>\n",
       "    "
      ],
      "text/plain": [
       "<IPython.core.display.HTML object>"
      ]
     },
     "metadata": {},
     "output_type": "display_data"
    }
   ],
   "source": [
    "k_relative_num_table(1, 75)"
   ]
  },
  {
   "cell_type": "code",
   "execution_count": 6,
   "id": "3d8ac5c3-abcc-4b43-a6d4-6ba7ef3ecce9",
   "metadata": {},
   "outputs": [
    {
     "data": {
      "text/html": [
       "\n",
       "    <div style=\"display: flex; flex-direction: column; justify-content: center; align-items: center; width: 100%;\">\n",
       "        <h3>Sign of $k$ relative to 3</h3>\n",
       "        <table border=\"1\" style=\"border-collapse: collapse; text-align: center; width: 70%; font-size: 13px;\">\n",
       "            <tr>\n",
       "                <th></th>\n",
       "                <th>$k<3$</th>\n",
       "                <th>$k=3$</th>\n",
       "                <th>$k>3$</th>\n",
       "                 \n",
       "            </tr>\n",
       "            <tr>\n",
       "                <th>$\\frac{k-3}{|E_{(k-3)}|}$</th>\n",
       "                <td>-1</td>\n",
       "                <td>$0$</td>\n",
       "                <td>$1$</td>         \n",
       "            </tr>\n",
       "        </table>\n",
       "        Fig.76\n",
       "    </div>\n",
       "    "
      ],
      "text/plain": [
       "<IPython.core.display.HTML object>"
      ]
     },
     "metadata": {},
     "output_type": "display_data"
    }
   ],
   "source": [
    "k_relative_num_table(3, 76)"
   ]
  },
  {
   "cell_type": "markdown",
   "id": "3ff3d974-9739-483b-b1d6-9eb0c040544e",
   "metadata": {},
   "source": [
    "To reduce the results of the two checks to two possible outcomes - 1 ор 0 -  we construct the product of the two checks as follows:\n",
    "$$ K_{((k-1)(k-3))}^{[0 \\vee  1]} = \\lfloor \\frac{1+\\frac{(k-1)(k-3)}{E_{((k-1)(k-3))}}}{2} \\rfloor.   \\quad\\quad\\quad\\quad(2.2.1.6)$$\n"
   ]
  },
  {
   "cell_type": "code",
   "execution_count": 7,
   "id": "cd9fc811-16fe-4166-ac03-8efcb1a4fa90",
   "metadata": {},
   "outputs": [
    {
     "data": {
      "text/html": [
       "\n",
       "    <div style=\"display: flex; flex-direction: column; justify-content: center; align-items: center; width: 100%;\">\n",
       "        <h3>$k$ relative to ordinate axis</h3>\n",
       "        <table border=\"1\" style=\"border-collapse: collapse; text-align: center; width: 85%; font-size: 13px;\">\n",
       "            <tr>\n",
       "                <th>$K$</th>\n",
       "                <th>$0 \\leq k < 1$</th>\n",
       "                <th>$ k = 1 $</th>\n",
       "                <th>$1 < k < 3$</th>\n",
       "                <th>$k=3$</th>\n",
       "                <th>$ 3 < k $</th>\n",
       "                 \n",
       "            </tr>\n",
       "  \n",
       "                <th>$\\lfloor \\frac{1+\\frac{(k-1)(k-3)}{E_{((k-1)(k-3))}}}{2} \\rfloor$</th>\n",
       "                <th>$1$</th>\n",
       "                <th>$0$</th>\n",
       "                <th>$0$</th>\n",
       "                <th>$0$</th>\n",
       "                <th>$1$</th>                \n",
       "            </tr>\n",
       "\n",
       "\n",
       "        </table>\n",
       "        Fig.77\n",
       "    </div>\n",
       "    "
      ],
      "text/plain": [
       "<IPython.core.display.HTML object>"
      ]
     },
     "metadata": {},
     "output_type": "display_data"
    }
   ],
   "source": [
    "k_relative_to_ordinate_axis_table()"
   ]
  },
  {
   "cell_type": "markdown",
   "id": "98d5c9d0-6669-4489-9c21-7e62d06532d8",
   "metadata": {},
   "source": [
    "\n",
    "The table shows that the check $K_{((k-1)(k-3))}^{[0 \\vee  1]}$ responds negatively (0) to the question of whether $1 < k < 3$ and positively (1) to whether $0 \\le k < 1$ or  $3 < k < 4$. For the boundary cases - $k=1$ and $k=3$ - the answer is also 0, as  the initial angle lies on the ordinate axis. This is an issue we will address later.\n",
    "\n",
    "After determining through an **algebraic check** where the initial angle lies in relation to the ordinate axis, the next step is to determine whether the vertical line is on the same side relative to the ordinate. For this purpose, we simply add $x_l$ as a multiplier in the check $K_{((k-1)(k-3))}^{[0 \\vee  1]}$ and then we have:\n",
    "\n",
    "$$ KL_{(k, x_l)}^{[0 \\vee  1]} = \\lfloor \\frac{1+\\frac{x_l(k-1)(k-3)}{E_{(x_l(k-1)(k-3))}}}{2} \\rfloor.   \\quad\\quad\\quad\\quad(2.2.1.7)$$\n",
    "\n",
    "The table below shows the intervals of $k$ and $x_l$ by columns and rows, and in the individual cells, the result of the $ KL_{(k, x_l)}^{[0 \\vee  1]}$ check."
   ]
  },
  {
   "cell_type": "code",
   "execution_count": 8,
   "id": "48fb15c8-c9d6-4932-87bb-c25a65ba31ad",
   "metadata": {},
   "outputs": [
    {
     "data": {
      "text/html": [
       "\n",
       "    <div style=\"display: flex; flex-direction: column; justify-content: center; align-items: center; width: 100%;\">\n",
       "        <h3>$kl$ match</h3>\n",
       "        <table border=\"1\" style=\"border-collapse: collapse; text-align: center; width: 85%; font-size: 13px;\">\n",
       "            <tr>\n",
       "                <th></th>\n",
       "                <th>$0 \\leq k < 1$</th>\n",
       "                <th>$ k = 1 $</th>\n",
       "                <th>$1 < k < 3$</th>\n",
       "                <th>$k=3$</th>\n",
       "                <th>$ 3 < k $</th>\n",
       "                 \n",
       "            </tr>\n",
       "                <th>$x_l<0$</th>\n",
       "                <th>$0$</th>\n",
       "                <th>$0$</th>\n",
       "                <th>$1$</th>\n",
       "                <th>$0$</th>\n",
       "                <th>$0$</th>\n",
       "                \n",
       "            </tr>\n",
       "            </tr>\n",
       "                <th>$x_l=0$</th>\n",
       "                <th>$0$</th>\n",
       "                <th>$0$</th>\n",
       "                <th>$0$</th>\n",
       "                <th>$0$</th>\n",
       "                <th>$0$</th>\n",
       "                \n",
       "            </tr>\n",
       "            </tr>\n",
       "                <th>$x_l>0$</th>\n",
       "                <th>$1$</th>\n",
       "                <th>$0$</th>\n",
       "                <th>$0$</th>\n",
       "                <th>$0$</th>\n",
       "                <th>$1$</th>\n",
       "                \n",
       "            </tr>\n",
       "\n",
       "\n",
       "        </table>\n",
       "        Fig.78\n",
       "    </div>\n",
       "    "
      ],
      "text/plain": [
       "<IPython.core.display.HTML object>"
      ]
     },
     "metadata": {},
     "output_type": "display_data"
    }
   ],
   "source": [
    "kl_match_table()"
   ]
  },
  {
   "cell_type": "markdown",
   "id": "a4632c9a-861b-44c8-afe5-39bd77c53ce9",
   "metadata": {},
   "source": [
    "Now we will add the check to equation 2.2.7.\n",
    "\n",
    "$$\\lim_{n, m \\to \\infty} \\left\\{ t_{[n; m]} \\right\\} = \n",
    "\\overline{NSwitch_{(n)}^{[0 \\vee  1]}}\n",
    "KL_{(k, x_l)}^{[0 \\vee  1]}\n",
    "\\text{LB-Alg} +\n",
    "NSwitch_{(n)}^{[0 \\vee  1]}\\text{AB-Alg}, \\quad n, m \\ge 0.  \\quad\\quad\\quad\\quad (2.2.1.8)$$\n",
    "\n",
    "Let's see how the check $KL_{(k, x_l)}^{[0 \\vee  1]}$ works."
   ]
  },
  {
   "cell_type": "code",
   "execution_count": 9,
   "id": "ff3d146b-30af-4370-b9b1-ba668ce5afe5",
   "metadata": {},
   "outputs": [
    {
     "data": {
      "text/html": [
       "\n",
       "    <div style=\"display: flex; justify-content: center; align-items: center; height: 300px;\">\n",
       "        <img src=\"Images/fig79.png\" style=\"width: 562px; height: 300px;\">\n",
       "        <div style=\"position: absolute; top: 0px; right: 80px; color: black; font-size: 14px; background-color: rgba(255, 255, 255, 0.7); padding:           5px; border-radius: 5px;\">\n",
       "            Fig.79\n",
       "        </div>\n",
       "    </div>\n",
       "    "
      ],
      "text/plain": [
       "<IPython.core.display.HTML object>"
      ]
     },
     "execution_count": 9,
     "metadata": {},
     "output_type": "execute_result"
    }
   ],
   "source": [
    "load_image('fig79')"
   ]
  },
  {
   "cell_type": "markdown",
   "id": "171971e2-40bc-4baf-aa19-75636ddab967",
   "metadata": {},
   "source": [
    "$\\text{KL}$ is red (returns 0) and consequently $\\text{LB-Alg}$ also returns 0, even though $\\text{~NSwitch}$ is green and returns 1. At the same time, $\\text{NSwitch}$ is 0 and $\\text{AB-Alg}$ also returns 0. The result of the equation as a whole is 0, and therefore, the radius vector of the spiral has a length of 0, which is shown by the arrow at the center of the coordinate system.\n",
    "\n",
    "On the next image, we place the vertical line on the positive side of the abscissa, and we can see that $\\text{KL}$ is green and returns 1."
   ]
  },
  {
   "cell_type": "code",
   "execution_count": 10,
   "id": "2f01dcdf-dfb8-4466-b21e-7e5b636fc637",
   "metadata": {},
   "outputs": [
    {
     "data": {
      "text/html": [
       "\n",
       "    <div style=\"display: flex; justify-content: center; align-items: center; height: 300px;\">\n",
       "        <img src=\"Images/fig80.png\" style=\"width: 562px; height: 300px;\">\n",
       "        <div style=\"position: absolute; top: 0px; right: 80px; color: black; font-size: 14px; background-color: rgba(255, 255, 255, 0.7); padding:           5px; border-radius: 5px;\">\n",
       "            Fig.80\n",
       "        </div>\n",
       "    </div>\n",
       "    "
      ],
      "text/plain": [
       "<IPython.core.display.HTML object>"
      ]
     },
     "execution_count": 10,
     "metadata": {},
     "output_type": "execute_result"
    }
   ],
   "source": [
    "load_image('fig80')"
   ]
  },
  {
   "cell_type": "markdown",
   "id": "6dc8b344-6f0b-417d-bd92-e64fbc14454b",
   "metadata": {},
   "source": [
    "Let’s look at other scenarios to ensure that $\\text{KL}$ works correctly. We will choose different values for $k$ and different signs for the angular velocity $\\omega$."
   ]
  },
  {
   "cell_type": "code",
   "execution_count": 11,
   "id": "d72088a0-ca08-4987-ab49-fffea0b1ac49",
   "metadata": {},
   "outputs": [
    {
     "data": {
      "text/html": [
       "<div style='display: flex; justify-content: space-between;'>\n",
       "        <div style=\"text-align: center; margin: 0 10px;\">\n",
       "            <img src=\"Images/fig81.png\" style=\"width: 375px; height: 200px;\">\n",
       "            <div style=\"color: black; font-size: 14px; background-color: rgba(255, 255, 255, 0.7); padding: 5px; border-radius: 5px;\">\n",
       "                Fig.81\n",
       "            </div>\n",
       "        </div>\n",
       "        \n",
       "        <div style=\"text-align: center; margin: 0 10px;\">\n",
       "            <img src=\"Images/fig82.png\" style=\"width: 375px; height: 200px;\">\n",
       "            <div style=\"color: black; font-size: 14px; background-color: rgba(255, 255, 255, 0.7); padding: 5px; border-radius: 5px;\">\n",
       "                Fig.82\n",
       "            </div>\n",
       "        </div>\n",
       "        </div>"
      ],
      "text/plain": [
       "<IPython.core.display.HTML object>"
      ]
     },
     "metadata": {},
     "output_type": "display_data"
    },
    {
     "data": {
      "text/html": [
       "<div style='display: flex; justify-content: space-between;'>\n",
       "        <div style=\"text-align: center; margin: 0 10px;\">\n",
       "            <img src=\"Images/fig83.png\" style=\"width: 375px; height: 200px;\">\n",
       "            <div style=\"color: black; font-size: 14px; background-color: rgba(255, 255, 255, 0.7); padding: 5px; border-radius: 5px;\">\n",
       "                Fig.83\n",
       "            </div>\n",
       "        </div>\n",
       "        \n",
       "        <div style=\"text-align: center; margin: 0 10px;\">\n",
       "            <img src=\"Images/fig84.png\" style=\"width: 375px; height: 200px;\">\n",
       "            <div style=\"color: black; font-size: 14px; background-color: rgba(255, 255, 255, 0.7); padding: 5px; border-radius: 5px;\">\n",
       "                Fig.84\n",
       "            </div>\n",
       "        </div>\n",
       "        </div>"
      ],
      "text/plain": [
       "<IPython.core.display.HTML object>"
      ]
     },
     "metadata": {},
     "output_type": "display_data"
    }
   ],
   "source": [
    "display(load_images([('fig81', 'left'), ('fig82', 'right')]))\n",
    "display(load_images([('fig83', 'left'), ('fig84', 'right')]))"
   ]
  },
  {
   "cell_type": "markdown",
   "id": "a52b0beb-1f38-4c78-a98f-70d87d812dbc",
   "metadata": {},
   "source": [
    "Now we will examine the boundary cases $k=1$ and $k=3$."
   ]
  },
  {
   "cell_type": "code",
   "execution_count": 12,
   "id": "face7584-500f-43b1-8c34-2c0c94711db9",
   "metadata": {},
   "outputs": [
    {
     "data": {
      "text/html": [
       "<div style='display: flex; justify-content: space-between;'>\n",
       "        <div style=\"text-align: center; margin: 0 10px;\">\n",
       "            <img src=\"Images/fig85.png\" style=\"width: 375px; height: 200px;\">\n",
       "            <div style=\"color: black; font-size: 14px; background-color: rgba(255, 255, 255, 0.7); padding: 5px; border-radius: 5px;\">\n",
       "                Fig.85\n",
       "            </div>\n",
       "        </div>\n",
       "        \n",
       "        <div style=\"text-align: center; margin: 0 10px;\">\n",
       "            <img src=\"Images/fig86.png\" style=\"width: 375px; height: 200px;\">\n",
       "            <div style=\"color: black; font-size: 14px; background-color: rgba(255, 255, 255, 0.7); padding: 5px; border-radius: 5px;\">\n",
       "                Fig.86\n",
       "            </div>\n",
       "        </div>\n",
       "        </div>"
      ],
      "text/plain": [
       "<IPython.core.display.HTML object>"
      ]
     },
     "metadata": {},
     "output_type": "display_data"
    }
   ],
   "source": [
    "display(load_images([('fig85', 'left'), ('fig86', 'right')]))"
   ]
  },
  {
   "cell_type": "markdown",
   "id": "c8ba2517-6e3e-4e2c-9cb0-a52a52e6934e",
   "metadata": {},
   "source": [
    "In both cases, the check $\\text{KL}$ returns 0, and the equation does not trigger $\\text{LB-Alg}$, even though the line is on the side of the spiral turn. The same situation occurs when the line is on the positive side of the abscissa."
   ]
  },
  {
   "cell_type": "code",
   "execution_count": 13,
   "id": "7113fbd6-3bd3-494c-ac5a-3df46c751f22",
   "metadata": {},
   "outputs": [
    {
     "data": {
      "text/html": [
       "<div style='display: flex; justify-content: space-between;'>\n",
       "        <div style=\"text-align: center; margin: 0 10px;\">\n",
       "            <img src=\"Images/fig87.png\" style=\"width: 375px; height: 200px;\">\n",
       "            <div style=\"color: black; font-size: 14px; background-color: rgba(255, 255, 255, 0.7); padding: 5px; border-radius: 5px;\">\n",
       "                Fig.87\n",
       "            </div>\n",
       "        </div>\n",
       "        \n",
       "        <div style=\"text-align: center; margin: 0 10px;\">\n",
       "            <img src=\"Images/fig88.png\" style=\"width: 375px; height: 200px;\">\n",
       "            <div style=\"color: black; font-size: 14px; background-color: rgba(255, 255, 255, 0.7); padding: 5px; border-radius: 5px;\">\n",
       "                Fig.88\n",
       "            </div>\n",
       "        </div>\n",
       "        </div>"
      ],
      "text/plain": [
       "<IPython.core.display.HTML object>"
      ]
     },
     "metadata": {},
     "output_type": "display_data"
    }
   ],
   "source": [
    "display(load_images([('fig87', 'left'), ('fig88', 'right')]))"
   ]
  },
  {
   "cell_type": "markdown",
   "id": "8eea1746-0b49-49fc-a987-9bdb4281da96",
   "metadata": {},
   "source": [
    "To address this limitation of $\\text{KL}$, we will construct an additional complex check. As seen in the images, besides $k$ and $x_l$, the direction of the spiral's rotation, i.e., the sign of the angular velocity $\\omega$, also becomes a factor in these cases. Тhis check will take three arguments and determine based on them whether to trigger $\\text{LB-Alg}$ or not.\n",
    "\n",
    "\n",
    "The first task is to identify the cases in which the check should be performed. Since there are two cases - $k=1$ and $k=3$ - and they are mutually exclusive, the check should be analogous to the logical operation disjunction and its mathematical counterpart, addition. We will name this check $\\text{KWL}$, and schematically, it looks like this:\n",
    "\n",
    "$$ KWL_{(k, w, x_l)}^{[0 \\vee  1]} = (\\text{Case1})(\\text{ExpressionA}) + \n",
    "(\\text{Case2})(\\text{ExpressionB}).\\quad\\quad\\quad\\quad(2.2.1.9)$$\n",
    "\n",
    "$KWL_{(k, w, x_l)}^{[0 \\vee  1]}$ is a sum of products where the factors $\\text{Case1}$ and $\\text{Case2}$ are intended to activate the corresponding term under specific conditions. These conditions are related to the parameter $k$ and occur only when $k=1$ or $k=3$. We already have expressions for these cases from the $\\text{KL}$ check, but in this instance, we need to take their opposite outputs.\n",
    "\n",
    "$$\\text{Case1} = 1 - \\frac{k-1}{E_{(k-1)}}, \\quad\\quad\\quad\\quad(2.2.1.10)$$\n",
    "\n",
    "$$\\text{Case2} = 1 - \\frac{k-3}{E_{(k-3)}}. \\quad\\quad\\quad\\quad(2.2.1.11)$$\n",
    "\n",
    "We substitute into 2.2.1.9 and obtain:\n",
    "\n",
    "$$ KWL_{(k, w, x_l)}^{[0 \\vee  1]} = (1 - \\frac{k-1}{E_{(k-1)}})(\\text{ExpressionA}) + \n",
    "(1 - \\frac{k-3}{E_{(k-3)}})(\\text{ExpressionB}).\\quad\\quad\\quad\\quad(2.2.1.12)$$\n",
    "\n",
    "\n",
    "The first factor accounts for the cases shown in *Figures 85 and 87*. In *Figure 85*, we have $\\omega > 0$ and $x_l  < 0$. In *Figure 87*, the opposite situation occurs - $\\omega < 0$ and $x_l > 0$. This means that, once again, we need to use the sign function to construct the algebraic check. Since it must account for two separate cases, we will compose a sum once more.\n",
    "\n",
    "$$ \\text{ExpressionA} =  \\frac{S_{(x_l)} - S_{(\\omega)}}{E_{(S_{(x_l)} - S_{(\\omega)})}} =\n",
    "\\frac{\\frac{x_l}{|E_{(x_l)}|} - \n",
    "\\frac{\\omega}{|E_{(\\omega)}|}}\n",
    "{E_{(\\frac{x_l}{|E_{(x_l)}|} - \n",
    "\\frac{\\omega}{|E_{(\\omega)}|})}}\n",
    ". \\quad\\quad\\quad\\quad(2.2.1.13)$$\n",
    "\n"
   ]
  },
  {
   "cell_type": "code",
   "execution_count": 14,
   "id": "c6c50743-2328-4537-b532-4c8904bda30a",
   "metadata": {},
   "outputs": [
    {
     "data": {
      "text/html": [
       "\n",
       "    <div style=\"display: flex; flex-direction: column; justify-content: center; align-items: center; width: 100%;\">\n",
       "        <h3>$Expression A$</h3>\n",
       "        <table border=\"1\" style=\"border-collapse: collapse; text-align: center; width: 85%; font-size: 13px;\">\n",
       "            <tr>\n",
       "                <th></th>\n",
       "                <th>$\\omega < 0 $</th>\n",
       "                <th>$ \\omega = 0 $</th>\n",
       "                <th>$\\omega > 0 $</th>\n",
       "\n",
       "                 \n",
       "            </tr>\n",
       "                <th>$x_l<0$</th>\n",
       "                <th>$0$</th>\n",
       "                <th>$1$</th>\n",
       "                <th>$1$</th>\n",
       "\n",
       "                \n",
       "            </tr>\n",
       "            </tr>\n",
       "                <th>$x_l=0$</th>\n",
       "                <th>$1$</th>\n",
       "                <th>$0$</th>\n",
       "                <th>$1$</th>\n",
       "\n",
       "                \n",
       "            </tr>\n",
       "            </tr>\n",
       "                <th>$x_l>0$</th>\n",
       "                <th>$1$</th>\n",
       "                <th>$1$</th>\n",
       "                <th>$0$</th>\n",
       "\n",
       "                \n",
       "            </tr>\n",
       "\n",
       "\n",
       "        </table>\n",
       "        Fig.89\n",
       "    </div>\n",
       "    "
      ],
      "text/plain": [
       "<IPython.core.display.HTML object>"
      ]
     },
     "metadata": {},
     "output_type": "display_data"
    }
   ],
   "source": [
    "expression_a_table()"
   ]
  },
  {
   "cell_type": "markdown",
   "id": "f30f355c-d035-4721-b4c3-a00d5092a25f",
   "metadata": {},
   "source": [
    "When the signs are different, $\\text{ExpressionA}$ returns 1. When one of the parameters are equal to zero, the check also returns 1, but these cases are already addressed by other checks in the equation.\n",
    "\n",
    "Now we need to construct $\\text{ExpressionB}$. *Figures 84 and 85* illustrate the cases related to it, and from the images, we observe that $x_l$ and $\\omega$ must have the same signs. Therefore, we simply reverse the sign from the formula for $\\text{ExpressionA}$.\n",
    "\n",
    "$$ \\text{ExpressionB} =  \\frac{S_{(x_l)} + S_{(\\omega)}}{E_{(S_{(x_l)} + S_{(\\omega)})}} =\n",
    "\\frac{\\frac{x_l}{|E_{(x_l)}|} + \n",
    "\\frac{\\omega}{|E_{(\\omega)}|}}\n",
    "{E_{(\\frac{x_l}{|E_{(x_l)}|} +\n",
    "\\frac{\\omega}{|E_{(\\omega)}|})}}\n",
    ". \\quad\\quad\\quad\\quad(2.2.1.14)$$"
   ]
  },
  {
   "cell_type": "code",
   "execution_count": 15,
   "id": "b249ef83-1181-4762-a7f0-d123923b1729",
   "metadata": {},
   "outputs": [
    {
     "data": {
      "text/html": [
       "\n",
       "    <div style=\"display: flex; flex-direction: column; justify-content: center; align-items: center; width: 100%;\">\n",
       "        <h3>$Expression B$</h3>\n",
       "        <table border=\"1\" style=\"border-collapse: collapse; text-align: center; width: 85%; font-size: 13px;\">\n",
       "            <tr>\n",
       "                <th></th>\n",
       "                <th>$\\omega < 0 $</th>\n",
       "                <th>$ \\omega = 0 $</th>\n",
       "                <th>$\\omega > 0 $</th>\n",
       "\n",
       "                 \n",
       "            </tr>\n",
       "                <th>$x_l<0$</th>\n",
       "                <th>$1$</th>\n",
       "                <th>$1$</th>\n",
       "                <th>$0$</th>\n",
       "\n",
       "                \n",
       "            </tr>\n",
       "            </tr>\n",
       "                <th>$x_l=0$</th>\n",
       "                <th>$1$</th>\n",
       "                <th>$0$</th>\n",
       "                <th>$1$</th>\n",
       "\n",
       "                \n",
       "            </tr>\n",
       "            </tr>\n",
       "                <th>$x_l>0$</th>\n",
       "                <th>$0$</th>\n",
       "                <th>$1$</th>\n",
       "                <th>$1$</th>\n",
       "\n",
       "                \n",
       "            </tr>\n",
       "\n",
       "\n",
       "        </table>\n",
       "        Fig.90\n",
       "    </div>\n",
       "    "
      ],
      "text/plain": [
       "<IPython.core.display.HTML object>"
      ]
     },
     "metadata": {},
     "output_type": "display_data"
    }
   ],
   "source": [
    "expression_b_table()"
   ]
  },
  {
   "cell_type": "markdown",
   "id": "d06518dc-6712-4b09-9467-860f37bf3bfa",
   "metadata": {},
   "source": [
    "With this, the check $KWL_{(k, w, x_l)}^{[0 \\vee  1]}$ is complete. We substitute $\\text{ExpressionB}$ and $\\text{ExpressionB}$ into 2.2.1.12.\n",
    "\n",
    "$$ KWL_{(k, w, x_l)}^{[0 \\vee  1]} = \\left( 1 - \\frac{k-1}{E_{(k-1)}}\\right)\n",
    "\\left(\\frac{\\frac{x_l}{|E_{(x_l)}|} - \n",
    "\\frac{\\omega}{|E_{(\\omega)}|}}\n",
    "{E_{(\\frac{x_l}{|E_{(x_l)}|} - \n",
    "\\frac{\\omega}{|E_{(\\omega)}|})}}\\right) + \n",
    "\\left(1 - \\frac{k-3}{E_{(k-3)}}\\right)\n",
    "\\left(\\frac{\\frac{x_l}{|E_{(x_l)}|} + \n",
    "\\frac{\\omega}{|E_{(\\omega)}|}}\n",
    "{E_{(\\frac{x_l}{|E_{(x_l)}|} +\n",
    "\\frac{\\omega}{|E_{(\\omega)}|})}}\\right).\\quad\\quad\\quad\\quad(2.2.1.15)$$\n",
    "\n",
    "The addition of this check to the two-dimensional sequence should occur as a summand in a general check along with $\\text{KL}$.\n",
    "\n",
    "$$\\lim_{n, m \\to \\infty} \\left\\{ t_{[n; m]} \\right\\} = \n",
    "\\overline{NSwitch_{(n)}^{[0 \\vee  1]}}\n",
    "\\left(\n",
    "KWL_{(k, w, x_l)}^{[0 \\vee  1]} + \n",
    "KL_{(k, x_l)}^{[0 \\vee  1]}\n",
    "\\right)\n",
    "\\text{LB-Alg} +\n",
    "NSwitch_{(n)}^{[0 \\vee  1]}\\text{AB-Alg}, \\quad n, m \\ge 0.  \\quad\\quad\\quad\\quad (2.2.1.16)$$\n",
    "\n",
    "Next, we need to test how $\\text{KWL}$ functions and how the entire $(\\text{KWL} + \\text{KL})$ check operates as a whole. We will present the same scenarios from *figures 85-88*, but now with the added check."
   ]
  },
  {
   "cell_type": "code",
   "execution_count": 17,
   "id": "fb209b7f-c6e2-48e9-b726-255c6b4ce1d8",
   "metadata": {},
   "outputs": [
    {
     "data": {
      "text/html": [
       "<div style='display: flex; justify-content: space-between;'>\n",
       "        <div style=\"text-align: center; margin: 0 10px;\">\n",
       "            <img src=\"Images/fig91.png\" style=\"width: 375px; height: 200px;\">\n",
       "            <div style=\"color: black; font-size: 14px; background-color: rgba(255, 255, 255, 0.7); padding: 5px; border-radius: 5px;\">\n",
       "                Fig.91\n",
       "            </div>\n",
       "        </div>\n",
       "        \n",
       "        <div style=\"text-align: center; margin: 0 10px;\">\n",
       "            <img src=\"Images/fig92.png\" style=\"width: 375px; height: 200px;\">\n",
       "            <div style=\"color: black; font-size: 14px; background-color: rgba(255, 255, 255, 0.7); padding: 5px; border-radius: 5px;\">\n",
       "                Fig.92\n",
       "            </div>\n",
       "        </div>\n",
       "        </div>"
      ],
      "text/plain": [
       "<IPython.core.display.HTML object>"
      ]
     },
     "metadata": {},
     "output_type": "display_data"
    }
   ],
   "source": [
    "display(load_images([('fig91', 'left'), ('fig92', 'right')]))"
   ]
  },
  {
   "cell_type": "code",
   "execution_count": 18,
   "id": "ca5846e3-c928-43f7-a019-0d17b1e18711",
   "metadata": {},
   "outputs": [
    {
     "data": {
      "text/html": [
       "<div style='display: flex; justify-content: space-between;'>\n",
       "        <div style=\"text-align: center; margin: 0 10px;\">\n",
       "            <img src=\"Images/fig93.png\" style=\"width: 375px; height: 200px;\">\n",
       "            <div style=\"color: black; font-size: 14px; background-color: rgba(255, 255, 255, 0.7); padding: 5px; border-radius: 5px;\">\n",
       "                Fig.93\n",
       "            </div>\n",
       "        </div>\n",
       "        \n",
       "        <div style=\"text-align: center; margin: 0 10px;\">\n",
       "            <img src=\"Images/fig94.png\" style=\"width: 375px; height: 200px;\">\n",
       "            <div style=\"color: black; font-size: 14px; background-color: rgba(255, 255, 255, 0.7); padding: 5px; border-radius: 5px;\">\n",
       "                Fig.94\n",
       "            </div>\n",
       "        </div>\n",
       "        </div>"
      ],
      "text/plain": [
       "<IPython.core.display.HTML object>"
      ]
     },
     "metadata": {},
     "output_type": "display_data"
    }
   ],
   "source": [
    "display(load_images([('fig93', 'left'), ('fig94', 'right')]))"
   ]
  },
  {
   "cell_type": "markdown",
   "id": "3367f19d-78a0-4757-9c61-6edc90786f5d",
   "metadata": {},
   "source": [
    "Finally, let's ensure that $\\text{KWL}$ returns zero in the cases of $k \\ne 1$ and $k \\ne 3$."
   ]
  },
  {
   "cell_type": "code",
   "execution_count": 19,
   "id": "3b7d5ac5-66c4-481e-bfe1-29bc564e45c9",
   "metadata": {},
   "outputs": [
    {
     "data": {
      "text/html": [
       "<div style='display: flex; justify-content: space-between;'>\n",
       "        <div style=\"text-align: center; margin: 0 10px;\">\n",
       "            <img src=\"Images/fig95.png\" style=\"width: 375px; height: 200px;\">\n",
       "            <div style=\"color: black; font-size: 14px; background-color: rgba(255, 255, 255, 0.7); padding: 5px; border-radius: 5px;\">\n",
       "                Fig.95\n",
       "            </div>\n",
       "        </div>\n",
       "        \n",
       "        <div style=\"text-align: center; margin: 0 10px;\">\n",
       "            <img src=\"Images/fig96.png\" style=\"width: 375px; height: 200px;\">\n",
       "            <div style=\"color: black; font-size: 14px; background-color: rgba(255, 255, 255, 0.7); padding: 5px; border-radius: 5px;\">\n",
       "                Fig.96\n",
       "            </div>\n",
       "        </div>\n",
       "        </div>"
      ],
      "text/plain": [
       "<IPython.core.display.HTML object>"
      ]
     },
     "metadata": {},
     "output_type": "display_data"
    }
   ],
   "source": [
    "display(load_images([('fig95', 'left'), ('fig96', 'right')]))"
   ]
  },
  {
   "cell_type": "markdown",
   "id": "3400e3bb-500c-45d7-8d9e-b7382ddca748",
   "metadata": {},
   "source": [
    "The correct operation of the $(\\text{KWL} + \\text{KL})$ check leads us to the next issue, which cannot be resolved by it. The image below illustrates a situation where it correctly triggers $\\text{LB-Alg}$, but the vertical line is not a secant to the spiral in this segment."
   ]
  },
  {
   "cell_type": "code",
   "execution_count": 21,
   "id": "da2fcd21-366a-4e6d-a956-c28a2d6b8e14",
   "metadata": {},
   "outputs": [
    {
     "data": {
      "text/html": [
       "\n",
       "    <div style=\"display: flex; justify-content: center; align-items: center; height: 300px;\">\n",
       "        <img src=\"Images/fig97.png\" style=\"width: 562px; height: 300px;\">\n",
       "        <div style=\"position: absolute; top: 0px; right: 80px; color: black; font-size: 14px; background-color: rgba(255, 255, 255, 0.7); padding:           5px; border-radius: 5px;\">\n",
       "            Fig.97\n",
       "        </div>\n",
       "    </div>\n",
       "    "
      ],
      "text/plain": [
       "<IPython.core.display.HTML object>"
      ]
     },
     "execution_count": 21,
     "metadata": {},
     "output_type": "execute_result"
    }
   ],
   "source": [
    "load_image('fig97')"
   ]
  },
  {
   "cell_type": "markdown",
   "id": "56f9cd24-db13-42ab-bdcf-f30703d1a4e2",
   "metadata": {},
   "source": [
    "Here, the checks before $\\text{LB-Alg}$ 'decide' to start the algorithm, and it calculates an initial radius vector with a length equal to $|x_l|$. This, in turn, leads to 'chaotic' behavior, resulting in the appearance of points that are not intersection points of the vertical line. The next few images illustrate this 'incorrect' behavior of the algorithm."
   ]
  },
  {
   "cell_type": "code",
   "execution_count": 22,
   "id": "f07ea97f-f899-4f73-9435-f4a0fc24b6b1",
   "metadata": {},
   "outputs": [
    {
     "data": {
      "text/html": [
       "<div style='display: flex; justify-content: space-between;'>\n",
       "        <div style=\"text-align: center; margin: 0 10px;\">\n",
       "            <img src=\"Images/fig98.png\" style=\"width: 375px; height: 200px;\">\n",
       "            <div style=\"color: black; font-size: 14px; background-color: rgba(255, 255, 255, 0.7); padding: 5px; border-radius: 5px;\">\n",
       "                Fig.98\n",
       "            </div>\n",
       "        </div>\n",
       "        \n",
       "        <div style=\"text-align: center; margin: 0 10px;\">\n",
       "            <img src=\"Images/fig99.png\" style=\"width: 375px; height: 200px;\">\n",
       "            <div style=\"color: black; font-size: 14px; background-color: rgba(255, 255, 255, 0.7); padding: 5px; border-radius: 5px;\">\n",
       "                Fig.99\n",
       "            </div>\n",
       "        </div>\n",
       "        </div>"
      ],
      "text/plain": [
       "<IPython.core.display.HTML object>"
      ]
     },
     "metadata": {},
     "output_type": "display_data"
    },
    {
     "data": {
      "text/html": [
       "<div style='display: flex; justify-content: space-between;'>\n",
       "        <div style=\"text-align: center; margin: 0 10px;\">\n",
       "            <img src=\"Images/fig100.png\" style=\"width: 375px; height: 200px;\">\n",
       "            <div style=\"color: black; font-size: 14px; background-color: rgba(255, 255, 255, 0.7); padding: 5px; border-radius: 5px;\">\n",
       "                Fig.100\n",
       "            </div>\n",
       "        </div>\n",
       "        \n",
       "        <div style=\"text-align: center; margin: 0 10px;\">\n",
       "            <img src=\"Images/fig101.png\" style=\"width: 375px; height: 200px;\">\n",
       "            <div style=\"color: black; font-size: 14px; background-color: rgba(255, 255, 255, 0.7); padding: 5px; border-radius: 5px;\">\n",
       "                Fig.101\n",
       "            </div>\n",
       "        </div>\n",
       "        </div>"
      ],
      "text/plain": [
       "<IPython.core.display.HTML object>"
      ]
     },
     "metadata": {},
     "output_type": "display_data"
    }
   ],
   "source": [
    "display(load_images([('fig98', 'left'), ('fig99', 'right')]))\n",
    "display(load_images([('fig100', 'left'), ('fig101', 'right')]))"
   ]
  },
  {
   "cell_type": "markdown",
   "id": "47819102-4833-42ed-bdca-e7dbdcfe190d",
   "metadata": {},
   "source": [
    "The first part of solving this problem consists of restricting the calculation of a zero point to values of $t_{[0; 0]}$ where it is either before or coincides with the **Point of maximum displacement**. This is related to finding $\\text{PMD}$. Below, we see how this should look."
   ]
  },
  {
   "cell_type": "code",
   "execution_count": 24,
   "id": "b95ac7cb-51f0-4486-ad2d-6f30e39e3843",
   "metadata": {},
   "outputs": [
    {
     "data": {
      "text/html": [
       "<div style='display: flex; justify-content: space-between;'>\n",
       "        <div style=\"text-align: center; margin: 0 10px;\">\n",
       "            <img src=\"Images/fig102.png\" style=\"width: 375px; height: 200px;\">\n",
       "            <div style=\"color: black; font-size: 14px; background-color: rgba(255, 255, 255, 0.7); padding: 5px; border-radius: 5px;\">\n",
       "                Fig.102\n",
       "            </div>\n",
       "        </div>\n",
       "        \n",
       "        <div style=\"text-align: center; margin: 0 10px;\">\n",
       "            <img src=\"Images/fig103.png\" style=\"width: 375px; height: 200px;\">\n",
       "            <div style=\"color: black; font-size: 14px; background-color: rgba(255, 255, 255, 0.7); padding: 5px; border-radius: 5px;\">\n",
       "                Fig.103\n",
       "            </div>\n",
       "        </div>\n",
       "        </div>"
      ],
      "text/plain": [
       "<IPython.core.display.HTML object>"
      ]
     },
     "metadata": {},
     "output_type": "display_data"
    }
   ],
   "source": [
    "display(load_images([('fig102', 'left'), ('fig103', 'right')]))"
   ]
  },
  {
   "cell_type": "markdown",
   "id": "7a9403a6-85da-45c7-9fe1-d696675e52ed",
   "metadata": {},
   "source": [
    "The check that we will define in the next section will once again be placed as a factor in front of $\\text{LB-Alg}$ and will disable the algorithm if the vertical line is positioned in such a way that the corresponding radius vector of the spiral lies beyond $\\text{PMD}$. To achieve this, we need to define the concept of the derivative of a parametric Archimedean spiral."
   ]
  }
 ],
 "metadata": {
  "kernelspec": {
   "display_name": "Python 3 (ipykernel)",
   "language": "python",
   "name": "python3"
  },
  "language_info": {
   "codemirror_mode": {
    "name": "ipython",
    "version": 3
   },
   "file_extension": ".py",
   "mimetype": "text/x-python",
   "name": "python",
   "nbconvert_exporter": "python",
   "pygments_lexer": "ipython3",
   "version": "3.9.13"
  }
 },
 "nbformat": 4,
 "nbformat_minor": 5
}
