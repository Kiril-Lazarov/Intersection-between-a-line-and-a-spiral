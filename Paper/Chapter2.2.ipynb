{
 "cells": [
  {
   "cell_type": "code",
   "execution_count": 1,
   "id": "e23fad0a-47c8-4731-8932-e3bde0814d09",
   "metadata": {},
   "outputs": [],
   "source": [
    "from IPython.display import HTML\n",
    "from image_functions import *"
   ]
  },
  {
   "cell_type": "markdown",
   "id": "2edd19f4-df6a-4371-90df-ebcd0bb4373b",
   "metadata": {},
   "source": [
    "### <center> 2.2 Limitations of the Angle-Based Algorithm\n",
    "    \n",
    "In this section, we will examine all scenarios in which the algorithm fails and analyze the reasons behind these failures. Resolving the problematic situations will require modifications and expansions of the initial formula. Everything added to the formula from this point onward is aimed at correcting the errors. Once all errors in the algorithm have been addressed, we will proceed to derive the general formula for the intersection points between a spiral and a straight line of the type $y = ax + b$.\n",
    "    \n",
    "As we will see below, all limitations of the algorithm are tied to the position $x_l$ of the vertical line in relation to the specific configuration of the spiral's parameters - $v$, $\\omega$ and $k$. To ensure the algorithm functions correctly, it is essential to identify these situations through *algebraic checks* tailored to the parameters of the line and the spiral in each case. Some of these checks involve complex logic and require deriving advanced reduction functions. We will follow a strategy of deriving these checks algebraically outside the equation and then integrating them into it using their assigned names.\n",
    "    \n",
    "Let us recall the scenario from the previous section, which we used to derive the algorithm."
   ]
  },
  {
   "cell_type": "code",
   "execution_count": 4,
   "id": "5e686c49-eb93-49f1-a6bb-f0c6e5d89c4c",
   "metadata": {},
   "outputs": [
    {
     "data": {
      "text/html": [
       "\n",
       "    <div style=\"display: flex; justify-content: center; align-items: center; height: 300px;\">\n",
       "        <img src=\"Images/fig32.png\" style=\"width: 562px; height: 300px;\">\n",
       "        <div style=\"position: absolute; top: 0px; right: 80px; color: black; font-size: 14px; background-color: rgba(255, 255, 255, 0.7); padding:           5px; border-radius: 5px;\">\n",
       "            Fig.32\n",
       "        </div>\n",
       "    </div>\n",
       "    "
      ],
      "text/plain": [
       "<IPython.core.display.HTML object>"
      ]
     },
     "execution_count": 4,
     "metadata": {},
     "output_type": "execute_result"
    }
   ],
   "source": [
    "load_image('fig32')"
   ]
  },
  {
   "cell_type": "markdown",
   "id": "0b90becf-0ec9-498f-bb8c-a77b734c5265",
   "metadata": {},
   "source": [
    "Let us now explore the outcome when the spiral parameters remain unchanged, but the line is positioned on the opposite side of the x-axis. This situation leads to two possible scenarios."
   ]
  },
  {
   "cell_type": "code",
   "execution_count": 7,
   "id": "99d10539-e0d7-4950-a9ea-827029f86473",
   "metadata": {},
   "outputs": [
    {
     "data": {
      "text/html": [
       "\n",
       "    <div style=\"display: flex; justify-content: center; align-items: center; height: 300px;\">\n",
       "        <img src=\"Images/fig33.png\" style=\"width: 562px; height: 300px;\">\n",
       "        <div style=\"position: absolute; top: 0px; right: 80px; color: black; font-size: 14px; background-color: rgba(255, 255, 255, 0.7); padding:           5px; border-radius: 5px;\">\n",
       "            Fig.33\n",
       "        </div>\n",
       "    </div>\n",
       "    "
      ],
      "text/plain": [
       "<IPython.core.display.HTML object>"
      ]
     },
     "metadata": {},
     "output_type": "display_data"
    },
    {
     "data": {
      "text/html": [
       "\n",
       "    <div style=\"display: flex; justify-content: center; align-items: center; height: 300px;\">\n",
       "        <img src=\"Images/fig34.png\" style=\"width: 562px; height: 300px;\">\n",
       "        <div style=\"position: absolute; top: 0px; right: 80px; color: black; font-size: 14px; background-color: rgba(255, 255, 255, 0.7); padding:           5px; border-radius: 5px;\">\n",
       "            Fig.34\n",
       "        </div>\n",
       "    </div>\n",
       "    "
      ],
      "text/plain": [
       "<IPython.core.display.HTML object>"
      ]
     },
     "metadata": {},
     "output_type": "display_data"
    }
   ],
   "source": [
    "display(load_image('fig33'))\n",
    "display(load_image('fig34'))"
   ]
  },
  {
   "cell_type": "markdown",
   "id": "b3ba4d6b-f6bc-4386-99cc-1866c74204d8",
   "metadata": {},
   "source": [
    "In *Figure 33*, the algorithm successfully identifies the intersection point on the 11th iteration. However, in *Figure 34*, we observe that it overshoots the position of the vertical line and \"lands\" the radius vector near the x-axis (this is not the final iteration of the algorithm, as in this case, the radius vector oscillates infinitely above and below the negative x-axis). To understand why this occurs, let us return to the first iteration."
   ]
  },
  {
   "cell_type": "code",
   "execution_count": 10,
   "id": "98e06857-2c0a-41c3-9926-484ef7cea444",
   "metadata": {},
   "outputs": [
    {
     "data": {
      "text/html": [
       "\n",
       "    <div style=\"display: flex; justify-content: center; align-items: center; height: 300px;\">\n",
       "        <img src=\"Images/fig35.png\" style=\"width: 562px; height: 300px;\">\n",
       "        <div style=\"position: absolute; top: 0px; right: 80px; color: black; font-size: 14px; background-color: rgba(255, 255, 255, 0.7); padding:           5px; border-radius: 5px;\">\n",
       "            Fig.35\n",
       "        </div>\n",
       "    </div>\n",
       "    "
      ],
      "text/plain": [
       "<IPython.core.display.HTML object>"
      ]
     },
     "execution_count": 10,
     "metadata": {},
     "output_type": "execute_result"
    }
   ],
   "source": [
    "load_image('fig35')"
   ]
  },
  {
   "cell_type": "markdown",
   "id": "98feee22-cd6c-4d0e-8f61-60174cb9380a",
   "metadata": {},
   "source": [
    "The red dot, which indicates the position of the radius vector in the first iteration, is located slightly 'behind' the vertical line. The readings on the left show that its $x$ - coordinate (**Spiral x: -2.542208...**) is slightly greater in absolute value than the position $x_l$ of the line (**x: -2.49**). That is, already in the first iteration, the radius vector has passed the vertical line. From this point onward, the algorithm functions normally and continues to move the vector forward over time. Let’s see this in the following images."
   ]
  },
  {
   "cell_type": "code",
   "execution_count": 11,
   "id": "29ebcd01-3e32-4b4e-a6bc-df821d70a53c",
   "metadata": {},
   "outputs": [
    {
     "data": {
      "text/html": [
       "<div style='display: flex; justify-content: space-between;'>\n",
       "        <div style=\"text-align: center; margin: 0 10px;\">\n",
       "            <img src=\"Images/fig36.png\" style=\"width: 375px; height: 200px;\">\n",
       "            <div style=\"color: black; font-size: 14px; background-color: rgba(255, 255, 255, 0.7); padding: 5px; border-radius: 5px;\">\n",
       "                Fig.36\n",
       "            </div>\n",
       "        </div>\n",
       "        \n",
       "        <div style=\"text-align: center; margin: 0 10px;\">\n",
       "            <img src=\"Images/fig37.png\" style=\"width: 375px; height: 200px;\">\n",
       "            <div style=\"color: black; font-size: 14px; background-color: rgba(255, 255, 255, 0.7); padding: 5px; border-radius: 5px;\">\n",
       "                Fig.37\n",
       "            </div>\n",
       "        </div>\n",
       "        </div>"
      ],
      "text/plain": [
       "<IPython.core.display.HTML object>"
      ]
     },
     "metadata": {},
     "output_type": "display_data"
    }
   ],
   "source": [
    "display(load_images([('fig36', 'left'), ('fig37', 'right')]))"
   ]
  },
  {
   "cell_type": "markdown",
   "id": "a1df0e4b-c911-42dd-aeda-9b6d5be63734",
   "metadata": {},
   "source": [
    "The direction of the movement of the radius vector is determined by the **Sign function** from the formula 2.1.3.12.\n",
    "\n",
    "$$\\left\\{ t_{[n; m]} \\right\\} = t_{[n; m-1]} + \n",
    "S_{(\\omega x_l y_s(t_{[n; m-1]}))}\n",
    "\\frac{\\Delta \\phi_m(t_{[n; m-1]}, x_l, v, \\omega, k)}\n",
    "{|E_{(\\omega)}|}. \\quad\\quad\\quad\\quad (2.1.3.12)$$\n",
    "\n",
    "With this configuration of the parameters of the spiral and the line, $S_{(\\omega x_l y_s(t_{[n; m-1]}))}$ returns 1, meaning the radius vector moves forward in time.\n",
    "\n",
    "To correct the behavior of the algorithm in scenarios like this, we need to construct an *algebraic check* that determines whether the $x$-coordinate of the radius vector in the current iteration is 'behind' the line. This can be easily verified by taking the sign of the difference between the absolute values of $x_l$ and $x_s$. We will do this again using the **Sign function**, but this time, we will pass the difference as an argument.\n",
    "\n",
    "$$S_{(|x_l| - |x_s(t_{[n; m-1]})|)} = \\frac{|x_l| - |x_s(t_{[n; m-1]})|}{|E_{(|x_l| - |x_s(t_{[n; m-1]})|)}|}. \\quad\\quad\\quad\\quad(2.2.1)$$\n",
    "\n",
    "Then the equation 2.1.3.12 takes the form:\n",
    "\n",
    "$$\\left\\{ t_{[n; m]} \\right\\} = t_{[n; m-1]} +\n",
    "S_{(|x_l| - |x_s(t_{[n; m-1]})|)}\n",
    "S_{(\\omega x_l y_s(t_{[n; m-1]}))}\n",
    "\\frac{\\Delta \\phi_m(t_{[n; m-1]}, x_l, v, \\omega, k)}\n",
    "{|E_{(\\omega)}|}. \\quad\\quad\\quad\\quad (2.2.2)$$\n",
    "\n",
    "The command that performs the new algebraic check $S_{(|x_l| - |x_s(t_{[n; m-1]})|)}$, placed as a coefficient before the multiplier $\\frac{\\Delta \\phi_m(t_{[n; m-1]}, x_l, v, \\omega, k)}\n",
    "{|E_{(\\omega)}|}$, is as follows:\n",
    "\n",
    "**If:**  \n",
    " + The $x$-coordinate of the radius vector in the current iteration is behind the vertical line (i.e., if it is greater in absolute value), reverse the direction of movement defined by the previous coefficient $S_{(\\omega x_l y_s(t_{[n; m-1]}))}$.  \n",
    "\n",
    "  + The $x$-coordinate of the radius vector in the current iteration is ahead of the line (i.e., if it is smaller in absolute value), keep the direction of movement as defined by $S_{(\\omega x_l y_s(t_{[n; m-1]}))}$.\n",
    "  \n",
    "\n",
    "The third case – when $x_s(t_{[n; m-1]}) = x_l$, is more specific. It can only occur when the vertical line coincides with the $y$-axis. However, this case is accounted for by the coefficient in the first check, which also returns 0.\n",
    "\n",
    "The other case – when $x_s(t_{[n; m-1]}) \\ne x_l$, i.e., the line does not coincide with the $y$-axis, should theoretically never happen. This is due to two reasons:\n",
    "\n",
    "1. The intersection point between a spiral curve and a vertical line does not have an analytical solution – this is the very definition of the problem being addressed here.\n",
    "\n",
    "2. In probability theory, the *Probability Density Function* (PDF) states that the likelihood of a continuous random variable being assigned an exact value tends to zero.\n",
    "\n",
    "$$P(X = c) = \\int_{c}^{c} f(x) \\, dx = 0, \\quad\\quad\\quad\\quad (2.2.3)$$\n",
    "\n",
    "where $X$ is the random variable, and $c$ is the arbitrarily chosen value.\n",
    "\n",
    "In this case, the random variable is $x_s(t_{[n; m-1]})$, and the arbitrarily chosen value is $x_l$. Then we have:\n",
    "\n",
    "$$P(x_s(t_{[n; m-1]}) = x_l) = \\int_{x_l}^{x_l} x_s(t_{[n; m-1]}) \\, dx = 0, \\quad\\quad\\quad\\quad (2.2.4)$$\n",
    "\n",
    "where we have replaced the integrable function $f(x)$ with $x_s(t_{[n; m-1]})$, which is the value of the $x$-coordinate for each specific **mth** iteration of the angular algorithm. The question here is how to interpret $x_s(t_{[n; m-1]})$? The *Probability Density Function* works with a random continuous variable. The variable $x_s(t_{[n; m-1]})$, on the other hand, is continuous but not random – it is the result of well-defined algebraic operations from the *angular algorithm*. Although the algorithm represents a strict sequence of algebraic actions, the parameters with which it operates – $v$, $\\omega$ and $k$ -  are chosen arbitrarily. In this sense, here we are looking for the *Probability Density Function* of three random continuous variables with respect to a fourth random continuous variable - $x_l$. And since there is no analytical connection between them, the probability of randomly selecting such values for the spiral parameters, so that after inputting them into the algorithm, we get another arbitrary value, tends to zero.\n",
    "\n",
    "This question is very important because it concerns the problem of the existence of strict mathematical foundations for whether the two-dimensional numerical sequence, defined by the angular algorithm, has a limit. From this perspective, we can define the two-dimensional sequence in the following way:\n",
    "\n",
    "$$\\lim_{n, m \\to \\infty} \\left\\{ t_{[n; m]} \\right\\} = t_{[n; m-1]} +\n",
    "S_{(|x_l| - |x_s(t_{[n; m-1]})|)}\n",
    "S_{(\\omega x_l y_s(t_{[n; m-1]}))}\n",
    "\\frac{\\Delta \\phi_m(t_{[n; m-1]}, x_l, v, \\omega, k)}\n",
    "{|E_{(\\omega)}|}. \\quad\\quad\\quad\\quad (2.2.5)$$\n",
    "\n",
    "Since the sequence is two-dimensional, this means that it has multiple limits, each of which represents the m-th approximation of the n-th intersection point of the spiral curve with the vertical line. Since the vertical line intersects the spiral at specific points, this circumstance requires all the individual sequences that make up the two-dimensional sequence to be convergent. From this perspective, we can redefine the goal of the problem as the task of constructing an absolutely convergent two-dimensional numerical sequence. We can define the absolutely convergent two-dimensional numerical sequence as follows:\n",
    "\n",
    "*We will call a two-dimensional sequence absolutely convergent if each of its elements is a convergent sequence. An element of a two-dimensional sequence will be called any sequence with an initial value $t_{[n; 0]}$.*\n",
    "\n",
    "More formaly:\n",
    "\n",
    "$$\\left\\{ t_{[n; m]} \\right\\} \\text{ is a convergent sequence if } \\exists \\lim_{n, m \\to \\infty} \\left\\{ t_{[n; m]} \\right\\} \\text{ such that } \\forall n \\geq 1, m \\geq 0. \\quad\\quad\\quad\\quad (2.2.6)$$\n",
    " \n",
    "\n",
    "Below, we will see that the algorithm does not always reach a specific limit."
   ]
  }
 ],
 "metadata": {
  "kernelspec": {
   "display_name": "Python 3 (ipykernel)",
   "language": "python",
   "name": "python3"
  },
  "language_info": {
   "codemirror_mode": {
    "name": "ipython",
    "version": 3
   },
   "file_extension": ".py",
   "mimetype": "text/x-python",
   "name": "python",
   "nbconvert_exporter": "python",
   "pygments_lexer": "ipython3",
   "version": "3.9.13"
  }
 },
 "nbformat": 4,
 "nbformat_minor": 5
}
