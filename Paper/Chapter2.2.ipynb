{
 "cells": [
  {
   "cell_type": "code",
   "execution_count": 1,
   "id": "e23fad0a-47c8-4731-8932-e3bde0814d09",
   "metadata": {},
   "outputs": [],
   "source": [
    "from IPython.display import HTML\n",
    "from image_functions import *"
   ]
  },
  {
   "cell_type": "markdown",
   "id": "2edd19f4-df6a-4371-90df-ebcd0bb4373b",
   "metadata": {},
   "source": [
    "### <center> 2.2 Limitations of the Angle-Based Algorithm\n",
    "    \n",
    "In this section, we will examine all scenarios in which the algorithm fails and analyze the reasons behind these failures. Resolving the problematic situations will require modifications and expansions of the initial formula. Everything added to the formula from this point onward is aimed at correcting the errors. Once all errors in the algorithm have been addressed, we will proceed to derive the general formula for the intersection points between a spiral and a straight line of the type $y = ax + b$.\n",
    "    \n",
    "As we will see below, all limitations of the algorithm are tied to the position $x_l$ of the vertical line in relation to the specific configuration of the spiral's parameters - $v$, $\\omega$ and $k$. To ensure the algorithm functions correctly, it is essential to identify these situations through *algebraic checks* tailored to the parameters of the line and the spiral in each case. Some of these checks involve complex logic and require deriving advanced reduction functions. We will follow a strategy of deriving these checks algebraically outside the equation and then integrating them into it using their assigned names.\n",
    "    \n",
    "Let us recall the scenario from the previous section, which we used to derive the algorithm."
   ]
  },
  {
   "cell_type": "code",
   "execution_count": 4,
   "id": "5e686c49-eb93-49f1-a6bb-f0c6e5d89c4c",
   "metadata": {},
   "outputs": [
    {
     "data": {
      "text/html": [
       "\n",
       "    <div style=\"display: flex; justify-content: center; align-items: center; height: 300px;\">\n",
       "        <img src=\"Images/fig32.png\" style=\"width: 562px; height: 300px;\">\n",
       "        <div style=\"position: absolute; top: 0px; right: 80px; color: black; font-size: 14px; background-color: rgba(255, 255, 255, 0.7); padding:           5px; border-radius: 5px;\">\n",
       "            Fig.32\n",
       "        </div>\n",
       "    </div>\n",
       "    "
      ],
      "text/plain": [
       "<IPython.core.display.HTML object>"
      ]
     },
     "execution_count": 4,
     "metadata": {},
     "output_type": "execute_result"
    }
   ],
   "source": [
    "load_image('fig32')"
   ]
  },
  {
   "cell_type": "markdown",
   "id": "0b90becf-0ec9-498f-bb8c-a77b734c5265",
   "metadata": {},
   "source": [
    "Let us now explore the outcome when the spiral parameters remain unchanged, but the line is positioned on the opposite side of the x-axis. This situation leads to two possible scenarios."
   ]
  },
  {
   "cell_type": "code",
   "execution_count": 7,
   "id": "99d10539-e0d7-4950-a9ea-827029f86473",
   "metadata": {},
   "outputs": [
    {
     "data": {
      "text/html": [
       "\n",
       "    <div style=\"display: flex; justify-content: center; align-items: center; height: 300px;\">\n",
       "        <img src=\"Images/fig33.png\" style=\"width: 562px; height: 300px;\">\n",
       "        <div style=\"position: absolute; top: 0px; right: 80px; color: black; font-size: 14px; background-color: rgba(255, 255, 255, 0.7); padding:           5px; border-radius: 5px;\">\n",
       "            Fig.33\n",
       "        </div>\n",
       "    </div>\n",
       "    "
      ],
      "text/plain": [
       "<IPython.core.display.HTML object>"
      ]
     },
     "metadata": {},
     "output_type": "display_data"
    },
    {
     "data": {
      "text/html": [
       "\n",
       "    <div style=\"display: flex; justify-content: center; align-items: center; height: 300px;\">\n",
       "        <img src=\"Images/fig34.png\" style=\"width: 562px; height: 300px;\">\n",
       "        <div style=\"position: absolute; top: 0px; right: 80px; color: black; font-size: 14px; background-color: rgba(255, 255, 255, 0.7); padding:           5px; border-radius: 5px;\">\n",
       "            Fig.34\n",
       "        </div>\n",
       "    </div>\n",
       "    "
      ],
      "text/plain": [
       "<IPython.core.display.HTML object>"
      ]
     },
     "metadata": {},
     "output_type": "display_data"
    }
   ],
   "source": [
    "display(load_image('fig33'))\n",
    "display(load_image('fig34'))"
   ]
  },
  {
   "cell_type": "markdown",
   "id": "b3ba4d6b-f6bc-4386-99cc-1866c74204d8",
   "metadata": {},
   "source": [
    "In *Figure 33*, the algorithm successfully identifies the intersection point on the 11th iteration. However, in *Figure 34*, we observe that it overshoots the position of the vertical line and \"lands\" the radius vector near the x-axis (this is not the final iteration of the algorithm, as in this case, the radius vector oscillates infinitely above and below the negative x-axis). To understand why this occurs, let us return to the first iteration."
   ]
  },
  {
   "cell_type": "code",
   "execution_count": 10,
   "id": "98e06857-2c0a-41c3-9926-484ef7cea444",
   "metadata": {},
   "outputs": [
    {
     "data": {
      "text/html": [
       "\n",
       "    <div style=\"display: flex; justify-content: center; align-items: center; height: 300px;\">\n",
       "        <img src=\"Images/fig35.png\" style=\"width: 562px; height: 300px;\">\n",
       "        <div style=\"position: absolute; top: 0px; right: 80px; color: black; font-size: 14px; background-color: rgba(255, 255, 255, 0.7); padding:           5px; border-radius: 5px;\">\n",
       "            Fig.35\n",
       "        </div>\n",
       "    </div>\n",
       "    "
      ],
      "text/plain": [
       "<IPython.core.display.HTML object>"
      ]
     },
     "execution_count": 10,
     "metadata": {},
     "output_type": "execute_result"
    }
   ],
   "source": [
    "load_image('fig35')"
   ]
  },
  {
   "cell_type": "markdown",
   "id": "98feee22-cd6c-4d0e-8f61-60174cb9380a",
   "metadata": {},
   "source": [
    "The red dot, which indicates the position of the radius vector in the first iteration, is located slightly 'behind' the vertical line. The readings on the left show that its $x$ - coordinate (**Spiral x: -2.542208...**) is slightly greater in absolute value than the position $x_l$ of the line (**x: -2.49**). That is, already in the first iteration, the radius vector has passed the vertical line. From this point onward, the algorithm functions normally and continues to move the vector forward over time. Let’s see this in the following images."
   ]
  },
  {
   "cell_type": "code",
   "execution_count": 11,
   "id": "29ebcd01-3e32-4b4e-a6bc-df821d70a53c",
   "metadata": {},
   "outputs": [
    {
     "data": {
      "text/html": [
       "<div style='display: flex; justify-content: space-between;'>\n",
       "        <div style=\"text-align: center; margin: 0 10px;\">\n",
       "            <img src=\"Images/fig36.png\" style=\"width: 375px; height: 200px;\">\n",
       "            <div style=\"color: black; font-size: 14px; background-color: rgba(255, 255, 255, 0.7); padding: 5px; border-radius: 5px;\">\n",
       "                Fig.36\n",
       "            </div>\n",
       "        </div>\n",
       "        \n",
       "        <div style=\"text-align: center; margin: 0 10px;\">\n",
       "            <img src=\"Images/fig37.png\" style=\"width: 375px; height: 200px;\">\n",
       "            <div style=\"color: black; font-size: 14px; background-color: rgba(255, 255, 255, 0.7); padding: 5px; border-radius: 5px;\">\n",
       "                Fig.37\n",
       "            </div>\n",
       "        </div>\n",
       "        </div>"
      ],
      "text/plain": [
       "<IPython.core.display.HTML object>"
      ]
     },
     "metadata": {},
     "output_type": "display_data"
    }
   ],
   "source": [
    "display(load_images([('fig36', 'left'), ('fig37', 'right')]))"
   ]
  },
  {
   "cell_type": "markdown",
   "id": "a1df0e4b-c911-42dd-aeda-9b6d5be63734",
   "metadata": {},
   "source": [
    "The direction of the movement of the radius vector is determined by the **Sign function** from the formula 2.1.3.12.\n",
    "\n",
    "$$\\left\\{ t_{[n; m]} \\right\\} = t_{[n; m-1]} + \n",
    "S_{(\\omega x_l y_s(t_{[n; m-1]}))}\n",
    "\\frac{\\Delta \\phi_m(t_{[n; m-1]}, x_l, v, \\omega, k)}\n",
    "{|E_{(\\omega)}|}. \\quad\\quad\\quad\\quad (2.1.3.12)$$\n",
    "\n",
    "With this configuration of the parameters of the spiral and the line, $S_{(\\omega x_l y_s(t_{[n; m-1]}))}$ returns 1, meaning the radius vector moves forward in time.\n",
    "\n",
    "To correct the behavior of the algorithm in scenarios like this, we need to construct an *algebraic check* that determines whether the $x$-coordinate of the radius vector in the current iteration is 'behind' the line. This can be easily verified by taking the sign of the difference between the absolute values of $x_l$ and $x_s$. We will do this again using the **Sign function**, but this time, we will pass the difference as an argument.\n",
    "\n",
    "$$S_{(|x_l| - |x_s(t_{[n; m-1]})|)} = \\frac{|x_l| - |x_s(t_{[n; m-1]})|}{|E_{(|x_l| - |x_s(t_{[n; m-1]})|)}|}. \\quad\\quad\\quad\\quad(2.2.1)$$\n",
    "\n",
    "Then the equation 2.1.3.12 takes the form:\n",
    "\n",
    "$$\\left\\{ t_{[n; m]} \\right\\} = t_{[n; m-1]} +\n",
    "S_{(|x_l| - |x_s(t_{[n; m-1]})|)}\n",
    "S_{(\\omega x_l y_s(t_{[n; m-1]}))}\n",
    "\\frac{\\Delta \\phi_m(t_{[n; m-1]}, x_l, v, \\omega, k)}\n",
    "{|E_{(\\omega)}|}. \\quad\\quad\\quad\\quad (2.2.2)$$\n",
    "\n",
    "The command that performs the new algebraic check $S_{(|x_l| - |x_s(t_{[n; m-1]})|)}$, placed as a coefficient before the multiplier $\\frac{\\Delta \\phi_m(t_{[n; m-1]}, x_l, v, \\omega, k)}\n",
    "{|E_{(\\omega)}|}$, is as follows:\n",
    "\n",
    "**If:**  \n",
    " + The $x$-coordinate of the radius vector in the current iteration is behind the vertical line (i.e., if it is greater in absolute value), reverse the direction of movement defined by the previous coefficient $S_{(\\omega x_l y_s(t_{[n; m-1]}))}$.  \n",
    "\n",
    "  + The $x$-coordinate of the radius vector in the current iteration is ahead of the line (i.e., if it is smaller in absolute value), keep the direction of movement as defined by $S_{(\\omega x_l y_s(t_{[n; m-1]}))}$.\n",
    "  \n",
    "\n",
    "The third case – when $x_s(t_{[n; m-1]}) = x_l$, is more specific. It can only occur when the vertical line coincides with the $y$-axis. However, this case is accounted for by the coefficient in the first check, which also returns 0.\n",
    "\n",
    "The other case – when $x_s(t_{[n; m-1]}) \\ne x_l$, i.e., the line does not coincide with the $y$-axis, should theoretically never happen. This is due to two reasons:\n",
    "\n",
    "1. The intersection point between a spiral curve and a vertical line does not have an analytical solution – this is the very definition of the problem being addressed here.\n",
    "\n",
    "2. In probability theory, the *Probability Density Function* (PDF) states that the likelihood of a continuous random variable being assigned an exact value tends to zero.\n",
    "\n",
    "$$P(X = c) = \\int_{c}^{c} f(x) \\, dx = 0, \\quad\\quad\\quad\\quad (2.2.3)$$\n",
    "\n",
    "where $X$ is the random variable, and $c$ is the arbitrarily chosen value.\n",
    "\n",
    "In this case, the random variable is $x_s(t_{[n; m-1]})$, and the arbitrarily chosen value is $x_l$. Then we have:\n",
    "\n",
    "$$P(x_s(t_{[n; m-1]}) = x_l) = \\int_{x_l}^{x_l} x_s(t_{[n; m-1]}) \\, dx = 0, \\quad\\quad\\quad\\quad (2.2.4)$$\n",
    "\n",
    "where we have replaced the integrable function $f(x)$ with $x_s(t_{[n; m-1]})$, which is the value of the $x$-coordinate for each specific **mth** iteration of the angular algorithm. The question here is how to interpret $x_s(t_{[n; m-1]})$? The *Probability Density Function* works with a random continuous variable. The variable $x_s(t_{[n; m-1]})$, on the other hand, is continuous but not random – it is the result of well-defined algebraic operations from the *angular algorithm*. Although the algorithm represents a strict sequence of algebraic actions, the parameters with which it operates – $v$, $\\omega$ and $k$ -  are chosen arbitrarily. In this sense, here we are looking for the *Probability Density Function* of three random continuous variables with respect to a fourth random continuous variable - $x_l$. And since there is no analytical connection between them, the probability of randomly selecting such values for the spiral parameters, so that after inputting them into the algorithm, we get another arbitrary value, tends to zero.\n",
    "\n",
    "This question is very important because it concerns the problem of the existence of strict mathematical foundations for whether the two-dimensional numerical sequence, defined by the angular algorithm, has a limit. From this perspective, we can define the two-dimensional sequence in the following way:\n",
    "\n",
    "$$\\lim_{n, m \\to \\infty} \\left\\{ t_{[n; m]} \\right\\} = t_{[n; m-1]} +\n",
    "S_{(|x_l| - |x_s(t_{[n; m-1]})|)}\n",
    "S_{(\\omega x_l y_s(t_{[n; m-1]}))}\n",
    "\\frac{\\Delta \\phi_m(t_{[n; m-1]}, x_l, v, \\omega, k)}\n",
    "{|E_{(\\omega)}|}. \\quad\\quad\\quad\\quad (2.2.5)$$\n",
    "\n",
    "Since the sequence is two-dimensional, this means that it has multiple limits, each of which represents the m-th approximation of the n-th intersection point of the spiral curve with the vertical line. Since the vertical line intersects the spiral at specific points, this circumstance requires all the individual sequences that make up the two-dimensional sequence to be convergent. From this perspective, we can redefine the goal of the problem as the task of constructing an absolutely convergent two-dimensional numerical sequence. We can define the absolutely convergent two-dimensional numerical sequence as follows:\n",
    "\n",
    "*We will call a two-dimensional sequence absolutely convergent if each of its elements is a convergent sequence. An element of a two-dimensional sequence will be called any sequence with an initial value $t_{[n; 0]}$.*\n",
    "\n",
    "More formaly:\n",
    "\n",
    "$$\\left\\{ t_{[n; m]} \\right\\} \\text{ is a convergent sequence if } \\exists \\lim_{n, m \\to \\infty} \\left\\{ t_{[n; m]} \\right\\} \\text{ such that } \\forall n \\geq 1, m \\geq 0. \\quad\\quad\\quad\\quad (2.2.6)$$\n",
    " \n",
    "\n",
    "Below, we will see that the algorithm does not always reach a specific limit without corrections.\n",
    "\n",
    "Let us now return to the images to see how the new coefficient $S_{(|x_l| - |x_s(t_{[n; m-1]})|)}$ works. This time, we will use different values for the spiral's parameters, which will allow for better and clearer visualization of the algorithm. We will choose parameters with the same signs as those in *Figures 36 and 37* but with different values."
   ]
  },
  {
   "cell_type": "code",
   "execution_count": 13,
   "id": "f34843f6-a17d-4176-a0d3-699c28380294",
   "metadata": {},
   "outputs": [
    {
     "data": {
      "text/html": [
       "\n",
       "    <div style=\"display: flex; justify-content: center; align-items: center; height: 300px;\">\n",
       "        <img src=\"Images/fig38.png\" style=\"width: 562px; height: 300px;\">\n",
       "        <div style=\"position: absolute; top: 0px; right: 80px; color: black; font-size: 14px; background-color: rgba(255, 255, 255, 0.7); padding:           5px; border-radius: 5px;\">\n",
       "            Fig.38\n",
       "        </div>\n",
       "    </div>\n",
       "    "
      ],
      "text/plain": [
       "<IPython.core.display.HTML object>"
      ]
     },
     "execution_count": 13,
     "metadata": {},
     "output_type": "execute_result"
    }
   ],
   "source": [
    "load_image('fig38')"
   ]
  },
  {
   "cell_type": "markdown",
   "id": "7126724d-9de6-4331-9cbf-73d3ed0522b6",
   "metadata": {},
   "source": [
    "With small values of $v$ and $\\omega$, and an initial angle with coefficient $k = 0.8$, we observe a highly distorted spiral. The upper figure shows the first iteration of the algorithm. The next two figures display, respectively, the second iteration without the new coefficient (*Figure 39*) and the second iteration with the new coefficient (*Figure 40*). It is evident that, in the latter case, the coefficient indeed reverses the direction of rotation because $|x_l| - |x_s(t_{[n; m-1]})| < 0$."
   ]
  },
  {
   "cell_type": "code",
   "execution_count": 14,
   "id": "db2a276c-a445-4035-a805-fe8d7d55b35a",
   "metadata": {},
   "outputs": [
    {
     "data": {
      "text/html": [
       "<div style='display: flex; justify-content: space-between;'>\n",
       "        <div style=\"text-align: center; margin: 0 10px;\">\n",
       "            <img src=\"Images/fig39.png\" style=\"width: 375px; height: 200px;\">\n",
       "            <div style=\"color: black; font-size: 14px; background-color: rgba(255, 255, 255, 0.7); padding: 5px; border-radius: 5px;\">\n",
       "                Fig.39\n",
       "            </div>\n",
       "        </div>\n",
       "        \n",
       "        <div style=\"text-align: center; margin: 0 10px;\">\n",
       "            <img src=\"Images/fig40.png\" style=\"width: 375px; height: 200px;\">\n",
       "            <div style=\"color: black; font-size: 14px; background-color: rgba(255, 255, 255, 0.7); padding: 5px; border-radius: 5px;\">\n",
       "                Fig.40\n",
       "            </div>\n",
       "        </div>\n",
       "        </div>"
      ],
      "text/plain": [
       "<IPython.core.display.HTML object>"
      ]
     },
     "metadata": {},
     "output_type": "display_data"
    }
   ],
   "source": [
    "display(load_images([('fig39', 'left'), ('fig40', 'right')]))"
   ]
  },
  {
   "cell_type": "markdown",
   "id": "6999156c-ba5e-47cf-849c-d54a8ddb1930",
   "metadata": {},
   "source": [
    "In the figures below, we see that the corrected algorithm successfully accomplishes its task, achieving the specified approximation of five decimal places to the intersection point by the thirteenth iteration."
   ]
  },
  {
   "cell_type": "code",
   "execution_count": 16,
   "id": "3558787a-b03c-42e1-ace6-c30d7bcd766b",
   "metadata": {},
   "outputs": [
    {
     "data": {
      "text/html": [
       "<div style='display: flex; justify-content: space-between;'>\n",
       "        <div style=\"text-align: center; margin: 0 10px;\">\n",
       "            <img src=\"Images/fig41.png\" style=\"width: 375px; height: 200px;\">\n",
       "            <div style=\"color: black; font-size: 14px; background-color: rgba(255, 255, 255, 0.7); padding: 5px; border-radius: 5px;\">\n",
       "                Fig.41\n",
       "            </div>\n",
       "        </div>\n",
       "        \n",
       "        <div style=\"text-align: center; margin: 0 10px;\">\n",
       "            <img src=\"Images/fig42.png\" style=\"width: 375px; height: 200px;\">\n",
       "            <div style=\"color: black; font-size: 14px; background-color: rgba(255, 255, 255, 0.7); padding: 5px; border-radius: 5px;\">\n",
       "                Fig.42\n",
       "            </div>\n",
       "        </div>\n",
       "        </div>"
      ],
      "text/plain": [
       "<IPython.core.display.HTML object>"
      ]
     },
     "metadata": {},
     "output_type": "display_data"
    }
   ],
   "source": [
    "display(load_images([('fig41', 'left'), ('fig42', 'right')]))"
   ]
  },
  {
   "cell_type": "markdown",
   "id": "1d4d374f-c130-4594-b8bc-6b64a77f0b40",
   "metadata": {},
   "source": [
    "The behavior of the algorithm is more interesting in the case shown in *Figures 43-46*."
   ]
  },
  {
   "cell_type": "code",
   "execution_count": 17,
   "id": "02a48766-7f5d-40d3-9cc9-2e4c9d8706cc",
   "metadata": {},
   "outputs": [
    {
     "data": {
      "text/html": [
       "<div style='display: flex; justify-content: space-between;'>\n",
       "        <div style=\"text-align: center; margin: 0 10px;\">\n",
       "            <img src=\"Images/fig43.png\" style=\"width: 375px; height: 200px;\">\n",
       "            <div style=\"color: black; font-size: 14px; background-color: rgba(255, 255, 255, 0.7); padding: 5px; border-radius: 5px;\">\n",
       "                Fig.43\n",
       "            </div>\n",
       "        </div>\n",
       "        \n",
       "        <div style=\"text-align: center; margin: 0 10px;\">\n",
       "            <img src=\"Images/fig44.png\" style=\"width: 375px; height: 200px;\">\n",
       "            <div style=\"color: black; font-size: 14px; background-color: rgba(255, 255, 255, 0.7); padding: 5px; border-radius: 5px;\">\n",
       "                Fig.44\n",
       "            </div>\n",
       "        </div>\n",
       "        </div>"
      ],
      "text/plain": [
       "<IPython.core.display.HTML object>"
      ]
     },
     "metadata": {},
     "output_type": "display_data"
    },
    {
     "data": {
      "text/html": [
       "<div style='display: flex; justify-content: space-between;'>\n",
       "        <div style=\"text-align: center; margin: 0 10px;\">\n",
       "            <img src=\"Images/fig45.png\" style=\"width: 375px; height: 200px;\">\n",
       "            <div style=\"color: black; font-size: 14px; background-color: rgba(255, 255, 255, 0.7); padding: 5px; border-radius: 5px;\">\n",
       "                Fig.45\n",
       "            </div>\n",
       "        </div>\n",
       "        \n",
       "        <div style=\"text-align: center; margin: 0 10px;\">\n",
       "            <img src=\"Images/fig46.png\" style=\"width: 375px; height: 200px;\">\n",
       "            <div style=\"color: black; font-size: 14px; background-color: rgba(255, 255, 255, 0.7); padding: 5px; border-radius: 5px;\">\n",
       "                Fig.46\n",
       "            </div>\n",
       "        </div>\n",
       "        </div>"
      ],
      "text/plain": [
       "<IPython.core.display.HTML object>"
      ]
     },
     "metadata": {},
     "output_type": "display_data"
    }
   ],
   "source": [
    "display(load_images([('fig43', 'left'), ('fig44', 'right')]))\n",
    "display(load_images([('fig45', 'left'), ('fig46', 'right')]))"
   ]
  },
  {
   "cell_type": "markdown",
   "id": "b1664208-a18d-4bda-9cde-8c23ba453187",
   "metadata": {},
   "source": [
    "On the first iteration, the radius vector is behind the line, which triggers the reversal of direction by the coefficient $S_{(|x_l| - |x_s(t_{[n; m-1]})|)}$. However, this sends it to the position of the second iteration, where it is already ahead of the line, and the coefficient does not reverse the direction (returns 1). Moving forward, the radius vector jumps to the third iteration, where it is once again behind the line, causing the direction to reverse again. This is the behavior of an oscillating convergent numerical sequence, such as the sequence $a_n = (-1)^n \\frac{1}{n}$\n",
    "\n",
    "With each subsequent iteration, the angle of rotation becomes smaller, and the radius vector approaches the line. In this specific case, this happens on the fifteenth iteration."
   ]
  },
  {
   "cell_type": "code",
   "execution_count": 18,
   "id": "e6b83140-07f0-4af9-878a-cb830717d8b7",
   "metadata": {},
   "outputs": [
    {
     "data": {
      "text/html": [
       "\n",
       "    <div style=\"display: flex; justify-content: center; align-items: center; height: 300px;\">\n",
       "        <img src=\"Images/fig47.png\" style=\"width: 562px; height: 300px;\">\n",
       "        <div style=\"position: absolute; top: 0px; right: 80px; color: black; font-size: 14px; background-color: rgba(255, 255, 255, 0.7); padding:           5px; border-radius: 5px;\">\n",
       "            Fig.47\n",
       "        </div>\n",
       "    </div>\n",
       "    "
      ],
      "text/plain": [
       "<IPython.core.display.HTML object>"
      ]
     },
     "execution_count": 18,
     "metadata": {},
     "output_type": "execute_result"
    }
   ],
   "source": [
    "load_image('fig47')"
   ]
  },
  {
   "cell_type": "markdown",
   "id": "36c0a96d-e5f9-408e-8cc6-6fab525e9f84",
   "metadata": {},
   "source": [
    "So far, we have observed three different behaviors of the algorithm, resulting in two types of numerical sequences - two monotonic and one oscillating. Next, we should focus on what causes these differences in behavior. They depend on the position of the vertical line relative to the spiral, i.e., on the configuration of the parameters. More specifically, these behaviors are determined by the position of the line relative to two critical points on the spiral curve. These two points will be referred to as the **point of maximum displacement** (**PMD**) and the **point оf return** (**PR**)."
   ]
  },
  {
   "cell_type": "code",
   "execution_count": 19,
   "id": "7f38865d-69a7-49ab-8415-cc9354658d92",
   "metadata": {},
   "outputs": [
    {
     "data": {
      "text/html": [
       "\n",
       "    <div style=\"display: flex; justify-content: center; align-items: center; height: 300px;\">\n",
       "        <img src=\"Images/fig48.png\" style=\"width: 562px; height: 300px;\">\n",
       "        <div style=\"position: absolute; top: 0px; right: 80px; color: black; font-size: 14px; background-color: rgba(255, 255, 255, 0.7); padding:           5px; border-radius: 5px;\">\n",
       "            Fig.48\n",
       "        </div>\n",
       "    </div>\n",
       "    "
      ],
      "text/plain": [
       "<IPython.core.display.HTML object>"
      ]
     },
     "execution_count": 19,
     "metadata": {},
     "output_type": "execute_result"
    }
   ],
   "source": [
    "load_image('fig48')"
   ]
  },
  {
   "cell_type": "markdown",
   "id": "26567406-b50b-4c12-8399-8813e392fa21",
   "metadata": {},
   "source": [
    "The point of maximum displacement is the point on the spiral where one of the coordinates of the radius vector reaches its maximum value relative to another value of the same coordinate. In this case, it refers to **PMD** along the $y$-coordinate after the first intersection of the radius vector with the ordinate axis. Every point on the spiral curve can be **PMD** relative to another point, with the sole exception of the point at \n",
    "$t=0$. The point of maximum displacement cannot be derived analytically, just like any other point on the spiral, but a modified numerical-analytical method, similar to the angular algorithm, can be applied to determine it.\n",
    "\n",
    "This algorithm will be presented in the appendix but will not be used in the equation for intersections. The point of maximum displacement and its properties are of great significance for certain adjustments in the angular algorithm.\n",
    "\n",
    "The point of return is the point at which a given coordinate of the radius vector returns to the same value relative to which the **PMD** is referenced."
   ]
  }
 ],
 "metadata": {
  "kernelspec": {
   "display_name": "Python 3 (ipykernel)",
   "language": "python",
   "name": "python3"
  },
  "language_info": {
   "codemirror_mode": {
    "name": "ipython",
    "version": 3
   },
   "file_extension": ".py",
   "mimetype": "text/x-python",
   "name": "python",
   "nbconvert_exporter": "python",
   "pygments_lexer": "ipython3",
   "version": "3.9.13"
  }
 },
 "nbformat": 4,
 "nbformat_minor": 5
}
