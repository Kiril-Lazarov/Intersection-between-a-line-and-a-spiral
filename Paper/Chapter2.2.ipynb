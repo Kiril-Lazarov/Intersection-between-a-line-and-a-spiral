{
 "cells": [
  {
   "cell_type": "code",
   "execution_count": 1,
   "id": "e23fad0a-47c8-4731-8932-e3bde0814d09",
   "metadata": {},
   "outputs": [],
   "source": [
    "from IPython.display import HTML\n",
    "from image_functions import *"
   ]
  },
  {
   "cell_type": "markdown",
   "id": "2edd19f4-df6a-4371-90df-ebcd0bb4373b",
   "metadata": {},
   "source": [
    "### <center> 2.2 Limitations of the Angle-Based Algorithm\n",
    "    \n",
    "In this section, we will examine all scenarios in which the algorithm fails and analyze the reasons behind these failures. Resolving the problematic situations will require modifications and expansions of the initial formula. Everything added to the formula from this point onward is aimed at correcting the errors. Once all errors in the algorithm have been addressed, we will proceed to derive the general formula for the intersection points between a spiral and a straight line of the type $y = ax + b$.\n",
    "    \n",
    "As we will see below, all limitations of the algorithm are tied to the position $x_l$ of the vertical line in relation to the specific configuration of the spiral's parameters - $v$, $\\omega$ and $k$. To ensure the algorithm functions correctly, it is essential to identify these situations through *algebraic checks* tailored to the parameters of the line and the spiral in each case. Some of these checks involve complex logic and require deriving advanced reduction functions. We will follow a strategy of deriving these checks algebraically outside the equation and then integrating them into it using their assigned names.\n",
    "    \n",
    "Let us recall the scenario from the previous section, which we used to derive the algorithm."
   ]
  },
  {
   "cell_type": "code",
   "execution_count": 4,
   "id": "5e686c49-eb93-49f1-a6bb-f0c6e5d89c4c",
   "metadata": {},
   "outputs": [
    {
     "data": {
      "text/html": [
       "\n",
       "    <div style=\"display: flex; justify-content: center; align-items: center; height: 300px;\">\n",
       "        <img src=\"Images/fig32.png\" style=\"width: 562px; height: 300px;\">\n",
       "        <div style=\"position: absolute; top: 0px; right: 80px; color: black; font-size: 14px; background-color: rgba(255, 255, 255, 0.7); padding:           5px; border-radius: 5px;\">\n",
       "            Fig.32\n",
       "        </div>\n",
       "    </div>\n",
       "    "
      ],
      "text/plain": [
       "<IPython.core.display.HTML object>"
      ]
     },
     "execution_count": 4,
     "metadata": {},
     "output_type": "execute_result"
    }
   ],
   "source": [
    "load_image('fig32')"
   ]
  },
  {
   "cell_type": "markdown",
   "id": "0b90becf-0ec9-498f-bb8c-a77b734c5265",
   "metadata": {},
   "source": [
    "Let us now explore the outcome when the spiral parameters remain unchanged, but the line is positioned on the opposite side of the x-axis. This situation leads to two possible scenarios."
   ]
  },
  {
   "cell_type": "code",
   "execution_count": 7,
   "id": "99d10539-e0d7-4950-a9ea-827029f86473",
   "metadata": {},
   "outputs": [
    {
     "data": {
      "text/html": [
       "\n",
       "    <div style=\"display: flex; justify-content: center; align-items: center; height: 300px;\">\n",
       "        <img src=\"Images/fig33.png\" style=\"width: 562px; height: 300px;\">\n",
       "        <div style=\"position: absolute; top: 0px; right: 80px; color: black; font-size: 14px; background-color: rgba(255, 255, 255, 0.7); padding:           5px; border-radius: 5px;\">\n",
       "            Fig.33\n",
       "        </div>\n",
       "    </div>\n",
       "    "
      ],
      "text/plain": [
       "<IPython.core.display.HTML object>"
      ]
     },
     "metadata": {},
     "output_type": "display_data"
    },
    {
     "data": {
      "text/html": [
       "\n",
       "    <div style=\"display: flex; justify-content: center; align-items: center; height: 300px;\">\n",
       "        <img src=\"Images/fig34.png\" style=\"width: 562px; height: 300px;\">\n",
       "        <div style=\"position: absolute; top: 0px; right: 80px; color: black; font-size: 14px; background-color: rgba(255, 255, 255, 0.7); padding:           5px; border-radius: 5px;\">\n",
       "            Fig.34\n",
       "        </div>\n",
       "    </div>\n",
       "    "
      ],
      "text/plain": [
       "<IPython.core.display.HTML object>"
      ]
     },
     "metadata": {},
     "output_type": "display_data"
    }
   ],
   "source": [
    "display(load_image('fig33'))\n",
    "display(load_image('fig34'))"
   ]
  },
  {
   "cell_type": "markdown",
   "id": "b3ba4d6b-f6bc-4386-99cc-1866c74204d8",
   "metadata": {},
   "source": [
    "In *Figure 33*, the algorithm successfully identifies the intersection point on the 11th iteration. However, in *Figure 34*, we observe that it overshoots the position of the vertical line and \"lands\" the radius vector near the x-axis (this is not the final iteration of the algorithm, as in this case, the radius vector oscillates infinitely above and below the negative x-axis). To understand why this occurs, let us return to the first iteration."
   ]
  },
  {
   "cell_type": "code",
   "execution_count": 8,
   "id": "98e06857-2c0a-41c3-9926-484ef7cea444",
   "metadata": {},
   "outputs": [
    {
     "data": {
      "text/html": [
       "\n",
       "    <div style=\"display: flex; justify-content: center; align-items: center; height: 300px;\">\n",
       "        <img src=\"Images/fig35.png\" style=\"width: 562px; height: 300px;\">\n",
       "        <div style=\"position: absolute; top: 0px; right: 80px; color: black; font-size: 14px; background-color: rgba(255, 255, 255, 0.7); padding:           5px; border-radius: 5px;\">\n",
       "            Fig.35\n",
       "        </div>\n",
       "    </div>\n",
       "    "
      ],
      "text/plain": [
       "<IPython.core.display.HTML object>"
      ]
     },
     "execution_count": 8,
     "metadata": {},
     "output_type": "execute_result"
    }
   ],
   "source": [
    "load_image('fig35')"
   ]
  },
  {
   "cell_type": "code",
   "execution_count": null,
   "id": "a2e15a9b-43e2-47d1-bd29-009e89af9556",
   "metadata": {},
   "outputs": [],
   "source": []
  }
 ],
 "metadata": {
  "kernelspec": {
   "display_name": "Python 3 (ipykernel)",
   "language": "python",
   "name": "python3"
  },
  "language_info": {
   "codemirror_mode": {
    "name": "ipython",
    "version": 3
   },
   "file_extension": ".py",
   "mimetype": "text/x-python",
   "name": "python",
   "nbconvert_exporter": "python",
   "pygments_lexer": "ipython3",
   "version": "3.9.13"
  }
 },
 "nbformat": 4,
 "nbformat_minor": 5
}
