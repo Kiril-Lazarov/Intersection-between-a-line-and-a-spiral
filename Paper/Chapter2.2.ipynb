{
 "cells": [
  {
   "cell_type": "code",
   "execution_count": 4,
   "id": "d7c12254-465a-4477-9759-d606cfa499e6",
   "metadata": {},
   "outputs": [],
   "source": [
    "from IPython.display import HTML\n",
    "from image_functions import *"
   ]
  },
  {
   "cell_type": "markdown",
   "id": "66f3fcb6-078c-4ea9-b539-dbc018fd3ead",
   "metadata": {},
   "source": [
    "## <center> 2.2 Length-based algorithm\n",
    "    \n",
    "The introduction of another algorithm for finding the intersection point necessitates the expansion of the formula for the two-dimensional sequence through the implementation of an algebraic check. The new algorithm concerns locating the intersection point of the spiral and the line at a position of the spiral's radius vector before its first encounter with the ordinate axis. Since the numbering of intersection points in the angular algorithm starts from 1, and the length-based algorithm must locate an intersection point prior to this first point, we must extend the domain of the two-dimensional sequence with respect to the n-th input value to include zero. The length-based algorithm will calculate a zero input value, which, for convenience, will be referred to as the zero intersection point, even though it is not an intersection of the spiral with the ordinate.\n",
    "\n",
    "Therefore, the check we need to construct for the new algorithm must serve as a **switch** that enables the length-based algorithm while simultaneously disabling the angular algorithm under $n=0$. For $n > 0$, the check performs the reverse operation.\n",
    "    \n",
    "$$ NSwitch_{(n)}^{[0,1]}= \\frac{n}{E_{(n)}}, \\quad n \\ge 0,  \\quad\\quad\\quad\\quad (2.2.1)$$\n",
    "    \n",
    "$$ NSwitch_{(n)}^{[0,1]}= 0, \\quad n = 0,  \\quad\\quad\\quad\\quad (2.2.2)$$\n",
    "    \n",
    "$$ NSwitch_{(n)}^{[0,1]}= 1 , \\quad n > 0.  \\quad\\quad\\quad\\quad (2.2.3)$$\n",
    "    \n",
    "The supplementary function will therefore have the following form:\n",
    "    \n",
    "$$\\overline{NSwitch_{(n)}^{[0,1]}}= 1 - \\frac{n}{E_{(n)}}, \\quad n \\ge 0,  \\quad\\quad\\quad\\quad (2.2.4)$$\n",
    "    \n",
    "$$\\overline{NSwitch_{(n)}^{[0,1]}}= 1, \\quad n = 0,  \\quad\\quad\\quad\\quad (2.2.5)$$\n",
    "    \n",
    "$$\\overline{NSwitch_{(n)}^{[0,1]}}= 0 , \\quad n > 0.  \\quad\\quad\\quad\\quad (2.2.6)$$\n",
    "    \n",
    "\n",
    "Adding the switch to the equation, in a purely schematic form, it will look like this:\n",
    "    \n",
    "    \n",
    "$$\\lim_{n, m \\to \\infty} \\left\\{ t_{[n; m]} \\right\\} = \n",
    "\\overline{NSwitch_{(n)}^{[0,1]}}\\text{LB-Alg} +\n",
    "NSwitch_{(n)}^{[0,1]}\\text{AB-Alg}, \\quad n, m \\ge 0,  \\quad\\quad\\quad\\quad (2.2.7)$$\n",
    "    \n",
    "where the abbreviation $\\text{LB-Alg}$ denotes the length-based algorithm, and $\\text{AB-Alg}$ refers to the angle-based algorithm, the formula for which we derived in the previous sections. \n",
    "    \n",
    "The command from the switch is as follows:\n",
    "\n",
    "**If:**\n",
    " + $n=0$ reset the angle-based algorithm and activate the length-based one.\n",
    "\n",
    "**If:**\n",
    " + $n>0$ reset the length-based algorithm and activate the angle-based one.\n",
    "    \n",
    "Now we can proceed with constructing the length-based algorithm.\n",
    "    \n",
    "#### <center> Step 1\n",
    "    \n",
    "The first problem that needs to be addressed is the issue of the input value. To preserve the analytical aspect of the method, the input value must be derived analytically. It is not possible to search for the intersection point of the spiral with the $x$-axis because the starting angle is not always such that the spiral intersects the x-axis before intersecting the $y$-axis. The figure below illustrates a spiral with a starting angle of 270 degrees once again."
   ]
  },
  {
   "cell_type": "code",
   "execution_count": 8,
   "id": "703b5f34-cc2d-46ab-996d-eeabe11777cb",
   "metadata": {},
   "outputs": [
    {
     "data": {
      "text/html": [
       "\n",
       "    <div style=\"display: flex; justify-content: center; align-items: center; height: 300px;\">\n",
       "        <img src=\"Images/fig62.png\" style=\"width: 562px; height: 300px;\">\n",
       "        <div style=\"position: absolute; top: 0px; right: 80px; color: black; font-size: 14px; background-color: rgba(255, 255, 255, 0.7); padding:           5px; border-radius: 5px;\">\n",
       "            Fig.62\n",
       "        </div>\n",
       "    </div>\n",
       "    "
      ],
      "text/plain": [
       "<IPython.core.display.HTML object>"
      ]
     },
     "execution_count": 8,
     "metadata": {},
     "output_type": "execute_result"
    }
   ],
   "source": [
    "load_image('fig62')"
   ]
  },
  {
   "cell_type": "markdown",
   "id": "3c6e71cb-34a6-4dd6-be49-79da656aa7ef",
   "metadata": {},
   "source": [
    "We must choose the initial value $t_{[0;0]}$ so that the corresponding radius vector is always positioned before (or coincides with) the position of the line. The most convenient approach is to use the position of the line itself, specifically its length. In this case, the tip of the spiral's radius vector with the same length will always be located before or coincide with the position of the line, provided the line intersects the spiral.\n",
    "\n",
    "In the figure above, we see a line positioned at point $x_l=2.32$, along with the radius vector of the spiral that matches it in length. It can be seen that the tip of the vector is located before the line, and the angle $\\phi$ is central.\n",
    "\n",
    "$$\\vec{R} = |x_l|, \\quad\\quad\\quad\\quad (2.2.8)$$\n",
    "\n",
    "$$\\vec{R_x} = \\vec{R}cos\\phi, \\quad\\quad\\quad\\quad (2.2.9)$$\n",
    "\n",
    "$$\\vec{R_x} = |x_l|cos\\phi, \\quad\\quad\\quad\\quad (2.2.10)$$\n",
    "\n",
    "$$\\vec{R_x} \\le |x_l|, \\quad\\quad\\quad\\quad (2.2.11)$$\n",
    "\n",
    "where $\\vec{R_x}$ is the $x$-coordinate of the radius vector $\\vec{R}$.\n",
    "\n",
    "The radius vector $\\vec{R}$ is the input value for the length-based algorithm, and it is obtained by transforming the length $|x_l|$ into time using the relationship:\n",
    "\n",
    "$$\\vec {R} = vt, \\quad\\quad\\quad\\quad (1.1.4)$$\n",
    "\n",
    "$$|x_l| =vt, \\quad\\quad\\quad\\quad (2.2.12)$$\n",
    "\n",
    "$$ t = \\frac{|x_l|}{v}, \\quad\\quad\\quad\\quad (2.2.13)$$\n",
    "\n",
    "$$ t_{[0;0]} = \\frac{|x_l|}{E_{(v)}}. \\quad\\quad\\quad\\quad (2.2.14)$$\n",
    "\n",
    "\n",
    "The last formula expresses the initial moment $t_{[0;0]}$, with the velocity $v$ placed in the denominator as an argument of the **eliminative function** to avoid division by zero since $v \\ge 0$.\n",
    "\n",
    "#### <center> Step 2\n",
    "    \n",
    "*Figure 63* shows the zeroth and first iterations of the *length-based algorithm*.    "
   ]
  },
  {
   "cell_type": "code",
   "execution_count": 11,
   "id": "af2532f7-1127-418b-abd0-9be9e4a70404",
   "metadata": {},
   "outputs": [
    {
     "data": {
      "text/html": [
       "\n",
       "    <div style=\"display: flex; justify-content: center; align-items: center; height: 300px;\">\n",
       "        <img src=\"Images/fig63.png\" style=\"width: 562px; height: 300px;\">\n",
       "        <div style=\"position: absolute; top: 0px; right: 80px; color: black; font-size: 14px; background-color: rgba(255, 255, 255, 0.7); padding:           5px; border-radius: 5px;\">\n",
       "            Fig.63\n",
       "        </div>\n",
       "    </div>\n",
       "    "
      ],
      "text/plain": [
       "<IPython.core.display.HTML object>"
      ]
     },
     "execution_count": 11,
     "metadata": {},
     "output_type": "execute_result"
    }
   ],
   "source": [
    "load_image('fig63')"
   ]
  },
  {
   "cell_type": "markdown",
   "id": "6252e286-17b4-45a6-b853-6d5ec6d9897f",
   "metadata": {},
   "source": [
    "The green radius vector $\\vec{R_0}$, is equal in length to the distance between the origin of the coordinate system and the point $x_l$. The iterative approximation of the radius vector to the intersection point with the line is achieved by extending the green radius vector to its intersection with the line (the blue point on the vertical line in the image), adding the distance $\\Delta s$, and finding the radius vector corresponding to this length - $\\vec{R_1} = \\vec{R_0} + \\Delta s$. The length of this radius vector can be determined using the angle $\\phi$ and the position of the line $x_l$.\n",
    "\n",
    "$$ \\vec{R_0} + \\Delta s = \\frac{|x_l|}{cos\\phi} \\quad\\quad\\quad\\quad (2.2.15)$$\n",
    "\n",
    "\n",
    "The angle $\\phi$ is determined using the coordinates of the initial radius vector $\\vec{R_0}$.\n",
    "\n",
    "$$ \\phi = \\arctan(|\\frac{y_s(t_{[0;0]})}{E_{(x_s(t_{[0;0]}))}}|). \\quad\\quad\\quad\\quad (2.2.16)$$\n",
    "\n",
    "Here, we are interested in the magnitude of the angle without its sign, so we take its absolute value. We use $x_s(t_{[0;0]})$ as an argument for the eliminative function because when  $x_l = 0$, the initial value of $x_s(t_{[0;0]})$ for the algorithm will also be zero.\n",
    "\n",
    " \n",
    "We substitute $\\phi$ into 2.2.15:\n",
    "\n",
    "$$ \\vec{R_0} + \\Delta s = \\frac{|x_l|}\n",
    "{\\cos(\\arctan(|\\frac{y_s(t_{[0;0]})}{E_{(x_s(t_{[0;0]}))}}|))} \\quad\\quad\\quad\\quad (2.2.17)$$\n",
    "\n",
    "\n",
    "Now, we need to transform the obtained length into time.\n",
    " \n",
    "#### <center> Step 3\n",
    "    \n",
    "To obtain the time $t_{[0;1]}$ of the first iteration, we need to divide the length $\\vec{R_0} + \\Delta s$ by the radial velocity $v$.\n",
    " \n",
    "$$ t_{[0;1]} = \\frac{\\vec{R_0} + \\Delta s}{E_{(v)}} \\quad\\quad\\quad\\quad (2.2.18)$$\n",
    "    \n",
    "We will write down the general solution directly:\n",
    "\n",
    "$$ t_{[0;m]} = \\frac{|x_l|}\n",
    "{E_{(v)}\\cos(\\arctan(|\\frac{y_s(t_{[0;m-1]})}{E_{(x_s(t_{[0;m-1]}))}}|))} \\quad\\quad\\quad\\quad (2.2.19)$$\n",
    "    \n",
    "This is the final formula for the **Length-Based Algorithm**. Unlike the angular algorithm, it does not take the radius vector from the previous iteration as an argument, but uses the position $x_l$ on the vertical line and takes the angle of the current radius vector relative to the $x$-axis. That is, it directly calculates the new value. For this reason, it does not add or subtract time from the previous iteration of the algorithm. This also eliminates the need for an algebraic check for the direction of the next radius vector.\n",
    "    \n",
    "The behavior of the algorithm under the same conditions that required the construction of an algebraic check for the direction of rotation in the angular algorithm is shown in the four figures below."
   ]
  },
  {
   "cell_type": "code",
   "execution_count": 12,
   "id": "2c588a50-799a-48e6-b490-228dd07b5e7d",
   "metadata": {},
   "outputs": [
    {
     "data": {
      "text/html": [
       "<div style='display: flex; justify-content: space-between;'>\n",
       "        <div style=\"text-align: center; margin: 0 10px;\">\n",
       "            <img src=\"Images/fig64.png\" style=\"width: 375px; height: 200px;\">\n",
       "            <div style=\"color: black; font-size: 14px; background-color: rgba(255, 255, 255, 0.7); padding: 5px; border-radius: 5px;\">\n",
       "                Fig.64\n",
       "            </div>\n",
       "        </div>\n",
       "        \n",
       "        <div style=\"text-align: center; margin: 0 10px;\">\n",
       "            <img src=\"Images/fig65.png\" style=\"width: 375px; height: 200px;\">\n",
       "            <div style=\"color: black; font-size: 14px; background-color: rgba(255, 255, 255, 0.7); padding: 5px; border-radius: 5px;\">\n",
       "                Fig.65\n",
       "            </div>\n",
       "        </div>\n",
       "        </div>"
      ],
      "text/plain": [
       "<IPython.core.display.HTML object>"
      ]
     },
     "metadata": {},
     "output_type": "display_data"
    },
    {
     "data": {
      "text/html": [
       "<div style='display: flex; justify-content: space-between;'>\n",
       "        <div style=\"text-align: center; margin: 0 10px;\">\n",
       "            <img src=\"Images/fig66.png\" style=\"width: 375px; height: 200px;\">\n",
       "            <div style=\"color: black; font-size: 14px; background-color: rgba(255, 255, 255, 0.7); padding: 5px; border-radius: 5px;\">\n",
       "                Fig.66\n",
       "            </div>\n",
       "        </div>\n",
       "        \n",
       "        <div style=\"text-align: center; margin: 0 10px;\">\n",
       "            <img src=\"Images/fig67.png\" style=\"width: 375px; height: 200px;\">\n",
       "            <div style=\"color: black; font-size: 14px; background-color: rgba(255, 255, 255, 0.7); padding: 5px; border-radius: 5px;\">\n",
       "                Fig.67\n",
       "            </div>\n",
       "        </div>\n",
       "        </div>"
      ],
      "text/plain": [
       "<IPython.core.display.HTML object>"
      ]
     },
     "metadata": {},
     "output_type": "display_data"
    }
   ],
   "source": [
    "display(load_images([('fig64', 'left'), ('fig65', 'right')]))\n",
    "display(load_images([('fig66', 'left'), ('fig67', 'right')]))"
   ]
  },
  {
   "cell_type": "markdown",
   "id": "e1dd9433-f806-4abf-8b03-88ae0a2e5206",
   "metadata": {},
   "source": [
    "It can be seen that the radius vector oscillates as it advances towards the intersection point in a completely natural way without requiring corrections through algebraic checks. This is because the length of the new radius vector is equal to the distance from the center of the coordinate system to the intersection point of the line on which the current radius vector lies and the vertical line.\n",
    "\n",
    "The **Angle-Based Algorithm** also solves the problem of the zero intersection point when the initial angle of the spiral is such that it does not intersect the $x$-axis. The following images show the first iterations of the algorithm with an initial spiral angle of $11.7$ degrees."
   ]
  },
  {
   "cell_type": "code",
   "execution_count": 13,
   "id": "ee8a46e3-857e-410c-9b65-5a5cc261c06d",
   "metadata": {},
   "outputs": [
    {
     "data": {
      "text/html": [
       "<div style='display: flex; justify-content: space-between;'>\n",
       "        <div style=\"text-align: center; margin: 0 10px;\">\n",
       "            <img src=\"Images/fig68.png\" style=\"width: 375px; height: 200px;\">\n",
       "            <div style=\"color: black; font-size: 14px; background-color: rgba(255, 255, 255, 0.7); padding: 5px; border-radius: 5px;\">\n",
       "                Fig.68\n",
       "            </div>\n",
       "        </div>\n",
       "        \n",
       "        <div style=\"text-align: center; margin: 0 10px;\">\n",
       "            <img src=\"Images/fig69.png\" style=\"width: 375px; height: 200px;\">\n",
       "            <div style=\"color: black; font-size: 14px; background-color: rgba(255, 255, 255, 0.7); padding: 5px; border-radius: 5px;\">\n",
       "                Fig.69\n",
       "            </div>\n",
       "        </div>\n",
       "        </div>"
      ],
      "text/plain": [
       "<IPython.core.display.HTML object>"
      ]
     },
     "metadata": {},
     "output_type": "display_data"
    },
    {
     "data": {
      "text/html": [
       "<div style='display: flex; justify-content: space-between;'>\n",
       "        <div style=\"text-align: center; margin: 0 10px;\">\n",
       "            <img src=\"Images/fig70.png\" style=\"width: 375px; height: 200px;\">\n",
       "            <div style=\"color: black; font-size: 14px; background-color: rgba(255, 255, 255, 0.7); padding: 5px; border-radius: 5px;\">\n",
       "                Fig.70\n",
       "            </div>\n",
       "        </div>\n",
       "        \n",
       "        <div style=\"text-align: center; margin: 0 10px;\">\n",
       "            <img src=\"Images/fig71.png\" style=\"width: 375px; height: 200px;\">\n",
       "            <div style=\"color: black; font-size: 14px; background-color: rgba(255, 255, 255, 0.7); padding: 5px; border-radius: 5px;\">\n",
       "                Fig.71\n",
       "            </div>\n",
       "        </div>\n",
       "        </div>"
      ],
      "text/plain": [
       "<IPython.core.display.HTML object>"
      ]
     },
     "metadata": {},
     "output_type": "display_data"
    }
   ],
   "source": [
    "display(load_images([('fig68', 'left'), ('fig69', 'right')]))\n",
    "display(load_images([('fig70', 'left'), ('fig71', 'right')]))"
   ]
  },
  {
   "cell_type": "markdown",
   "id": "a6ee8bd1-dd11-4800-b3e2-d593868252eb",
   "metadata": {},
   "source": [
    "In the next section, we will examine the limitations of the algorithm, and we will correct all these limitations by constructing algebraic checks."
   ]
  }
 ],
 "metadata": {
  "kernelspec": {
   "display_name": "Python 3 (ipykernel)",
   "language": "python",
   "name": "python3"
  },
  "language_info": {
   "codemirror_mode": {
    "name": "ipython",
    "version": 3
   },
   "file_extension": ".py",
   "mimetype": "text/x-python",
   "name": "python",
   "nbconvert_exporter": "python",
   "pygments_lexer": "ipython3",
   "version": "3.9.13"
  }
 },
 "nbformat": 4,
 "nbformat_minor": 5
}
