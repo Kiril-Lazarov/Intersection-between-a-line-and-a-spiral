{
 "cells": [
  {
   "cell_type": "code",
   "execution_count": 4,
   "id": "d7c12254-465a-4477-9759-d606cfa499e6",
   "metadata": {},
   "outputs": [],
   "source": [
    "from IPython.display import HTML\n",
    "from image_functions import *"
   ]
  },
  {
   "cell_type": "markdown",
   "id": "66f3fcb6-078c-4ea9-b539-dbc018fd3ead",
   "metadata": {},
   "source": [
    "## <center> 2.2 Length-based algorithm\n",
    "    \n",
    "The introduction of another algorithm for finding the intersection point necessitates the expansion of the formula for the two-dimensional sequence through the implementation of an algebraic check. The new algorithm concerns locating the intersection point of the spiral and the line at a position of the spiral's radius vector before its first encounter with the ordinate axis. Since the numbering of intersection points in the angular algorithm starts from 1, and the length-based algorithm must locate an intersection point prior to this first point, we must extend the domain of the two-dimensional sequence with respect to the n-th input value to include zero. The length-based algorithm will calculate a zero input value, which, for convenience, will be referred to as the zero intersection point, even though it is not an intersection of the spiral with the ordinate.\n",
    "\n",
    "Therefore, the check we need to construct for the new algorithm must serve as a **switch** that enables the length-based algorithm while simultaneously disabling the angular algorithm under $n=0$. For $n > 0$, the check performs the reverse operation.\n",
    "    \n",
    "$$ NSwitch_{(n)}^{[0,1]}= \\frac{n}{E_{(n)}}, \\quad n \\ge 0,  \\quad\\quad\\quad\\quad (2.2.1)$$\n",
    "    \n",
    "$$ NSwitch_{(n)}^{[0,1]}= 0, \\quad n = 0,  \\quad\\quad\\quad\\quad (2.2.2)$$\n",
    "    \n",
    "$$ NSwitch_{(n)}^{[0,1]}= 1 , \\quad n > 0.  \\quad\\quad\\quad\\quad (2.2.3)$$\n",
    "    \n",
    "The supplementary function will therefore have the following form:\n",
    "    \n",
    "$$\\overline{NSwitch_{(n)}^{[0,1]}}= 1 - \\frac{n}{E_{(n)}}, \\quad n \\ge 0,  \\quad\\quad\\quad\\quad (2.2.4)$$\n",
    "    \n",
    "$$\\overline{NSwitch_{(n)}^{[0,1]}}= 1, \\quad n = 0,  \\quad\\quad\\quad\\quad (2.2.5)$$\n",
    "    \n",
    "$$\\overline{NSwitch_{(n)}^{[0,1]}}= 0 , \\quad n > 0.  \\quad\\quad\\quad\\quad (2.2.6)$$\n",
    "    \n",
    "\n",
    "Adding the switch to the equation, in a purely schematic form, it will look like this:\n",
    "    \n",
    "    \n",
    "$$\\lim_{n, m \\to \\infty} \\left\\{ t_{[n; m]} \\right\\} = \n",
    "\\overline{NSwitch_{(n)}^{[0,1]}}\\text{LB-Alg} +\n",
    "NSwitch_{(n)}^{[0,1]}\\text{AB-Alg}, \\quad n, m \\ge 0,  \\quad\\quad\\quad\\quad (2.2.7)$$\n",
    "    \n",
    "where the abbreviation $\\text{LB-Alg}$ denotes the length-based algorithm, and $\\text{AB-Alg}$ refers to the angle-based algorithm, the formula for which we derived in the previous sections. \n",
    "    \n",
    "The command from the switch is as follows:\n",
    "\n",
    "**If:**\n",
    " + $n=0$ reset the angle-based algorithm and activate the length-based one.\n",
    "\n",
    "**If:**\n",
    " + $n>0$ reset the length-based algorithm and activate the angle-based one."
   ]
  }
 ],
 "metadata": {
  "kernelspec": {
   "display_name": "Python 3 (ipykernel)",
   "language": "python",
   "name": "python3"
  },
  "language_info": {
   "codemirror_mode": {
    "name": "ipython",
    "version": 3
   },
   "file_extension": ".py",
   "mimetype": "text/x-python",
   "name": "python",
   "nbconvert_exporter": "python",
   "pygments_lexer": "ipython3",
   "version": "3.9.13"
  }
 },
 "nbformat": 4,
 "nbformat_minor": 5
}
