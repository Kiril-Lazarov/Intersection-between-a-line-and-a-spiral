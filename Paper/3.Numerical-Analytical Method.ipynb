{
 "cells": [
  {
   "cell_type": "code",
   "execution_count": 18,
   "id": "4c5f14b2-3cff-4cec-b66e-7fbf62529b45",
   "metadata": {},
   "outputs": [],
   "source": [
    "from IPython.display import HTML\n",
    "from image_functions import *"
   ]
  },
  {
   "cell_type": "markdown",
   "id": "6ce9687e-7138-41cb-b0ff-f3569e5595b4",
   "metadata": {},
   "source": [
    "## <center> 2. Numerical-analytical method for finding intersection points between an Archimedean spiral and a straight line.\n",
    "    \n",
    "Let’s start with a graphical representation of the problem of intersection points."
   ]
  },
  {
   "cell_type": "code",
   "execution_count": 2,
   "id": "9f8025bc-417b-459b-961b-3134d2b224fd",
   "metadata": {},
   "outputs": [
    {
     "data": {
      "text/html": [
       "\n",
       "    <div style=\"display: flex; justify-content: center; align-items: center; height: 300px;\">\n",
       "        <img src=\"Images/fig1.png\" style=\"width: 562px; height: 300px;\">\n",
       "        <div style=\"position: absolute; top: 0px; right: 80px; color: black; font-size: 14px; background-color: rgba(255, 255, 255, 0.7); padding:           5px; border-radius: 5px;\">\n",
       "            Fig.1\n",
       "        </div>\n",
       "    </div>\n",
       "    "
      ],
      "text/plain": [
       "<IPython.core.display.HTML object>"
      ]
     },
     "execution_count": 2,
     "metadata": {},
     "output_type": "execute_result"
    }
   ],
   "source": [
    "load_image(name='fig1')"
   ]
  },
  {
   "cell_type": "markdown",
   "id": "e97e61d0-d200-4508-8455-c3e7af663836",
   "metadata": {},
   "source": [
    "We position the spiral with arbitrary parameters $v$, $\\omega$ and $k$ at the center of the coordinate system. We need to find all the points where the spiral curve intersects the straight line with arbitrary parameters $a$ and $b$ and equation\n",
    "\n",
    "$$y = ax + b, \\quad a,b \\in \\mathbb{R},  \\quad\\quad\\quad\\quad(2.1)$$\n",
    "\n",
    "where $a$ is the slope of the line relative to the $x$-axis, and $b$ is  the intersection point of the line with the $y$-axis.\n",
    "\n",
    "All we have as information for the two objects are the three parameters of the spiral and the two parameters of the line.\n",
    "\n",
    "## <center> 2.1 Angle-based algorithm\n",
    "    \n",
    "\n",
    "We will start deriving the formula for the main algorithm by taking the special case of a vertical line - that is, a line parallel to the $y$-axis - positioned at a specific point on the $x$-axis, denoted by $x_l$. This line has an infinite slope $a$ and no intersection $b$ with the $y$-axis. Therefore, it cannot be represented by the equation 2.1. Its equation is thus:\n",
    "    \n",
    "$$x_l = c, \\quad c \\in \\mathbb{R},  \\quad\\quad\\quad\\quad(2.1.1)$$\n",
    "    \n",
    "where $c$ is the fixed value of the $x$-coordinate for every point on the line. *Figure 2* illustrates a vertical line positioned at the point $x_l = 1$. This line intersects the spiral curve at infinitely many points. The task of finding the intersection points between this vertical line and the spiral is equivalent to determining the moments $t_n$, when the $x$-component of the parametric curve takes the values $x_s=x_l$ (in this case $x_l = 1$)."
   ]
  },
  {
   "cell_type": "code",
   "execution_count": 3,
   "id": "a277db16-def7-4953-9001-3c978d14f9e0",
   "metadata": {},
   "outputs": [
    {
     "data": {
      "text/html": [
       "\n",
       "    <div style=\"display: flex; justify-content: center; align-items: center; height: 300px;\">\n",
       "        <img src=\"Images/fig2.png\" style=\"width: 562px; height: 300px;\">\n",
       "        <div style=\"position: absolute; top: 0px; right: 80px; color: black; font-size: 14px; background-color: rgba(255, 255, 255, 0.7); padding:           5px; border-radius: 5px;\">\n",
       "            Fig.2\n",
       "        </div>\n",
       "    </div>\n",
       "    "
      ],
      "text/plain": [
       "<IPython.core.display.HTML object>"
      ]
     },
     "execution_count": 3,
     "metadata": {},
     "output_type": "execute_result"
    }
   ],
   "source": [
    "load_image(name='fig2')"
   ]
  },
  {
   "cell_type": "markdown",
   "id": "0d967998-7e00-42a7-96b2-0aeb3741b090",
   "metadata": {},
   "source": [
    "As already demonstrated, this problem has no analytical solution. More precisely, there is no analytical solution when $x_l \\ne 0$. However, an analytical solution exists when $x_l = 0$, i.e., when the line coincides with the $y$-axis. The $y$-axis, after all, is also a straight line; it is simply positioned at the center of the coordinate system along the $x$-axis. An analytical solution for $x_l = 0$ exists because the exact moments $t_n$, when the spiral curve intersects the $y$-axis, can be calculated through angle transformation. Since the spiral starts to unfold from the center of the coordinate system, the rotation of its radius vector describes a central angle. Therefore, the angle at which the radius vector must rotate to intersect the $y$-axis can be computed analytically.\n",
    "\n",
    "In *Figure 2*, the spiral begins to unfold counterclockwise with an initial angle of 0 degrees or $k = 0$. On the left side of the image, these correspond to $w$ (in the images, we will use $w$ instead of $\\omega$ due to technical reasons), $k$ and **start_angle**. The radius vector, therefore, must be rotated by 90 degrees to intersect the $y$-axis. Given this angle, its transformation over time is governed by the angular velocity $\\omega$ from the formula $1.1.5$. Expressing $t$ we have:\n",
    "\n",
    "$$t = \\frac{\\theta}{\\omega}. \\quad\\quad\\quad\\quad(2.1.1)$$\n",
    "\n",
    "In Figure 3, we have $\\omega = 1$, $k = 0$,  **start_angle** $\\theta_0 = 0$ degrees (or $\\frac{\\pi}{2}$ radians), $\\Delta \\theta = 90$ degrees ($\\frac{\\pi}{2}$ radians).\n",
    "\n",
    "For $t_1$ we get:\n",
    "\n",
    "$$t_1 = \\frac{\\Delta \\theta} {\\omega} = \\frac{\\frac{\\pi}{2}}{1} \\approx 1.5708.\\quad\\quad\\quad\\quad(2.1.2)$$"
   ]
  },
  {
   "cell_type": "code",
   "execution_count": 8,
   "id": "8a8b490c-b150-424f-89ac-291e67ec5261",
   "metadata": {},
   "outputs": [
    {
     "data": {
      "text/html": [
       "\n",
       "    <div style=\"display: flex; justify-content: center; align-items: center; height: 300px;\">\n",
       "        <img src=\"Images/fig3.png\" style=\"width: 562px; height: 300px;\">\n",
       "        <div style=\"position: absolute; top: 0px; right: 80px; color: black; font-size: 14px; background-color: rgba(255, 255, 255, 0.7); padding:           5px; border-radius: 5px;\">\n",
       "            Fig.3\n",
       "        </div>\n",
       "    </div>\n",
       "    "
      ],
      "text/plain": [
       "<IPython.core.display.HTML object>"
      ]
     },
     "execution_count": 8,
     "metadata": {},
     "output_type": "execute_result"
    }
   ],
   "source": [
    "load_image(name='fig3')"
   ]
  },
  {
   "cell_type": "markdown",
   "id": "6bdb840b-170b-446b-b373-b122adce2fca",
   "metadata": {},
   "source": [
    "All other intersection points with the $y$-axis are located at angles that are multiples of 180 degrees after the first intersection point and can be easily computed. These points will serve as the initial values entered into the iterative *angular-based algorithm*. In this sense, the method is numerically-analytical.\n",
    "\n",
    "Before we begin with the algorithm itself, the first task is to find the first intersection point of the spiral with the $y$-axis.\n",
    "\n",
    "### <center> 2.1.1 Analytical derivation of input values\n",
    "    \n",
    "Finding the first intersection point of the spiral curve with the $y$-axis means calculating two values:\n",
    "\n",
    "1. The magnitude of the rotation angle of the radius vector.\n",
    "2. Its direction.\n",
    "    \n",
    "The two values depend respectively on the two parameters: the initial angle of the spiral's unfolding $\\theta_0$ as a function of the parameter $k$, and the sign of the angular velocity $\\omega$."
   ]
  },
  {
   "cell_type": "code",
   "execution_count": 7,
   "id": "3a375338-9bdc-4216-aaa1-938e55ff59e6",
   "metadata": {},
   "outputs": [
    {
     "data": {
      "text/html": [
       "<div style='display: flex; justify-content: space-between;'>\n",
       "        <div style=\"text-align: center; margin: 0 10px;\">\n",
       "            <img src=\"Images/fig4.png\" style=\"width: 375px; height: 200px;\">\n",
       "            <div style=\"color: black; font-size: 14px; background-color: rgba(255, 255, 255, 0.7); padding: 5px; border-radius: 5px;\">\n",
       "                Fig.4\n",
       "            </div>\n",
       "        </div>\n",
       "        \n",
       "        <div style=\"text-align: center; margin: 0 10px;\">\n",
       "            <img src=\"Images/fig5.png\" style=\"width: 375px; height: 200px;\">\n",
       "            <div style=\"color: black; font-size: 14px; background-color: rgba(255, 255, 255, 0.7); padding: 5px; border-radius: 5px;\">\n",
       "                Fig.5\n",
       "            </div>\n",
       "        </div>\n",
       "        </div>"
      ],
      "text/plain": [
       "<IPython.core.display.HTML object>"
      ]
     },
     "metadata": {},
     "output_type": "display_data"
    }
   ],
   "source": [
    "display(load_images([('fig4', 'left'), ('fig5', 'right')]))"
   ]
  },
  {
   "cell_type": "markdown",
   "id": "08790150-dfe5-4529-adfd-245ec041c403",
   "metadata": {},
   "source": [
    "The two images above show spirals with the same initial angle $\\theta_0 = 315$ degrees ($k = 3.5$), but with different signs of angular velocity $\\omega$. In *Figure 4*, the spiral's radius vector needs to rotate 135 degrees anticlockwise, while in *Figure 5*, it needs to rotate 45 degrees clockwise.\n",
    "\n",
    "The algorithm for finding the first intersection point of the spiral curve with the ordinate axis consists of three parts:\n",
    "\n",
    "1.Calculating the magnitude of the angle of rotation of the radius vector to the nearest coordinate axis in the direction of the spiral's unwinding. The nearest coordinate axis can be either the ordinate or the abscissa.\n",
    "\n",
    "2.If the nearest coordinate axis is the abscissa, then 90 degrees ($\\frac{\\pi}{2}$ radians) must be added to the calculated angle of rotation to reach the next ordinate axis. This is the reason we chose to express the initial angle of the spiral as a multiple of $\\frac{\\pi}{2}$ .\n",
    "\n",
    "3.The resulting angle must be transformed into a time interval $\\Delta t$. Since the initial value of $t$ is zero, the given interval can be considered as a moment in time relative to $t = 0$. \n",
    "\n",
    "To distinguish the successive moments at which the spiral intersects the ordinate axis, we will place a right-hand subscript $n$ after $t$. Thus, the moment of the first intersection with the ordinate axis will be denoted as $t_1$, the moment of the second intersection as $t_2$, and so on. Therefore, for the first intersection point, we have:\n",
    "\n",
    "$$t_1 = \\frac{\\Delta \\theta}{|\\omega|}. \\quad\\quad\\quad\\quad(2.1.3)$$\n",
    "\n",
    "\n",
    "*Note*: For greater clarity in the formulas, we will adopt the strategy of calculating the **absolute values** of angles, lengths, etc., and performing operations with these values through **algebraic checks**. Therefore, in the above formula, we take the absolute value of $\\omega$ along with the fact that we have defined the parameter $t$ as a non-negative quantity.\n",
    "\n",
    "Furthermore, we will pass $\\omega$ as an argument to the *eliminative function* to avoid program interruption with a *\"division by zero error\"* when the sign of $\\omega$ changes.\n",
    "\n",
    "$$t_1 = \\frac{\\Delta \\theta}{|E_{(\\omega)}^{[1 \\vee  \\omega]}|}, \\quad\\quad\\quad\\quad(2.1.4)$$\n",
    "\n",
    "$$t_1 = \\frac{\\Delta \\theta}{1} = \\Delta \\theta, \\quad \\omega = 0. \\quad\\quad\\quad\\quad(2.1.5)$$\n",
    "\n",
    "When $\\omega = 0$ the elimination function returns one, leading to $t_1 = \\Delta \\theta$. But this is not correct. Figures 6 and 7 show that the program does not terminate at $\\omega = 0$, but instead of plotting a spiral curve, it draws a straight line. This makes sense - when the angular velocity equals zero, there is no rotation, and thus no spiral. Consequently, there can be no intersection of the spiral with the ordinate axis. However, this does not mean that the radius vector does not grow. This is a consequence of the spiral's parameterization. Let us revisit the formulas $1.1.10$ and $1.1.11$.\n",
    "\n",
    "$$x_s(t) = vtcos(k\\frac{\\pi}{2} + \\omega t), \\quad\\quad\\quad\\quad (1.1.10)$$\n",
    "    \n",
    "$$y_s(t) = vtsin(k\\frac{\\pi}{2} + \\omega t). \\quad\\quad\\quad\\quad (1.1.11)$$  \n",
    "\n",
    "At $\\omega = 0$ we have\n",
    "\n",
    "$$x_s(t) = vtcos(k\\frac{\\pi}{2}), \\quad\\quad\\quad\\quad (2.1.6)$$\n",
    "    \n",
    "$$y_s(t) = vtsin(k\\frac{\\pi}{2}). \\quad\\quad\\quad\\quad (2.1.7)$$\n",
    "\n",
    "The radius vector exists but does not rotate. That's why **Spiral angle = 0** degrees."
   ]
  },
  {
   "cell_type": "code",
   "execution_count": 12,
   "id": "61238470-a50e-44f3-b4be-2eb8bfa7d095",
   "metadata": {},
   "outputs": [
    {
     "data": {
      "text/html": [
       "<div style='display: flex; justify-content: space-between;'>\n",
       "        <div style=\"text-align: center; margin: 0 10px;\">\n",
       "            <img src=\"Images/fig6.png\" style=\"width: 375px; height: 200px;\">\n",
       "            <div style=\"color: black; font-size: 14px; background-color: rgba(255, 255, 255, 0.7); padding: 5px; border-radius: 5px;\">\n",
       "                Fig.6\n",
       "            </div>\n",
       "        </div>\n",
       "        \n",
       "        <div style=\"text-align: center; margin: 0 10px;\">\n",
       "            <img src=\"Images/fig7.png\" style=\"width: 375px; height: 200px;\">\n",
       "            <div style=\"color: black; font-size: 14px; background-color: rgba(255, 255, 255, 0.7); padding: 5px; border-radius: 5px;\">\n",
       "                Fig.7\n",
       "            </div>\n",
       "        </div>\n",
       "        </div>"
      ],
      "text/plain": [
       "<IPython.core.display.HTML object>"
      ]
     },
     "metadata": {},
     "output_type": "display_data"
    }
   ],
   "source": [
    "display(load_images([('fig6', 'left'), ('fig7', 'right')]))"
   ]
  },
  {
   "cell_type": "markdown",
   "id": "60491673-cfcf-47dd-9a4a-1c4543ceaa1e",
   "metadata": {},
   "source": [
    "Paradoxically, the eliminative function allows for the calculation of values that do not actually exist. This issue will be addressed in more detail in the **Appendix**.\n",
    "\n",
    "\n",
    "The first task is to express $\\Delta \\theta$ from formula $2.1.4$  as a function of $k$ and the sign of $\\omega$. Following step $2$ of the algorithm for finding the first intersection point, we need to determine the next coordinate axis relative to the initial angle of the spiral's unwinding $\\theta_0$ and the direction of the angular velocity $\\omega$. The initial angle as a function of $k$ is expressed using the following formula:\n",
    "\n",
    "$$\\theta_0(k) = k\\frac{\\pi}{2}.  \\quad\\quad\\quad\\quad(2.1.8)$$\n",
    "\n",
    "As a starting point, we will identify the next coordinate axis solely for positive angular velocity values. This is illustrated graphically in *Figures 8 and 9*. The black radius vector represents the initial angle $\\theta_0(k)$, while the red one indicates the next coordinate axis in the anticlockwise direction."
   ]
  },
  {
   "cell_type": "code",
   "execution_count": 16,
   "id": "16d208c5-527f-4091-8a0d-9b9f2b1df191",
   "metadata": {},
   "outputs": [
    {
     "data": {
      "text/html": [
       "<div style='display: flex; justify-content: space-between;'>\n",
       "        <div style=\"text-align: center; margin: 0 10px;\">\n",
       "            <img src=\"Images/fig8.png\" style=\"width: 375px; height: 200px;\">\n",
       "            <div style=\"color: black; font-size: 14px; background-color: rgba(255, 255, 255, 0.7); padding: 5px; border-radius: 5px;\">\n",
       "                Fig.8\n",
       "            </div>\n",
       "        </div>\n",
       "        \n",
       "        <div style=\"text-align: center; margin: 0 10px;\">\n",
       "            <img src=\"Images/fig9.png\" style=\"width: 375px; height: 200px;\">\n",
       "            <div style=\"color: black; font-size: 14px; background-color: rgba(255, 255, 255, 0.7); padding: 5px; border-radius: 5px;\">\n",
       "                Fig.9\n",
       "            </div>\n",
       "        </div>\n",
       "        </div>"
      ],
      "text/plain": [
       "<IPython.core.display.HTML object>"
      ]
     },
     "metadata": {},
     "output_type": "display_data"
    }
   ],
   "source": [
    "display(load_images([('fig8', 'left'), ('fig9', 'right')]))"
   ]
  },
  {
   "cell_type": "markdown",
   "id": "2968eb6a-c7b3-44dd-9afd-a5e447dc3b7c",
   "metadata": {},
   "source": [
    "We aim to determine how much the black radius vector should rotate in the counterclockwise direction. This angle will be denoted as $\\Delta \\theta (k)^+$, with the plus sign in the upper right index indicating that the angular velocity is currently positive. For $\\Delta \\theta (k)^+$, we have the following formula:\n",
    "\n",
    "$$\\Delta \\theta(k)^+ = \\lfloor k + 1 \\rfloor\\frac{\\pi}{2} - \\theta_0(k). \\quad\\quad\\quad\\quad(2.1.9)$$\n",
    "\n",
    "Replacing $\\theta_0(k)$ from (2.1.8)\n",
    "\n",
    "$$\\Delta \\theta(k)^+  =\\lfloor k + 1 \\rfloor\\frac{\\pi}{2}- k\\frac{\\pi}{2}, \\quad\\quad\\quad\\quad(2.1.10)$$\n",
    "\n",
    "$$\\Delta \\theta(k)^+  = (\\lfloor k + 1 \\rfloor- k)\\frac{\\pi}{2}. \\quad\\quad\\quad\\quad(2.1.11)$$\n",
    "\n",
    "Our goal, however, is to determine the next **ordinate axis**. As shown in *Figure 8*, an additional angle of $\\frac{\\pi}{2}$ radians needs to be added to reach the next ordinate axis. In contrast, in *Figure 9*, no additional angle is required. Therefore, we will rely on an algebraic check. \n",
    "\n",
    "As seen in both figures, the criterion is whether the integer part of the parameter $k$ is even or odd. This check will be performed using the reducing function $B^{[0 \\vee 1]}_{(x)}$. Let us recall its definition:\n",
    "\n",
    "$$B^{[0 \\vee 1]}_{(x)} = \\lceil x \\rceil - \\lfloor x \\rfloor,\\quad x \\in \\mathbb{R},\\quad\\quad\\quad\\quad(1.2.1.2)$$\n",
    "\n",
    "$$B^{[0 \\vee 1]}_{(x)} = 0,\\quad x \\in \\mathbb{Z},\\quad\\quad\\quad\\quad(1.2.1.3)$$\n",
    "\n",
    "$$B^{[0 \\vee 1]}_{(x)} = 1,\\quad x \\notin \\mathbb{Z}.\\quad\\quad\\quad\\quad(1.2.1.4)$$\n",
    "\n",
    "The purpose of this function is to check whether its argument is a fraction. This can easily be adapted into a check for whether the integer part of the argument is even or odd by providing the following expression as an argument:\n",
    "\n",
    "$$x = \\frac{\\lfloor k \\rfloor}{2}. \\quad\\quad\\quad\\quad(2.1.12)$$\n",
    "\n",
    "Then \n",
    "\n",
    "$$B^{[0 \\vee 1]}_{(\\frac{\\lfloor k \\rfloor}{2})} = 0,\\quad \\{k \\in \\mathbb{Z} \\mid k = 2n, n \\in \\mathbb{Z}\\},\\quad\\quad\\quad\\quad(2.1.13)$$\n",
    "\n",
    "$$B^{[0 \\vee 1]}_{(\\frac{\\lfloor k \\rfloor}{2})} = 1,\\quad \\{k \\in \\mathbb{Z} \\mid k = 2n + 1, n \\in \\mathbb{Z}\\}.\\quad\\quad\\quad\\quad(2.1.14)$$\n",
    "\n",
    "\n",
    "We add $1.2.1.3$ to $2.1.11$.\n",
    "\n",
    "$$\\Delta \\theta(k)^+  = (\\lfloor k + 1 \\rfloor- k + B^{[0 \\vee 1]}_{(\\frac{\\lfloor k \\rfloor}{2})})\\frac{\\pi}{2}. \\quad\\quad\\quad\\quad(2.1.15)$$\n",
    "\n",
    "The idea here is that the reduction function with this argument \"commands\" the equation.\n",
    "\n",
    "**If**:\n",
    "\n",
    "+ The integer part of $k$ is odd, then the next coordinate axis in the counterclockwise direction is the $x$-axis. In this case, add 1 to $k$ (i.e., $\\frac{\\pi}{2}$ radians).\n",
    "\n",
    "**Else**:\n",
    "\n",
    "\n",
    "+ The integer part is even and the next axis is the $y$-axis - do not add $\\frac{\\pi}{2}$ radians (algebraically - add 0).\n",
    "\n",
    "*Figure 10* shows the same initial angle and direction of rotation as *Figure 8*, but with the corrected next ordinate axis obtained through the formula above.\n"
   ]
  },
  {
   "cell_type": "code",
   "execution_count": 23,
   "id": "b62941f8-3b3d-4816-bb08-0ef938e73169",
   "metadata": {},
   "outputs": [
    {
     "data": {
      "text/html": [
       "\n",
       "    <div style=\"display: flex; justify-content: center; align-items: center; height: 300px;\">\n",
       "        <img src=\"Images/fig10.png\" style=\"width: 562px; height: 300px;\">\n",
       "        <div style=\"position: absolute; top: 0px; right: 80px; color: black; font-size: 14px; background-color: rgba(255, 255, 255, 0.7); padding:           5px; border-radius: 5px;\">\n",
       "            Fig.10\n",
       "        </div>\n",
       "    </div>\n",
       "    "
      ],
      "text/plain": [
       "<IPython.core.display.HTML object>"
      ]
     },
     "execution_count": 23,
     "metadata": {},
     "output_type": "execute_result"
    }
   ],
   "source": [
    "load_image('fig10')"
   ]
  },
  {
   "cell_type": "markdown",
   "id": "5b37a4f4-5565-4953-9f31-21b48946594f",
   "metadata": {},
   "source": [
    "\n",
    "Similarly, we will derive an equation for the direction of rotation clockwise - $\\omega < 0$.\n",
    "\n",
    "$$\\Delta \\theta(k)^-  =  (k - \\lfloor k \\rfloor + B^{[0 \\vee 1]}_{(\\frac{\\lfloor k+1 \\rfloor}{2})})\\frac{\\pi}{2}. \\quad\\quad\\quad\\quad(2.1.16)$$\n",
    "\n",
    "The following two figures show the same initial angles as *Figures 8 and 9*, but with a clockwise direction of motion."
   ]
  },
  {
   "cell_type": "code",
   "execution_count": 22,
   "id": "acfddc40-5dcc-4740-8c04-f731b94d279e",
   "metadata": {},
   "outputs": [
    {
     "data": {
      "text/html": [
       "<div style='display: flex; justify-content: space-between;'>\n",
       "        <div style=\"text-align: center; margin: 0 10px;\">\n",
       "            <img src=\"Images/fig11.png\" style=\"width: 375px; height: 200px;\">\n",
       "            <div style=\"color: black; font-size: 14px; background-color: rgba(255, 255, 255, 0.7); padding: 5px; border-radius: 5px;\">\n",
       "                Fig.11\n",
       "            </div>\n",
       "        </div>\n",
       "        \n",
       "        <div style=\"text-align: center; margin: 0 10px;\">\n",
       "            <img src=\"Images/fig12.png\" style=\"width: 375px; height: 200px;\">\n",
       "            <div style=\"color: black; font-size: 14px; background-color: rgba(255, 255, 255, 0.7); padding: 5px; border-radius: 5px;\">\n",
       "                Fig.12\n",
       "            </div>\n",
       "        </div>\n",
       "        </div>"
      ],
      "text/plain": [
       "<IPython.core.display.HTML object>"
      ]
     },
     "metadata": {},
     "output_type": "display_data"
    }
   ],
   "source": [
    "display(load_images([('fig11', 'left'), ('fig12', 'right')]))"
   ]
  },
  {
   "cell_type": "markdown",
   "id": "d1425761-b0a5-4c35-8b44-67f5b1f7e716",
   "metadata": {},
   "source": [
    "Now, we will combine the two equations to derive a general solution to the problem. For this purpose, we will use two other reduction functions to construct a **switch**. These are the functions $Greather_{(x)}^{[0 \\vee 1]}$ and $Less_{(x)}^{[0 \\vee 1]}$, which will take the angular velocity as their argument.\n",
    "\n",
    "\n",
    "$$Greather_{(\\omega)}^{[0 \\vee 1]} = \\lfloor \\frac{1 + \\frac{\\omega}{|E_{(\\omega)}^{[1 \\vee \\omega]}|}}{2} \\rfloor, \\quad\\quad\\quad\\quad(2.1.17)$$\n",
    "\n",
    "$$Greather_{(\\omega)}^{[0 \\vee 1]} = 1, \\quad \\omega > 0, \\quad\\quad\\quad\\quad(2.1.18)$$\n",
    "\n",
    "$$Greather_{(\\omega)}^{[0 \\vee 1]} = 0, \\quad \\omega \\le 0, \\quad\\quad\\quad\\quad(2.1.19)$$\n",
    "\n",
    "$$Less_{(\\omega)}^{[0 \\vee 1]} = \\lfloor \\frac{1 - \\frac{\\omega}{|E_{(\\omega)}^{[1 \\vee \\omega]}|}}{2} \\rfloor, \\quad\\quad\\quad\\quad(2.1.20)$$\n",
    "\n",
    "$$Less_{(\\omega)}^{[0 \\vee 1]} = 1, \\quad \\omega < 0, \\quad\\quad\\quad\\quad(2.1.21)$$\n",
    "\n",
    "$$Less_{(\\omega)}^{[0 \\vee 1]} = 0, \\quad \\omega \\ge 0. \\quad\\quad\\quad\\quad(2.1.22)$$\n",
    "\n",
    "Schematically, the general solution appears as follows:\n",
    "\n",
    "$$\\Delta \\theta (w,k) = \n",
    "\\left(\n",
    "Greather_{(\\omega)}^{[0 \\vee 1]}\\Delta \\theta(k)^+ +\n",
    "Less_{(\\omega)}^{[0 \\vee 1]}\\Delta \\theta(k)^-\n",
    "\\right)\n",
    "\\frac{\\pi}{2}. \\quad\\quad\\quad\\quad(2.1.23)$$\n",
    "\n",
    "$$\\Delta \\theta (\\omega,k) = \n",
    "\\left(\n",
    "1\\Delta \\theta(k)^+ +\n",
    "0 \\Delta \\theta(k)^-\n",
    "\\right)\n",
    "\\frac{\\pi}{2}, \\quad \\omega > 0, \\quad\\quad\\quad\\quad(2.1.24)$$\n",
    "\n",
    "$$\\Delta \\theta (\\omega,k) = \n",
    "\\left(\n",
    "0\\Delta \\theta(k)^+ +\n",
    "1\\Delta \\theta(k)^-\n",
    "\\right)\n",
    "\\frac{\\pi}{2}, \\quad \\omega<0, \\quad\\quad\\quad\\quad(2.1.25)$$\n",
    "\n",
    "$$\\Delta \\theta (\\omega,k) = \n",
    "\\left(\n",
    "0\\Delta \\theta(k)^+ +\n",
    "0\\Delta \\theta(k)^-\n",
    "\\right)\n",
    "\\frac{\\pi}{2}. \\quad \\omega = 0, \\quad\\quad\\quad\\quad(2.1.26)$$\n",
    "\n",
    "The 'instruction' provided by the **switch** is as follows:\n",
    "\n",
    "**If** $\\omega > 0$:\n",
    "\n",
    "+ Reset formula for $\\Delta \\theta(k)^-$ and calculate the angle to the next ordinate axis using formula for $\\Delta \\theta(k)^+$.\n",
    "\n",
    "**If** $\\omega < 0$:\n",
    "\n",
    "+ Reset formula for $\\Delta \\theta(k)^+$ and calculate the angle to the next ordinate axis using formula for $\\Delta \\theta(k)^-$.\n",
    "\n",
    "**If** $\\omega = 0$:\n",
    "\n",
    "+ Reset both formulas.\n",
    "\n",
    "\n",
    "*Figure 13* illustrates what happens when $\\omega = 0$."
   ]
  },
  {
   "cell_type": "code",
   "execution_count": 24,
   "id": "2faf050c-3dfd-4277-93d5-a46d38505b2c",
   "metadata": {},
   "outputs": [
    {
     "data": {
      "text/html": [
       "\n",
       "    <div style=\"display: flex; justify-content: center; align-items: center; height: 300px;\">\n",
       "        <img src=\"Images/fig13.png\" style=\"width: 562px; height: 300px;\">\n",
       "        <div style=\"position: absolute; top: 0px; right: 80px; color: black; font-size: 14px; background-color: rgba(255, 255, 255, 0.7); padding:           5px; border-radius: 5px;\">\n",
       "            Fig.13\n",
       "        </div>\n",
       "    </div>\n",
       "    "
      ],
      "text/plain": [
       "<IPython.core.display.HTML object>"
      ]
     },
     "execution_count": 24,
     "metadata": {},
     "output_type": "execute_result"
    }
   ],
   "source": [
    "load_image('fig13')"
   ]
  },
  {
   "cell_type": "markdown",
   "id": "2d46ddab-2534-4d6b-aa01-5763263b5d76",
   "metadata": {},
   "source": [
    " As previously mentioned, in the case of $\\omega = 0 $, the spiral does not exist, and therefore, there is no intersection of the radius vector with the coordinate axes. The two vectors coincide.\n",
    " \n",
    "Let us now present the general solution for $\\Delta \\theta (w,k)$  in pure algebraic form.\n",
    "\n",
    "$$\\Delta \\theta (w,k) = \n",
    "\\left(\n",
    "\\left(\\lfloor \\frac{1 + \\frac{\\omega}{|\\frac{\\omega}{\\omega^{0^{|\\omega|}}}|}}{2} \\rfloor\\right)\n",
    "\\left(\\lfloor k + 1 \\rfloor- k + \\lceil \\frac{\\lfloor k+1 \\rfloor}{2} \\rceil - \\lfloor \\frac{\\lfloor k+1 \\rfloor}{2} \\rfloor\\right) +\\\\\n",
    "+\n",
    "\\left(\\lfloor \\frac{1 - \\frac{\\omega}{|\\frac{\\omega}{\\omega^{0^{|\\omega|}}}|}}{2} \\rfloor\\right)\n",
    "\\left(k - \\lfloor k \\rfloor + \\lceil \\frac{\\lfloor k+1 \\rfloor}{2} \\rceil - \\lfloor \\frac{\\lfloor k+1 \\rfloor}{2} \\rfloor\\right)\n",
    "\\right)\n",
    "\\frac{\\pi}{2}. \\quad\\quad\\quad\\quad(2.1.27)$$\n",
    "\n",
    "\n",
    "Here, we replaced all the reduction functions with their algebraic definitions. The equation has now become difficult to read, and this is only the input value for the *angle-based algorithm*. Therefore, in the following exposition, we will adhere to the strategy of writing the functions by their names in the equation, rather than their algebraic forms.\n",
    "\n",
    "Let us now substitute the derived formula for $\\Delta \\theta (w,k)$ into $2.1.4$ to transform the angular interval into time.\n",
    "\n",
    "$$t_1 = \\frac{\\Delta \\theta}{|E_{(\\omega)}^{[1 \\vee  \\omega]}|}, \\quad\\quad\\quad\\quad(2.1.4)$$\n",
    "\n",
    "$$t_1 = \\frac{\\pi\\left(\n",
    "Greather_{(\\omega)}^{[0 \\vee 1]}\\Delta \\theta(k)^+ +\n",
    "Less_{(\\omega)}^{[0 \\vee 1]}\\Delta \\theta(k)^-\n",
    "\\right)}{2|E_{(\\omega)}^{[1 \\vee  \\omega]}|}. \\quad\\quad\\quad\\quad(2.1.28)$$\n",
    "\n",
    "We return again to the case when $\\omega = 0$. Then we have:\n",
    "\n",
    "$$t_1 = \\frac{0\\pi}{2|1|} = 0. \\quad\\quad\\quad\\quad(2.1.29)$$\n",
    "\n",
    "As noted above, the eliminative function does not allow 0 in the denominator. This means that the function remains defined even when $\\omega = 0$. On the other hand, in this case, the spiral curve does not exist, and therefore the moment $t$, when the spiral intersects the ordinate axis, also does not exist. Nevertheless, the formula returns a value. In this specific case, it is $t_1 = 0$, and this arises from the way we derived $\\Delta \\theta (w,k)$. \n",
    "\n",
    "That is, we can observe that the eliminative function allows the domain of definition of a given function to be extended for the value of the argument where it is undefined. The question is, what should the value of the function be at this argument value? The answer is that this value can be introduced arbitrarily. More on this in the **Appendix**.\n",
    "\n",
    "Finally, after analytically deriving the initial value $t_1$ for the angular algorithm, we can determine all subsequent moments $t_n$ at which the spiral curve intersects the ordinate axis. Once again, we will transform angles into time intervals. All angles at which the spiral intersects the ordinate axis are multiples of $180$ degrees relative to the first angle.\n",
    "\n",
    "$$t_n = \\frac{\\pi\\left(\n",
    "Greather_{(\\omega)}^{[0 \\vee 1]}\\Delta \\theta(k)^+ +\n",
    "Less_{(\\omega)}^{[0 \\vee 1]}\\Delta \\theta(k)^-\n",
    "\\right) + (n-1)\\pi}{2|E_{(\\omega)}^{[1 \\vee  \\omega]}|}, \\quad\\quad\\quad\\quad(2.1.30)$$\n",
    "\n",
    "$$t_n = \\frac{\\pi\\left(\n",
    "Greather_{(\\omega)}^{[0 \\vee 1]}\\Delta \\theta(k)^+ +\n",
    "Less_{(\\omega)}^{[0 \\vee 1]}\\Delta \\theta(k)^- +\n",
    "(n-1)\\right)}{2|E_{(\\omega)}^{[1 \\vee  \\omega]}|}. \\quad\\quad\\quad\\quad(2.1.31)$$\n",
    "\n",
    "*Figure 14* illustrates the arrangement of the intersection points between the spiral curve and the ordinate axis."
   ]
  },
  {
   "cell_type": "code",
   "execution_count": 26,
   "id": "57b5afa4-3c57-4979-981d-99511919133d",
   "metadata": {},
   "outputs": [
    {
     "data": {
      "text/html": [
       "\n",
       "    <div style=\"display: flex; justify-content: center; align-items: center; height: 300px;\">\n",
       "        <img src=\"Images/fig14.png\" style=\"width: 562px; height: 300px;\">\n",
       "        <div style=\"position: absolute; top: 0px; right: 80px; color: black; font-size: 14px; background-color: rgba(255, 255, 255, 0.7); padding:           5px; border-radius: 5px;\">\n",
       "            Fig.14\n",
       "        </div>\n",
       "    </div>\n",
       "    "
      ],
      "text/plain": [
       "<IPython.core.display.HTML object>"
      ]
     },
     "execution_count": 26,
     "metadata": {},
     "output_type": "execute_result"
    }
   ],
   "source": [
    "load_image('fig14')"
   ]
  },
  {
   "cell_type": "markdown",
   "id": "31d33831-a086-4c2b-9178-889a78cd93aa",
   "metadata": {},
   "source": [
    "The additional term $(n-1)$, which we introduced into the formula, once again demonstrates that the eliminative function allows a given function to return values that do not exist. For $\\omega = 0$, we have:\n",
    "+ $t_1 = 0$\n",
    "+ $t_2 = \\frac{\\pi}{2}$\n",
    "+ $t_3 = \\pi$\n",
    "+ $t_4 = \\frac{3\\pi}{2}$\n",
    "+ $t_5 = 2\\pi$\n",
    "+ and so on..."
   ]
  },
  {
   "cell_type": "markdown",
   "id": "47b9673f-7259-4c55-abb2-451c348aa81f",
   "metadata": {},
   "source": [
    "Formula $2.1.31$ is the final formula used to analytically derive the initial time values $t_n$, which will be input into the iterative *angular-based algorithm*."
   ]
  }
 ],
 "metadata": {
  "kernelspec": {
   "display_name": "Python 3 (ipykernel)",
   "language": "python",
   "name": "python3"
  },
  "language_info": {
   "codemirror_mode": {
    "name": "ipython",
    "version": 3
   },
   "file_extension": ".py",
   "mimetype": "text/x-python",
   "name": "python",
   "nbconvert_exporter": "python",
   "pygments_lexer": "ipython3",
   "version": "3.9.13"
  }
 },
 "nbformat": 4,
 "nbformat_minor": 5
}
