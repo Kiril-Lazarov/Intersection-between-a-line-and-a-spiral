{
 "cells": [
  {
   "cell_type": "code",
   "execution_count": 1,
   "id": "9372d91d-45e6-4e9e-990a-694ec4db00a3",
   "metadata": {},
   "outputs": [],
   "source": [
    "from IPython.display import HTML\n",
    "from image_functions import *"
   ]
  },
  {
   "cell_type": "markdown",
   "id": "a35adb21-de1f-416d-a0bf-216f44d66bf1",
   "metadata": {},
   "source": [
    "#### <center> 2.2.1.2 Sign Change Derivative Detector\n",
    "    \n",
    "To construct the algebraic check needed for correcting $\\text{LB-Alg}$ in cases where the vertical line does not intersect the first turn of the spiral, we will use the sign change of the derivative $x'(t)$. For clarity, we will call this check the  **Sign Change Derivative Detector**, although what it will actually check is whether the signs of two variables are the same. We have already used such a check once as part of the more complex check $\\text{KWL}$, and that was $\\text{ExpressionB}$. Let's recall $\\text{ExpressionB}$.\n",
    "    \n",
    "$$ \\text{ExpressionB} =  \\frac{S_{(x_l)} + S_{(\\omega)}}{E_{(S_{(x_l)} + S_{(\\omega)})}} =\n",
    "\\frac{\\frac{x_l}{|E_{(x_l)}|} + \n",
    "\\frac{\\omega}{|E_{(\\omega)}|}}\n",
    "{E_{(\\frac{x_l}{|E_{(x_l)}|} +\n",
    "\\frac{\\omega}{|E_{(\\omega)}|})}}\n",
    ". \\quad\\quad\\quad\\quad(2.2.1.14)$$\n",
    "    \n",
    "This check answers the question \"Are the signs of $x_l$ and $\\omega$ the same?\" If they are the same, it returns a positive response with one. Let's recall the other outputs as well."
   ]
  },
  {
   "cell_type": "code",
   "execution_count": 2,
   "id": "a136f96e-f4fc-4220-8f24-7185a40d1c03",
   "metadata": {},
   "outputs": [
    {
     "data": {
      "text/html": [
       "\n",
       "    <div style=\"display: flex; flex-direction: column; justify-content: center; align-items: center; width: 100%;\">\n",
       "        <h3>$Expression B$</h3>\n",
       "        <table border=\"1\" style=\"border-collapse: collapse; text-align: center; width: 85%; font-size: 13px;\">\n",
       "            <tr>\n",
       "                <th></th>\n",
       "                <th>$\\omega < 0 $</th>\n",
       "                <th>$ \\omega = 0 $</th>\n",
       "                <th>$\\omega > 0 $</th>\n",
       "\n",
       "                 \n",
       "            </tr>\n",
       "                <th>$x_l<0$</th>\n",
       "                <th>$1$</th>\n",
       "                <th>$1$</th>\n",
       "                <th>$0$</th>\n",
       "\n",
       "                \n",
       "            </tr>\n",
       "            </tr>\n",
       "                <th>$x_l=0$</th>\n",
       "                <th>$1$</th>\n",
       "                <th>$0$</th>\n",
       "                <th>$1$</th>\n",
       "\n",
       "                \n",
       "            </tr>\n",
       "            </tr>\n",
       "                <th>$x_l>0$</th>\n",
       "                <th>$0$</th>\n",
       "                <th>$1$</th>\n",
       "                <th>$1$</th>\n",
       "\n",
       "                \n",
       "            </tr>\n",
       "\n",
       "\n",
       "        </table>\n",
       "        Fig.90\n",
       "    </div>\n",
       "    "
      ],
      "text/plain": [
       "<IPython.core.display.HTML object>"
      ]
     },
     "metadata": {},
     "output_type": "display_data"
    }
   ],
   "source": [
    "expression_b_table()"
   ]
  },
  {
   "cell_type": "markdown",
   "id": "b5cad6bd-98b6-4592-9add-3b2324d33ef9",
   "metadata": {},
   "source": [
    "As we can see, the answer is 1 if one of the signs is 0. However, if both are 0, the answer is 0. Further down, we will see that this case will not occur, so it is not problematic.\n",
    "\n",
    "To construct $\\text{SCDD}_{(a, b)}^{[0 \\vee 1]}$ (**Sign Change Derivative Detector**) we will simply pass different values into $\\text{ExpressionB}$ as arguments.\n",
    "\n",
    "$$ \\text{SCDD}_{(f'_a(t), f'_b(t))}^{[0 \\vee 1]} = \n",
    "\\frac{\\frac{f'_a(t)}{|E_{(f'_a(t))}|} + \\frac{f'_b(t)}{|E_{(f'_b(t))}|}}\n",
    "{E_{\\left( \\frac{f'_a(t)}{|E_{(f'_a(t))}|} + \\frac{f'_b(t)}{|E_{(f'_b(t))}|} \\right)}}\\quad\\quad\\quad\\quad (2.2.1.2.1)$$\n",
    "\n",
    "Now, we need to find which are the derivatives $f'_a(t)$ and $f'_b(t)$. Let's visualize a vertical line that is tangent to the first spiral turn."
   ]
  },
  {
   "cell_type": "code",
   "execution_count": 6,
   "id": "5e25f2bc-f71d-496e-a221-c22518ccb107",
   "metadata": {},
   "outputs": [
    {
     "data": {
      "text/html": [
       "\n",
       "    <div style=\"display: flex; justify-content: center; align-items: center; height: 300px;\">\n",
       "        <img src=\"Images/fig114.png\" style=\"width: 562px; height: 300px;\">\n",
       "        <div style=\"position: absolute; top: 0px; right: 80px; color: black; font-size: 14px; background-color: rgba(255, 255, 255, 0.7); padding:           5px; border-radius: 5px;\">\n",
       "            Fig.114\n",
       "        </div>\n",
       "    </div>\n",
       "    "
      ],
      "text/plain": [
       "<IPython.core.display.HTML object>"
      ]
     },
     "execution_count": 6,
     "metadata": {},
     "output_type": "execute_result"
    }
   ],
   "source": [
    "load_image('fig114')"
   ]
  },
  {
   "cell_type": "markdown",
   "id": "11246697-965a-4945-819a-29973a0d857e",
   "metadata": {},
   "source": [
    "The derivative $f'_b(t)$ is the red line at the black point - i.e., the input value for $\\text{LB-Alg}$. Its slope is positive because it is located \"before\" $\\text{PMD}$ and the $x$-coordinate of the spiral vector is increasing.\n",
    "The sign of this derivative will be compared with the sign of $f'_a(0)$, which is the derivative at the moment $t=0$ and is located at the origin of the coordinate system. The derivative $f'_a(0)$ at this exact moment is the only possible reference point for comparison, as it is simultaneously before $\\text{PMD}$ and before the input for $\\text{LB-Alg}$.\n",
    "\n",
    "Now, we need to define $f'_a(t)$ and $f'_b(t)$. As we showed in the previous section, the derivative $x'_s(0)$ of the $x$-component of the spiral at the moment $t=0$ is equal to the cosine of the initial angle multiplied by $v$.\n",
    "\n",
    "$$ x'_s(0) = v cos(k\\frac{\\pi}{2}). \\quad\\quad\\quad\\quad (2.2.1.1.9)$$\n",
    "\n",
    "\n",
    "$$ f'_a(0) = x'_s(0)= v cos(k\\frac{\\pi}{2}). \\quad\\quad\\quad\\quad (2.2.1.2.2)$$\n",
    "\n",
    "Similarly, $f'_b(t)$ is the derivative of the $x$-component at the initial moment $t_{[0, 0]}$. This is the initial moment we derived as a function of the position $x_l$ of the vertical line and it is the fundamental formula for $\\text{LB-Alg}$. Let us recall the formula:\n",
    "\n",
    "$$ t_{[0;0]} = \\frac{|x_l|}{E_{(v)}}. \\quad\\quad\\quad\\quad (2.2.14)$$\n",
    "\n",
    "We pass $t_{[0;0]}$ as an argument to the derivative $x'(t)$.\n",
    "\n",
    "$$ f'_b(t_{[0;0]}) =x'_s(t_{[0;0]}) = v \\left ( cos(k\\frac{\\pi}{2} + \\omega t_{[0;0]}) - \\omega t_{[0;0]}sin(k\\frac{\\pi}{2} + \\omega t_{[0;0]}) \\right ) \\quad\\quad\\quad\\quad (2.2.1.2.3)$$\n",
    "\n",
    "$$ x'_s(t_{[0;0]}) = v \\left ( cos(k\\frac{\\pi}{2} + \\omega \\frac{|x_l|}{E_{(v)}}) -\n",
    "\\omega \\frac{|x_l|}{E_{(v)}}sin(k\\frac{\\pi}{2} \n",
    "+ \\omega \\frac{|x_l|}{E_{(v)}}) \\right ) \\quad\\quad\\quad\\quad (2.2.1.2.4)$$\n",
    "\n",
    "\n",
    "We substitute in 2.2.1.2.1 and obtain the final formula for the $\\text{SCDD}$-check.\n",
    "\n",
    "$$ \\text{SCDD}_{(x'_s(0), x'_s(t_{[0;0]}))}^{[0 \\vee 1]} = \n",
    "\\frac{\\frac{v cos(k\\frac{\\pi}{2})}{|E_{(v cos(k\\frac{\\pi}{2}))}|} + \n",
    "\\frac{v \\left ( cos(k\\frac{\\pi}{2} + \\omega \\frac{|x_l|}{E_{(v)}}) -\n",
    "\\omega \\frac{|x_l|}{E_{(v)}}sin(k\\frac{\\pi}{2} \n",
    "+ \\omega \\frac{|x_l|}{E_{(v)}}) \\right )}\n",
    "{|E_{\\left (v \\left ( cos(k\\frac{\\pi}{2} + \\omega \\frac{|x_l|}{E_{(v)}}) -\n",
    "\\omega \\frac{|x_l|}{E_{(v)}}sin(k\\frac{\\pi}{2} \n",
    "+ \\omega \\frac{|x_l|}{E_{(v)}}) \\right )\\right )}|}}\n",
    "{E_{\\left(  \\frac{v cos(k\\frac{\\pi}{2})}{|E_{(v cos(k\\frac{\\pi}{2}))}|} + \n",
    "\\frac{v \\left ( cos(k\\frac{\\pi}{2} + \\omega \\frac{|x_l|}{E_{(v)}}) -\n",
    "\\omega \\frac{|x_l|}{E_{(v)}}sin(k\\frac{\\pi}{2} \n",
    "+ \\omega \\frac{|x_l|}{E_{(v)}}) \\right )}\n",
    "{|E_{\\left (v \\left ( cos(k\\frac{\\pi}{2} + \\omega \\frac{|x_l|}{E_{(v)}}) -\n",
    "\\omega \\frac{|x_l|}{E_{(v)}}sin(k\\frac{\\pi}{2} \n",
    "+ \\omega \\frac{|x_l|}{E_{(v)}}) \\right )\\right )}|}\\right)}}\\quad\\quad\\quad\\quad (2.2.1.2.5)$$\n",
    "\n",
    "\n",
    "Before adding it as a multiplier in front of $\\text{LB-Alg}$, let's once again show which scenarios the $\\text{SCDD}$-check should prevent."
   ]
  },
  {
   "cell_type": "code",
   "execution_count": 8,
   "id": "b59db8f7-edb4-497c-8428-872f65f04838",
   "metadata": {},
   "outputs": [
    {
     "data": {
      "text/html": [
       "\n",
       "    <div style=\"display: flex; justify-content: center; align-items: center; height: 300px;\">\n",
       "        <img src=\"Images/fig115.png\" style=\"width: 562px; height: 300px;\">\n",
       "        <div style=\"position: absolute; top: 0px; right: 80px; color: black; font-size: 14px; background-color: rgba(255, 255, 255, 0.7); padding:           5px; border-radius: 5px;\">\n",
       "            Fig.115\n",
       "        </div>\n",
       "    </div>\n",
       "    "
      ],
      "text/plain": [
       "<IPython.core.display.HTML object>"
      ]
     },
     "execution_count": 8,
     "metadata": {},
     "output_type": "execute_result"
    }
   ],
   "source": [
    "load_image('fig115')"
   ]
  },
  {
   "cell_type": "markdown",
   "id": "1c6ca6f0-e7cd-4b68-92a5-227926fac623",
   "metadata": {},
   "source": [
    "In this situation, the vertical line is in a position where its corresponding radius vector, in terms of length, is located after $\\text{PMD}$. As seen, the derivative $x'_s(t_{[0;0]})$ at this point has a negative sign, while the derivative $x'_s(0)$ has a positive sign. Now, we apply the $\\text{SCDD}$-check as a coefficient and obtain:\n",
    "\n",
    "$$\\lim_{n, m \\to \\infty} \\left\\{ t_{[n; m]} \\right\\} = \n",
    "\\overline{NSwitch_{(n)}^{[0 \\vee  1]}}\n",
    "\\text{SCDD}_{(x'_s(0), x'_s(t_{[0;0]}))}^{[0 \\vee 1]}\n",
    "\\left(\n",
    "KWL_{(k, w, x_l)}^{[0 \\vee  1]} +\n",
    "KL_{(k, x_l)}^{[0 \\vee  1]}\n",
    "\\right)\n",
    "\\text{LB-Alg} +\\\\\n",
    "+ NSwitch_{(n)}^{[0 \\vee  1]}\\text{AB-Alg}, \\quad n, m \\ge 0.  \\quad\\quad\\quad\\quad (2.2.1.2.6)$$\n",
    "\n",
    "Here is how $\\text{SCDD}$ works. The same scenario from *Figure 115*, with the visualizations of the derivatives included. The check returns 0, $\\text{LB-Alg}$ is also zero, and the final result for the sequence boundary at $n=0$ is zero."
   ]
  },
  {
   "cell_type": "code",
   "execution_count": 9,
   "id": "35a3aa63-9a27-44b1-9b29-656d76bfe658",
   "metadata": {},
   "outputs": [
    {
     "data": {
      "text/html": [
       "\n",
       "    <div style=\"display: flex; justify-content: center; align-items: center; height: 300px;\">\n",
       "        <img src=\"Images/fig116.png\" style=\"width: 562px; height: 300px;\">\n",
       "        <div style=\"position: absolute; top: 0px; right: 80px; color: black; font-size: 14px; background-color: rgba(255, 255, 255, 0.7); padding:           5px; border-radius: 5px;\">\n",
       "            Fig.116\n",
       "        </div>\n",
       "    </div>\n",
       "    "
      ],
      "text/plain": [
       "<IPython.core.display.HTML object>"
      ]
     },
     "execution_count": 9,
     "metadata": {},
     "output_type": "execute_result"
    }
   ],
   "source": [
    "load_image('fig116')"
   ]
  },
  {
   "cell_type": "markdown",
   "id": "814f2bc5-2471-473a-9b39-0b02cc968f6d",
   "metadata": {},
   "source": [
    "The next two images show the boundary case where $\\text{SCDD}$ returns 1. This happens when the vertical line is in a position $x_l$ where the initial radius vector lies exactly on $\\text{PMD}$. A slight change in $x_l$ and $\\text{SCDD}$ returns 0."
   ]
  },
  {
   "cell_type": "code",
   "execution_count": 10,
   "id": "739c916c-e7b3-4d27-800e-b836f7946eed",
   "metadata": {},
   "outputs": [
    {
     "data": {
      "text/html": [
       "<div style='display: flex; justify-content: space-between;'>\n",
       "        <div style=\"text-align: center; margin: 0 10px;\">\n",
       "            <img src=\"Images/fig117.png\" style=\"width: 375px; height: 200px;\">\n",
       "            <div style=\"color: black; font-size: 14px; background-color: rgba(255, 255, 255, 0.7); padding: 5px; border-radius: 5px;\">\n",
       "                Fig.117\n",
       "            </div>\n",
       "        </div>\n",
       "        \n",
       "        <div style=\"text-align: center; margin: 0 10px;\">\n",
       "            <img src=\"Images/fig118.png\" style=\"width: 375px; height: 200px;\">\n",
       "            <div style=\"color: black; font-size: 14px; background-color: rgba(255, 255, 255, 0.7); padding: 5px; border-radius: 5px;\">\n",
       "                Fig.118\n",
       "            </div>\n",
       "        </div>\n",
       "        </div>"
      ],
      "text/plain": [
       "<IPython.core.display.HTML object>"
      ]
     },
     "metadata": {},
     "output_type": "display_data"
    }
   ],
   "source": [
    "display(load_images([('fig117', 'left'), ('fig118', 'right')]))"
   ]
  }
 ],
 "metadata": {
  "kernelspec": {
   "display_name": "Python 3 (ipykernel)",
   "language": "python",
   "name": "python3"
  },
  "language_info": {
   "codemirror_mode": {
    "name": "ipython",
    "version": 3
   },
   "file_extension": ".py",
   "mimetype": "text/x-python",
   "name": "python",
   "nbconvert_exporter": "python",
   "pygments_lexer": "ipython3",
   "version": "3.9.13"
  }
 },
 "nbformat": 4,
 "nbformat_minor": 5
}
