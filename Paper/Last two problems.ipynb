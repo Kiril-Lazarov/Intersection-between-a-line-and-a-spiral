{
 "cells": [
  {
   "cell_type": "code",
   "execution_count": 1,
   "id": "6c072395-c59b-43c0-95bb-f78bbb9e7c9c",
   "metadata": {},
   "outputs": [],
   "source": [
    "from IPython.display import HTML\n",
    "from image_functions import *"
   ]
  },
  {
   "cell_type": "markdown",
   "id": "337566b2-f828-4a4c-a251-aeefff94e04f",
   "metadata": {},
   "source": [
    "Two issues remain to be corrected. The first one was already presented in section *2.1.4 Limitations of the Angle-Based Algorithm.* It concerned the behavior of the angular algorithm for spiral turns that the vertical line does not intersect. The problem was that the angular algorithm lands the radius vector onto the $x$-axis."
   ]
  },
  {
   "cell_type": "code",
   "execution_count": 2,
   "id": "ad6368be-fe44-46b0-bd1a-7230942f4c4a",
   "metadata": {},
   "outputs": [
    {
     "data": {
      "text/html": [
       "\n",
       "    <div style=\"display: flex; justify-content: center; align-items: center; height: 300px;\">\n",
       "        <img src=\"Images/fig135.png\" style=\"width: 562px; height: 300px;\">\n",
       "        <div style=\"position: absolute; top: 0px; right: 80px; color: black; font-size: 14px; background-color: rgba(255, 255, 255, 0.7); padding:           5px; border-radius: 5px;\">\n",
       "            Fig.135\n",
       "        </div>\n",
       "    </div>\n",
       "    "
      ],
      "text/plain": [
       "<IPython.core.display.HTML object>"
      ]
     },
     "execution_count": 2,
     "metadata": {},
     "output_type": "execute_result"
    }
   ],
   "source": [
    "load_image('fig135')"
   ]
  },
  {
   "cell_type": "markdown",
   "id": "62d99f8d-e65c-4a7e-8b7e-0bdd177bd3b6",
   "metadata": {},
   "source": [
    "Here, we need to make an important clarification about which radius vectors are being landed onto the $x$-axis. Since we have already added the $\\text{ISSCDD}$-check, we will see that it deactivates $\\text{AB-Alg}$ in some cases but not in others. In the two images below, we show the first initial radius vector and the final radius vector at the $5$-th intersection point."
   ]
  },
  {
   "cell_type": "code",
   "execution_count": 5,
   "id": "caca07b3-e2d2-4675-b67d-aa5bebc52220",
   "metadata": {},
   "outputs": [
    {
     "data": {
      "text/html": [
       "<div style='display: flex; justify-content: space-between;'>\n",
       "        <div style=\"text-align: center; margin: 0 10px;\">\n",
       "            <img src=\"Images/fig136.png\" style=\"width: 375px; height: 200px;\">\n",
       "            <div style=\"color: black; font-size: 14px; background-color: rgba(255, 255, 255, 0.7); padding: 5px; border-radius: 5px;\">\n",
       "                Fig.136\n",
       "            </div>\n",
       "        </div>\n",
       "        \n",
       "        <div style=\"text-align: center; margin: 0 10px;\">\n",
       "            <img src=\"Images/fig137.png\" style=\"width: 375px; height: 200px;\">\n",
       "            <div style=\"color: black; font-size: 14px; background-color: rgba(255, 255, 255, 0.7); padding: 5px; border-radius: 5px;\">\n",
       "                Fig.137\n",
       "            </div>\n",
       "        </div>\n",
       "        </div>"
      ],
      "text/plain": [
       "<IPython.core.display.HTML object>"
      ]
     },
     "metadata": {},
     "output_type": "display_data"
    }
   ],
   "source": [
    "display(load_images([('fig136', 'left'), ('fig137', 'right')]))"
   ]
  },
  {
   "cell_type": "markdown",
   "id": "4a1bfb43-dca6-45b5-8fb0-3361c0029601",
   "metadata": {},
   "source": [
    "As can be seen, the derivatives have the same sign (positive slope) at the beginning and at the end of the iterative process, and $\\text{ISSCDD}$ gives a \"green light\" for $\\text{AB-Alg}$. However, the situation is different for the intersection points on the positive side of the ordinate axis."
   ]
  },
  {
   "cell_type": "code",
   "execution_count": 6,
   "id": "ef84b70c-a8e5-4f80-921a-f412c8c765e1",
   "metadata": {},
   "outputs": [
    {
     "data": {
      "text/html": [
       "<div style='display: flex; justify-content: space-between;'>\n",
       "        <div style=\"text-align: center; margin: 0 10px;\">\n",
       "            <img src=\"Images/fig138.png\" style=\"width: 375px; height: 200px;\">\n",
       "            <div style=\"color: black; font-size: 14px; background-color: rgba(255, 255, 255, 0.7); padding: 5px; border-radius: 5px;\">\n",
       "                Fig.138\n",
       "            </div>\n",
       "        </div>\n",
       "        \n",
       "        <div style=\"text-align: center; margin: 0 10px;\">\n",
       "            <img src=\"Images/fig139.png\" style=\"width: 375px; height: 200px;\">\n",
       "            <div style=\"color: black; font-size: 14px; background-color: rgba(255, 255, 255, 0.7); padding: 5px; border-radius: 5px;\">\n",
       "                Fig.139\n",
       "            </div>\n",
       "        </div>\n",
       "        </div>"
      ],
      "text/plain": [
       "<IPython.core.display.HTML object>"
      ]
     },
     "metadata": {},
     "output_type": "display_data"
    }
   ],
   "source": [
    "display(load_images([('fig138', 'left'), ('fig139', 'right')]))"
   ]
  },
  {
   "cell_type": "markdown",
   "id": "efdcbfb9-f89a-4e44-b57b-9da4c84145d8",
   "metadata": {},
   "source": [
    "In this case, on the fourth iteration ($m=3$), the derivative changes its sign, and $\\text{ISSCDD}$ nullifies $\\text{AB-Alg}$. These behaviors of the algorithm are due to the position of $\\text{PMD}$. In the upper case, the \"descending\" radius vector passes $\\text{PMD}$, causing the derivative to change its sign. In the previous case, $\\text{PMD}$ is positioned above the abscissa axis (i.e., after it in terms of time $t$), which is why the derivative does not change its sign."
   ]
  }
 ],
 "metadata": {
  "kernelspec": {
   "display_name": "Python 3 (ipykernel)",
   "language": "python",
   "name": "python3"
  },
  "language_info": {
   "codemirror_mode": {
    "name": "ipython",
    "version": 3
   },
   "file_extension": ".py",
   "mimetype": "text/x-python",
   "name": "python",
   "nbconvert_exporter": "python",
   "pygments_lexer": "ipython3",
   "version": "3.9.13"
  }
 },
 "nbformat": 4,
 "nbformat_minor": 5
}
