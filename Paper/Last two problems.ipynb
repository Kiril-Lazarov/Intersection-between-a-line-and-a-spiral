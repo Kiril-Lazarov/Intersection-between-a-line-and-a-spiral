{
 "cells": [
  {
   "cell_type": "code",
   "execution_count": 1,
   "id": "6c072395-c59b-43c0-95bb-f78bbb9e7c9c",
   "metadata": {},
   "outputs": [],
   "source": [
    "from IPython.display import HTML\n",
    "from image_functions import *"
   ]
  },
  {
   "cell_type": "markdown",
   "id": "b94a988f-5c69-4b14-9169-09139f1fe0c2",
   "metadata": {},
   "source": [
    "### <center> 2.2.2 Last two problems"
   ]
  },
  {
   "cell_type": "markdown",
   "id": "337566b2-f828-4a4c-a251-aeefff94e04f",
   "metadata": {},
   "source": [
    "Two issues remain to be corrected. The first one was already presented in section *2.1.4 Limitations of the Angle-Based Algorithm.* It concerned the behavior of the angular algorithm for spiral turns that the vertical line does not intersect. The problem was that the angular algorithm lands the radius vector onto the $x$-axis."
   ]
  },
  {
   "cell_type": "code",
   "execution_count": 2,
   "id": "ad6368be-fe44-46b0-bd1a-7230942f4c4a",
   "metadata": {},
   "outputs": [
    {
     "data": {
      "text/html": [
       "\n",
       "    <div style=\"display: flex; justify-content: center; align-items: center; height: 300px;\">\n",
       "        <img src=\"Images/fig135.png\" style=\"width: 562px; height: 300px;\">\n",
       "        <div style=\"position: absolute; top: 0px; right: 80px; color: black; font-size: 14px; background-color: rgba(255, 255, 255, 0.7); padding:           5px; border-radius: 5px;\">\n",
       "            Fig.135\n",
       "        </div>\n",
       "    </div>\n",
       "    "
      ],
      "text/plain": [
       "<IPython.core.display.HTML object>"
      ]
     },
     "execution_count": 2,
     "metadata": {},
     "output_type": "execute_result"
    }
   ],
   "source": [
    "load_image('fig135')"
   ]
  },
  {
   "cell_type": "markdown",
   "id": "62d99f8d-e65c-4a7e-8b7e-0bdd177bd3b6",
   "metadata": {},
   "source": [
    "Here, we need to make an important clarification about which radius vectors are being landed onto the $x$-axis. Since we have already added the $\\text{ISSCDD}$-check, we will see that it deactivates $\\text{AB-Alg}$ in some cases but not in others. In the two images below, we show the first initial radius vector and the final radius vector at the $5$-th intersection point."
   ]
  },
  {
   "cell_type": "code",
   "execution_count": 5,
   "id": "caca07b3-e2d2-4675-b67d-aa5bebc52220",
   "metadata": {},
   "outputs": [
    {
     "data": {
      "text/html": [
       "<div style='display: flex; justify-content: space-between;'>\n",
       "        <div style=\"text-align: center; margin: 0 10px;\">\n",
       "            <img src=\"Images/fig136.png\" style=\"width: 375px; height: 200px;\">\n",
       "            <div style=\"color: black; font-size: 14px; background-color: rgba(255, 255, 255, 0.7); padding: 5px; border-radius: 5px;\">\n",
       "                Fig.136\n",
       "            </div>\n",
       "        </div>\n",
       "        \n",
       "        <div style=\"text-align: center; margin: 0 10px;\">\n",
       "            <img src=\"Images/fig137.png\" style=\"width: 375px; height: 200px;\">\n",
       "            <div style=\"color: black; font-size: 14px; background-color: rgba(255, 255, 255, 0.7); padding: 5px; border-radius: 5px;\">\n",
       "                Fig.137\n",
       "            </div>\n",
       "        </div>\n",
       "        </div>"
      ],
      "text/plain": [
       "<IPython.core.display.HTML object>"
      ]
     },
     "metadata": {},
     "output_type": "display_data"
    }
   ],
   "source": [
    "display(load_images([('fig136', 'left'), ('fig137', 'right')]))"
   ]
  },
  {
   "cell_type": "markdown",
   "id": "4a1bfb43-dca6-45b5-8fb0-3361c0029601",
   "metadata": {},
   "source": [
    "As can be seen, the derivatives have the same sign (positive slope) at the beginning and at the end of the iterative process, and $\\text{ISSCDD}$ gives a \"green light\" for $\\text{AB-Alg}$. However, the situation is different for the intersection points on the positive side of the ordinate axis."
   ]
  },
  {
   "cell_type": "code",
   "execution_count": 6,
   "id": "ef84b70c-a8e5-4f80-921a-f412c8c765e1",
   "metadata": {},
   "outputs": [
    {
     "data": {
      "text/html": [
       "<div style='display: flex; justify-content: space-between;'>\n",
       "        <div style=\"text-align: center; margin: 0 10px;\">\n",
       "            <img src=\"Images/fig138.png\" style=\"width: 375px; height: 200px;\">\n",
       "            <div style=\"color: black; font-size: 14px; background-color: rgba(255, 255, 255, 0.7); padding: 5px; border-radius: 5px;\">\n",
       "                Fig.138\n",
       "            </div>\n",
       "        </div>\n",
       "        \n",
       "        <div style=\"text-align: center; margin: 0 10px;\">\n",
       "            <img src=\"Images/fig139.png\" style=\"width: 375px; height: 200px;\">\n",
       "            <div style=\"color: black; font-size: 14px; background-color: rgba(255, 255, 255, 0.7); padding: 5px; border-radius: 5px;\">\n",
       "                Fig.139\n",
       "            </div>\n",
       "        </div>\n",
       "        </div>"
      ],
      "text/plain": [
       "<IPython.core.display.HTML object>"
      ]
     },
     "metadata": {},
     "output_type": "display_data"
    }
   ],
   "source": [
    "display(load_images([('fig138', 'left'), ('fig139', 'right')]))"
   ]
  },
  {
   "cell_type": "markdown",
   "id": "efdcbfb9-f89a-4e44-b57b-9da4c84145d8",
   "metadata": {},
   "source": [
    "In this case, on the fourth iteration ($m=3$), the derivative changes its sign, and $\\text{ISSCDD}$ nullifies $\\text{AB-Alg}$. These behaviors of the algorithm are due to the position of $\\text{PMD}$. In the upper case, the \"descending\" radius vector passes $\\text{PMD}$, causing the derivative to change its sign. In the previous case, $\\text{PMD}$ is positioned above the  $x$-axis (i.e., after it in terms of time $t$), which is why the derivative does not change its sign. \n",
    "\n",
    "This is a problem for which we will define a check whose role is to prevent the start of $\\text{AB-Alg}$ under certain conditions. We will leave this for last. Before that, we will address and solve the other problem shown in the image below."
   ]
  },
  {
   "cell_type": "code",
   "execution_count": 7,
   "id": "4a33cccf-fdea-4ad2-873d-3de1d2304a8d",
   "metadata": {},
   "outputs": [
    {
     "data": {
      "text/html": [
       "\n",
       "    <div style=\"display: flex; justify-content: center; align-items: center; height: 300px;\">\n",
       "        <img src=\"Images/fig140.png\" style=\"width: 562px; height: 300px;\">\n",
       "        <div style=\"position: absolute; top: 0px; right: 80px; color: black; font-size: 14px; background-color: rgba(255, 255, 255, 0.7); padding:           5px; border-radius: 5px;\">\n",
       "            Fig.140\n",
       "        </div>\n",
       "    </div>\n",
       "    "
      ],
      "text/plain": [
       "<IPython.core.display.HTML object>"
      ]
     },
     "execution_count": 7,
     "metadata": {},
     "output_type": "execute_result"
    }
   ],
   "source": [
    "load_image('fig140')"
   ]
  },
  {
   "cell_type": "markdown",
   "id": "2f929e15-70fe-4401-b99e-2cbffbfc0af6",
   "metadata": {},
   "source": [
    "The vertical line is positioned between $\\text{PMD}$ and the intersection point of the spiral with the $x$-axis, and $\\text{AB-Alg}$ cannot move the radius vector from any of the initial vectors. In one case, at $n=1$, the radius vector lands on the $x$-axis, while in the other, it reaches the intersection point with the line."
   ]
  },
  {
   "cell_type": "code",
   "execution_count": 8,
   "id": "6f87d17a-00d0-4d9e-b400-3a10b3b10e66",
   "metadata": {},
   "outputs": [
    {
     "data": {
      "text/html": [
       "<div style='display: flex; justify-content: space-between;'>\n",
       "        <div style=\"text-align: center; margin: 0 10px;\">\n",
       "            <img src=\"Images/fig141.png\" style=\"width: 375px; height: 200px;\">\n",
       "            <div style=\"color: black; font-size: 14px; background-color: rgba(255, 255, 255, 0.7); padding: 5px; border-radius: 5px;\">\n",
       "                Fig.141\n",
       "            </div>\n",
       "        </div>\n",
       "        \n",
       "        <div style=\"text-align: center; margin: 0 10px;\">\n",
       "            <img src=\"Images/fig142.png\" style=\"width: 375px; height: 200px;\">\n",
       "            <div style=\"color: black; font-size: 14px; background-color: rgba(255, 255, 255, 0.7); padding: 5px; border-radius: 5px;\">\n",
       "                Fig.142\n",
       "            </div>\n",
       "        </div>\n",
       "        </div>"
      ],
      "text/plain": [
       "<IPython.core.display.HTML object>"
      ]
     },
     "metadata": {},
     "output_type": "display_data"
    }
   ],
   "source": [
    "display(load_images([('fig141', 'left'), ('fig142', 'right')]))"
   ]
  },
  {
   "cell_type": "markdown",
   "id": "189043dc-8f5b-446e-a1e8-56162ef7a00a",
   "metadata": {},
   "source": [
    "This problem is the same as the missing point issue occurring at $n=0$, with the difference that it appears for $n>0$. The solution is the same - using $\\text{LB-Alg}$. This means that it should be added as a third term to the equation for the two-dimensional sequence, with the necessary checks as multipliers in front of it.\n",
    "\n",
    "$$\\lim_{n, m \\to \\infty} \\left\\{ t_{[n; m]} \\right\\} =\n",
    "\\text{ISSCDD}_{(x'_s(t_{[n;0]}), x'_s(t_{[n;m]}))}^{[0 \\vee 1]}\n",
    "\\left( \\overline{NSwitch_{(n)}^{[0 \\vee  1]}}\n",
    "\\text{XMD}_{(x_l, y_s(t_{[1; 0]}))}^{[0 \\vee 1]}\n",
    "\\text{SCDD}_{(x'_s(0), x'_s(t_{[0;0]}))}^{[0 \\vee 1]}\\\\\n",
    "\\left(\n",
    "KWL_{(k, w, x_l)}^{[0 \\vee  1]} +\n",
    "KL_{(k, x_l)}^{[0 \\vee  1]}\n",
    "\\right)\n",
    "\\text{LB-Alg}\n",
    "+ NSwitch_{(n)}^{[0 \\vee  1]}\n",
    "\\left( \\overline {XYSwitch_{(a)}^{[ 0 \\vee 1]}} \\text{AB-Alg} +\n",
    "XYSwitch_{(a)}^{[ 0 \\vee 1]} \\text{LB-Alg}\n",
    "\\right)\n",
    "\\right), \\quad n, m \\ge 0.  \\quad\\quad\\quad\\quad (2.2.2.1)$$\n",
    "\n",
    "Since this $\\text{LB-Alg}$ occurs at $n>0$, we place both algorithms in parentheses before $NSwitch_{(n)}^{[0 \\vee  1]}$, with the additional condition $XYSwitch_{(a)}^{[ 0 \\vee 1]}$ as a switch before each algorithm, ensuring that only one of them operates at a time.\n",
    "\n",
    "Two problems need to be solved here - the first is defining $\\text{XYSwitch}$, and the second is providing an initial value for $\\text{LB-Alg}$, since the conditions for its activation differ slightly from the case of the zero intersection point.\n",
    "\n",
    "The new check should determine a specific range of values for the position of the vertical line. If the line is within this range, it should return 1; otherwise, it should return 0. In *Figure 141*, we can see that the line is positioned slightly after the intersection of the spiral with the $x$-axis, where $\\text{LB-Alg}$ grounds the radius vector for the corresponding coil, in this case, $n=1$. The intersection point of the spiral with the $x$-axis will serve as the lower boundary. As the upper boundary, we will take the length of the radius vector at the point where the spiral intersects the next coordinate axis, i.e., the $y$-axis."
   ]
  },
  {
   "cell_type": "code",
   "execution_count": 9,
   "id": "08c41568-ea28-4228-b84e-049e901da9ad",
   "metadata": {},
   "outputs": [
    {
     "data": {
      "text/html": [
       "\n",
       "    <div style=\"display: flex; justify-content: center; align-items: center; height: 300px;\">\n",
       "        <img src=\"Images/fig143.png\" style=\"width: 562px; height: 300px;\">\n",
       "        <div style=\"position: absolute; top: 0px; right: 80px; color: black; font-size: 14px; background-color: rgba(255, 255, 255, 0.7); padding:           5px; border-radius: 5px;\">\n",
       "            Fig.143\n",
       "        </div>\n",
       "    </div>\n",
       "    "
      ],
      "text/plain": [
       "<IPython.core.display.HTML object>"
      ]
     },
     "execution_count": 9,
     "metadata": {},
     "output_type": "execute_result"
    }
   ],
   "source": [
    "load_image('fig143')"
   ]
  },
  {
   "cell_type": "markdown",
   "id": "78e77db3-8ba0-4d21-9e9e-bbdae96e0fd1",
   "metadata": {},
   "source": [
    "If we look at the values of the lower and upper boundaries from *Figures 141 and 143*, we will see that $x_l$ is positioned between them - $-0.63617... < -0.437 < -0.42403...$ ($\\text{Spiral_y} < \\text{x_line} < \\text{Spiral_x}$ on the images).\n",
    "\n",
    "Here is how the interval looks."
   ]
  },
  {
   "cell_type": "code",
   "execution_count": 10,
   "id": "811be2ea-13e5-49c2-9074-6e4796365708",
   "metadata": {},
   "outputs": [
    {
     "data": {
      "text/html": [
       "\n",
       "    <div style=\"display: flex; justify-content: center; align-items: center; height: 300px;\">\n",
       "        <img src=\"Images/fig144.png\" style=\"width: 562px; height: 300px;\">\n",
       "        <div style=\"position: absolute; top: 0px; right: 80px; color: black; font-size: 14px; background-color: rgba(255, 255, 255, 0.7); padding:           5px; border-radius: 5px;\">\n",
       "            Fig.144\n",
       "        </div>\n",
       "    </div>\n",
       "    "
      ],
      "text/plain": [
       "<IPython.core.display.HTML object>"
      ]
     },
     "execution_count": 10,
     "metadata": {},
     "output_type": "execute_result"
    }
   ],
   "source": [
    "load_image('fig144')"
   ]
  },
  {
   "cell_type": "markdown",
   "id": "760684e3-96c1-46cb-bf32-f35dd40eb923",
   "metadata": {},
   "source": [
    "The check must determine whether the line is within this interval and on the same side of the spiral turn. The latter is necessary because the line could be positioned on the other side of the $x$-axis, in which case the check would also return 1.\n",
    "\n",
    "Therefore, $\\text{XYSwitch}$ represents the product of two checks.\n",
    "\n",
    "$$XYSwitch_{(x_l, x_s, y_s)}^{[ 0 \\vee 1]} = (\\text{Xbetween})(\\text{Xsigns}), \\quad\\quad\\quad\\quad(2.2.2.2)$$\n",
    "\n",
    "where $\\text{Xbetween}$ checks the interval, and $\\text{Xsigns}$ checks the signs of $x_l$ and $x_s$.\n",
    "\n",
    "We have already performed an interval check once before - the $\\text{KL}$-check.\n",
    "\n",
    "$$ KL_{(k, x_l)}^{[0 \\vee  1]} = \\lfloor \\frac{1+\\frac{x_l(k-1)(k-3)}{|E_{(x_l(k-1)(k-3))}|}}{2} \\rfloor.   \\quad\\quad\\quad\\quad(2.2.1.7)$$\n",
    "\n",
    "The $\\text{Xbetween}$ check examines the relationship between three lengths and determines whether one of them - $x_l$ is positioned between the other two, namely between $x_s$ and $y_s$. For this purpose, we rewrite the $\\text{KL}$ check as follows:\n",
    "\n",
    "$$ Xbetween_{(x_l, x_s, y_s)}^{[0 \\vee  1]} = \\lfloor \\frac{1+\\frac{x_l(|x_l| - |x_s|)(|y_s|-|x_l|)}\n",
    "{|E_{(x_l(|x_l| - |x_s|)(|y_s|-|x_l|))}|}}{2} \\rfloor.   \\quad\\quad\\quad\\quad(2.2.2.3)$$\n",
    "\n",
    "Now we need to define the two radius vectors $x_s$ and $y_s$. Since we are performing a check related to a specific initial radius vector (in this case, from *Figure 141*, this is the first initial radius vector or $y_1$), we will use it as a reference point to obtain the lengths of $x_s$ and $y_s$. These two radius vectors can be obtained by rotating the initial vector by 90 and 180 degrees forward in time, respectively. Purely schematically:\n",
    "\n",
    "$$ x_s = y_1 + 90^{\\circ}, \\quad\\quad\\quad\\quad(2.2.2.3)$$\n",
    "\n",
    "$$ y_s = y_1 + 180^{\\circ}. \\quad\\quad\\quad\\quad(2.2.2.4)$$\n",
    "\n",
    "\n",
    "Let’s recall how we obtained the initial radius vectors.\n",
    "\n",
    "$$t_n = \\frac{\\pi\\left(\n",
    "Greather_{(\\omega)}^{[0 \\vee 1]}\\Delta \\theta(k)^+ +\n",
    "Less_{(\\omega)}^{[0 \\vee 1]}\\Delta \\theta(k)^- +\n",
    "(n-1)\\right)}{2|E_{(\\omega)}^{[1 \\vee  \\omega]}|}. \\quad\\quad\\quad\\quad(2.1.31)$$\n",
    "\n",
    "Therefore, to obtain the length of the radius vector $x_s$, we need to add $\\frac{\\pi}{2}$ radians to the initial angle.\n",
    "\n",
    "$$t_{n + 1/2} = \\frac{\\pi\\left(\n",
    "Greather_{(\\omega)}^{[0 \\vee 1]}\\Delta \\theta(k)^+ +\n",
    "Less_{(\\omega)}^{[0 \\vee 1]}\\Delta \\theta(k)^- +\n",
    "(n-1) + \\frac{\\pi}{2} \\right)}{2|E_{(\\omega)}^{[1 \\vee  \\omega]}|}. \\quad\\quad\\quad\\quad(2.2.2.5)$$\n",
    "\n",
    "For adding an angle of $\\pi$ radians for the next initial radius vector, we will simply take the next initial moment, i.e., $n+1$.\n",
    "\n",
    "$$t_{n + 1} = \\frac{\\pi\\left(\n",
    "Greather_{(\\omega)}^{[0 \\vee 1]}\\Delta \\theta(k)^+ +\n",
    "Less_{(\\omega)}^{[0 \\vee 1]}\\Delta \\theta(k)^- +\n",
    "n \\right)}{2|E_{(\\omega)}^{[1 \\vee  \\omega]}|}. \\quad\\quad\\quad\\quad(2.2.2.6)$$\n",
    "\n",
    "Now, for purely pragmatic reasons, we will change the values we compare in this check, and instead of comparing the lengths $x_l$, $x_s$ and $y_s$ we will compare their equivalent values in relation to $t$. To achieve this, we will convert the position of the vertical line $x_l$ into time, and thus for $t_{x_l}$ we have:\n",
    "\n",
    "$$ t_{x_l} = \\frac{|x_l|}{E_{(v)}}. \\quad\\quad\\quad\\quad(2.2.2.7)$$\n",
    "\n",
    "Fewer operations are required to convert the length $|x_l|$ at moment $t_{x_l}$ than to convert the moments $t_{n + 1/2}$ and $t_{n + 1}$into the lengths of the radius vectors $x_s$ and $y_s$ using the formulas for the components $x(t_{n + 1/2}) = vt_{n + 1/2}cos(k \\frac{\\pi}{2} + \\omega t_{n + 1/2})$ and $y(t_{n + 1}) = vt_{n + 1}sin(k \\frac{\\pi}{2} + \\omega t_{n + 1})$. Therefore, for convenience, we adopt the notation $t_{n + 1/2}$ for the moment of the radius vector $x_s$, even though $n$ takes integer values.\n",
    "\n",
    "Substituting these values into 2.2.2.3, we obtain:\n",
    "\n",
    "$$ Xbetween_{(x_l, v, \\omega, k)}^{[0 \\vee  1]} = \\lfloor \\frac{1+\\frac{x_l(\\frac{|x_l|}\n",
    "{E_{(v)}} - t_{n + 1/2})(t_{n + 1}-\\frac{|x_l|}{E_{(v)}})}\n",
    "{|E_{\\left( x_l(\\frac{|x_l|}{E_{(v)}} - t_{n + 1/2})(t_{n + 1}-\\frac{|x_l|}{E_{(v)}})\\right)}|} }{2} \\rfloor.   \\quad\\quad\\quad\\quad(2.2.2.8)$$\n",
    "\n",
    "*Note:* Unlike $x_l$, the moments $t_{n + 1/2}$ and $t_{n + 1}$ are always positive since the domain of definition of $t$ is $t \\ge 0$, so there is no need to take their absolute values. We also change the arguments passed to $\\text{Xbetween}$, replacing $x_s$ and $y_s$ with $v$, $\\omega$ and $k$, as they are the necessary parameters for calculating $t_{n + 1/2}$  and $t_{n + 1}$ .\n",
    "\n",
    "\n",
    "With this, the $\\text{Xbetween}$ check is completed, and what remains is to define $\\text{XSigns}$. Since it needs to determine whether $x_l$ and $x_{t+1/2}$ are on the same side of the $x$-axis (see *Figure 141*), it will check the sign of the product between them.\n",
    "\n",
    "$$ \\text{XSigns}_{(x_l, v, \\omega, k)}^{[0 \\vee  1]} = \\lfloor \\frac{1 + \\frac{x_l x(t_n +1/2)}{|E_{(x_l x(t_n +1/2))}|}}\n",
    "{2} \\rfloor, \\quad\\quad\\quad\\quad(2.2.2.10)$$\n",
    "\n",
    "where\n",
    "\n",
    "$$ x(t_n +1/2) = vt_{n + 1/2}cos(k \\frac{\\pi}{2} + \\omega t_{n + 1/2}). \\quad\\quad\\quad\\quad(2.2.2.11)$$\n",
    "\n",
    "The final step is to substitute the checks $\\text{Xbetween}$ and $\\text{XSigns}$ into the formula for $\\text{XYSwitch}$.\n",
    "\n",
    "$$ XYSwitch_{(x_l, v, \\omega, k)}^{[ 0 \\vee 1]} = \n",
    "\\left(\n",
    "\\lfloor \\frac{1+\\frac{x_l(\\frac{|x_l|}\n",
    "{E_{(v)}} - t_{n + 1/2})(t_{n + 1}-\\frac{|x_l|}{E_{(v)}})}\n",
    "{|E_{\\left( x_l(\\frac{|x_l|}{E_{(v)}} - t_{n + 1/2})(t_{n + 1}-\\frac{|x_l|}{E_{(v)}})\\right)}|} }{2}\n",
    "\\rfloor\n",
    "\\right)\n",
    "\\left(\n",
    "\\lfloor \\frac{1 + \\frac{x_l x(t_n +1/2)}{|E_{(x_l x(t_n +1/2))}|}}\n",
    "{2} \\rfloor\n",
    "\\right)\n",
    "\\quad\\quad\\quad\\quad(2.2.2.12)$$\n",
    "\n",
    "The opposite check is therefore:\n",
    "\n",
    "$$ \\overline {XYSwitch_{(x_l, v, \\omega, k)}^{[ 0 \\vee 1]}} = 1 - XYSwitch_{(x_l, v, \\omega, k)}^{[ 0 \\vee 1]} \\quad\\quad\\quad\\quad(2.2.2.13)$$"
   ]
  }
 ],
 "metadata": {
  "kernelspec": {
   "display_name": "Python 3 (ipykernel)",
   "language": "python",
   "name": "python3"
  },
  "language_info": {
   "codemirror_mode": {
    "name": "ipython",
    "version": 3
   },
   "file_extension": ".py",
   "mimetype": "text/x-python",
   "name": "python",
   "nbconvert_exporter": "python",
   "pygments_lexer": "ipython3",
   "version": "3.9.13"
  }
 },
 "nbformat": 4,
 "nbformat_minor": 5
}
