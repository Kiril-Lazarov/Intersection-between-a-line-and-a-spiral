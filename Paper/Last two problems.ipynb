{
 "cells": [
  {
   "cell_type": "code",
   "execution_count": 1,
   "id": "6c072395-c59b-43c0-95bb-f78bbb9e7c9c",
   "metadata": {},
   "outputs": [],
   "source": [
    "from IPython.display import HTML\n",
    "from image_functions import *"
   ]
  },
  {
   "cell_type": "markdown",
   "id": "b94a988f-5c69-4b14-9169-09139f1fe0c2",
   "metadata": {},
   "source": [
    "### <center> 2.2.2 Last two problems"
   ]
  },
  {
   "cell_type": "markdown",
   "id": "337566b2-f828-4a4c-a251-aeefff94e04f",
   "metadata": {},
   "source": [
    "Two issues remain to be corrected. The first one was already presented in section *2.1.4 Limitations of the Angle-Based Algorithm.* It concerned the behavior of the angular algorithm for spiral turns that the vertical line does not intersect. The problem was that the angular algorithm lands the radius vector onto the $x$-axis."
   ]
  },
  {
   "cell_type": "code",
   "execution_count": 2,
   "id": "ad6368be-fe44-46b0-bd1a-7230942f4c4a",
   "metadata": {},
   "outputs": [
    {
     "data": {
      "text/html": [
       "\n",
       "    <div style=\"display: flex; justify-content: center; align-items: center; height: 300px;\">\n",
       "        <img src=\"Images/fig135.png\" style=\"width: 562px; height: 300px;\">\n",
       "        <div style=\"position: absolute; top: 0px; right: 80px; color: black; font-size: 14px; background-color: rgba(255, 255, 255, 0.7); padding:           5px; border-radius: 5px;\">\n",
       "            Fig.135\n",
       "        </div>\n",
       "    </div>\n",
       "    "
      ],
      "text/plain": [
       "<IPython.core.display.HTML object>"
      ]
     },
     "execution_count": 2,
     "metadata": {},
     "output_type": "execute_result"
    }
   ],
   "source": [
    "load_image('fig135')"
   ]
  },
  {
   "cell_type": "markdown",
   "id": "62d99f8d-e65c-4a7e-8b7e-0bdd177bd3b6",
   "metadata": {},
   "source": [
    "Here, we need to make an important clarification about which radius vectors are being landed onto the $x$-axis. Since we have already added the $\\text{ISSCDD}$-check, we will see that it deactivates $\\text{AB-Alg}$ in some cases but not in others. In the two images below, we show the first initial radius vector and the final radius vector at the $5$-th intersection point."
   ]
  },
  {
   "cell_type": "code",
   "execution_count": 5,
   "id": "caca07b3-e2d2-4675-b67d-aa5bebc52220",
   "metadata": {},
   "outputs": [
    {
     "data": {
      "text/html": [
       "<div style='display: flex; justify-content: space-between;'>\n",
       "        <div style=\"text-align: center; margin: 0 10px;\">\n",
       "            <img src=\"Images/fig136.png\" style=\"width: 375px; height: 200px;\">\n",
       "            <div style=\"color: black; font-size: 14px; background-color: rgba(255, 255, 255, 0.7); padding: 5px; border-radius: 5px;\">\n",
       "                Fig.136\n",
       "            </div>\n",
       "        </div>\n",
       "        \n",
       "        <div style=\"text-align: center; margin: 0 10px;\">\n",
       "            <img src=\"Images/fig137.png\" style=\"width: 375px; height: 200px;\">\n",
       "            <div style=\"color: black; font-size: 14px; background-color: rgba(255, 255, 255, 0.7); padding: 5px; border-radius: 5px;\">\n",
       "                Fig.137\n",
       "            </div>\n",
       "        </div>\n",
       "        </div>"
      ],
      "text/plain": [
       "<IPython.core.display.HTML object>"
      ]
     },
     "metadata": {},
     "output_type": "display_data"
    }
   ],
   "source": [
    "display(load_images([('fig136', 'left'), ('fig137', 'right')]))"
   ]
  },
  {
   "cell_type": "markdown",
   "id": "4a1bfb43-dca6-45b5-8fb0-3361c0029601",
   "metadata": {},
   "source": [
    "As can be seen, the derivatives have the same sign (positive slope) at the beginning and at the end of the iterative process, and $\\text{ISSCDD}$ gives a \"green light\" for $\\text{AB-Alg}$. However, the situation is different for the intersection points on the positive side of the ordinate axis."
   ]
  },
  {
   "cell_type": "code",
   "execution_count": 6,
   "id": "ef84b70c-a8e5-4f80-921a-f412c8c765e1",
   "metadata": {},
   "outputs": [
    {
     "data": {
      "text/html": [
       "<div style='display: flex; justify-content: space-between;'>\n",
       "        <div style=\"text-align: center; margin: 0 10px;\">\n",
       "            <img src=\"Images/fig138.png\" style=\"width: 375px; height: 200px;\">\n",
       "            <div style=\"color: black; font-size: 14px; background-color: rgba(255, 255, 255, 0.7); padding: 5px; border-radius: 5px;\">\n",
       "                Fig.138\n",
       "            </div>\n",
       "        </div>\n",
       "        \n",
       "        <div style=\"text-align: center; margin: 0 10px;\">\n",
       "            <img src=\"Images/fig139.png\" style=\"width: 375px; height: 200px;\">\n",
       "            <div style=\"color: black; font-size: 14px; background-color: rgba(255, 255, 255, 0.7); padding: 5px; border-radius: 5px;\">\n",
       "                Fig.139\n",
       "            </div>\n",
       "        </div>\n",
       "        </div>"
      ],
      "text/plain": [
       "<IPython.core.display.HTML object>"
      ]
     },
     "metadata": {},
     "output_type": "display_data"
    }
   ],
   "source": [
    "display(load_images([('fig138', 'left'), ('fig139', 'right')]))"
   ]
  },
  {
   "cell_type": "markdown",
   "id": "efdcbfb9-f89a-4e44-b57b-9da4c84145d8",
   "metadata": {},
   "source": [
    "In this case, on the fourth iteration ($m=3$), the derivative changes its sign, and $\\text{ISSCDD}$ nullifies $\\text{AB-Alg}$. These behaviors of the algorithm are due to the position of $\\text{PMD}$. In the upper case, the \"descending\" radius vector passes $\\text{PMD}$, causing the derivative to change its sign. In the previous case, $\\text{PMD}$ is positioned above the  $x$-axis (i.e., after it in terms of time $t$), which is why the derivative does not change its sign. \n",
    "\n",
    "This is a problem for which we will define a check whose role is to prevent the start of $\\text{AB-Alg}$ under certain conditions. We will leave this for last. Before that, we will address and solve the other problem shown in the image below."
   ]
  },
  {
   "cell_type": "code",
   "execution_count": 7,
   "id": "4a33cccf-fdea-4ad2-873d-3de1d2304a8d",
   "metadata": {},
   "outputs": [
    {
     "data": {
      "text/html": [
       "\n",
       "    <div style=\"display: flex; justify-content: center; align-items: center; height: 300px;\">\n",
       "        <img src=\"Images/fig140.png\" style=\"width: 562px; height: 300px;\">\n",
       "        <div style=\"position: absolute; top: 0px; right: 80px; color: black; font-size: 14px; background-color: rgba(255, 255, 255, 0.7); padding:           5px; border-radius: 5px;\">\n",
       "            Fig.140\n",
       "        </div>\n",
       "    </div>\n",
       "    "
      ],
      "text/plain": [
       "<IPython.core.display.HTML object>"
      ]
     },
     "execution_count": 7,
     "metadata": {},
     "output_type": "execute_result"
    }
   ],
   "source": [
    "load_image('fig140')"
   ]
  },
  {
   "cell_type": "markdown",
   "id": "2f929e15-70fe-4401-b99e-2cbffbfc0af6",
   "metadata": {},
   "source": [
    "The vertical line is positioned between $\\text{PMD}$ and the intersection point of the spiral with the $x$-axis, and $\\text{AB-Alg}$ cannot move the radius vector from any of the initial vectors. In one case, at $n=1$, the radius vector lands on the $x$-axis, while in the other, it reaches the intersection point with the line."
   ]
  },
  {
   "cell_type": "code",
   "execution_count": 8,
   "id": "6f87d17a-00d0-4d9e-b400-3a10b3b10e66",
   "metadata": {},
   "outputs": [
    {
     "data": {
      "text/html": [
       "<div style='display: flex; justify-content: space-between;'>\n",
       "        <div style=\"text-align: center; margin: 0 10px;\">\n",
       "            <img src=\"Images/fig141.png\" style=\"width: 375px; height: 200px;\">\n",
       "            <div style=\"color: black; font-size: 14px; background-color: rgba(255, 255, 255, 0.7); padding: 5px; border-radius: 5px;\">\n",
       "                Fig.141\n",
       "            </div>\n",
       "        </div>\n",
       "        \n",
       "        <div style=\"text-align: center; margin: 0 10px;\">\n",
       "            <img src=\"Images/fig142.png\" style=\"width: 375px; height: 200px;\">\n",
       "            <div style=\"color: black; font-size: 14px; background-color: rgba(255, 255, 255, 0.7); padding: 5px; border-radius: 5px;\">\n",
       "                Fig.142\n",
       "            </div>\n",
       "        </div>\n",
       "        </div>"
      ],
      "text/plain": [
       "<IPython.core.display.HTML object>"
      ]
     },
     "metadata": {},
     "output_type": "display_data"
    }
   ],
   "source": [
    "display(load_images([('fig141', 'left'), ('fig142', 'right')]))"
   ]
  },
  {
   "cell_type": "markdown",
   "id": "189043dc-8f5b-446e-a1e8-56162ef7a00a",
   "metadata": {},
   "source": [
    "This problem is the same as the missing point issue occurring at $n=0$, with the difference that it appears for $n>0$. The solution is the same - using $\\text{LB-Alg}$. This means that it should be added as a third term to the equation for the two-dimensional sequence, with the necessary checks as multipliers in front of it.\n",
    "\n",
    "$$\\lim_{n, m \\to \\infty} \\left\\{ t_{[n; m]} \\right\\} =\n",
    "\\text{ISSCDD}_{(x'_s(t_{[n;0]}), x'_s(t_{[n;m]}))}^{[0 \\vee 1]}\n",
    "\\left( \\overline{NSwitch_{(n)}^{[0 \\vee  1]}}\n",
    "\\text{XMD}_{(x_l, y_s(t_{[1; 0]}))}^{[0 \\vee 1]}\n",
    "\\text{SCDD}_{(x'_s(0), x'_s(t_{[0;0]}))}^{[0 \\vee 1]}\\\\\n",
    "\\left(\n",
    "KWL_{(k, w, x_l)}^{[0 \\vee  1]} +\n",
    "KL_{(k, x_l)}^{[0 \\vee  1]}\n",
    "\\right)\n",
    "\\text{LB-Alg}\n",
    "+ NSwitch_{(n)}^{[0 \\vee  1]}\n",
    "\\left( \\overline {XYSwitch_{(a)}^{[ 0 \\vee 1]}} \\text{AB-Alg} +\n",
    "XYSwitch_{(a)}^{[ 0 \\vee 1]} \\text{LB-Alg}\n",
    "\\right)\n",
    "\\right), \\quad n, m \\ge 0.  \\quad\\quad\\quad\\quad (2.2.2.1)$$\n",
    "\n",
    "Since this $\\text{LB-Alg}$ occurs at $n>0$, we place both algorithms in parentheses before $NSwitch_{(n)}^{[0 \\vee  1]}$, with the additional condition $XYSwitch_{(a)}^{[ 0 \\vee 1]}$ as a switch before each algorithm, ensuring that only one of them operates at a time.\n",
    "\n",
    "Two problems need to be solved here - the first is defining $\\text{XYSwitch}$, and the second is providing an initial value for $\\text{LB-Alg}$, since the conditions for its activation differ slightly from the case of the zero intersection point.\n",
    "\n",
    "The new check should determine a specific range of values for the position of the vertical line. If the line is within this range, it should return 1; otherwise, it should return 0. In *Figure 141*, we can see that the line is positioned slightly after the intersection of the spiral with the $x$-axis, where $\\text{LB-Alg}$ grounds the radius vector for the corresponding coil, in this case, $n=1$. The intersection point of the spiral with the $x$-axis will serve as the lower boundary. As the upper boundary, we will take the length of the radius vector at the point where the spiral intersects the next coordinate axis, i.e., the $y$-axis."
   ]
  },
  {
   "cell_type": "code",
   "execution_count": 9,
   "id": "08c41568-ea28-4228-b84e-049e901da9ad",
   "metadata": {},
   "outputs": [
    {
     "data": {
      "text/html": [
       "\n",
       "    <div style=\"display: flex; justify-content: center; align-items: center; height: 300px;\">\n",
       "        <img src=\"Images/fig143.png\" style=\"width: 562px; height: 300px;\">\n",
       "        <div style=\"position: absolute; top: 0px; right: 80px; color: black; font-size: 14px; background-color: rgba(255, 255, 255, 0.7); padding:           5px; border-radius: 5px;\">\n",
       "            Fig.143\n",
       "        </div>\n",
       "    </div>\n",
       "    "
      ],
      "text/plain": [
       "<IPython.core.display.HTML object>"
      ]
     },
     "execution_count": 9,
     "metadata": {},
     "output_type": "execute_result"
    }
   ],
   "source": [
    "load_image('fig143')"
   ]
  },
  {
   "cell_type": "markdown",
   "id": "78e77db3-8ba0-4d21-9e9e-bbdae96e0fd1",
   "metadata": {},
   "source": [
    "If we look at the values of the lower and upper boundaries from *Figures 141 and 143*, we will see that $x_l$ is positioned between them - $-0.63617... < -0.437 < -0.42403...$ ($\\text{Spiral_y} < \\text{x_line} < \\text{Spiral_x}$ on the images).\n",
    "\n",
    "Here is how the interval looks."
   ]
  },
  {
   "cell_type": "code",
   "execution_count": 10,
   "id": "811be2ea-13e5-49c2-9074-6e4796365708",
   "metadata": {},
   "outputs": [
    {
     "data": {
      "text/html": [
       "\n",
       "    <div style=\"display: flex; justify-content: center; align-items: center; height: 300px;\">\n",
       "        <img src=\"Images/fig144.png\" style=\"width: 562px; height: 300px;\">\n",
       "        <div style=\"position: absolute; top: 0px; right: 80px; color: black; font-size: 14px; background-color: rgba(255, 255, 255, 0.7); padding:           5px; border-radius: 5px;\">\n",
       "            Fig.144\n",
       "        </div>\n",
       "    </div>\n",
       "    "
      ],
      "text/plain": [
       "<IPython.core.display.HTML object>"
      ]
     },
     "execution_count": 10,
     "metadata": {},
     "output_type": "execute_result"
    }
   ],
   "source": [
    "load_image('fig144')"
   ]
  },
  {
   "cell_type": "markdown",
   "id": "760684e3-96c1-46cb-bf32-f35dd40eb923",
   "metadata": {},
   "source": [
    "The check must determine whether the line is within this interval and on the same side of the spiral turn. The latter is necessary because the line could be positioned on the other side of the $x$-axis, in which case the check would also return 1.\n",
    "\n",
    "Therefore, $\\text{XYSwitch}$ represents the product of two checks.\n",
    "\n",
    "$$XYSwitch_{(x_l, x_s, y_s)}^{[ 0 \\vee 1]} = (\\text{Xbetween})(\\text{Xsigns}), \\quad\\quad\\quad\\quad(2.2.2.2)$$\n",
    "\n",
    "where $\\text{Xbetween}$ checks the interval, and $\\text{Xsigns}$ checks the signs of $x_l$ and $x_s$.\n",
    "\n",
    "We have already performed an interval check once before - the $\\text{KL}$-check.\n",
    "\n",
    "$$ KL_{(k, x_l)}^{[0 \\vee  1]} = \\lfloor \\frac{1+\\frac{x_l(k-1)(k-3)}{|E_{(x_l(k-1)(k-3))}|}}{2} \\rfloor.   \\quad\\quad\\quad\\quad(2.2.1.7)$$\n",
    "\n",
    "The $\\text{Xbetween}$ check examines the relationship between three lengths and determines whether one of them - $x_l$ is positioned between the other two, namely between $x_s$ and $y_s$. For this purpose, we rewrite the $\\text{KL}$ check as follows:\n",
    "\n",
    "$$ Xbetween_{(x_l, x_s, y_s)}^{[0 \\vee  1]} = \\lfloor \\frac{1-\\frac{(|x_l| - |x_s|)(|y_s|-|x_l|)}\n",
    "{|E_{((|x_l| - |x_s|)(|y_s|-|x_l|))}|}}{2} \\rfloor.   \\quad\\quad\\quad\\quad(2.2.2.3)$$\n",
    "\n",
    "Now we need to define the two radius vectors $x_s$ and $y_s$. Since we are performing a check related to a specific initial radius vector (in this case, from *Figure 141*, this is the first initial radius vector or $y_1$), we will use it as a reference point to obtain the lengths of $x_s$ and $y_s$. These two radius vectors can be obtained by rotating the initial vector by 90 and 180 degrees forward in time, respectively. Purely schematically:\n",
    "\n",
    "$$ x_s = \\vec{y_1} + 90^{\\circ}, \\quad\\quad\\quad\\quad(2.2.2.3)$$\n",
    "\n",
    "$$ y_s = \\vec{y_1} + 180^{\\circ}. \\quad\\quad\\quad\\quad(2.2.2.4)$$\n",
    "\n",
    "\n",
    "Let’s recall how we obtained the initial radius vectors.\n",
    "\n",
    "$$t_n = \\frac{\\pi\\left(\n",
    "Greather_{(\\omega)}^{[0 \\vee 1]}\\Delta \\theta(k)^+ +\n",
    "Less_{(\\omega)}^{[0 \\vee 1]}\\Delta \\theta(k)^- +\n",
    "(n-1)\\right)}{2|E_{(\\omega)}^{[1 \\vee  \\omega]}|}. \\quad\\quad\\quad\\quad(2.1.31)$$\n",
    "\n",
    "Therefore, to obtain the length of the radius vector $x_s$, we need to add $\\frac{\\pi}{2}$ radians to the initial angle.\n",
    "\n",
    "$$t_{n + 1/2} = \\frac{\\pi\\left(\n",
    "Greather_{(\\omega)}^{[0 \\vee 1]}\\Delta \\theta(k)^+ +\n",
    "Less_{(\\omega)}^{[0 \\vee 1]}\\Delta \\theta(k)^- +\n",
    "(n-1) + \\frac{\\pi}{2} \\right)}{2|E_{(\\omega)}^{[1 \\vee  \\omega]}|}. \\quad\\quad\\quad\\quad(2.2.2.5)$$\n",
    "\n",
    "For adding an angle of $\\pi$ radians for the next initial radius vector, we will simply take the next initial moment, i.e., $n+1$.\n",
    "\n",
    "$$t_{n + 1} = \\frac{\\pi\\left(\n",
    "Greather_{(\\omega)}^{[0 \\vee 1]}\\Delta \\theta(k)^+ +\n",
    "Less_{(\\omega)}^{[0 \\vee 1]}\\Delta \\theta(k)^- +\n",
    "n \\right)}{2|E_{(\\omega)}^{[1 \\vee  \\omega]}|}. \\quad\\quad\\quad\\quad(2.2.2.6)$$\n",
    "\n",
    "Now, for purely pragmatic reasons, we will change the values we compare in this check, and instead of comparing the lengths $x_l$, $x_s$ and $y_s$ we will compare their equivalent values in relation to $t$. To achieve this, we will convert the position of the vertical line $x_l$ into time, and thus for $t_{x_l}$ we have:\n",
    "\n",
    "$$ t_{x_l} = \\frac{|x_l|}{E_{(v)}}. \\quad\\quad\\quad\\quad(2.2.2.7)$$\n",
    "\n",
    "Fewer operations are required to convert the length $|x_l|$ at moment $t_{x_l}$ than to convert the moments $t_{n + 1/2}$ and $t_{n + 1}$into the lengths of the radius vectors $x_s$ and $y_s$ using the formulas for the components $x(t_{n + 1/2}) = vt_{n + 1/2}cos(k \\frac{\\pi}{2} + \\omega t_{n + 1/2})$ and $y(t_{n + 1}) = vt_{n + 1}sin(k \\frac{\\pi}{2} + \\omega t_{n + 1})$. Therefore, for convenience, we adopt the notation $t_{n + 1/2}$ for the moment of the radius vector $x_s$, even though $n$ takes integer values.\n",
    "\n",
    "Substituting these values into 2.2.2.3, we obtain:\n",
    "\n",
    "$$ Xbetween_{(x_l, v, \\omega, k)}^{[0 \\vee  1]} = \\lfloor \\frac{1+\\frac{(\\frac{|x_l|}\n",
    "{E_{(v)}} - t_{n + 1/2})(t_{n + 1}-\\frac{|x_l|}{E_{(v)}})}\n",
    "{|E_{\\left((\\frac{|x_l|}{E_{(v)}} - t_{n + 1/2})(t_{n + 1}-\\frac{|x_l|}{E_{(v)}})\\right)}|} }{2} \\rfloor.   \\quad\\quad\\quad\\quad(2.2.2.8)$$\n",
    "\n",
    "*Note:* Unlike $x_l$, the moments $t_{n + 1/2}$ and $t_{n + 1}$ are always positive since the domain of definition of $t$ is $t \\ge 0$, so there is no need to take their absolute values. We also change the arguments passed to $\\text{Xbetween}$, replacing $x_s$ and $y_s$ with $v$, $\\omega$ and $k$, as they are the necessary parameters for calculating $t_{n + 1/2}$  and $t_{n + 1}$ .\n",
    "\n",
    "\n",
    "With this, the $\\text{Xbetween}$ check is completed, and what remains is to define $\\text{XSigns}$. Since it needs to determine whether $x_l$ and $x_{t+1/2}$ are on the same side of the $x$-axis (see *Figure 141*), it will check the sign of the product between them.\n",
    "\n",
    "$$ \\text{XSigns}_{(x_l, v, \\omega, k)}^{[0 \\vee  1]} = \\lfloor \\frac{1 + \\frac{x_l x(t_n +1/2)}{|E_{(x_l x(t_n +1/2))}|}}\n",
    "{2} \\rfloor, \\quad\\quad\\quad\\quad(2.2.2.10)$$\n",
    "\n",
    "where\n",
    "\n",
    "$$ x(t_n +1/2) = vt_{n + 1/2}cos(k \\frac{\\pi}{2} + \\omega t_{n + 1/2}). \\quad\\quad\\quad\\quad(2.2.2.11)$$\n",
    "\n",
    "The final step is to substitute the checks $\\text{Xbetween}$ and $\\text{XSigns}$ into the formula for $\\text{XYSwitch}$.\n",
    "\n",
    "$$ XYSwitch_{(x_l, v, \\omega, k)}^{[ 0 \\vee 1]} = \n",
    "\\left(\n",
    "\\lfloor \\frac{1+\\frac{(\\frac{|x_l|}\n",
    "{E_{(v)}} - t_{n + 1/2})(t_{n + 1}-\\frac{|x_l|}{E_{(v)}})}\n",
    "{|E_{\\left( (\\frac{|x_l|}{E_{(v)}} - t_{n + 1/2})(t_{n + 1}-\\frac{|x_l|}{E_{(v)}})\\right)}|} }{2}\n",
    "\\rfloor\n",
    "\\right)\n",
    "\\left(\n",
    "\\lfloor \\frac{1 + \\frac{x_l x(t_n +1/2)}{|E_{(x_l x(t_n +1/2))}|}}\n",
    "{2} \\rfloor\n",
    "\\right)\n",
    "\\quad\\quad\\quad\\quad(2.2.2.12)$$\n",
    "\n",
    "The opposite check is therefore:\n",
    "\n",
    "$$ \\overline {XYSwitch_{(x_l, v, \\omega, k)}^{[ 0 \\vee 1]}} = 1 - XYSwitch_{(x_l, v, \\omega, k)}^{[ 0 \\vee 1]} \\quad\\quad\\quad\\quad(2.2.2.13)$$\n",
    "\n",
    "After defining $\\text{XYSwitch}$, the remaining task is to resolve the issue with the input value of $\\text{LB-Alg}$. Let's recall its formula:\n",
    "\n",
    "$$ t_{[0;m]} = \\frac{|x_l|}\n",
    "{E_{(v)}\\cos(\\arctan(|\\frac{y_s(t_{[0;m-1]})}{E_{(x_s(t_{[0;m-1]}))}}|))}, \\quad\\quad\\quad\\quad (2.2.19)$$\n",
    "\n",
    "where the input value of the algorithm was determined based on the position $x_l$ of the line.\n",
    "\n",
    "$$ t_{[0;0]} = \\frac{|x_l|}{E_{(v)}}. \\quad\\quad\\quad\\quad (2.2.14)$$\n",
    "\n",
    "If we use this formula, it will lead to calculating a dynamic input value as long as $x_l$ is within the length interval between $y_s$ and $x_s$. In the images below, it can be seen that the input value has different lengths, and in *Figure 146*, it moves behind $\\text{PMD}$."
   ]
  },
  {
   "cell_type": "code",
   "execution_count": 12,
   "id": "c4dffef4-9b5a-46ca-b73c-d285a75ad2e7",
   "metadata": {},
   "outputs": [
    {
     "data": {
      "text/html": [
       "<div style='display: flex; justify-content: space-between;'>\n",
       "        <div style=\"text-align: center; margin: 0 10px;\">\n",
       "            <img src=\"Images/fig145.png\" style=\"width: 375px; height: 200px;\">\n",
       "            <div style=\"color: black; font-size: 14px; background-color: rgba(255, 255, 255, 0.7); padding: 5px; border-radius: 5px;\">\n",
       "                Fig.145\n",
       "            </div>\n",
       "        </div>\n",
       "        \n",
       "        <div style=\"text-align: center; margin: 0 10px;\">\n",
       "            <img src=\"Images/fig146.png\" style=\"width: 375px; height: 200px;\">\n",
       "            <div style=\"color: black; font-size: 14px; background-color: rgba(255, 255, 255, 0.7); padding: 5px; border-radius: 5px;\">\n",
       "                Fig.146\n",
       "            </div>\n",
       "        </div>\n",
       "        </div>"
      ],
      "text/plain": [
       "<IPython.core.display.HTML object>"
      ]
     },
     "metadata": {},
     "output_type": "display_data"
    }
   ],
   "source": [
    "display(load_images([('fig145', 'left'), ('fig146', 'right')]))"
   ]
  },
  {
   "cell_type": "markdown",
   "id": "6fd59861-f6f5-40c3-9a36-02f4bfba1d4e",
   "metadata": {},
   "source": [
    "It is unlikely, but under a certain configuration of the spiral and line parameters, this could still lead to calculating an incorrect 'intersection point.' To avoid such a possible scenario, we will use a different length as the input parameter. This length will remain static for any position of the line. It will be the same radius vector that we used as the upper boundary of the interval in $\\text{XYSwitch}$."
   ]
  },
  {
   "cell_type": "code",
   "execution_count": 14,
   "id": "0df85e9c-c063-47ef-a3e5-de2b0bee6409",
   "metadata": {},
   "outputs": [
    {
     "data": {
      "text/html": [
       "<div style='display: flex; justify-content: space-between;'>\n",
       "        <div style=\"text-align: center; margin: 0 10px;\">\n",
       "            <img src=\"Images/fig147.png\" style=\"width: 375px; height: 200px;\">\n",
       "            <div style=\"color: black; font-size: 14px; background-color: rgba(255, 255, 255, 0.7); padding: 5px; border-radius: 5px;\">\n",
       "                Fig.147\n",
       "            </div>\n",
       "        </div>\n",
       "        \n",
       "        <div style=\"text-align: center; margin: 0 10px;\">\n",
       "            <img src=\"Images/fig148.png\" style=\"width: 375px; height: 200px;\">\n",
       "            <div style=\"color: black; font-size: 14px; background-color: rgba(255, 255, 255, 0.7); padding: 5px; border-radius: 5px;\">\n",
       "                Fig.148\n",
       "            </div>\n",
       "        </div>\n",
       "        </div>"
      ],
      "text/plain": [
       "<IPython.core.display.HTML object>"
      ]
     },
     "metadata": {},
     "output_type": "display_data"
    }
   ],
   "source": [
    "display(load_images([('fig147', 'left'), ('fig148', 'right')]))"
   ]
  },
  {
   "cell_type": "markdown",
   "id": "36e9460b-a786-419a-9370-db76e7f87692",
   "metadata": {},
   "source": [
    "As can be seen, shifting the line to the same position as in *Figure 146* does not change the initial radius vector.\n",
    "\n",
    "All this means that we need to redefine $\\text{LB-Alg}$ for each $n$-th initial radius vector. Then we have:\n",
    "\n",
    "$$ t_{[n;m]} = \\frac{|x_l|}\n",
    "{E_{(v)}\\cos(\\arctan(|\\frac{y_s(t_{[n;m-1]})}{E_{(x_s(t_{[n;m-1]}))}}|))}, \\quad\\quad\\quad\\quad (2.2.2.14)$$\n",
    "\n",
    "where the initial moment $t_{[n;0]} = t_{n+1/2}$ from 2.2.2.5.\n",
    "\n",
    "$$t_{[n;0]} = \\frac{\\pi\\left(\n",
    "Greather_{(\\omega)}^{[0 \\vee 1]}\\Delta \\theta(k)^+ +\n",
    "Less_{(\\omega)}^{[0 \\vee 1]}\\Delta \\theta(k)^- +\n",
    "(n-1) + \\frac{\\pi}{2} \\right)}{2|E_{(\\omega)}^{[1 \\vee  \\omega]}|}. \\quad\\quad\\quad\\quad(2.2.2.15)$$\n",
    "\n",
    "However, the actual initial value is not determined based on the length of the radius vector $x_s$, but rather on the position $x_l$. The value of the $y$-component of this radius vector is 0 (*Figure 147*), which means that the multiplier $\\cos(\\arctan(|\\frac{y_s(t_{[n;m-1]})}{E_{(x_s(t_{[n;m-1]}))}}|))$ in the denominator in 2.2.2.14 equals 1. Then:\n",
    "\n",
    "$$ t_{[n;0]} = \\frac{|x_l|}\n",
    "{E_{(v)}}. \\quad\\quad\\quad\\quad (2.2.2.16)$$\n",
    "\n",
    "This extension of the definition of $\\text{LB-Alg}$ requires giving it a different name when it is executed in cases for $n \\ge 1$. We will call it $\\text{NLB-Alg}$, and thus the formula for the two-dimensional sequence of intersection points will have the following schematic form:\n",
    "\n",
    "$$\\lim_{n, m \\to \\infty} \\left\\{ t_{[n; m]} \\right\\} =\n",
    "\\text{ISSCDD}_{(x'_s(t_{[n;0]}), x'_s(t_{[n;m]}))}^{[0 \\vee 1]}\n",
    "\\left( \\overline{NSwitch_{(n)}^{[0 \\vee  1]}}\n",
    "\\text{XMD}_{(x_l, y_s(t_{[1; 0]}))}^{[0 \\vee 1]}\n",
    "\\text{SCDD}_{(x'_s(0), x'_s(t_{[0;0]}))}^{[0 \\vee 1]}\\\\\n",
    "\\left(\n",
    "KWL_{(k, w, x_l)}^{[0 \\vee  1]} +\n",
    "KL_{(k, x_l)}^{[0 \\vee  1]}\n",
    "\\right)\n",
    "\\text{LB-Alg}\n",
    "+ NSwitch_{(n)}^{[0 \\vee  1]}\n",
    "\\left( \\overline{XYSwitch_{(x_l, v, \\omega, k)}^{[ 0 \\vee 1]}} \\text{AB-Alg} +\n",
    "XYSwitch_{(x_l, v, \\omega, k)}^{[ 0 \\vee 1]} \\text{NLB-Alg}\n",
    "\\right)\n",
    "\\right), \\quad n, m \\ge 0.  \\quad\\quad\\quad\\quad (2.2.2.17)$$\n",
    "\n",
    "Now, let's return to the scenario from *Figure 147* and see how the new check $\\text{XYSwitch}$ and the algorithm $\\text{NLB-Alg}$ work."
   ]
  },
  {
   "cell_type": "code",
   "execution_count": 21,
   "id": "e6078584-8cf3-4da8-b76c-ec052d803e5f",
   "metadata": {},
   "outputs": [
    {
     "data": {
      "text/html": [
       "<div style='display: flex; justify-content: space-between;'>\n",
       "        <div style=\"text-align: center; margin: 0 10px;\">\n",
       "            <img src=\"Images/fig149.png\" style=\"width: 375px; height: 200px;\">\n",
       "            <div style=\"color: black; font-size: 14px; background-color: rgba(255, 255, 255, 0.7); padding: 5px; border-radius: 5px;\">\n",
       "                Fig.149\n",
       "            </div>\n",
       "        </div>\n",
       "        \n",
       "        <div style=\"text-align: center; margin: 0 10px;\">\n",
       "            <img src=\"Images/fig150.png\" style=\"width: 375px; height: 200px;\">\n",
       "            <div style=\"color: black; font-size: 14px; background-color: rgba(255, 255, 255, 0.7); padding: 5px; border-radius: 5px;\">\n",
       "                Fig.150\n",
       "            </div>\n",
       "        </div>\n",
       "        </div>"
      ],
      "text/plain": [
       "<IPython.core.display.HTML object>"
      ]
     },
     "metadata": {},
     "output_type": "display_data"
    }
   ],
   "source": [
    "display(load_images([('fig149', 'left'), ('fig150', 'right')]))"
   ]
  },
  {
   "cell_type": "markdown",
   "id": "b36ed8c5-702e-47b4-b650-46b8afe7a6fc",
   "metadata": {},
   "source": [
    "In *Figure 149*, we see that $\\text{XYSwitch}$ activates $\\text{NLB-Alg}$, $\\overline{\\text{XYSwitch}}$ deactivates $\\text{AB-Alg}$ and  moves the initial vector from the positive ordinate axis to the negative abscissa axis. In the other figure, we see that the radius vector in the first iteration ($m=1$) is longer than the initial vector and has the same length as $x_l$.\n",
    "\n",
    "We will examine another scenario to ensure that all checks, including the new one, function correctly. "
   ]
  },
  {
   "cell_type": "code",
   "execution_count": 22,
   "id": "ec0f6b7c-8987-4201-a723-44de8a67171d",
   "metadata": {},
   "outputs": [
    {
     "data": {
      "text/html": [
       "<div style='display: flex; justify-content: space-between;'>\n",
       "        <div style=\"text-align: center; margin: 0 10px;\">\n",
       "            <img src=\"Images/fig151.png\" style=\"width: 375px; height: 200px;\">\n",
       "            <div style=\"color: black; font-size: 14px; background-color: rgba(255, 255, 255, 0.7); padding: 5px; border-radius: 5px;\">\n",
       "                Fig.151\n",
       "            </div>\n",
       "        </div>\n",
       "        \n",
       "        <div style=\"text-align: center; margin: 0 10px;\">\n",
       "            <img src=\"Images/fig152.png\" style=\"width: 375px; height: 200px;\">\n",
       "            <div style=\"color: black; font-size: 14px; background-color: rgba(255, 255, 255, 0.7); padding: 5px; border-radius: 5px;\">\n",
       "                Fig.152\n",
       "            </div>\n",
       "        </div>\n",
       "        </div>"
      ],
      "text/plain": [
       "<IPython.core.display.HTML object>"
      ]
     },
     "metadata": {},
     "output_type": "display_data"
    }
   ],
   "source": [
    "display(load_images([('fig151', 'left'), ('fig152', 'right')]))"
   ]
  },
  {
   "cell_type": "markdown",
   "id": "c7b5be56-f302-4671-852e-32204f32ca41",
   "metadata": {},
   "source": [
    "In *Figure 151*, we see that $\\text{NLB-Alg}$ is activated for the $6$-th initial radius vector, and it is correctly rotated by 90 degrees to the abscissa axis. In the next figure, we see that the line is shifted slightly to the right, where it does not intersect the spiral loop. Here, $\\text{ISSCDD}$ is triggered and disables $\\text{NLB-Alg}$ (as well as all other algorithms) already in the first iteration.\n",
    "\n",
    "Now that we have corrected this issue in the algorithms, the final problem remains. It can be seen in *Figure 152*. We will display it in a larger size."
   ]
  },
  {
   "cell_type": "code",
   "execution_count": 23,
   "id": "25c76446-e5c2-43c7-b3f4-42c685098c48",
   "metadata": {},
   "outputs": [
    {
     "data": {
      "text/html": [
       "\n",
       "    <div style=\"display: flex; justify-content: center; align-items: center; height: 300px;\">\n",
       "        <img src=\"Images/fig152.png\" style=\"width: 562px; height: 300px;\">\n",
       "        <div style=\"position: absolute; top: 0px; right: 80px; color: black; font-size: 14px; background-color: rgba(255, 255, 255, 0.7); padding:           5px; border-radius: 5px;\">\n",
       "            Fig.152\n",
       "        </div>\n",
       "    </div>\n",
       "    "
      ],
      "text/plain": [
       "<IPython.core.display.HTML object>"
      ]
     },
     "execution_count": 23,
     "metadata": {},
     "output_type": "execute_result"
    }
   ],
   "source": [
    "load_image('fig152')"
   ]
  },
  {
   "cell_type": "markdown",
   "id": "574cee0e-29a7-41d2-81f0-dbf9dba092cf",
   "metadata": {},
   "source": [
    "The problem lies in the points aligned along the $x$-axis at the locations where the spiral curve intersects it. For this specific parameters of the spiral and the position of the line, these are the even initial vectors, or those on the positive side of the $y$-axis. Let's verify that this is indeed the case."
   ]
  },
  {
   "cell_type": "code",
   "execution_count": 25,
   "id": "25b03a14-d5c9-46e1-8881-3f871e130431",
   "metadata": {},
   "outputs": [
    {
     "data": {
      "text/html": [
       "<div style='display: flex; justify-content: space-between;'>\n",
       "        <div style=\"text-align: center; margin: 0 10px;\">\n",
       "            <img src=\"Images/fig153.png\" style=\"width: 375px; height: 200px;\">\n",
       "            <div style=\"color: black; font-size: 14px; background-color: rgba(255, 255, 255, 0.7); padding: 5px; border-radius: 5px;\">\n",
       "                Fig.153\n",
       "            </div>\n",
       "        </div>\n",
       "        \n",
       "        <div style=\"text-align: center; margin: 0 10px;\">\n",
       "            <img src=\"Images/fig154.png\" style=\"width: 375px; height: 200px;\">\n",
       "            <div style=\"color: black; font-size: 14px; background-color: rgba(255, 255, 255, 0.7); padding: 5px; border-radius: 5px;\">\n",
       "                Fig.154\n",
       "            </div>\n",
       "        </div>\n",
       "        </div>"
      ],
      "text/plain": [
       "<IPython.core.display.HTML object>"
      ]
     },
     "metadata": {},
     "output_type": "display_data"
    }
   ],
   "source": [
    "display(load_images([('fig153', 'left'), ('fig154', 'right')]))"
   ]
  },
  {
   "cell_type": "markdown",
   "id": "ef64f6f9-e3a4-447b-8e23-456e732dd712",
   "metadata": {},
   "source": [
    "The even initial radius vector $n=2$ 'lands' on the $x$-axis at the $11$-th iteration."
   ]
  },
  {
   "cell_type": "code",
   "execution_count": 26,
   "id": "b50eb8d7-4d35-4730-b050-19310249081f",
   "metadata": {},
   "outputs": [
    {
     "data": {
      "text/html": [
       "<div style='display: flex; justify-content: space-between;'>\n",
       "        <div style=\"text-align: center; margin: 0 10px;\">\n",
       "            <img src=\"Images/fig155.png\" style=\"width: 375px; height: 200px;\">\n",
       "            <div style=\"color: black; font-size: 14px; background-color: rgba(255, 255, 255, 0.7); padding: 5px; border-radius: 5px;\">\n",
       "                Fig.155\n",
       "            </div>\n",
       "        </div>\n",
       "        \n",
       "        <div style=\"text-align: center; margin: 0 10px;\">\n",
       "            <img src=\"Images/fig156.png\" style=\"width: 375px; height: 200px;\">\n",
       "            <div style=\"color: black; font-size: 14px; background-color: rgba(255, 255, 255, 0.7); padding: 5px; border-radius: 5px;\">\n",
       "                Fig.156\n",
       "            </div>\n",
       "        </div>\n",
       "        </div>"
      ],
      "text/plain": [
       "<IPython.core.display.HTML object>"
      ]
     },
     "metadata": {},
     "output_type": "display_data"
    }
   ],
   "source": [
    "display(load_images([('fig155', 'left'), ('fig156', 'right')]))"
   ]
  },
  {
   "cell_type": "markdown",
   "id": "660d8447-5150-48e5-9ead-e2515dff4c3a",
   "metadata": {},
   "source": [
    "In contrast to the even radius vector, the odd one $n=3$ passes through $\\text{PMD}$, and $\\text{ISSCDD}$ resets $\\text{NLB-Alg}$ as early as the second iteration. (The green radius vector in *Figure 156* is the radius vector from the previous iteration).\n",
    "\n",
    "\n",
    "To get a clearer idea of what the new check should do, let's look at the image below. It shows a spiral and a vertical line that does not intersect the first three coils. On these coils, the algorithm incorrectly positions intersection points on the x-axis. Therefore, the new check must disable the algorithm only for the first three coils, but not for all the others."
   ]
  },
  {
   "cell_type": "code",
   "execution_count": 28,
   "id": "459d9e64-0885-443d-95a5-c34f6c81520f",
   "metadata": {},
   "outputs": [
    {
     "data": {
      "text/html": [
       "\n",
       "    <div style=\"display: flex; justify-content: center; align-items: center; height: 300px;\">\n",
       "        <img src=\"Images/fig157.png\" style=\"width: 562px; height: 300px;\">\n",
       "        <div style=\"position: absolute; top: 0px; right: 80px; color: black; font-size: 14px; background-color: rgba(255, 255, 255, 0.7); padding:           5px; border-radius: 5px;\">\n",
       "            Fig.157\n",
       "        </div>\n",
       "    </div>\n",
       "    "
      ],
      "text/plain": [
       "<IPython.core.display.HTML object>"
      ]
     },
     "execution_count": 28,
     "metadata": {},
     "output_type": "execute_result"
    }
   ],
   "source": [
    "load_image('fig157')"
   ]
  },
  {
   "cell_type": "markdown",
   "id": "34023135-45d4-4724-a060-720c82978b40",
   "metadata": {},
   "source": [
    "This can be achieved if the check verifies whether the line is located behind a specific coil. If it is behind it, it will return 0; if it is in front of it, it will return 1. More specifically, the check will be performed in relation to the intersection point of the spiral with the $x$-axis.\n",
    "\n",
    "The new check will be called $\\text{ABSwitch}$, as its role will be to decide whether to activate $\\text{AB-Alg}$, i.e., for $n \\ge 1$. $\\text{LB-Alg}$ is not involved in these calculations because we have already defined other checks that determine under what conditions it should be activated.\n",
    "\n",
    "$\\text{ABSwitch}$, like $\\text{XYSwitch}$, will compare lengths but as we did with $\\text{XYSwtich}$, we will transform the lengths into time.\n",
    "\n",
    "$$\\text{ABSwitch}_{(x_l, v, \\omega, k)}^{[ 0 \\vee 1]} = t_{n \\pm 1/2} + C + \\frac{|x_l|}{E_{(v)}}.\\quad\\quad\\quad\\quad (2.2.2.18)$$\n",
    "\n",
    "Two things need to be explained in this formula. One is the plus-minus sign in $t_{n \\pm 1/2}$ and the constant $C$. The double sign for addition needs to be included because, depending on the number $n$, either the time $\\frac{\\pi}{2E_{(w)}}$ needs to be added or the same time needs to be subtracted from the initial vector. The images below illustrate this."
   ]
  },
  {
   "cell_type": "code",
   "execution_count": 29,
   "id": "522d5db4-8bad-4446-b31d-e8e32f05e84c",
   "metadata": {},
   "outputs": [
    {
     "data": {
      "text/html": [
       "<div style='display: flex; justify-content: space-between;'>\n",
       "        <div style=\"text-align: center; margin: 0 10px;\">\n",
       "            <img src=\"Images/fig158.png\" style=\"width: 375px; height: 200px;\">\n",
       "            <div style=\"color: black; font-size: 14px; background-color: rgba(255, 255, 255, 0.7); padding: 5px; border-radius: 5px;\">\n",
       "                Fig.158\n",
       "            </div>\n",
       "        </div>\n",
       "        \n",
       "        <div style=\"text-align: center; margin: 0 10px;\">\n",
       "            <img src=\"Images/fig159.png\" style=\"width: 375px; height: 200px;\">\n",
       "            <div style=\"color: black; font-size: 14px; background-color: rgba(255, 255, 255, 0.7); padding: 5px; border-radius: 5px;\">\n",
       "                Fig.159\n",
       "            </div>\n",
       "        </div>\n",
       "        </div>"
      ],
      "text/plain": [
       "<IPython.core.display.HTML object>"
      ]
     },
     "metadata": {},
     "output_type": "display_data"
    }
   ],
   "source": [
    "display(load_images([('fig158', 'left'), ('fig159', 'right')]))"
   ]
  },
  {
   "cell_type": "markdown",
   "id": "7df5ea86-ea67-492d-a361-14fea9af64ce",
   "metadata": {},
   "source": [
    "Due to the position of the line on the negative abscissa, the specified time must be added to the time of the initial vector $n=5$, while for the next initial vector $n=6$, the same time must be subtracted in order to find the length of the radius vector lying on the abscissa, relative to which we will compare the position of the line $x_l$. Which of the two operations should be performed will be determined through an algebraic check. Such a check has already been defined in the angular algorithm. This is the sign check from 2.1.3.10.\n",
    "\n",
    "\n",
    "$$S_{(-\\omega x_l y_s(t_{[n; m-1]}))} = \\frac{-\\omega x_l y_s(t_{[n; m-1]})}{|E_{(-\\omega x_l y_s(t_{[n; m-1]}))}|}. \\quad\\quad\\quad\\quad(2.1.3.10)$$\n",
    "\n",
    "We will slightly modify the formula by replacing $m-1$ with $0$. This gives us:\n",
    "\n",
    "$$S_{(-\\omega x_l y_s(t_{[n; 0]}))} = \\frac{-\\omega x_l y_s(t_{[n; 0]})}{|E_{(-\\omega x_l y_s(t_{[n; 0]}))}|}. \\quad\\quad\\quad\\quad(2.2.2.19)$$\n",
    "\n",
    "For $n=5$ from *Figure 158*, we add accordingly, while for $n=6$ from the next figure, we subtract. However, we will perform this check outside the time formula to avoid unnecessary modifications to it. Let us recall once again:\n",
    "\n",
    "$$t_n = \\frac{\\pi\\left(\n",
    "Greather_{(\\omega)}^{[0 \\vee 1]}\\Delta \\theta(k)^+ +\n",
    "Less_{(\\omega)}^{[0 \\vee 1]}\\Delta \\theta(k)^- +\n",
    "(n-1)\\right)}{2|E_{(\\omega)}^{[1 \\vee  \\omega]}|}. \\quad\\quad\\quad\\quad(2.1.31)$$\n",
    "\n",
    "With the addition of the check, the formula 2.2.2.18 takes the form:\n",
    "\n",
    "$$\\text{ABSwitch}_{(x_l, v, \\omega, k)}^{[ 0 \\vee 1]} = t_{[n; 0]} +\n",
    "S_{(-\\omega x_l y_s(t_{[n; 0]}))} \n",
    "+ C + \\frac{|x_l|}{E_{(v)}}.\\quad\\quad\\quad\\quad (2.2.2.20)$$"
   ]
  }
 ],
 "metadata": {
  "kernelspec": {
   "display_name": "Python 3 (ipykernel)",
   "language": "python",
   "name": "python3"
  },
  "language_info": {
   "codemirror_mode": {
    "name": "ipython",
    "version": 3
   },
   "file_extension": ".py",
   "mimetype": "text/x-python",
   "name": "python",
   "nbconvert_exporter": "python",
   "pygments_lexer": "ipython3",
   "version": "3.9.13"
  }
 },
 "nbformat": 4,
 "nbformat_minor": 5
}
