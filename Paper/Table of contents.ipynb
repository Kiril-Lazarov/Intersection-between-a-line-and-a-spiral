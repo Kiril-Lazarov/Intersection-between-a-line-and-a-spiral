{
 "cells": [
  {
   "cell_type": "markdown",
   "id": "e5bb0d87-228e-4147-a8fc-6e0a455544fb",
   "metadata": {},
   "source": [
    "## <center> 1.General strategy\n",
    "    \n",
    "### <center> 1.1 Parameterization of an Archimedean spiral\n",
    "    \n",
    "### <center> 1.2 Algebraic checks and reduction functions\n",
    "    \n",
    "#### <center> 1.2.1 Basic reduction functions\n",
    "    \n",
    "### <center> 1.3 Overview of the General Strategy\n",
    "    \n",
    "## <center> 2. Numerical-analytical method for finding intersection points between an Archimedean spiral and a straight line.\n",
    "    \n",
    "## <center> 2.1 Angle-based algorithm\n",
    "    \n",
    "### <center> 2.1.1 Analytical derivation of input values\n",
    "    \n",
    "### <center> 2.1.2 Description and General Strategy of the Angular-Based Algorithm\n",
    "    \n",
    "### <center> 2.1.3 Derivation of the Angle-Based Algorithm\n",
    "    \n",
    "### <center> 2.2 Limitations of the Angle-Based Algorithm"
   ]
  }
 ],
 "metadata": {
  "kernelspec": {
   "display_name": "Python 3 (ipykernel)",
   "language": "python",
   "name": "python3"
  },
  "language_info": {
   "codemirror_mode": {
    "name": "ipython",
    "version": 3
   },
   "file_extension": ".py",
   "mimetype": "text/x-python",
   "name": "python",
   "nbconvert_exporter": "python",
   "pygments_lexer": "ipython3",
   "version": "3.9.13"
  }
 },
 "nbformat": 4,
 "nbformat_minor": 5
}
