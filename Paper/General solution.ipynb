{
 "cells": [
  {
   "cell_type": "code",
   "execution_count": 1,
   "id": "1831b7a1-0b49-44ea-91f6-c5bc2c3cffd1",
   "metadata": {},
   "outputs": [],
   "source": [
    "from IPython.display import HTML\n",
    "from image_functions import *"
   ]
  },
  {
   "cell_type": "markdown",
   "id": "a25033d0-6fac-4ae4-b2ca-5a938de37653",
   "metadata": {},
   "source": [
    "## <center> 3. General solution for a line with a slope\n",
    "    \n",
    "In general, the strategy for finding the intersection points between an Archimedean spiral and a line with a slope consists of reducing the situation to the corresponding situation for a vertical line. In the image below, we have a spiral with an initial angle of 0 degrees and an inclined line with a slope $a=-1$ ($-45$ degrees) and a constant $b = 1$. In the annotations, we also have $x = 0.70711$, whose value in this case is not the intersection point of the line with the $x$-axis but rather the distance from the center to the inclined line. Below, we will illustrate this."
   ]
  },
  {
   "cell_type": "code",
   "execution_count": 3,
   "id": "96182ef4-1d35-4ba9-bfdb-c9708d389547",
   "metadata": {},
   "outputs": [
    {
     "data": {
      "text/html": [
       "\n",
       "    <div style=\"display: flex; justify-content: center; align-items: center; height: 300px;\">\n",
       "        <img src=\"Images/fig165.png\" style=\"width: 562px; height: 300px;\">\n",
       "        <div style=\"position: absolute; top: 0px; right: 80px; color: black; font-size: 14px; background-color: rgba(255, 255, 255, 0.7); padding:           5px; border-radius: 5px;\">\n",
       "            Fig.165\n",
       "        </div>\n",
       "    </div>\n",
       "    "
      ],
      "text/plain": [
       "<IPython.core.display.HTML object>"
      ]
     },
     "execution_count": 3,
     "metadata": {},
     "output_type": "execute_result"
    }
   ],
   "source": [
    "load_image('fig165')"
   ]
  }
 ],
 "metadata": {
  "kernelspec": {
   "display_name": "Python 3 (ipykernel)",
   "language": "python",
   "name": "python3"
  },
  "language_info": {
   "codemirror_mode": {
    "name": "ipython",
    "version": 3
   },
   "file_extension": ".py",
   "mimetype": "text/x-python",
   "name": "python",
   "nbconvert_exporter": "python",
   "pygments_lexer": "ipython3",
   "version": "3.9.13"
  }
 },
 "nbformat": 4,
 "nbformat_minor": 5
}
