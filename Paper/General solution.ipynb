{
 "cells": [
  {
   "cell_type": "code",
   "execution_count": 1,
   "id": "1831b7a1-0b49-44ea-91f6-c5bc2c3cffd1",
   "metadata": {},
   "outputs": [],
   "source": [
    "from IPython.display import HTML\n",
    "from image_functions import *"
   ]
  },
  {
   "cell_type": "markdown",
   "id": "a25033d0-6fac-4ae4-b2ca-5a938de37653",
   "metadata": {},
   "source": [
    "## <center> 3. General solution for a line with a slope\n",
    "    \n",
    "In general, the strategy for finding the intersection points between an Archimedean spiral and a line with a slope consists of reducing the situation to the corresponding situation for a vertical line. In the image below, we have a spiral with an initial angle of 0 degrees and an inclined line with a slope $a=-1$ ($-45$ degrees) and a constant $b = 1$. In the annotations, we also have $x = 0.70711$, whose value in this case is not the intersection point of the line with the $x$-axis but rather the distance from the center to the inclined line. Below, we will illustrate this."
   ]
  },
  {
   "cell_type": "code",
   "execution_count": 2,
   "id": "96182ef4-1d35-4ba9-bfdb-c9708d389547",
   "metadata": {},
   "outputs": [
    {
     "data": {
      "text/html": [
       "\n",
       "    <div style=\"display: flex; justify-content: center; align-items: center; height: 300px;\">\n",
       "        <img src=\"Images/fig165.png\" style=\"width: 562px; height: 300px;\">\n",
       "        <div style=\"position: absolute; top: 0px; right: 80px; color: black; font-size: 14px; background-color: rgba(255, 255, 255, 0.7); padding:           5px; border-radius: 5px;\">\n",
       "            Fig.165\n",
       "        </div>\n",
       "    </div>\n",
       "    "
      ],
      "text/plain": [
       "<IPython.core.display.HTML object>"
      ]
     },
     "execution_count": 2,
     "metadata": {},
     "output_type": "execute_result"
    }
   ],
   "source": [
    "load_image('fig165')"
   ]
  },
  {
   "cell_type": "markdown",
   "id": "70894667-ea48-41a3-9fff-77d4712e5a0e",
   "metadata": {},
   "source": [
    "We will show that this situation is analogous to the one in the image below, where the distance from the center of the coordinate system to the position of the vertical line is also $x = 0.70711$, but the initial angle of the spiral is rotated by $45$ degrees in the positive direction, or as seen in the annotations – $315$ degrees."
   ]
  },
  {
   "cell_type": "code",
   "execution_count": 3,
   "id": "6f90eb72-2774-4bda-8843-b0bccfc0711b",
   "metadata": {},
   "outputs": [
    {
     "data": {
      "text/html": [
       "\n",
       "    <div style=\"display: flex; justify-content: center; align-items: center; height: 300px;\">\n",
       "        <img src=\"Images/fig166.png\" style=\"width: 562px; height: 300px;\">\n",
       "        <div style=\"position: absolute; top: 0px; right: 80px; color: black; font-size: 14px; background-color: rgba(255, 255, 255, 0.7); padding:           5px; border-radius: 5px;\">\n",
       "            Fig.166\n",
       "        </div>\n",
       "    </div>\n",
       "    "
      ],
      "text/plain": [
       "<IPython.core.display.HTML object>"
      ]
     },
     "execution_count": 3,
     "metadata": {},
     "output_type": "execute_result"
    }
   ],
   "source": [
    "load_image('fig166')"
   ]
  },
  {
   "cell_type": "markdown",
   "id": "fa52aa5c-e489-4385-9fa8-3c8b407880a3",
   "metadata": {},
   "source": [
    "The solution, therefore, is to perform a rotational transformation of the inclined line into a vertical line, which is positioned at the same distance from the center as the shortest distance from the center to the inclined line. This transformation is shown in the following images."
   ]
  },
  {
   "cell_type": "code",
   "execution_count": 4,
   "id": "22dddcf4-5c45-4929-83db-8cc705b753cb",
   "metadata": {},
   "outputs": [
    {
     "data": {
      "text/html": [
       "<div style='display: flex; justify-content: space-between;'>\n",
       "        <div style=\"text-align: center; margin: 0 10px;\">\n",
       "            <img src=\"Images/fig167.png\" style=\"width: 375px; height: 200px;\">\n",
       "            <div style=\"color: black; font-size: 14px; background-color: rgba(255, 255, 255, 0.7); padding: 5px; border-radius: 5px;\">\n",
       "                Fig.167\n",
       "            </div>\n",
       "        </div>\n",
       "        \n",
       "        <div style=\"text-align: center; margin: 0 10px;\">\n",
       "            <img src=\"Images/fig168.png\" style=\"width: 375px; height: 200px;\">\n",
       "            <div style=\"color: black; font-size: 14px; background-color: rgba(255, 255, 255, 0.7); padding: 5px; border-radius: 5px;\">\n",
       "                Fig.168\n",
       "            </div>\n",
       "        </div>\n",
       "        </div>"
      ],
      "text/plain": [
       "<IPython.core.display.HTML object>"
      ]
     },
     "metadata": {},
     "output_type": "display_data"
    }
   ],
   "source": [
    "display(load_images([('fig167', 'left'), ('fig168', 'right')]))"
   ]
  },
  {
   "cell_type": "markdown",
   "id": "fef307aa-0aee-4af5-9f23-a24960762390",
   "metadata": {},
   "source": [
    "In *Figure 167*, $\\alpha$ is the angle between the perpendicular dropped from the line to the center of the coordinate system and the positive direction of the $x$-axis. In this case, the initial angle of the spiral is zero degrees ($k=0$). In *Figure 168*, the inclined line is rotated so that the perpendicular to the center coincides with the positive $x$-axis, which rotates the initial angle of the spiral by $45$ degrees clockwise. In this position, the situations in both images are identical. Their identity is defined by the equal angular distance between the perpendicular to the line’s slope and the initial angle of the spiral - $45$ degrees in this case. This means that the intersection points between the line and the spiral will be found at the same moments $t_{[n;m]}$ in both cases.\n",
    "\n",
    "Before deriving the transformation formulas, we will use the already derived formulas to demonstrate that this is indeed the case."
   ]
  },
  {
   "cell_type": "code",
   "execution_count": 5,
   "id": "9e45d6b8-64a9-4e36-888f-9b71b9f0a876",
   "metadata": {},
   "outputs": [
    {
     "data": {
      "text/html": [
       "<div style='display: flex; justify-content: space-between;'>\n",
       "        <div style=\"text-align: center; margin: 0 10px;\">\n",
       "            <img src=\"Images/fig169.png\" style=\"width: 375px; height: 200px;\">\n",
       "            <div style=\"color: black; font-size: 14px; background-color: rgba(255, 255, 255, 0.7); padding: 5px; border-radius: 5px;\">\n",
       "                Fig.169\n",
       "            </div>\n",
       "        </div>\n",
       "        \n",
       "        <div style=\"text-align: center; margin: 0 10px;\">\n",
       "            <img src=\"Images/fig170.png\" style=\"width: 375px; height: 200px;\">\n",
       "            <div style=\"color: black; font-size: 14px; background-color: rgba(255, 255, 255, 0.7); padding: 5px; border-radius: 5px;\">\n",
       "                Fig.170\n",
       "            </div>\n",
       "        </div>\n",
       "        </div>"
      ],
      "text/plain": [
       "<IPython.core.display.HTML object>"
      ]
     },
     "metadata": {},
     "output_type": "display_data"
    }
   ],
   "source": [
    "display(load_images([('fig169', 'left'), ('fig170', 'right')]))"
   ]
  },
  {
   "cell_type": "markdown",
   "id": "5e794658-4938-49b2-8b69-d12a2d5e9a39",
   "metadata": {},
   "source": [
    "In the images above, we can see that on the 15th iteration of the third intersection point, the algorithm stops. In the annotations on the side, the initial values $\\text{nth_t 3:}$ are completely identical in both cases. This represents the analytical part of the algorithm. In the iterative part $\\text{mth_t 15:}$, we observe some discrepancies, but they occur beyond the chosen approximation accuracy of five decimal places. The difference beyond this point comes from the rounding errors in the calculations that the computer performs during the transformation. As we will see below, the transformation is quite complex and involves many operations, which contribute to this error. Nevertheless, the algorithm operates correctly within the chosen accuracy limits.\n",
    "\n",
    "This was the geometric representation of the transformation. From an algebraic perspective, the transformation consists of incorporating the parameters $a$ and $b$ of the inclined line into the equation of the two-dimensional sequence. As we have shown, the transformation affects the initial angle of the spiral, expressed through the coefficient $k$, and the position of the vertical line $x_l$. Therefore, both values must be calculated as functions of the parameters $k$, $a$ and $b$ and substituted everywhere in the equation where they appear.\n",
    "\n",
    "The transformed parameters $k$ and $x_l$ will be denoted as $k'$ and $x_l'$, respectively. Substituting them into the $\\text{KL}$-check equation, for example, will look as follows:\n",
    "\n",
    "$$ KL_{(k'(k,a,b), x_l'(k,a,b))}^{[0 \\vee  1]} = \\lfloor \\frac{1+\\frac{x_l'(k,a,b)(k'(k,a,b)-1)(k'(k,a,b)-3)}{|E_{(x_l'(k,a,b)(k'(k,a,b)-1)(k'(k,a,b)-3))}|}}{2} \\rfloor.   \\quad\\quad\\quad\\quad(3.1)$$\n",
    "\n",
    "Let’s begin by deriving the equation for the transformed $x_l$.\n",
    "\n"
   ]
  },
  {
   "cell_type": "code",
   "execution_count": 6,
   "id": "6f25f78d-fef4-4d63-a2aa-b9769b67047e",
   "metadata": {},
   "outputs": [
    {
     "data": {
      "text/html": [
       "\n",
       "    <div style=\"display: flex; justify-content: center; align-items: center; height: 300px;\">\n",
       "        <img src=\"Images/fig167.png\" style=\"width: 562px; height: 300px;\">\n",
       "        <div style=\"position: absolute; top: 0px; right: 80px; color: black; font-size: 14px; background-color: rgba(255, 255, 255, 0.7); padding:           5px; border-radius: 5px;\">\n",
       "            Fig.167\n",
       "        </div>\n",
       "    </div>\n",
       "    "
      ],
      "text/plain": [
       "<IPython.core.display.HTML object>"
      ]
     },
     "execution_count": 6,
     "metadata": {},
     "output_type": "execute_result"
    }
   ],
   "source": [
    "load_image('fig167')"
   ]
  },
  {
   "cell_type": "markdown",
   "id": "4aa6edfc-3c82-4ebb-8ed3-b3b5702f4716",
   "metadata": {},
   "source": [
    "We need to determine the length of the segment from the center of the coordinate system to the point $x_l$ along with its sign. The sign is important for deriving $k'$ as it determines in which quadrant the segment is located.\n",
    "We will find them using the angle $\\alpha$ and the length of the segment where the inclined line intersects the $x$-axis - this is the point $(0; \\frac{-b}{a})$. In this case -  $(0;1)$.\n",
    "\n",
    "The length of $x_l$ is equal to the product of the cosine of the angle $\\alpha$ and the length of the segment between the center and the intersection point of the line with the $x$-axis.\n",
    "\n",
    "We find the angle $\\alpha$ using the slope of the line $a$.\n",
    "\n",
    "$$ \\alpha = \\frac{\\pi}{2} - |arctan(a)|. \\quad\\quad\\quad\\quad(3.2)$$\n",
    "\n",
    "We take the absolute value of $arctan(a)$ since we are only interested in the magnitude of the angle. The signs will be determined through algebraic checks.\n",
    "\n",
    "For $x_l'$, we then have:\n",
    "\n",
    "$$ x_l' =\\frac{-b}{E_{(a)}} cos(\\frac{\\pi}{2} - |arctan(a)|).  \\quad\\quad\\quad\\quad(3.3)$$\n",
    "\n",
    "We place the slope $a$ into the eliminative function $E_{(a)}$ to avoid a division by zero error. Then, $x_l' = -b$. Here’s how it looks:"
   ]
  },
  {
   "cell_type": "code",
   "execution_count": 7,
   "id": "9a47ac12-68bd-4b49-bcd9-31774ae323c7",
   "metadata": {},
   "outputs": [
    {
     "data": {
      "text/html": [
       "\n",
       "    <div style=\"display: flex; justify-content: center; align-items: center; height: 300px;\">\n",
       "        <img src=\"Images/fig171.png\" style=\"width: 562px; height: 300px;\">\n",
       "        <div style=\"position: absolute; top: 0px; right: 80px; color: black; font-size: 14px; background-color: rgba(255, 255, 255, 0.7); padding:           5px; border-radius: 5px;\">\n",
       "            Fig.171\n",
       "        </div>\n",
       "    </div>\n",
       "    "
      ],
      "text/plain": [
       "<IPython.core.display.HTML object>"
      ]
     },
     "execution_count": 7,
     "metadata": {},
     "output_type": "execute_result"
    }
   ],
   "source": [
    "load_image('fig171')"
   ]
  },
  {
   "cell_type": "markdown",
   "id": "5d3284df-b081-4097-b481-a6461b2b0829",
   "metadata": {},
   "source": [
    "The line has a slope of zero and a constant $b=1$ instead of -1. We will correct this with algebraic checks. The first check we will construct concerns the cases where the formula 3.3 is true. It is true when $a \\ne 0$ and $b \\ne 0$. We already have a check for $b$ in the formula - this is the multiplier $\\frac{-b}{E_{(a)}}$. If $b=0$, then $\\frac{-b}{E_{(a)}} = 0$. \n",
    "Now, we will construct a switch that will check whether $a \\ne 0$.\n",
    "\n",
    "$$ \\text{Aswitch}_{(a)}^{[0 \\vee 1]} =  \\frac{a}{E_{(a)}}, \\quad\\quad\\quad\\quad(3.4)$$\n",
    "\n",
    "$$ \\overline{Aswitch_{(a)}^{[0 \\vee 1]}}  = 1- \\frac{a}{E_{(a)}}. \\quad\\quad\\quad\\quad(3.5)$$\n",
    "\n",
    "Here, we want this switch to return the expression  $\\frac{-b}{E_{(a)}} cos(\\frac{\\pi}{2} - |arctan(a)|)$ if $a \\ne 0$ and the constant $b$ when $a = 0$. Here’s how it looks:\n",
    "\n",
    "$$ x_l' =\n",
    "\\overline{Aswitch_{(a)}^{[0 \\vee 1]}} \\left( b \\right) + \n",
    "\\text{Aswitch}_{(a)}^{[0 \\vee 1]} \n",
    "\\left( \\frac{-b}{E_{(a)}} cos(\\frac{\\pi}{2} - |arctan(a)|) \\right).  \\quad\\quad\\quad\\quad(3.6)$$\n",
    "\n",
    "The switch $\\text{Aswitch}$ ensures the calculation of the correct value in magnitude and sign for $x_l'$ in cases when $a=0$. In the above figure, $b=1$ and $x=1$. Correctly calculating the sign of $x_l'$ is critically important for the transformation $k'$, where this sign determines the direction in which the initial angle must be rotated using the coefficient $k$.\n",
    "\n",
    "The formula covers all combinations of $a$ and $b$. When both are zero, $x_l' = 0$. When the line is vertical, the slope is infinite, and then $cos0 \\approx 1$ and $x_l' = \\frac{-b}{E_{(a)}} \\approx 0$ if $|b| \\ll |a|$.\n",
    "In the image below, we see this case."
   ]
  },
  {
   "cell_type": "code",
   "execution_count": 8,
   "id": "66197e8a-ec78-4613-b28c-4cbeca81fb89",
   "metadata": {},
   "outputs": [
    {
     "data": {
      "text/html": [
       "\n",
       "    <div style=\"display: flex; justify-content: center; align-items: center; height: 300px;\">\n",
       "        <img src=\"Images/fig172.png\" style=\"width: 562px; height: 300px;\">\n",
       "        <div style=\"position: absolute; top: 0px; right: 80px; color: black; font-size: 14px; background-color: rgba(255, 255, 255, 0.7); padding:           5px; border-radius: 5px;\">\n",
       "            Fig.172\n",
       "        </div>\n",
       "    </div>\n",
       "    "
      ],
      "text/plain": [
       "<IPython.core.display.HTML object>"
      ]
     },
     "execution_count": 8,
     "metadata": {},
     "output_type": "execute_result"
    }
   ],
   "source": [
    "load_image('fig172')"
   ]
  },
  {
   "cell_type": "markdown",
   "id": "53293784-4435-4528-902b-7a4ebc9e95b3",
   "metadata": {},
   "source": [
    "Now we move on to deriving the transformed coefficient $k'$."
   ]
  },
  {
   "cell_type": "markdown",
   "id": "57ea1e7c-6ff5-42f6-927f-8daf8410036c",
   "metadata": {},
   "source": [
    "The first problem we need to solve is finding the magnitude of the angle between the perpendicular to the inclined line and the $x$-axis. This is the angle by which we need to rotate the initial angle. We will determine its sign later.\n",
    "\n",
    "The images below show four scenarios in which we take the angle between the perpendicular and the positive $x$-axis."
   ]
  },
  {
   "cell_type": "code",
   "execution_count": 9,
   "id": "714ec56b-4e19-4491-9cc2-4e6768e9ff57",
   "metadata": {},
   "outputs": [
    {
     "data": {
      "text/html": [
       "<div style='display: flex; justify-content: space-between;'>\n",
       "        <div style=\"text-align: center; margin: 0 10px;\">\n",
       "            <img src=\"Images/fig173.png\" style=\"width: 375px; height: 200px;\">\n",
       "            <div style=\"color: black; font-size: 14px; background-color: rgba(255, 255, 255, 0.7); padding: 5px; border-radius: 5px;\">\n",
       "                Fig.173\n",
       "            </div>\n",
       "        </div>\n",
       "        \n",
       "        <div style=\"text-align: center; margin: 0 10px;\">\n",
       "            <img src=\"Images/fig174.png\" style=\"width: 375px; height: 200px;\">\n",
       "            <div style=\"color: black; font-size: 14px; background-color: rgba(255, 255, 255, 0.7); padding: 5px; border-radius: 5px;\">\n",
       "                Fig.174\n",
       "            </div>\n",
       "        </div>\n",
       "        </div>"
      ],
      "text/plain": [
       "<IPython.core.display.HTML object>"
      ]
     },
     "metadata": {},
     "output_type": "display_data"
    },
    {
     "data": {
      "text/html": [
       "<div style='display: flex; justify-content: space-between;'>\n",
       "        <div style=\"text-align: center; margin: 0 10px;\">\n",
       "            <img src=\"Images/fig175.png\" style=\"width: 375px; height: 200px;\">\n",
       "            <div style=\"color: black; font-size: 14px; background-color: rgba(255, 255, 255, 0.7); padding: 5px; border-radius: 5px;\">\n",
       "                Fig.175\n",
       "            </div>\n",
       "        </div>\n",
       "        \n",
       "        <div style=\"text-align: center; margin: 0 10px;\">\n",
       "            <img src=\"Images/fig176.png\" style=\"width: 375px; height: 200px;\">\n",
       "            <div style=\"color: black; font-size: 14px; background-color: rgba(255, 255, 255, 0.7); padding: 5px; border-radius: 5px;\">\n",
       "                Fig.176\n",
       "            </div>\n",
       "        </div>\n",
       "        </div>"
      ],
      "text/plain": [
       "<IPython.core.display.HTML object>"
      ]
     },
     "metadata": {},
     "output_type": "display_data"
    }
   ],
   "source": [
    "display(load_images([('fig173', 'left'), ('fig174', 'right')]))\n",
    "display(load_images([('fig175', 'left'), ('fig176', 'right')]))"
   ]
  },
  {
   "cell_type": "markdown",
   "id": "0cbdcc14-3aa1-4b97-8901-c98d870ce713",
   "metadata": {},
   "source": [
    "In all cases, the angle $\\alpha$ as a function of the slope $a$ is obtained by subtracting the absolute value of the line's slope from 90 degrees.\n",
    "\n",
    "$$ \\alpha = \\frac{\\pi}{2} - |arctan(a)|. \\quad\\quad\\quad\\quad(3.7)$$\n",
    "\n",
    "Next, we need to convert this angle into a number. Let's call this number $c$.\n",
    "\n",
    "$$ c = \\frac{\\alpha}{\\frac{\\pi}{2}} = \\frac{2(\\frac{\\pi}{2} - |arctan(a)|)}{\\pi}. \\quad\\quad\\quad\\quad(3.8)$$\n",
    "\n",
    "For example, with a slope of $a =-1$, we have $c = 0.5$.\n",
    "\n",
    "The next problem is to determine what to do with this number - whether to add it to the initial angle, i.e., to the coefficient $k$, or to subtract it. We remind that the goal here is to reduce every possible case of an inclined line and a spiral to its equivalent case of a vertical line and a spiral.\n",
    "\n",
    "If we examine the four images above, we will see that the most convenient approach is to rotate the initial angle of the spiral towards the nearest abscissa axis. For *Figures 173 and 174*, this is the positive abscissa, while for the other two, it is the negative abscissa. If the perpendicular of the slope is in the first and third quadrants (*Figures 173 and 176*), we should rotate the initial angle backward; in the other two quadrants (*Figures 174 and 175*), we rotate forward. The rotation direction depends on two factors - the signs of the constant $b$ and the position of the line $x_l$. The correct signs will be obtained by defining an algebraic check - the Sign function. Let’s call it $\\text{Rcoeff}$ ($\\text{Rotational coefficient}$), and pass as an argument the product of the two parameters with an inverse sign.\n",
    "\n",
    "$$ \\text{Rcoeff}_{(-bx_l)}^{[-1 \\vee 0 \\vee 1]} = \\frac{-bx_l}{E_{(-bx_l)}}. \\quad\\quad\\quad\\quad(3.9)$$\n",
    "\n",
    "The table below shows the correct coefficients for each of the scenarios in the images above."
   ]
  },
  {
   "cell_type": "code",
   "execution_count": 10,
   "id": "ea25d97f-99ff-43dd-999a-2b6db1fc309c",
   "metadata": {},
   "outputs": [
    {
     "data": {
      "text/html": [
       "\n",
       "    <div style=\"display: flex; flex-direction: column; justify-content: center; align-items: center; width: 100%;\">\n",
       "        <h3>Rotational Coefficient Table</h3>\n",
       "        <table border=\"1\" style=\"border-collapse: collapse; text-align: center; width: 50%; font-size: 13px;\">\n",
       "            <tr>\n",
       "                <th></th>\n",
       "                <th>$b$</th>\n",
       "                <th>$x_l$</th>\n",
       "                <th>$-bx_l$</th>\n",
       "       \n",
       "            </tr>\n",
       "            <tr>\n",
       "                <th>$Fig.173$</th>\n",
       "                <td>$1$</td>\n",
       "                <td>$1$</td>\n",
       "                <td>$-1$</td>\n",
       "      \n",
       "            </tr>\n",
       "            <tr>\n",
       "                <th>$Fig.174$</th>\n",
       "                <td>$1$</td>\n",
       "                <td>$-1$</td>\n",
       "                <td>$1$</td>\n",
       "                <td>$1$</td>\n",
       "       \n",
       "            </tr>\n",
       "            <tr>\n",
       "                <th>$Fig.175$</th>\n",
       "                <td>$1$</td>\n",
       "                <td>$-1$</td>\n",
       "                <td>$1$</td>\n",
       "         \n",
       "            </tr>\n",
       "            <tr>\n",
       "                <th>$Fig.176$</th>\n",
       "                <td>$-1$</td>\n",
       "                <td>$-1$</td>\n",
       "                <td>$-1$</td>\n",
       "          \n",
       "            </tr>\n",
       "        </table>\n",
       "        Fig.177\n",
       "    </div>\n",
       "    "
      ],
      "text/plain": [
       "<IPython.core.display.HTML object>"
      ]
     },
     "metadata": {},
     "output_type": "display_data"
    }
   ],
   "source": [
    "rotational_coeff_table()"
   ]
  },
  {
   "cell_type": "markdown",
   "id": "66ecd8aa-3b5f-4447-be83-c52fa0992c8c",
   "metadata": {},
   "source": [
    "\n",
    "Now we can derive the formula for the transformed coefficient $k'$ through rotation.\n",
    "\n",
    "$$ k' = k - \\text{Rcoeff}_{(-bx_l)}^{[-1 \\vee 0 \\vee 1]}c, \\quad\\quad\\quad\\quad(3.10)$$\n",
    "\n",
    "$$ k' = k + \\frac{-bx_l}{E_{(-bx_l)}}\\frac{2(\\frac{\\pi}{2} - |arctan(a)|)}{\\pi}, \\quad\\quad\\quad\\quad(3.11)$$\n",
    "\n",
    "where $k$ is the initial angular coefficient of the Archimedean spiral.\n",
    "\n",
    "The definition domain of $k'$ is different from the definition domain of $k$, because there are maximum and minimum values that can be added or subtracted from it. Since the formula for $c$ deals with an angle of $\\frac{\\pi}{2}$, the maximum value that can be added is 1, and the minimum value is -1. Then:\n",
    "\n",
    "$$ 0 \\le k <4, \\quad\\quad\\quad\\quad(3.11)$$\n",
    "\n",
    "$$ 0-1 \\le k' < 4+1, \\quad\\quad\\quad\\quad(3.12)$$\n",
    "\n",
    "$$ -1 \\le k' < 5. \\quad\\quad\\quad\\quad(3.13)$$\n",
    "\n",
    "The last issue here concerns the boundary cases. We will examine them one by one.\n",
    " All other possibilities require a different approach, which, of course, involves the use of algebraic checks. \n",
    "\n",
    "**Case 1 - $a \\ne 0, \\quad b \\ne 0$**.\n",
    "\n",
    "The formula $3.11$ works for cases where both parameters $a$ and $b$ of the inclined line are non-zero.\n",
    "\n",
    "To distinguish these cases, we will add a check to $3.11$ that we already defined earlier ($3.6$) when deriving the formula for $x_l'$. This is the check $\\text{Aswitch}$. We add it as a multiplier before the right-hand summand in $3.11$.\n",
    "\n",
    "$$ k' = k + \n",
    "\\text{Aswitch}_{(a)}^{[0 \\vee 1]} \n",
    "\\left(\n",
    "\\frac{-bx_l}{E_{(-bx_l)}}\\frac{2(\\frac{\\pi}{2} - |arctan(a)|)}{\\pi}\n",
    "\\right). \\quad\\quad\\quad\\quad(3.14)$$\n",
    "\n",
    "For the parameter $b$, we will not define a separate $\\text{Bswitch}$ check because this case is already covered by the coefficient $\\text{Rcoeff}$, which will return zero when $b = 0$.Instead, we will define only the opposite check $\\overline{Bswitch}$, which we will need shortly.\n",
    "\n",
    "**Case 2 - $a = 0, \\quad b \\ne 0$**.\n",
    "\n",
    "Let’s return to the scenario from *Figure 171*, which we used when defining $x_l'$."
   ]
  },
  {
   "cell_type": "code",
   "execution_count": 11,
   "id": "bee22eed-cf03-4707-a3a8-c312c2596f1c",
   "metadata": {},
   "outputs": [
    {
     "data": {
      "text/html": [
       "\n",
       "    <div style=\"display: flex; justify-content: center; align-items: center; height: 300px;\">\n",
       "        <img src=\"Images/fig171.png\" style=\"width: 562px; height: 300px;\">\n",
       "        <div style=\"position: absolute; top: 0px; right: 80px; color: black; font-size: 14px; background-color: rgba(255, 255, 255, 0.7); padding:           5px; border-radius: 5px;\">\n",
       "            Fig.171\n",
       "        </div>\n",
       "    </div>\n",
       "    "
      ],
      "text/plain": [
       "<IPython.core.display.HTML object>"
      ]
     },
     "execution_count": 11,
     "metadata": {},
     "output_type": "execute_result"
    }
   ],
   "source": [
    "load_image('fig171')"
   ]
  },
  {
   "cell_type": "markdown",
   "id": "a2258295-264c-4b8d-ae96-63394416abf3",
   "metadata": {},
   "source": [
    "Here we see that in order to become vertical, the horizontal line needs to be rotated by 90 degrees. The question is, however, which direction - whether in the positive or negative direction. Now, we will add the corresponding check to the equation for $k'$:\n",
    "\n",
    "$$ k' = k + \\overline{Aswitch_{(a)}^{[0 \\vee 1]}} + \n",
    "\\text{Aswitch}_{(a)}^{[0 \\vee 1]} \n",
    "\\left(\n",
    "\\frac{-bx_l}{E_{(-bx_l)}}\\frac{2(\\frac{\\pi}{2} - |arctan(a)|)}{\\pi}\n",
    "\\right). \\quad\\quad\\quad\\quad(3.15)$$\n",
    "\n",
    "When the slope $a = 0$, $\\overline{Aswitch}$ will add 1 to the initial coefficient $k$ of the spiral. Let's see what happens with the intersection points in this case."
   ]
  },
  {
   "cell_type": "code",
   "execution_count": 12,
   "id": "aec4c368-8ae8-4518-b79b-5c61b627c37b",
   "metadata": {},
   "outputs": [
    {
     "data": {
      "text/html": [
       "<div style='display: flex; justify-content: space-between;'>\n",
       "        <div style=\"text-align: center; margin: 0 10px;\">\n",
       "            <img src=\"Images/fig178.png\" style=\"width: 375px; height: 200px;\">\n",
       "            <div style=\"color: black; font-size: 14px; background-color: rgba(255, 255, 255, 0.7); padding: 5px; border-radius: 5px;\">\n",
       "                Fig.178\n",
       "            </div>\n",
       "        </div>\n",
       "        \n",
       "        <div style=\"text-align: center; margin: 0 10px;\">\n",
       "            <img src=\"Images/fig179.png\" style=\"width: 375px; height: 200px;\">\n",
       "            <div style=\"color: black; font-size: 14px; background-color: rgba(255, 255, 255, 0.7); padding: 5px; border-radius: 5px;\">\n",
       "                Fig.179\n",
       "            </div>\n",
       "        </div>\n",
       "        </div>"
      ],
      "text/plain": [
       "<IPython.core.display.HTML object>"
      ]
     },
     "metadata": {},
     "output_type": "display_data"
    }
   ],
   "source": [
    "display(load_images([('fig178', 'left'), ('fig179', 'right')]))"
   ]
  },
  {
   "cell_type": "markdown",
   "id": "a17a74cb-0051-474a-98ea-284d9f80b1db",
   "metadata": {},
   "source": [
    "As seen in both cases, when the signs of the constant $b$ differ, the algorithm incorrectly positions the intersection points on the opposite side of the ordinate. This behavior arises from the formula for $x_l'$ $(3.6)$, which, when $a=0$, has the following form:\n",
    "\n",
    "$$ x_l' = \\overline{Aswitch_{(a)}^{[0 \\vee 1]}} (b) = 1 (b). \\quad\\quad\\quad\\quad(3.16)$$\n",
    "\n",
    "In this case, the formula for $k'$ will correctly calculate the magnitude of the rotation angle, but not its direction. Let us check what the equivalent situations for the vertical line are in the two upper images."
   ]
  },
  {
   "cell_type": "code",
   "execution_count": 14,
   "id": "b8bfe78d-e55c-4ca5-a27b-c888fe24654b",
   "metadata": {},
   "outputs": [
    {
     "data": {
      "text/html": [
       "<div style='display: flex; justify-content: space-between;'>\n",
       "        <div style=\"text-align: center; margin: 0 10px;\">\n",
       "            <img src=\"Images/fig180.png\" style=\"width: 375px; height: 200px;\">\n",
       "            <div style=\"color: black; font-size: 14px; background-color: rgba(255, 255, 255, 0.7); padding: 5px; border-radius: 5px;\">\n",
       "                Fig.180\n",
       "            </div>\n",
       "        </div>\n",
       "        \n",
       "        <div style=\"text-align: center; margin: 0 10px;\">\n",
       "            <img src=\"Images/fig181.png\" style=\"width: 375px; height: 200px;\">\n",
       "            <div style=\"color: black; font-size: 14px; background-color: rgba(255, 255, 255, 0.7); padding: 5px; border-radius: 5px;\">\n",
       "                Fig.181\n",
       "            </div>\n",
       "        </div>\n",
       "        </div>"
      ],
      "text/plain": [
       "<IPython.core.display.HTML object>"
      ]
     },
     "metadata": {},
     "output_type": "display_data"
    }
   ],
   "source": [
    "display(load_images([('fig180', 'left'), ('fig181', 'right')]))"
   ]
  },
  {
   "cell_type": "markdown",
   "id": "afbe094b-625a-42da-b27f-0a0f47e55bb6",
   "metadata": {},
   "source": [
    "In the case of a positive sign for $b$, comparing the moments $t_{[1;23]}$, we see that the algorithm actually calculates the wrong initial angle – instead of adding, it subtracts. In figure 180 $k = 0$, while in figure 181 $k = 3$ (which is equivalent to an initial angle with coefficient $k = -1$).\n",
    "\n",
    "The situation is the same for a negative value of $b$."
   ]
  },
  {
   "cell_type": "code",
   "execution_count": 16,
   "id": "520a92fb-c7b9-4421-bffa-504e9854757f",
   "metadata": {},
   "outputs": [
    {
     "data": {
      "text/html": [
       "<div style='display: flex; justify-content: space-between;'>\n",
       "        <div style=\"text-align: center; margin: 0 10px;\">\n",
       "            <img src=\"Images/fig182.png\" style=\"width: 375px; height: 200px;\">\n",
       "            <div style=\"color: black; font-size: 14px; background-color: rgba(255, 255, 255, 0.7); padding: 5px; border-radius: 5px;\">\n",
       "                Fig.182\n",
       "            </div>\n",
       "        </div>\n",
       "        \n",
       "        <div style=\"text-align: center; margin: 0 10px;\">\n",
       "            <img src=\"Images/fig183.png\" style=\"width: 375px; height: 200px;\">\n",
       "            <div style=\"color: black; font-size: 14px; background-color: rgba(255, 255, 255, 0.7); padding: 5px; border-radius: 5px;\">\n",
       "                Fig.183\n",
       "            </div>\n",
       "        </div>\n",
       "        </div>"
      ],
      "text/plain": [
       "<IPython.core.display.HTML object>"
      ]
     },
     "metadata": {},
     "output_type": "display_data"
    }
   ],
   "source": [
    "display(load_images([('fig182', 'left'), ('fig183', 'right')]))"
   ]
  },
  {
   "cell_type": "markdown",
   "id": "a4c4b8fe-f0a1-4325-beb2-54a93981f8f3",
   "metadata": {},
   "source": [
    "The solution to this problem is to either change the sign of the constant $b$ in the formula for $x_l'$, or change the sign of the check $\\overline{Aswitch}$ in the formula for $k'$. We will choose the second option.\n",
    "\n",
    "$$ k' = k - \\overline{Aswitch_{(a)}^{[0 \\vee 1]}} + \n",
    "\\text{Aswitch}_{(a)}^{[0 \\vee 1]} \n",
    "\\left(\n",
    "\\frac{-bx_l}{E_{(-bx_l)}}\\frac{2(\\frac{\\pi}{2} - |arctan(a)|)}{\\pi}\n",
    "\\right). \\quad\\quad\\quad\\quad(3.17)$$\n",
    "\n",
    "Let’s check how this change works."
   ]
  },
  {
   "cell_type": "code",
   "execution_count": 19,
   "id": "514e2991-7da5-4d22-b4b2-d03869aa722d",
   "metadata": {},
   "outputs": [
    {
     "data": {
      "text/html": [
       "<div style='display: flex; justify-content: space-between;'>\n",
       "        <div style=\"text-align: center; margin: 0 10px;\">\n",
       "            <img src=\"Images/fig184.png\" style=\"width: 375px; height: 200px;\">\n",
       "            <div style=\"color: black; font-size: 14px; background-color: rgba(255, 255, 255, 0.7); padding: 5px; border-radius: 5px;\">\n",
       "                Fig.184\n",
       "            </div>\n",
       "        </div>\n",
       "        \n",
       "        <div style=\"text-align: center; margin: 0 10px;\">\n",
       "            <img src=\"Images/fig185.png\" style=\"width: 375px; height: 200px;\">\n",
       "            <div style=\"color: black; font-size: 14px; background-color: rgba(255, 255, 255, 0.7); padding: 5px; border-radius: 5px;\">\n",
       "                Fig.185\n",
       "            </div>\n",
       "        </div>\n",
       "        </div>"
      ],
      "text/plain": [
       "<IPython.core.display.HTML object>"
      ]
     },
     "metadata": {},
     "output_type": "display_data"
    },
    {
     "data": {
      "text/html": [
       "<div style='display: flex; justify-content: space-between;'>\n",
       "        <div style=\"text-align: center; margin: 0 10px;\">\n",
       "            <img src=\"Images/fig186.png\" style=\"width: 375px; height: 200px;\">\n",
       "            <div style=\"color: black; font-size: 14px; background-color: rgba(255, 255, 255, 0.7); padding: 5px; border-radius: 5px;\">\n",
       "                Fig.186\n",
       "            </div>\n",
       "        </div>\n",
       "        \n",
       "        <div style=\"text-align: center; margin: 0 10px;\">\n",
       "            <img src=\"Images/fig187.png\" style=\"width: 375px; height: 200px;\">\n",
       "            <div style=\"color: black; font-size: 14px; background-color: rgba(255, 255, 255, 0.7); padding: 5px; border-radius: 5px;\">\n",
       "                Fig.187\n",
       "            </div>\n",
       "        </div>\n",
       "        </div>"
      ],
      "text/plain": [
       "<IPython.core.display.HTML object>"
      ]
     },
     "metadata": {},
     "output_type": "display_data"
    }
   ],
   "source": [
    "display(load_images([('fig184', 'left'), ('fig185', 'right')]))\n",
    "display(load_images([('fig186', 'left'), ('fig187', 'right')]))"
   ]
  },
  {
   "cell_type": "markdown",
   "id": "dc5b65e6-fe8c-481d-8d66-1b1d9f2e74ea",
   "metadata": {},
   "source": [
    "**Case 3 - $a \\ne 0, \\quad b = 0$**.\n",
    "\n",
    "In this case, the inclined line passes through the center of the coordinate system."
   ]
  },
  {
   "cell_type": "code",
   "execution_count": 23,
   "id": "69682887-451d-48a2-8436-9f3074aea566",
   "metadata": {},
   "outputs": [
    {
     "data": {
      "text/html": [
       "\n",
       "    <div style=\"display: flex; justify-content: center; align-items: center; height: 300px;\">\n",
       "        <img src=\"Images/fig188.png\" style=\"width: 562px; height: 300px;\">\n",
       "        <div style=\"position: absolute; top: 0px; right: 80px; color: black; font-size: 14px; background-color: rgba(255, 255, 255, 0.7); padding:           5px; border-radius: 5px;\">\n",
       "            Fig.188\n",
       "        </div>\n",
       "    </div>\n",
       "    "
      ],
      "text/plain": [
       "<IPython.core.display.HTML object>"
      ]
     },
     "execution_count": 23,
     "metadata": {},
     "output_type": "execute_result"
    }
   ],
   "source": [
    "load_image('fig188')"
   ]
  },
  {
   "cell_type": "markdown",
   "id": "a66b0f96-f9b8-4f99-992f-c4c1f5c3b5c7",
   "metadata": {},
   "source": [
    "To make the line vertical, we need to rotate it by an angle $\\alpha$ to the ordinate axis.\n",
    "\n",
    "$$ \\alpha = \\frac{\\pi}{2} - arctan(a). \\quad\\quad\\quad\\quad(3.18)$$\n",
    "\n",
    "In this case, $\\alpha = 90 - 33 = 57$ degrees and this situation corresponds to the case of a vertical line coinciding with the ordinate axis and the initial angle of the spiral $57$ degrees."
   ]
  },
  {
   "cell_type": "code",
   "execution_count": 24,
   "id": "9b8eba6d-ee9b-4f08-9dd7-05172fa61e86",
   "metadata": {},
   "outputs": [
    {
     "data": {
      "text/html": [
       "\n",
       "    <div style=\"display: flex; justify-content: center; align-items: center; height: 300px;\">\n",
       "        <img src=\"Images/fig189.png\" style=\"width: 562px; height: 300px;\">\n",
       "        <div style=\"position: absolute; top: 0px; right: 80px; color: black; font-size: 14px; background-color: rgba(255, 255, 255, 0.7); padding:           5px; border-radius: 5px;\">\n",
       "            Fig.189\n",
       "        </div>\n",
       "    </div>\n",
       "    "
      ],
      "text/plain": [
       "<IPython.core.display.HTML object>"
      ]
     },
     "execution_count": 24,
     "metadata": {},
     "output_type": "execute_result"
    }
   ],
   "source": [
    "load_image('fig189')"
   ]
  },
  {
   "cell_type": "markdown",
   "id": "a82c557e-1dda-41e5-a1ba-071bcdd48bd3",
   "metadata": {},
   "source": [
    "In the two images below, we see that, in fact, the moments $t_{[2;0]}$ coincide for both spirals with an accuracy of up to the 7th decimal place."
   ]
  },
  {
   "cell_type": "code",
   "execution_count": 26,
   "id": "e7de1d99-64ca-4674-984c-bf138352ab0b",
   "metadata": {},
   "outputs": [
    {
     "data": {
      "text/html": [
       "<div style='display: flex; justify-content: space-between;'>\n",
       "        <div style=\"text-align: center; margin: 0 10px;\">\n",
       "            <img src=\"Images/fig190.png\" style=\"width: 375px; height: 200px;\">\n",
       "            <div style=\"color: black; font-size: 14px; background-color: rgba(255, 255, 255, 0.7); padding: 5px; border-radius: 5px;\">\n",
       "                Fig.190\n",
       "            </div>\n",
       "        </div>\n",
       "        \n",
       "        <div style=\"text-align: center; margin: 0 10px;\">\n",
       "            <img src=\"Images/fig191.png\" style=\"width: 375px; height: 200px;\">\n",
       "            <div style=\"color: black; font-size: 14px; background-color: rgba(255, 255, 255, 0.7); padding: 5px; border-radius: 5px;\">\n",
       "                Fig.191\n",
       "            </div>\n",
       "        </div>\n",
       "        </div>"
      ],
      "text/plain": [
       "<IPython.core.display.HTML object>"
      ]
     },
     "metadata": {},
     "output_type": "display_data"
    }
   ],
   "source": [
    "display(load_images([('fig190', 'left'), ('fig191', 'right')]))"
   ]
  },
  {
   "cell_type": "markdown",
   "id": "99005591-6ea7-416c-bc44-44d2874de476",
   "metadata": {},
   "source": [
    "We add $3.18$ to the formula for $k'$, but before that, let's define the corresponding algebraic check. As mentioned above, this is the check $\\overline{Bswitch}$.\n",
    "\n",
    "$$ \\overline{Bswitch_{(b)}^{[0 \\vee 1]}}  = 1- \\frac{b}{E_{(b)}}. \\quad\\quad\\quad\\quad(3.19)$$\n",
    "\n",
    "Thus, the formula for $k'$ takes the form:\n",
    "\n",
    "$$ k' = k - \\overline{Aswitch_{(a)}^{[0 \\vee 1]}} + \n",
    "\\text{Aswitch}_{(a)}^{[0 \\vee 1]} \n",
    "\\left(\n",
    "\\frac{-bx_l}{E_{(-bx_l)}}\\frac{2(\\frac{\\pi}{2} - |arctan(a)|)}{\\pi}\n",
    "\\right) +\n",
    "\\overline{Bswitch_{(b)}^{[0 \\vee 1]}}\n",
    "\\left( \n",
    "\\frac{2(\\frac{\\pi}{2} - arctan(a))}{\\pi}\n",
    "\\right)\n",
    ", \\quad\\quad\\quad\\quad(3.20)$$\n",
    "\n",
    "where we have accounted for the fact that the expression in parentheses $\\frac{2(\\frac{\\pi}{2} - arctan(a))}{\\pi}$ transforms the angle into a coefficient.\n",
    "\n",
    "Let’s examine the final case.\n",
    "\n",
    "**Case 4 - $a = 0, \\quad b = 0$**.\n",
    "\n",
    "This is the scenario where the inclined line coincides with the $x$-axis. Here, the solution is the easiest because, to be transformed into a vertical line, the horizontal line needs to be rotated by 90 degrees. A right angle corresponds to an angular coefficient of $1$. The direction of rotation does not matter. The images below directly illustrate the equivalence between the horizontal line at $k=0$ and the vertical line at $k=1$."
   ]
  },
  {
   "cell_type": "code",
   "execution_count": 27,
   "id": "9843bde4-4d63-4c6e-ac03-fa698d16c40c",
   "metadata": {},
   "outputs": [
    {
     "data": {
      "text/html": [
       "<div style='display: flex; justify-content: space-between;'>\n",
       "        <div style=\"text-align: center; margin: 0 10px;\">\n",
       "            <img src=\"Images/fig192.png\" style=\"width: 375px; height: 200px;\">\n",
       "            <div style=\"color: black; font-size: 14px; background-color: rgba(255, 255, 255, 0.7); padding: 5px; border-radius: 5px;\">\n",
       "                Fig.192\n",
       "            </div>\n",
       "        </div>\n",
       "        \n",
       "        <div style=\"text-align: center; margin: 0 10px;\">\n",
       "            <img src=\"Images/fig193.png\" style=\"width: 375px; height: 200px;\">\n",
       "            <div style=\"color: black; font-size: 14px; background-color: rgba(255, 255, 255, 0.7); padding: 5px; border-radius: 5px;\">\n",
       "                Fig.193\n",
       "            </div>\n",
       "        </div>\n",
       "        </div>"
      ],
      "text/plain": [
       "<IPython.core.display.HTML object>"
      ]
     },
     "metadata": {},
     "output_type": "display_data"
    }
   ],
   "source": [
    "display(load_images([('fig192', 'left'), ('fig193', 'right')]))"
   ]
  },
  {
   "cell_type": "markdown",
   "id": "8ec9a7d4-22ba-482c-9f7f-c0751bf5281c",
   "metadata": {},
   "source": [
    "Let’s still demonstrate that the direction of rotation of the initial angle does not matter. The image below shows the same moment $t_{[1;0]}$ for a vertical line with an initial angular coefficient $k=3$."
   ]
  },
  {
   "cell_type": "code",
   "execution_count": 28,
   "id": "da7d5b7c-26ca-450e-997d-5c6554cd1fcf",
   "metadata": {},
   "outputs": [
    {
     "data": {
      "text/html": [
       "\n",
       "    <div style=\"display: flex; justify-content: center; align-items: center; height: 300px;\">\n",
       "        <img src=\"Images/fig194.png\" style=\"width: 562px; height: 300px;\">\n",
       "        <div style=\"position: absolute; top: 0px; right: 80px; color: black; font-size: 14px; background-color: rgba(255, 255, 255, 0.7); padding:           5px; border-radius: 5px;\">\n",
       "            Fig.194\n",
       "        </div>\n",
       "    </div>\n",
       "    "
      ],
      "text/plain": [
       "<IPython.core.display.HTML object>"
      ]
     },
     "execution_count": 28,
     "metadata": {},
     "output_type": "execute_result"
    }
   ],
   "source": [
    "load_image('fig194')"
   ]
  },
  {
   "cell_type": "markdown",
   "id": "6ca1fb38-8364-4b32-8502-c812114fd2cd",
   "metadata": {},
   "source": [
    "Since the sign does not matter, we will choose the plus sign, i.e., when $a = 0$ and $b = 0$, we add 1 to the initial coefficient $k$. This can be easily achieved by multiplying the corresponding checks $\\overline{Aswitch}$ and $\\overline{Bswitch}$, which return 1 in this scenario. Then, the equation for $k'$ takes the form:\n",
    "\n",
    "$$ k' = k - \\overline{Aswitch_{(a)}^{[0 \\vee 1]}} + \n",
    "\\text{Aswitch}_{(a)}^{[0 \\vee 1]} \n",
    "\\left(\n",
    "\\frac{-bx_l}{E_{(-bx_l)}}\\frac{2(\\frac{\\pi}{2} - |arctan(a)|)}{\\pi}\n",
    "\\right) +\n",
    "\\overline{Bswitch_{(b)}^{[0 \\vee 1]}}\n",
    "\\left( \n",
    "\\frac{2(\\frac{\\pi}{2} - arctan(a))}{\\pi}\n",
    "\\right) + \n",
    "(\\overline{Aswitch_{(a)}^{[0 \\vee 1]}}) (\\overline{Bswitch_{(b)}^{[0 \\vee 1]}})\n",
    ". \\quad\\quad\\quad\\quad(3.21)$$\n",
    "\n",
    "The reason the equation correctly adds the value 1 is complex and not only due to the product of the two checks. The key factor here is the third term. Let’s substitute the values $a = b= 0$ and verify.\n",
    "\n",
    "$$ k' = k - 1 + \n",
    "0\n",
    "\\left(\n",
    "\\frac{-0x_l}{E_{(-0x_l)}}\\frac{2(\\frac{\\pi}{2} - 0)}{\\pi}\n",
    "\\right) +\n",
    "1\n",
    "\\left( \n",
    "\\frac{2(\\frac{\\pi}{2} - arctan(0))}{\\pi}\n",
    "\\right) + \n",
    "1.1 \n",
    ", \\quad\\quad\\quad\\quad(3.22)$$\n",
    "\n",
    "$$ k' = k + 1. \\quad\\quad\\quad\\quad(3.23)$$"
   ]
  }
 ],
 "metadata": {
  "kernelspec": {
   "display_name": "Python 3 (ipykernel)",
   "language": "python",
   "name": "python3"
  },
  "language_info": {
   "codemirror_mode": {
    "name": "ipython",
    "version": 3
   },
   "file_extension": ".py",
   "mimetype": "text/x-python",
   "name": "python",
   "nbconvert_exporter": "python",
   "pygments_lexer": "ipython3",
   "version": "3.9.13"
  }
 },
 "nbformat": 4,
 "nbformat_minor": 5
}
