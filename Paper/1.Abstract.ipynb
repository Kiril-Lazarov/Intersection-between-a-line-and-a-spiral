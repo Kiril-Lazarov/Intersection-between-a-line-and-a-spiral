{
 "cells": [
  {
   "cell_type": "markdown",
   "id": "cf64a24c-c07b-4113-9bb6-6aea6fe800a1",
   "metadata": {},
   "source": [
    "## <center>Abstract<center>\n",
    "\n",
    "The problem discussed in this project arose quite unexpectedly for the author in connection with another [project](https://github.com/Kiril-Lazarov/Artificial-Intelligence/blob/main/Course%20Project/Non-simultaneous%20gravitational%20interaction.ipynb) in the field of physics—the problem of non-simultaneous gravitational interaction between two bodies. The existence of a finite possible speed for the propagation of information and interactions - the speed of light - necessitates calculating the effect of the time interval between the 'emission' of the gravitational signal - whether this 'gravitational signal' is interpreted as the curvature of spacetime or otherwise - and its 'reception' by another body. (According to the simulation conducted in this project, the main effect consists of the rotation of the orbit of the bodies in the direction of motion along this orbit). Calculating this time delay ultimately boiled down to finding the intersection point between a spiral and a linear function. The linear function represents the rectilinear and uniform motion of the receiving body, while the spiral represents the trajectory of the point from the expanding spherical wavefront, which will intersect in space with the rectilinear trajectory of the receiving body at a certain moment in time.\n",
    "\n",
    "\n",
    "Finding this intersection point, however, turned out to be possible only through the use of a numerical method, as no analytical method exists. In the project itself, a numerical method was used, but the challenge of discovering an analytical method remained. This current project will present an attempt to formulate such an analytical method using elementary geometry of a right triangle and the central angle of a radius vector."
   ]
  }
 ],
 "metadata": {
  "kernelspec": {
   "display_name": "Python 3 (ipykernel)",
   "language": "python",
   "name": "python3"
  },
  "language_info": {
   "codemirror_mode": {
    "name": "ipython",
    "version": 3
   },
   "file_extension": ".py",
   "mimetype": "text/x-python",
   "name": "python",
   "nbconvert_exporter": "python",
   "pygments_lexer": "ipython3",
   "version": "3.9.13"
  }
 },
 "nbformat": 4,
 "nbformat_minor": 5
}
