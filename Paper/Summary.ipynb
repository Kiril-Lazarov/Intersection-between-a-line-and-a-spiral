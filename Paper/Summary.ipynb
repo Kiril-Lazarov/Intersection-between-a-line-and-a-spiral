{
 "cells": [
  {
   "cell_type": "markdown",
   "id": "bde0de9e-027b-4ff3-b1b9-949a8cbb78e0",
   "metadata": {},
   "source": [
    "## <center> 4. Summary\n",
    "    \n",
    "The problem of finding the intersection points between two or more functions is one of the classic problems in analytic geometry and mathematical analysis. The solutions to these problems generally fall into two categories – analytical and numerical. Analytical solutions are determined through precise algebraic expressions and symbolic manipulation of equations, following the strict rules of logic. Examples include finding the intersection points of two straight lines, a straight line and a quadratic equation, or two quadratic functions. Even solving for the roots of a quadratic function is a problem of finding intersections - specifically, the points where the function crosses the $x$-axis (which is essentially a straight line).\n",
    "    \n",
    "Numerical solutions, on the other hand, are applied to problems that cannot be solved analytically and essentially involve iteratively approximating the solution through an algorithm. One such problem is the equation $x = cosx$. There are many numerical approximation methods, such as **Newton's method** for finding roots of equations and **Gradient Descent**, commonly used in machine learning for optimization. The common characteristic of these methods is that the initial value supplied to the algorithm is freely chosen. This necessitates careful selection of the starting value, as it affects the convergence speed, and in some cases, a poorly chosen initial value may prevent the algorithm from converging to a solution at all. Making a choice introduces an element of uncertainty in the process and the final result, which, in turn, requires careful examination of each problem on a case-by-case basis.\n",
    "    \n",
    "These characteristics of numerical methods presented the challenge of finding a way to avoid them in the problem examined in this article - the problem of determining the intersection points between an Archimedean spiral and a straight line. The formulated method can best be described as hybrid, combining characteristics from both categories of solutions. The method is numerical because it involves an iterative process of approximating a specific intersection point. It is also analytical because the initial value is derived algebraically, eliminating the need for selection and, consequently, avoiding the aforementioned drawbacks of numerical methods. The constructed equation allows for a solution to be obtained purely algebraically, without even requiring a visual representation of the problem, and this solution can also be verified algebraically through substitution. The only element of choice in this numerical-analytical method is the level of accuracy of the result.\n",
    "    \n",
    "The second major challenge was to represent the derived numerical-analytical method in a pure mathematical form, more precisely, in a purely algebraic form - one that allows a solution to be obtained solely through standard algebraic operations such as addition, subtraction, multiplication, exponentiation, etc.; and by applying standard mathematical functions and techniques, including trigonometric functions, differentiation, and related methods. This task arose as a challenge because, in the process of deriving the solution, the nature of the problem required making numerous conditional checks, which are not an issue in programming languages but do not have a purely algebraic counterpart. Ultimately, the problem of finding the intersection points between an Archimedean spiral and a straight line is a mathematical problem, not a programming one. Therefore, the main intuition of the project's author was that a mathematical solution must exist.\n",
    "    \n",
    "The two main tasks also determined the paths for solving them. The first step was the parametrization of the Archimedean spiral, as it allows the spiral curve to be represented as a function - i.e., a given point on the curve corresponds to one and only one value of the argument. From a purely geometric point of view, there are countless points on the spiral that share the same $x$-coordinate - this is the essence of the intersection problem with a vertical line. The parametrization allows the spiral curve to be represented as a process unfolding over time, and therefore every crossing of the curve with the line gets a unique address - a moment in time. Hence, the problem is reformulated as finding time-based rather than spatial coordinates.\n",
    "    \n",
    "Finding the time coordinate of a specific intersection point involves an iterative approach based on a series of rotations of the spiral’s radius vector. These rotations essentially represent multi-step transitions between space and time and vice versa: a given time interval or moment is determined based on geometric relations such as angle magnitudes, lengths, etc. The identified interval or moment in time is then transformed into the spatial coordinates of the radius vector, and the process continues in this manner.\n",
    "    \n",
    "The parameterization of the Archimedean spiral, the hybrid nature of the method, and the requirement for the solution to be expressed in a mathematical form naturally lead to representing the set of intersection points as a two-dimensional numerical sequence. In other words, it is a sequence of sequences, or alternatively, a numerical sequence whose elements are numerical sequences. Each element consists of an analytically determined initial value, followed by a sequence of iteratively computed values. \n",
    "    \n",
    "The initial task was to construct an algorithm to find the intersection points between a spiral and an inclined line. However, the easier task is to find the intersection points with a vertical line because it has only one coordinate - the $x$-coordinate - rather than two. This is, in fact, the fundamental problem, and the problem of finding intersections with the inclined line can be reduced to it through a rotational transformation, which is also analytically derived.\n",
    "    \n",
    "The variety of possible geometric relationships between the parameterized spiral and the vertical line leads to the possibility that the first defined algorithm - the angle-based algorithm - may compute incorrect results. The analysis of the situations in which this occurs and the requirement for an algebraic solution necessitated the definition of algebraic methods to guide the algorithm in these cases. These methods were called algebraic checks. Their function is to provide an algebraic answer to a question concerning the state of a given parameter or the relationship between two or more parameters. The answer is most often reduced to 0 or 1 (with the exception of the sign function, which also returns -1 in addition) and, when placed as multipliers in an equation, they serve to \"activate\" or \"deactivate\" a given part of it.\n",
    "\n",
    "Algebraic checks are based on simpler functions, which were called reduction functions, and these, in turn, are founded on a controversial assumption in mathematics - the status of the expression $0^0$. For the purposes of a purely algebraic representation of the solution, it was assumed that $0^0 = 1$. This assumption has the very important consequence of allowing division by zero to be avoided and, instead of resulting in an indeterminate form, to return a defined value. This makes it possible for a program utilizing the equation to operate without encountering an error due to division by zero.\n",
    "    \n",
    "Algebraic checks provide a high degree of flexibility and freedom in constructing mathematical expressions where special cases and variable states need to be considered. During the derivation of the equation, we observed that they can act as switches, activating or deactivating even entire sub-algorithms within the equation.\n",
    "\n",
    "In the appendix, we will briefly explore some of the possibilities offered by the parameterization of the spiral and algebraic checks."
   ]
  },
  {
   "cell_type": "code",
   "execution_count": null,
   "id": "105517f9-9c82-4537-bd62-e0fa17182828",
   "metadata": {},
   "outputs": [],
   "source": []
  }
 ],
 "metadata": {
  "kernelspec": {
   "display_name": "Python 3 (ipykernel)",
   "language": "python",
   "name": "python3"
  },
  "language_info": {
   "codemirror_mode": {
    "name": "ipython",
    "version": 3
   },
   "file_extension": ".py",
   "mimetype": "text/x-python",
   "name": "python",
   "nbconvert_exporter": "python",
   "pygments_lexer": "ipython3",
   "version": "3.9.13"
  }
 },
 "nbformat": 4,
 "nbformat_minor": 5
}
