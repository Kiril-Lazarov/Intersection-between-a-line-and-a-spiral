{
 "cells": [
  {
   "cell_type": "code",
   "execution_count": 1,
   "id": "49df35b1-445c-47cd-957f-213e0dc71665",
   "metadata": {},
   "outputs": [],
   "source": [
    "import matplotlib.pyplot as plt\n",
    "import numpy as np\n",
    "from image_functions import *"
   ]
  },
  {
   "cell_type": "markdown",
   "id": "3f898040-f11e-428e-8f7f-8eae0486c046",
   "metadata": {},
   "source": [
    "### <center> 5.3 Eliminative function extension\n",
    "    \n",
    "In the first section of the main exposition, we defined an eliminative function whose role is to algebraically eliminate the value 0 for the variable $x$ belonging to the set of real numbers. Let us recall the formula.\n",
    "    \n",
    "    \n",
    "$$E_{(x)}^{[1 \\vee  x]} = x ^ {1-0^{|x|}}, \\quad\\quad\\quad\\quad(1.2.1.23)$$\n",
    "\n",
    "$$E_{(x)}^{[1 \\vee  x]} = x, \\quad x \\ne 0, \\quad\\quad\\quad\\quad(1.2.1.24)$$\n",
    "\n",
    "$$E_{(x)}^{[1 \\vee  x]} = 1, \\quad x = 0. \\quad\\quad\\quad\\quad(1.2.1.25)$$\n",
    "    \n",
    "When the variable takes the value 0, the eliminative function changes this value and assigns another value to the variable instead, in this case, 1. Now, we will show that the formula can be extended for an arbitrary value of the variable to be replaced. We have already done this in the section on numerical sequences with arbitrary values, where we defined coefficients $0^{|n-k|}$ for each distinct variable $x_k$ of the sequence.\n",
    "    \n",
    "$$ \\left\\{a_n\\right\\} = 0^{|n-1|}x_1 + 0^{|n-2|}x_2 + 0^{|n-3|}x_3 ... 0^{|n-k|}x_k,\\quad n, k \\in \\mathbb{N}. \\quad\\quad\\quad\\quad (5.1.2)$$\n",
    "    \n",
    "The extension of the eliminative function is performed in the exponent of the eliminative function's formula. Then we have:\n",
    "    \n",
    "$$E_{(x,a)}^{[1 \\vee  x]} = x ^ {1-0^{|a-x|}}, \\quad x, a \\in \\mathbb{R}, \\quad\\quad\\quad\\quad(5.3.1)$$\n",
    "\n",
    "$$E_{(x,a)}^{[1 \\vee  x]} = x, \\quad x \\ne a, \\quad\\quad\\quad\\quad(5.3.2)$$\n",
    "\n",
    "$$E_{(x,a)}^{[1 \\vee  x]} = 1, \\quad x = a. \\quad\\quad\\quad\\quad(5.3.2)$$\n",
    "    \n",
    "This value substitution can be observed if we display the variable $x$ on the number line. For the standard eliminative function, this would look as follows:"
   ]
  },
  {
   "cell_type": "code",
   "execution_count": 2,
   "id": "f3a89a9a-355e-4a76-ac2e-43f21794429f",
   "metadata": {},
   "outputs": [
    {
     "data": {
      "image/png": "[encoded data removed]",
      "text/plain": [
       "<Figure size 800x100 with 1 Axes>"
      ]
     },
     "metadata": {},
     "output_type": "display_data"
    }
   ],
   "source": [
    "show_number_line(0)"
   ]
  },
  {
   "cell_type": "markdown",
   "id": "c8588c1a-ae7e-419c-a317-933780080220",
   "metadata": {},
   "source": [
    "As we can see, instead of the number $0$, we have another number - the number $1$. In other words, on this number line, there is no zero; instead, there are two ones. There is no algebraic meaning to this. One of the real meanings of numbers is that they are an abstract idea of distance. When this abstract idea is embodied in a number line, then each number represents the distance between it and the center of the line – the number $0$. The signs of the numbers indicate on which side of zero the corresponding number lies – positive on the right, negative on the left. However, as distances from zero, they are equivalent, and algebraically this is expressed by the modulus of the number. Placing a number other than zero at the center of the number line has no real meaning – the number $0$ is the only number without length, i.e., it is a point. All other numbers are also points in themselves, just like $0$, but they receive additional meaning that comes from their distance and position relative to it. The number $2$ is at a distance of $2$ units to the right of zero, and the number $-2$ is $2$ units to the left of it. In this sense, numbers are names of distances relative to a chosen point. So, if we look at numbers from a semantic point of view, they are exactly that – *names* of points relative to another point. The number $0$ is also a name, but for a point with a special status – the status of a center, from which all other points get their names. From this perspective, on the number line shown above, the number $0$ is missing. More precisely, the name \"zero\" is missing, and in its place, we have another name – the name \"one\". If we look at it realistically, though, the length of the number 2, for example, is still 2, measured from the central point, whose name in this case is *one*.\n",
    "\n",
    "Let's now demonstrate the replacement of another value from the number line using the extended eliminative function. Let’s choose $a=-4$."
   ]
  },
  {
   "cell_type": "code",
   "execution_count": 3,
   "id": "dc9c864f-91d8-4bf3-ac20-0fea0856b08c",
   "metadata": {},
   "outputs": [
    {
     "data": {
      "image/png": "[encoded data removed]",
      "text/plain": [
       "<Figure size 800x100 with 1 Axes>"
      ]
     },
     "metadata": {},
     "output_type": "display_data"
    }
   ],
   "source": [
    "show_number_line(-4)"
   ]
  },
  {
   "cell_type": "markdown",
   "id": "7db7b051-7722-4859-ba34-19c5ceba3dc4",
   "metadata": {},
   "source": [
    "What we are doing here is giving the name 'one' to a point on the number line that is located four units to the left of the central point 0. In reality, we are changing the semantics of the numbers in a perfectly valid and mathematically accepted way, using the basic assumption for the expression $0^0=1$.\n",
    "\n",
    "Now we will define another extension of the eliminative function, which will allow us to name any point on the number line arbitrarily. This extension is based on the fact that the eliminative function returns the number $1$ at the chosen value $a$. This allows us to introduce the chosen name, which is a real number, by adding a multiplier in front of it. Let’s denote the arbitrary number by $b$. The requirement is that in all cases where the argument $x \\ne a$ is passed, the eliminative function should return the argument $x$ itself; in the case when $x = a$, the eliminative function should return $b$. Here, a switch can again be used. Here’s how we extend the eliminative function to achieve this. Let’s call this extended eliminative function the **replacement function** and denote it by $R$.\n",
    "\n",
    "\n",
    "$$ R_{(x,a, b)}^{[b \\vee  x]} = b^{0^{|a-x|}}E_{(x,a)}^{[1 \\vee  x]},\\quad x, a, b \\in \\mathbb{N},\\quad\\quad\\quad\\quad(5.3.3)$$\n",
    "\n",
    "$$ R_{(x,a, b)}^{[b \\vee  x]} = b^{0^{|a-x|}}x ^ {1-0^{|a-x|}}, \\quad x, a, b \\in \\mathbb{R}, \\quad\\quad\\quad\\quad(5.3.4)$$\n",
    "\n",
    "$$ R_{(x,a, b)}^{[b \\vee  x]} = x, \\quad x \\ne a, \\quad\\quad\\quad\\quad(5.3.5)$$\n",
    "\n",
    "$$ R_{(x,a, b)}^{[b \\vee  x]} = b, \\quad x = a. \\quad\\quad\\quad\\quad(5.3.6)$$\n",
    "\n",
    "Let’s choose again $a=-4$, and $b=10$."
   ]
  },
  {
   "cell_type": "code",
   "execution_count": 4,
   "id": "d8c4ea9e-5cac-4a49-b129-1324fad1b740",
   "metadata": {},
   "outputs": [
    {
     "data": {
      "image/png": "[encoded data removed]",
      "text/plain": [
       "<Figure size 800x100 with 1 Axes>"
      ]
     },
     "metadata": {},
     "output_type": "display_data"
    }
   ],
   "source": [
    "show_number_line(-4, b=10)"
   ]
  },
  {
   "cell_type": "markdown",
   "id": "9a015892-09b0-4aea-ae23-f457e9e84e80",
   "metadata": {},
   "source": [
    "It is clear that the multiplier $b$ can also be replaced with a function or another mathematical expression. Let $b = cos\\frac{\\pi}{3}$ and $a=1$."
   ]
  },
  {
   "cell_type": "code",
   "execution_count": 5,
   "id": "7600e265-271b-42af-b571-a5b24b927c72",
   "metadata": {},
   "outputs": [
    {
     "data": {
      "image/png": "[encoded data removed]",
      "text/plain": [
       "<Figure size 800x100 with 1 Axes>"
      ]
     },
     "metadata": {},
     "output_type": "display_data"
    }
   ],
   "source": [
    "show_number_line(1, b=round(np.cos(np.pi/3), 2))"
   ]
  },
  {
   "cell_type": "markdown",
   "id": "a7169343-5eec-47f0-89f8-49b96f123678",
   "metadata": {},
   "source": [
    "We can replace more than one value with more than one arbitrary value.\n",
    "\n",
    "$$ R_{(x,a, b, c, d)}^{[b \\vee d \\vee x]} = d^{0^{|c-x|}}b^{0^{|a-x|}}x ^ {1-0^{|(a-x)(c-x)|}}, \\quad x, a, b,c,d \\in \\mathbb{R}, \\quad\\quad\\quad\\quad(5.3.7)$$\n",
    "\n",
    "$$ R_{(x,a,b,c,d)}^{[b \\vee d \\vee x]} = x, \\quad x \\ne a, \\quad x \\ne c, \\quad\\quad\\quad\\quad(5.3.8)$$\n",
    "\n",
    "$$ R_{(x,a,b,c,d)}^{[b \\vee d \\vee x]} = b, \\quad x = a, \\quad\\quad\\quad\\quad(5.3.9)$$\n",
    "\n",
    "$$ R_{(x,a,b,c,d)}^{[b \\vee d \\vee x]} = d, \\quad x = c. \\quad\\quad\\quad\\quad(5.3.10)$$\n",
    "\n",
    "Let's display a number line with two replaced values. We will replace the number 5 with -43 and 0 with 29.\n"
   ]
  },
  {
   "cell_type": "code",
   "execution_count": 6,
   "id": "2772c025-16de-4e2f-88e6-1e5a102c6f4d",
   "metadata": {},
   "outputs": [
    {
     "data": {
      "image/png": "[encoded data removed]",
      "text/plain": [
       "<Figure size 800x100 with 1 Axes>"
      ]
     },
     "metadata": {},
     "output_type": "display_data"
    }
   ],
   "source": [
    "show_number_line(5, b=-43, c=0, d=29)"
   ]
  },
  {
   "cell_type": "markdown",
   "id": "10bde338-2710-4305-bdd7-79acfc2a7881",
   "metadata": {},
   "source": [
    "The replacement function has semantic similarities with dictionaries in programming languages. A dictionary is a data structure in which a specific value, called a 'key,' is mapped to another value, called a 'value.' The keys are unique, while the assigned values may be identical. In the replacement function, a continuous variable is both a key and a value for each of its values, allowing us to assign any value to any key. In the formula above, we have the keys $a$ and $c$, which are assigned the values $b$ and $d$, respectively.\n",
    "\n",
    "According to the scheme from formula $5.3.7$, an infinite number of keys can be added to the replacement function. As we can see, the keys are added as factors $(k-x)$ in the exponents, while the values are added as factors in front of the extended eliminative function.\n",
    "\n",
    "We can do various things with the replacement function. We can remove the eliminative function and keep only the keys $a$ and $c$along with their values $b$ and $d$. For all other values of the variable $x$, the function will return 1.\n",
    "\n",
    "$$ R_{(x,a, b, c, d)}^{[b \\vee d \\vee 1]} = d^{0^{|c-x|}}b^{0^{|a-x|}}, \\quad x, a, b,c,d \\in \\mathbb{R}, \\quad\\quad\\quad\\quad(5.3.11)$$\n",
    "\n",
    "$$ R_{(x,a,b,c,d)}^{[b \\vee d \\vee 1]} = 1, \\quad x \\ne a, \\quad x \\ne c, \\quad\\quad\\quad\\quad(5.3.12)$$\n",
    "\n",
    "$$ R_{(x,a,b,c,d)}^{[b \\vee d \\vee 1]} = b, \\quad x = a, \\quad\\quad\\quad\\quad(5.3.13)$$\n",
    "\n",
    "$$ R_{(x,a,b,c,d)}^{[b \\vee d \\vee 1]} = d, \\quad x = c. \\quad\\quad\\quad\\quad(5.3.14)$$\n",
    "\n",
    "In this case, the replacement function cannot be considered a dictionary since it contains an infinite number of identical keys - the number $1$.\n",
    "\n",
    "It is entirely possible, instead of assigning single values to a given key, to assign multiple values. We can assign a numerical sequence. Let us take the already defined arbitrary sequence of $5.1.2$.\n",
    "\n",
    "$$ R_{(x,c, n )}^{[ a_n \\vee x]} = a_n^{0^{|c-x|}}x ^ {1-0^{|c-x|}}, \\quad x,c \\in \\mathbb{R},\\quad n \\in \\mathbb{N}, \\quad\\quad\\quad\\quad(5.3.15)$$\n",
    "\n",
    "$$ R_{(x,c, n )}^{[ a_n \\vee x]} = x \\quad x \\ne c, \\quad\\quad\\quad\\quad(5.3.16)$$\n",
    "\n",
    "$$ R_{(x,c, n )}^{[ a_n \\vee x]} = a_n \\quad x = c, \\quad\\quad\\quad\\quad(5.3.17)$$\n",
    "\n",
    "where $a_n$ is the $n$-th term of the sequence $\\{a_n\\}$. If we substitute the algebraic expression for $\\{a_n\\}$ in the replacement function, we will have:\n",
    "\n",
    "\n",
    "$$ R_{(x,c, n )}^{[ a_n \\vee x]} = ( 0^{|n-1|}x_1 + 0^{|n-2|}x_2 + 0^{|n-3|}x_3 ... 0^{|n-k|}x_k)^{0^{|c-x|}}x ^ {1-0^{|c-x|}}, \\quad x,c \\in \\mathbb{R},\\quad n \\in \\mathbb{N}. \\quad\\quad\\quad\\quad(5.3.18)$$\n",
    "\n",
    "This is analogous to the common practice in programming where an array is assigned as a value to a key in a dictionary.\n",
    "\n",
    "Besides changing specific values, we can also modify values within a given interval. For example, we can change the signs of the variable within this interval. We will do this using the sign function. Let’s recall it.\n",
    "\n",
    "$$S_{(x)}^{[-1 \\vee  0 \\vee  1]} = \\frac{x}{|E_{(x)}^{[1 \\vee  x]}|}. \\quad\\quad\\quad\\quad(1.2.1.28)$$\n",
    "\n",
    "$$S_{(x)}^{[-1 \\vee  0 \\vee  1]} = 1, \\quad x > 0, \\quad\\quad\\quad\\quad(1.2.1.29)$$\n",
    "\n",
    "$$S_{(x)}^{[-1 \\vee  0 \\vee  1]} = -1, \\quad x < 0,  \\quad\\quad\\quad\\quad(1.2.1.30)$$\n",
    "\n",
    "$$S_{(x)}^{[-1 \\vee  0 \\vee  1]} = 0, \\quad x = 0.  \\quad\\quad\\quad\\quad(1.2.1.31)$$\n",
    "\n",
    "First, we will extend the sign function itself.\n",
    "\n",
    "$$S_{(x,a)}^{[-1 \\vee  0 \\vee  1]} = \\frac{x-a}{|E_{(x-a)}^{[1 \\vee  x]}|}. \\quad\\quad\\quad\\quad(1.2.1.32)$$\n",
    "\n",
    "$$S_{(x,a)}^{[-1 \\vee  0 \\vee  1]} = 1, \\quad x > a, \\quad\\quad\\quad\\quad(1.2.1.33)$$\n",
    "\n",
    "$$S_{(x,a)}^{[-1 \\vee  0 \\vee  1]} = -1, \\quad x < a,  \\quad\\quad\\quad\\quad(1.2.1.34)$$\n",
    "\n",
    "$$S_{(x,a)}^{[-1 \\vee  0 \\vee  1]} = 0, \\quad x = a.  \\quad\\quad\\quad\\quad(1.2.1.35)$$\n",
    "\n",
    "With this extension, the sign function can shift the position of the zero boundary between positive and negative numbers. The change of location, in turn, can be used to control the signs of the variable.To demonstrate this, we will introduce another modification to the function. Let us call this function $\\text{CS}$ - the sign change function.\n",
    "\n",
    "$$\\text{CS}_{(x,a)} = |x|S_{(x,a)}^{[-1 \\vee  0 \\vee  1]} = |x|\\frac{x-a}{|E_{(x-a)}^{[1 \\vee  x]}|}. \\quad\\quad\\quad\\quad(1.2.1.36)$$\n",
    "\n",
    "By multiplying the absolute value of the variable $x$ by its sign, we will be able to see a new number line. Let us see how the variable $x$ looks for $a=3$."
   ]
  },
  {
   "cell_type": "code",
   "execution_count": 7,
   "id": "7e4b0edb-e2f6-438e-9f05-979a13d949c7",
   "metadata": {},
   "outputs": [
    {
     "data": {
      "image/png": "[encoded data removed]",
      "text/plain": [
       "<Figure size 800x100 with 1 Axes>"
      ]
     },
     "metadata": {},
     "output_type": "display_data"
    }
   ],
   "source": [
    "show_sign_func_number_line(3)"
   ]
  },
  {
   "cell_type": "markdown",
   "id": "3dd8e397-3f13-4046-9e94-e88164942884",
   "metadata": {},
   "source": [
    "The function $\\text{CS}$ not only replaces the number 3 with 0 but also places negative signs between the two zeros.\n",
    "\n",
    "Obviously, for $a=0$, we have the variable $x$ itself."
   ]
  },
  {
   "cell_type": "code",
   "execution_count": 8,
   "id": "0ea33280-5170-4178-a45b-6c10173e0126",
   "metadata": {},
   "outputs": [
    {
     "data": {
      "image/png": "[encoded data removed]",
      "text/plain": [
       "<Figure size 800x100 with 1 Axes>"
      ]
     },
     "metadata": {},
     "output_type": "display_data"
    }
   ],
   "source": [
    "show_sign_func_number_line(0)"
   ]
  },
  {
   "cell_type": "markdown",
   "id": "16c112ec-de93-4376-9533-1f406ca34390",
   "metadata": {},
   "source": [
    "Now we can define a change in the values of the variable within a specific interval.\n",
    "\n",
    "$$\\text{CS}_{(x,a,b)} = |x|\\frac{(x-a)(x-b)}{|E_{\\left( (x-a)(x-b)\\right)}^{[1 \\vee  x]}|}. \\quad\\quad\\quad\\quad(1.2.1.37)$$\n",
    "\n",
    "Let us choose $a=-3$ and $b=3$."
   ]
  },
  {
   "cell_type": "code",
   "execution_count": 9,
   "id": "a736a41f-3595-4d1f-8e12-849bd418b6fa",
   "metadata": {},
   "outputs": [
    {
     "data": {
      "image/png": "[encoded data removed]",
      "text/plain": [
       "<Figure size 800x100 with 1 Axes>"
      ]
     },
     "metadata": {},
     "output_type": "display_data"
    }
   ],
   "source": [
    "show_sign_func_number_line(-3, b=3)"
   ]
  },
  {
   "cell_type": "markdown",
   "id": "04b29edb-0433-4959-93d4-60baf3049965",
   "metadata": {},
   "source": [
    "Here we have an axis with three zeros and negative numbers between the two outer zeros on the left and right, while positive numbers occupy the remaining part of the domain of $x$.\n",
    "\n",
    "The change of signs of the variable can be used to control a given function without modifying the expression of the function itself. In the image below, we have the function $y(x) = x$. Instead of the argument $x$, we pass the function $\\text{CS}_{(x,a,b)}$ with arguments $a=1$ and $b=4$. To obtain the straight line of the function, we will replace the absolute value of $x$ from $1.2.1.37$ with the argument $x$ itself.\n",
    "\n",
    "$$\\text{CS}_{(x,a,b)} = x\\frac{(x-a)(x-b)}{|E_{\\left( (x-a)(x-b)\\right)}^{[1 \\vee  x]}|}. \\quad\\quad\\quad\\quad(1.2.1.38)$$"
   ]
  },
  {
   "cell_type": "code",
   "execution_count": 10,
   "id": "8d7ee77b-e620-43c2-9f04-faaca362177b",
   "metadata": {},
   "outputs": [
    {
     "data": {
      "text/html": [
       "\n",
       "    <div style=\"display: flex; justify-content: center; align-items: center; height: 300px;\">\n",
       "        <img src=\"Images/fig220.png\" style=\"width: 562px; height: 300px;\">\n",
       "        <div style=\"position: absolute; top: 0px; right: 80px; color: black; font-size: 14px; background-color: rgba(255, 255, 255, 0.7); padding:           5px; border-radius: 5px;\">\n",
       "            Fig.220\n",
       "        </div>\n",
       "    </div>\n",
       "    "
      ],
      "text/plain": [
       "<IPython.core.display.HTML object>"
      ]
     },
     "execution_count": 10,
     "metadata": {},
     "output_type": "execute_result"
    }
   ],
   "source": [
    "load_image('fig220')"
   ]
  },
  {
   "cell_type": "markdown",
   "id": "4571b493-6b59-4a60-840b-4dda64725e95",
   "metadata": {},
   "source": [
    "We see that the behavior of the function is the same as its standard behavior, with the difference that in the interval $x \\in [1,2]$, its value is the same as in the interval $x \\in [-4,-1]$ but with opposite sign. This substitution of the argument makes the continuous function $y(x) = x$ discontinuous. If we represent the variable $x$ defined in this way on the number line, we will see that in the chosen interval, the numbers are negative, and at the positions of $1$ and $4$, we have 0."
   ]
  },
  {
   "cell_type": "code",
   "execution_count": 11,
   "id": "9e0d7863-463f-4b8f-a113-b60a5639ba1b",
   "metadata": {},
   "outputs": [
    {
     "data": {
      "image/png": "[encoded data removed]",
      "text/plain": [
       "<Figure size 800x100 with 1 Axes>"
      ]
     },
     "metadata": {},
     "output_type": "display_data"
    }
   ],
   "source": [
    "show_sign_func_number_line(1, b=4)"
   ]
  },
  {
   "cell_type": "markdown",
   "id": "1d28771b-2549-49e5-bf85-738a082e38ad",
   "metadata": {},
   "source": [
    "Let’s see how the function $y(x) = sinx$ looks in the same interval with the argument $x$ modified by the function $\\text{CS}$."
   ]
  },
  {
   "cell_type": "code",
   "execution_count": 12,
   "id": "bf3dd551-d0d4-4b2a-bd3d-18f01b063dc1",
   "metadata": {},
   "outputs": [
    {
     "data": {
      "text/html": [
       "\n",
       "    <div style=\"display: flex; justify-content: center; align-items: center; height: 300px;\">\n",
       "        <img src=\"Images/fig221.png\" style=\"width: 562px; height: 300px;\">\n",
       "        <div style=\"position: absolute; top: 0px; right: 80px; color: black; font-size: 14px; background-color: rgba(255, 255, 255, 0.7); padding:           5px; border-radius: 5px;\">\n",
       "            Fig.221\n",
       "        </div>\n",
       "    </div>\n",
       "    "
      ],
      "text/plain": [
       "<IPython.core.display.HTML object>"
      ]
     },
     "execution_count": 12,
     "metadata": {},
     "output_type": "execute_result"
    }
   ],
   "source": [
    "load_image('fig221')"
   ]
  },
  {
   "cell_type": "markdown",
   "id": "5404bb02-eb38-4372-8861-a25966152fdc",
   "metadata": {},
   "source": [
    "Again, we see that the function values remain the same as in the interval $x \\in [-4,-1]$, but instead of an inverted slope, we have a phase inversion.\n",
    "\n",
    "Something interesting happens with the function $y(x) = \\sqrt{x}$. Let's take a look."
   ]
  },
  {
   "cell_type": "code",
   "execution_count": 16,
   "id": "d514fdd4-bd04-43d0-8b65-ae89a69c19c6",
   "metadata": {},
   "outputs": [
    {
     "data": {
      "text/html": [
       "\n",
       "    <div style=\"display: flex; justify-content: center; align-items: center; height: 300px;\">\n",
       "        <img src=\"Images/fig222.png\" style=\"width: 562px; height: 300px;\">\n",
       "        <div style=\"position: absolute; top: 0px; right: 80px; color: black; font-size: 14px; background-color: rgba(255, 255, 255, 0.7); padding:           5px; border-radius: 5px;\">\n",
       "            Fig.222\n",
       "        </div>\n",
       "    </div>\n",
       "    "
      ],
      "text/plain": [
       "<IPython.core.display.HTML object>"
      ]
     },
     "execution_count": 16,
     "metadata": {},
     "output_type": "execute_result"
    }
   ],
   "source": [
    "load_image('fig222')"
   ]
  },
  {
   "cell_type": "markdown",
   "id": "75b2d93a-2c6e-4223-bd38-4801856eaa8f",
   "metadata": {},
   "source": [
    "In the given interval, the function has no values because the sign of the argument in this interval is negative.\n",
    "For negative values of the variable, however, the function is defined because, as we showed on the number line above, the function $\\text{CS}$ reverses the signs, making the values positive.\n"
   ]
  },
  {
   "cell_type": "code",
   "execution_count": 14,
   "id": "e6f33ff6-42b7-4287-9135-f32c3be8ba46",
   "metadata": {},
   "outputs": [
    {
     "data": {
      "text/html": [
       "\n",
       "    <div style=\"display: flex; justify-content: center; align-items: center; height: 300px;\">\n",
       "        <img src=\"Images/fig223.png\" style=\"width: 562px; height: 300px;\">\n",
       "        <div style=\"position: absolute; top: 0px; right: 80px; color: black; font-size: 14px; background-color: rgba(255, 255, 255, 0.7); padding:           5px; border-radius: 5px;\">\n",
       "            Fig.223\n",
       "        </div>\n",
       "    </div>\n",
       "    "
      ],
      "text/plain": [
       "<IPython.core.display.HTML object>"
      ]
     },
     "execution_count": 14,
     "metadata": {},
     "output_type": "execute_result"
    }
   ],
   "source": [
    "load_image('fig223')"
   ]
  },
  {
   "cell_type": "markdown",
   "id": "705777ab-e841-4a63-b9bc-228cce462c0e",
   "metadata": {},
   "source": [
    "Here we have defined values of the function for a negative argument because $\\text{CS}$ converts the argument into a positive one. We will stop with the demonstrations of functions modified through their arguments, as an extensive study of this problem goes beyond the scope of the current exposition. In the final part of the appendix, we will briefly address how algebraic checks can be used to generate prime and composite numbers, as well as their factorials and sums."
   ]
  }
 ],
 "metadata": {
  "kernelspec": {
   "display_name": "Python 3 (ipykernel)",
   "language": "python",
   "name": "python3"
  },
  "language_info": {
   "codemirror_mode": {
    "name": "ipython",
    "version": 3
   },
   "file_extension": ".py",
   "mimetype": "text/x-python",
   "name": "python",
   "nbconvert_exporter": "python",
   "pygments_lexer": "ipython3",
   "version": "3.9.13"
  }
 },
 "nbformat": 4,
 "nbformat_minor": 5
}
