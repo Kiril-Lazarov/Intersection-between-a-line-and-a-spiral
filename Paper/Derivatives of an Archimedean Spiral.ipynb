{
 "cells": [
  {
   "cell_type": "code",
   "execution_count": 1,
   "id": "9e88b8e9-e260-4abe-986e-bf8848a54ee6",
   "metadata": {},
   "outputs": [],
   "source": [
    "from IPython.display import HTML\n",
    "from image_functions import *"
   ]
  },
  {
   "cell_type": "markdown",
   "id": "be94216b-0c6d-46aa-a27d-3c9517bd7d36",
   "metadata": {},
   "source": [
    "#### <center> 2.2.1.1 Derivatives of an Archimedean Spiral\n",
    "    \n",
    "    \n",
    "The parameterization of the Archimedean spiral allows for the definition of three derivatives at each of its points: one derivative $\\frac{dy}{dx}$ that is tangent to the spiral curve itself, and two other derivatives - $\\frac{dx}{dt}$ and $\\frac{dy}{dt}$ - that are tangent to its $x$- and $y$-components, respectively."
   ]
  },
  {
   "cell_type": "code",
   "execution_count": 5,
   "id": "8c50bcda-b6ac-43fd-b332-0f88e34b80bb",
   "metadata": {},
   "outputs": [
    {
     "data": {
      "text/html": [
       "\n",
       "    <div style=\"display: flex; justify-content: center; align-items: center; height: 300px;\">\n",
       "        <img src=\"Images/fig104.png\" style=\"width: 562px; height: 300px;\">\n",
       "        <div style=\"position: absolute; top: 0px; right: 80px; color: black; font-size: 14px; background-color: rgba(255, 255, 255, 0.7); padding:           5px; border-radius: 5px;\">\n",
       "            Fig.104\n",
       "        </div>\n",
       "    </div>\n",
       "    "
      ],
      "text/plain": [
       "<IPython.core.display.HTML object>"
      ]
     },
     "execution_count": 5,
     "metadata": {},
     "output_type": "execute_result"
    }
   ],
   "source": [
    "load_image('fig104')"
   ]
  },
  {
   "cell_type": "markdown",
   "id": "d88489a5-218c-4452-af22-a9a9b6c88a8d",
   "metadata": {},
   "source": [
    "In the image above, all three derivatives are shown at a point on the spiral corresponding to the moment $t = 9.44$ and coordinates $x_s = -1.73968$ and $y_s = -4.3877$. As can be seen, the green line $\\frac{dy}{dx}$ is tangent to the spiral curve at this point with a slope of $-27.674758$ degrees, while the other two $\\frac{dx}{dt}$ and $\\frac{dy}{dt}$ are secants to it. To verify that $\\frac{dx}{dt}$ and $\\frac{dy}{dt}$ are indeed the derivatives of their respective components, we will present the same situation in a different coordinate system. We will refer to this coordinate system as the $txy$-diagram or, for brevity, simply $t$-diagram."
   ]
  },
  {
   "cell_type": "code",
   "execution_count": 7,
   "id": "3fe26df7-4feb-4b2e-ab05-740fdbc1e937",
   "metadata": {},
   "outputs": [
    {
     "data": {
      "text/html": [
       "\n",
       "    <div style=\"display: flex; justify-content: center; align-items: center; height: 300px;\">\n",
       "        <img src=\"Images/fig105.png\" style=\"width: 562px; height: 300px;\">\n",
       "        <div style=\"position: absolute; top: 0px; right: 80px; color: black; font-size: 14px; background-color: rgba(255, 255, 255, 0.7); padding:           5px; border-radius: 5px;\">\n",
       "            Fig.105\n",
       "        </div>\n",
       "    </div>\n",
       "    "
      ],
      "text/plain": [
       "<IPython.core.display.HTML object>"
      ]
     },
     "execution_count": 7,
     "metadata": {},
     "output_type": "execute_result"
    }
   ],
   "source": [
    "load_image('fig105')"
   ]
  },
  {
   "cell_type": "markdown",
   "id": "92bd5778-a5ee-4888-8d76-6323862fbc50",
   "metadata": {},
   "source": [
    "On the abscissa, we have the values of $t$ ($t \\ge 0$), while on the ordinate, we have the values of $x_s$ and $y_s$. The black radius vector represents the radius vector of the spiral at the corresponding moment $t$. The green line, connecting the tip of the radius vector to the center of the coordinate axis, represents the growth of the radius vector as a function of time. The red sinusoid represents the values of the $x$-coordinate of the radius vector from the initial moment $t=0$ to the current one. Similarly, the blue sinusoid represents the values of the $y$-coordinate. The derivatives $\\frac{dx}{dt}$, $\\frac{dy}{dt}$ and $\\frac{dy}{dx}$ are the straight lines in the respective component colors, and the points indicate the exact positions of the tangents.\n",
    "\n",
    "In the $t$-diagram, the derivative $\\frac{dy}{dx}$ is not visualized as a tangent to the spiral curve because the spiral curve is decomposed into its components. In the normal coordinate system, only this derivative appears as a tangent, while the other two do not.\n",
    "\n",
    "The graphs of the components of the parameterized Archimedean spiral represent sinusoids with increasing amplitude, as it is a combination of rotational motion with constant angular velocity and a linear increase of the radius vector."
   ]
  }
 ],
 "metadata": {
  "kernelspec": {
   "display_name": "Python 3 (ipykernel)",
   "language": "python",
   "name": "python3"
  },
  "language_info": {
   "codemirror_mode": {
    "name": "ipython",
    "version": 3
   },
   "file_extension": ".py",
   "mimetype": "text/x-python",
   "name": "python",
   "nbconvert_exporter": "python",
   "pygments_lexer": "ipython3",
   "version": "3.9.13"
  }
 },
 "nbformat": 4,
 "nbformat_minor": 5
}
