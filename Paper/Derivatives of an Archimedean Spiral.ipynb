{
 "cells": [
  {
   "cell_type": "code",
   "execution_count": 1,
   "id": "9e88b8e9-e260-4abe-986e-bf8848a54ee6",
   "metadata": {},
   "outputs": [],
   "source": [
    "from IPython.display import HTML\n",
    "from image_functions import *"
   ]
  },
  {
   "cell_type": "markdown",
   "id": "be94216b-0c6d-46aa-a27d-3c9517bd7d36",
   "metadata": {},
   "source": [
    "#### <center> 2.2.1.1 Derivatives of an Archimedean Spiral\n",
    "    \n",
    "    \n",
    "The parameterization of the Archimedean spiral allows for the definition of three derivatives at each of its points: one derivative $\\frac{dy}{dx}$ that is tangent to the spiral curve itself, and two other derivatives - $\\frac{dx}{dt}$ and $\\frac{dy}{dt}$ - that are tangent to its $x$- and $y$-components, respectively.\n",
    "    \n",
    "Let’s plot a spiral with parameters $v = 0.5$, $\\omega = 1$ and $k = 0.75$"
   ]
  },
  {
   "cell_type": "code",
   "execution_count": 2,
   "id": "8c50bcda-b6ac-43fd-b332-0f88e34b80bb",
   "metadata": {},
   "outputs": [
    {
     "data": {
      "text/html": [
       "\n",
       "    <div style=\"display: flex; justify-content: center; align-items: center; height: 300px;\">\n",
       "        <img src=\"Images/fig104.png\" style=\"width: 562px; height: 300px;\">\n",
       "        <div style=\"position: absolute; top: 0px; right: 80px; color: black; font-size: 14px; background-color: rgba(255, 255, 255, 0.7); padding:           5px; border-radius: 5px;\">\n",
       "            Fig.104\n",
       "        </div>\n",
       "    </div>\n",
       "    "
      ],
      "text/plain": [
       "<IPython.core.display.HTML object>"
      ]
     },
     "execution_count": 2,
     "metadata": {},
     "output_type": "execute_result"
    }
   ],
   "source": [
    "load_image('fig104')"
   ]
  },
  {
   "cell_type": "markdown",
   "id": "d88489a5-218c-4452-af22-a9a9b6c88a8d",
   "metadata": {},
   "source": [
    "In the image above, all three derivatives are shown at a point on the spiral corresponding to the moment $t = 9.44$ and coordinates $x_s = -1.73968$ and $y_s = -4.3877$. As can be seen, the green line $\\frac{dy}{dx}$ is tangent to the spiral curve at this point with a slope of $-27.674758$ degrees, while the slopes of the other two $76.617982$ ($\\frac{dx}{dt}$) and $-65.599914$ ($\\frac{dy}{dt}$). To verify that $\\frac{dx}{dt}$ and $\\frac{dy}{dt}$ are indeed the derivatives of their respective components, we will present the same situation in a different coordinate system. We will refer to this coordinate system as the $txy$-diagram or, for brevity, simply $t$-diagram.\n",
    "\n",
    "The graphs of the components of the parameterized Archimedean spiral represent sinusoids with increasing amplitude, as it is a combination of rotational motion with constant angular velocity and a linear increase of the radius vector."
   ]
  },
  {
   "cell_type": "code",
   "execution_count": 3,
   "id": "3fe26df7-4feb-4b2e-ab05-740fdbc1e937",
   "metadata": {},
   "outputs": [
    {
     "data": {
      "text/html": [
       "\n",
       "    <div style=\"display: flex; justify-content: center; align-items: center; height: 300px;\">\n",
       "        <img src=\"Images/fig105.png\" style=\"width: 562px; height: 300px;\">\n",
       "        <div style=\"position: absolute; top: 0px; right: 80px; color: black; font-size: 14px; background-color: rgba(255, 255, 255, 0.7); padding:           5px; border-radius: 5px;\">\n",
       "            Fig.105\n",
       "        </div>\n",
       "    </div>\n",
       "    "
      ],
      "text/plain": [
       "<IPython.core.display.HTML object>"
      ]
     },
     "execution_count": 3,
     "metadata": {},
     "output_type": "execute_result"
    }
   ],
   "source": [
    "load_image('fig105')"
   ]
  },
  {
   "cell_type": "markdown",
   "id": "92bd5778-a5ee-4888-8d76-6323862fbc50",
   "metadata": {},
   "source": [
    "On the abscissa, we have the values of $t$ ($t \\ge 0$), while on the ordinate, we have the values of $x_s$ and $y_s$. The black radius vector represents the radius vector of the spiral at the corresponding moment $t$. The green line, connecting the tip of the radius vector to the center of the coordinate axis, represents the growth of the radius vector as a function of time. The red sinusoid represents the values of the $x$-coordinate of the radius vector from the initial moment $t=0$ to the current one. Similarly, the blue sinusoid represents the values of the $y$-coordinate. The derivatives $\\frac{dx}{dt}$, $\\frac{dy}{dt}$ and $\\frac{dy}{dx}$ are the straight lines in the respective component colors, and the points indicate the exact positions of the tangents.\n",
    "\n",
    "In the $t$-diagram, the derivative $\\frac{dy}{dx}$ is not visualized as a tangent to the spiral curve because the spiral curve is decomposed into its components. In the normal coordinate system, only this derivative appears as a tangent, while the other two do not.\n",
    "\n",
    "Let us now derive the first derivatives of the components of the parameterized Archimedean spiral.\n",
    "\n",
    "$$ x_s(t) = vtcos(k\\frac{\\pi}{2} + \\omega t)\\quad\\quad\\quad\\quad (2.2.1.1.1)$$\n",
    "\n",
    "$$ x'(t) = v \\left ( cos(k\\frac{\\pi}{2} + \\omega t) - \\omega tsin(k\\frac{\\pi}{2} + \\omega t) \\right ) \\quad\\quad\\quad\\quad (2.2.1.1.2)$$\n",
    "\n",
    "$$ y_s(t) = vtsin(k\\frac{\\pi}{2} + \\omega t)\\quad\\quad\\quad\\quad (2.2.1.1.3)$$\n",
    "\n",
    "$$ y'(t) = v \\left ( sin(k\\frac{\\pi}{2} + \\omega t) + \\omega tcos(k\\frac{\\pi}{2} + \\omega t) \\right ) \\quad\\quad\\quad\\quad (2.2.1.1.4)$$\n",
    "\n",
    "Having the derivatives of the components, we derive the derivative $\\frac{dy}{dx}(t)$ (the tangent to the spiral curve) as the ratio $\\frac{y'(t)}{x'(t)}$.\n",
    "\n",
    "\n",
    "$$ \\frac{dy}{dx}(t) = \\frac{y'(t)}{x'(t)},  \\quad x'(t) \\ne 0. \\quad\\quad\\quad\\quad (2.2.1.1.5)$$\n",
    "\n",
    "$$ \\frac{dy}{dx}(t) = \\frac{sin(k\\frac{\\pi}{2} + \\omega t) + \\omega tcos(k\\frac{\\pi}{2} + \\omega t)}\n",
    "{cos(k\\frac{\\pi}{2} + \\omega t) - \\omega tsin(k\\frac{\\pi}{2} + \\omega t)},  \\quad cos(k\\frac{\\pi}{2} + \\omega t) - \\omega tsin(k\\frac{\\pi}{2} + \\omega t) \\ne 0. \\quad\\quad\\quad\\quad (2.2.1.1.6)$$\n",
    "\n",
    "In its current form, the derivative $\\frac{dy}{dx}(t)$ is undefined at $x'(t) = 0$. However, this does not correctly reflect the situation, because the tangent to the spiral curve exists in these cases. In the image below, we see a spiral with the same parameters as the one in the previous images, but it is \"reversed\" back to moment $t = 8.36565$."
   ]
  },
  {
   "cell_type": "code",
   "execution_count": 4,
   "id": "3e9ddc22-dc0d-4f73-abbb-d7195859e9f4",
   "metadata": {},
   "outputs": [
    {
     "data": {
      "text/html": [
       "\n",
       "    <div style=\"display: flex; justify-content: center; align-items: center; height: 300px;\">\n",
       "        <img src=\"Images/fig106.png\" style=\"width: 562px; height: 300px;\">\n",
       "        <div style=\"position: absolute; top: 0px; right: 80px; color: black; font-size: 14px; background-color: rgba(255, 255, 255, 0.7); padding:           5px; border-radius: 5px;\">\n",
       "            Fig.106\n",
       "        </div>\n",
       "    </div>\n",
       "    "
      ],
      "text/plain": [
       "<IPython.core.display.HTML object>"
      ]
     },
     "execution_count": 4,
     "metadata": {},
     "output_type": "execute_result"
    }
   ],
   "source": [
    "load_image('fig106')"
   ]
  },
  {
   "cell_type": "markdown",
   "id": "fc116f7b-bdf3-4f56-b12b-5fabbbb2c2d1",
   "metadata": {},
   "source": [
    "The visualization program correctly represents the derivative $\\frac{dy}{dx}(t)$ as a vertical line, but this is due to the fact that it calculates using approximations. In this specific situation  $x'(t) = -2.2199526891863997e-05$, is very close to zero and $\\frac{dy}{dx}(t) =379521.88... $.If we convert this value into an angle, we get a value very close to $\\frac{\\pi}{2}$.\n",
    "\n",
    "$$ \\arctan{(379521.88...)} \\approx 1.5707936....  \\quad\\quad\\quad\\quad (2.2.1.1.6)$$\n",
    "\n",
    "To avoid a division by zero error in the program, we will place $x'(t)$ in an **eliminative function**.\n",
    "\n",
    "$$ \\frac{dy}{dx}(t) = \\frac{y'(t)}{E_{(x'(t))}}. \\quad\\quad\\quad\\quad (2.2.1.1.7)$$\n",
    "\n",
    "$$ \\frac{dy}{dx}(t) = y'(t),  \\quad x'(t) = 0  \\quad\\quad\\quad\\quad (2.2.1.1.8)$$\n",
    "\n",
    "To verify this, we will select parameters for the spiral where the derivative $x'(t) = 0$. It is enough to choose $t = 0$ and $k = 1$. When $t = 0$, the derivative is equal to the cosine of the initial angle multiplied by $v$.\n",
    "\n",
    "$$ x'(t) = v cos(k\\frac{\\pi}{2}). \\quad\\quad\\quad\\quad (2.2.1.1.9)$$\n",
    "\n",
    "Then, if $k = 1$, the cosine is equal to zero.\n",
    "\n",
    "In the image below, we can see that indeed 2.2.1.1.8 is true."
   ]
  },
  {
   "cell_type": "code",
   "execution_count": 5,
   "id": "81220031-dfef-4568-a13d-7c85ed02f778",
   "metadata": {},
   "outputs": [
    {
     "data": {
      "text/html": [
       "\n",
       "    <div style=\"display: flex; justify-content: center; align-items: center; height: 300px;\">\n",
       "        <img src=\"Images/fig107.png\" style=\"width: 562px; height: 300px;\">\n",
       "        <div style=\"position: absolute; top: 0px; right: 80px; color: black; font-size: 14px; background-color: rgba(255, 255, 255, 0.7); padding:           5px; border-radius: 5px;\">\n",
       "            Fig.107\n",
       "        </div>\n",
       "    </div>\n",
       "    "
      ],
      "text/plain": [
       "<IPython.core.display.HTML object>"
      ]
     },
     "execution_count": 5,
     "metadata": {},
     "output_type": "execute_result"
    }
   ],
   "source": [
    "load_image('fig107')"
   ]
  },
  {
   "cell_type": "markdown",
   "id": "e0aa74ab-4df0-4bc5-85b9-a929adec76a5",
   "metadata": {},
   "source": [
    "Now we will show how we can use the derivatives $x'(t)$ and $y'(t)$ as a reference for the points of maximum displacement."
   ]
  },
  {
   "cell_type": "code",
   "execution_count": 6,
   "id": "c30e2733-4b9e-44ba-b8ed-b18395c14caa",
   "metadata": {},
   "outputs": [
    {
     "data": {
      "text/html": [
       "<div style='display: flex; justify-content: space-between;'>\n",
       "        <div style=\"text-align: center; margin: 0 10px;\">\n",
       "            <img src=\"Images/fig108.png\" style=\"width: 375px; height: 200px;\">\n",
       "            <div style=\"color: black; font-size: 14px; background-color: rgba(255, 255, 255, 0.7); padding: 5px; border-radius: 5px;\">\n",
       "                Fig.108\n",
       "            </div>\n",
       "        </div>\n",
       "        \n",
       "        <div style=\"text-align: center; margin: 0 10px;\">\n",
       "            <img src=\"Images/fig109.png\" style=\"width: 375px; height: 200px;\">\n",
       "            <div style=\"color: black; font-size: 14px; background-color: rgba(255, 255, 255, 0.7); padding: 5px; border-radius: 5px;\">\n",
       "                Fig.109\n",
       "            </div>\n",
       "        </div>\n",
       "        </div>"
      ],
      "text/plain": [
       "<IPython.core.display.HTML object>"
      ]
     },
     "metadata": {},
     "output_type": "display_data"
    },
    {
     "data": {
      "text/html": [
       "<div style='display: flex; justify-content: space-between;'>\n",
       "        <div style=\"text-align: center; margin: 0 10px;\">\n",
       "            <img src=\"Images/fig110.png\" style=\"width: 375px; height: 200px;\">\n",
       "            <div style=\"color: black; font-size: 14px; background-color: rgba(255, 255, 255, 0.7); padding: 5px; border-radius: 5px;\">\n",
       "                Fig.110\n",
       "            </div>\n",
       "        </div>\n",
       "        \n",
       "        <div style=\"text-align: center; margin: 0 10px;\">\n",
       "            <img src=\"Images/fig111.png\" style=\"width: 375px; height: 200px;\">\n",
       "            <div style=\"color: black; font-size: 14px; background-color: rgba(255, 255, 255, 0.7); padding: 5px; border-radius: 5px;\">\n",
       "                Fig.111\n",
       "            </div>\n",
       "        </div>\n",
       "        </div>"
      ],
      "text/plain": [
       "<IPython.core.display.HTML object>"
      ]
     },
     "metadata": {},
     "output_type": "display_data"
    }
   ],
   "source": [
    "display(load_images([('fig108', 'left'), ('fig109', 'right')]))\n",
    "display(load_images([('fig110', 'left'), ('fig111', 'right')]))"
   ]
  },
  {
   "cell_type": "markdown",
   "id": "2eaebfd7-1572-4172-a5e3-933bb3348b2f",
   "metadata": {},
   "source": [
    "The point of maximum displacement is the point at which the derivative of the corresponding component changes its sign. For correcting $\\text{LB-Alg}$, we are interested in the derivative with respect to the $x$-coordinate. Let’s use the scenario from *Figure 110* and place the vertical line at the $x$-coordinate of $\\text{PMD}$. In the images below, we will show the slope of the derivatives 'before' and 'after' $\\text{PMD}$."
   ]
  },
  {
   "cell_type": "code",
   "execution_count": 7,
   "id": "b0385052-6301-4957-8580-37fe30c07300",
   "metadata": {},
   "outputs": [
    {
     "data": {
      "text/html": [
       "<div style='display: flex; justify-content: space-between;'>\n",
       "        <div style=\"text-align: center; margin: 0 10px;\">\n",
       "            <img src=\"Images/fig112.png\" style=\"width: 375px; height: 200px;\">\n",
       "            <div style=\"color: black; font-size: 14px; background-color: rgba(255, 255, 255, 0.7); padding: 5px; border-radius: 5px;\">\n",
       "                Fig.112\n",
       "            </div>\n",
       "        </div>\n",
       "        \n",
       "        <div style=\"text-align: center; margin: 0 10px;\">\n",
       "            <img src=\"Images/fig113.png\" style=\"width: 375px; height: 200px;\">\n",
       "            <div style=\"color: black; font-size: 14px; background-color: rgba(255, 255, 255, 0.7); padding: 5px; border-radius: 5px;\">\n",
       "                Fig.113\n",
       "            </div>\n",
       "        </div>\n",
       "        </div>"
      ],
      "text/plain": [
       "<IPython.core.display.HTML object>"
      ]
     },
     "metadata": {},
     "output_type": "display_data"
    }
   ],
   "source": [
    "display(load_images([('fig112', 'left'), ('fig113', 'right')]))"
   ]
  },
  {
   "cell_type": "markdown",
   "id": "6984fd12-b7a0-47fb-b666-32a8a745c455",
   "metadata": {},
   "source": []
  }
 ],
 "metadata": {
  "kernelspec": {
   "display_name": "Python 3 (ipykernel)",
   "language": "python",
   "name": "python3"
  },
  "language_info": {
   "codemirror_mode": {
    "name": "ipython",
    "version": 3
   },
   "file_extension": ".py",
   "mimetype": "text/x-python",
   "name": "python",
   "nbconvert_exporter": "python",
   "pygments_lexer": "ipython3",
   "version": "3.9.13"
  }
 },
 "nbformat": 4,
 "nbformat_minor": 5
}
