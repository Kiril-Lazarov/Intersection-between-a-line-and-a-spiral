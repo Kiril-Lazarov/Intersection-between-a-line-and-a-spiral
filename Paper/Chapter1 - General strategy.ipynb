{
 "cells": [
  {
   "cell_type": "markdown",
   "id": "6949eec6-863f-409c-8235-8f4206f22ad5",
   "metadata": {},
   "source": [
    "## <center> 1.General strategy\n",
    "    \n",
    "The project sets two main objectives:\n",
    "\n",
    "1. To develop an analytical method for calculating the intersection points between two mathematical objects – a straight line and an Archimedean spiral.\n",
    "\n",
    "2. To express this method in mathematical form.\n",
    "\n",
    "For the first objective, it will be necessary to parameterize the Archimedean spiral.\n",
    "\n",
    "The second objective involves defining a special type of functions, which, for convenience, will be referred to as binary functions.\n",
    "    \n",
    "### <center> 1.1.Parameterization of an Archimedean spiral\n",
    "    \n",
    "The formula for the Archimedean spiral is:\n",
    "    \n",
    "$$r = a + b\\theta, \\quad\\quad\\quad\\quad (1.1.1)$$\n",
    "    \n",
    "where\n",
    "    \n",
    "+ $r$ is the radius of the spiral (the distance from the center of the spiral to the point).\n",
    "+ $\\theta$ is the angle in polar coordinates (measured in radians).\n",
    "+ $a$ is the initial radius (the distance from the center when $\\theta$ = 0).\n",
    "+ $b$ determines the distance between the turns of the spiral (the rate of expansion). \n",
    "    \n",
    "If we want to express the Archimedean spiral component-wise in the Cartesian coordinate system, we will have the following two equations:\n",
    "    \n",
    "$$x_s = rcos\\theta, \\quad\\quad\\quad\\quad (1.1.2)$$\n",
    "    \n",
    "$$y_s = rsin\\theta. \\quad\\quad\\quad\\quad (1.1.3)$$\n",
    "\n",
    "The equations for \n",
    "$x_s$ and $y_s$ of an Archimedean spiral in the Cartesian coordinate system are not functions because, due to the periodicity of the sine and cosine functions, there are multiple values for $x_s$ and $y_s$ for each value of the angle of rotation $\\theta$. To solve this problem, we will use standard parameterization for the two equations by introducing the parameter $t$. \n",
    "    \n",
    "Movements in nature can generally be classified into two categories: rotational and translational. In rotational motion, the points of an object move around a fixed axis (real or imaginary), describing circular trajectories. In translational motion, all points of an object move in the same direction and at the same speed.  \n",
    "\n",
    "The Archimedean spiral can be thought of as the trajectory of one point rotating around another point - the center. It represents the simplest case of a combination of the two types of motion: the rotation of a point around another point at a constant angular velocity, combined with a change in distance (radius) at a constant linear velocity. Therefore, it makes sense for the Archimedean spiral to be represented as a process over time, i.e., as a function of $t$."
   ]
  }
 ],
 "metadata": {
  "kernelspec": {
   "display_name": "Python 3 (ipykernel)",
   "language": "python",
   "name": "python3"
  },
  "language_info": {
   "codemirror_mode": {
    "name": "ipython",
    "version": 3
   },
   "file_extension": ".py",
   "mimetype": "text/x-python",
   "name": "python",
   "nbconvert_exporter": "python",
   "pygments_lexer": "ipython3",
   "version": "3.9.13"
  }
 },
 "nbformat": 4,
 "nbformat_minor": 5
}
