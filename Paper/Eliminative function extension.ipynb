{
 "cells": [
  {
   "cell_type": "code",
   "execution_count": 1,
   "id": "49df35b1-445c-47cd-957f-213e0dc71665",
   "metadata": {},
   "outputs": [],
   "source": [
    "import matplotlib.pyplot as plt\n",
    "import numpy as np\n",
    "from image_functions import *"
   ]
  },
  {
   "cell_type": "markdown",
   "id": "3f898040-f11e-428e-8f7f-8eae0486c046",
   "metadata": {},
   "source": [
    "### <center> 5.3 Eliminative function extension\n",
    "    \n",
    "In the first section of the main exposition, we defined an eliminative function whose role is to algebraically eliminate the value 0 for the variable _ belonging to the set of real numbers. Let us recall the formula.\n",
    "    \n",
    "    \n",
    "$$E_{(x)}^{[1 \\vee  x]} = x ^ {1-0^{|x|}}, \\quad\\quad\\quad\\quad(1.2.1.23)$$\n",
    "\n",
    "$$E_{(x)}^{[1 \\vee  x]} = x, \\quad x \\ne 0, \\quad\\quad\\quad\\quad(1.2.1.24)$$\n",
    "\n",
    "$$E_{(x)}^{[1 \\vee  x]} = 1, \\quad x = 0. \\quad\\quad\\quad\\quad(1.2.1.25)$$\n",
    "    \n",
    "When the variable takes the value 0, the eliminative function changes this value and assigns another value to the variable instead, in this case, 1. Now, we will show that the formula can be extended for an arbitrary value of the variable to be replaced. We have already done this in the section on numerical sequences with arbitrary values, where we defined coefficients $0^{|n-k|}$ for each distinct variable $x_k$ of the sequence.\n",
    "    \n",
    "$$ \\left\\{a_n\\right\\} = 0^{|n-1|}x_1 + 0^{|n-2|}x_2 + 0^{|n-3|}x_3 ... 0^{|n-k|}x_k,\\quad n, k \\in \\mathbb{N}. \\quad\\quad\\quad\\quad (5.1.2)$$\n",
    "    \n",
    "The extension of the eliminative function is performed in the exponent of the eliminative function's formula. Then we have:\n",
    "    \n",
    "$$E_{(x,a)}^{[1 \\vee  x]} = x ^ {1-0^{|a-x|}}, \\quad x, a \\in \\mathbb{N}, \\quad\\quad\\quad\\quad(5.3.1)$$\n",
    "\n",
    "$$E_{(x,a)}^{[1 \\vee  x]} = x, \\quad x \\ne a, \\quad\\quad\\quad\\quad(5.3.2)$$\n",
    "\n",
    "$$E_{(x,a)}^{[1 \\vee  x]} = 1, \\quad x = a. \\quad\\quad\\quad\\quad(5.3.2)$$\n",
    "    \n",
    "This value substitution can be observed if we display the variable $x$ on the number line. For the standard eliminative function, this would look as follows:"
   ]
  },
  {
   "cell_type": "code",
   "execution_count": 2,
   "id": "f3a89a9a-355e-4a76-ac2e-43f21794429f",
   "metadata": {},
   "outputs": [
    {
     "data": {
      "image/png": "[encoded data removed]",
      "text/plain": [
       "<Figure size 800x100 with 1 Axes>"
      ]
     },
     "metadata": {},
     "output_type": "display_data"
    }
   ],
   "source": [
    "show_number_line(0)"
   ]
  },
  {
   "cell_type": "markdown",
   "id": "c8588c1a-ae7e-419c-a317-933780080220",
   "metadata": {},
   "source": [
    "As we can see, instead of the number $0$, we have another number - the number $1$. In other words, on this number line, there is no zero; instead, there are two ones. There is no algebraic meaning to this. One of the real meanings of numbers is that they are an abstract idea of distance. When this abstract idea is embodied in a number line, then each number represents the distance between it and the center of the line – the number $0$. The signs of the numbers indicate on which side of zero the corresponding number lies – positive on the right, negative on the left. However, as distances from zero, they are equivalent, and algebraically this is expressed by the modulus of the number. Placing a number other than zero at the center of the number line has no real meaning – the number $0$ is the only number without length, i.e., it is a point. All other numbers are also points in themselves, just like $0$, but they receive additional meaning that comes from their distance and position relative to it. The number $2$ is at a distance of $2$ units to the right of zero, and the number $-2$ is $2$ units to the left of it. In this sense, numbers are names of distances relative to a chosen point. So, if we look at numbers from a semantic point of view, they are exactly that – *names* of points relative to another point. The number $0$ is also a name, but for a point with a special status – the status of a center, from which all other points get their names. From this perspective, on the number line shown above, the number $0$ is missing. More precisely, the name \"zero\" is missing, and in its place, we have another name – the name \"one\". If we look at it realistically, though, the length of the number 2, for example, is still 2, measured from the central point, whose name in this case is *one*.\n",
    "\n",
    "Let's now demonstrate the replacement of another value from the number line using the extended eliminative function. Let’s choose $a=-4$."
   ]
  },
  {
   "cell_type": "code",
   "execution_count": 3,
   "id": "dc9c864f-91d8-4bf3-ac20-0fea0856b08c",
   "metadata": {},
   "outputs": [
    {
     "data": {
      "image/png": "[encoded data removed]",
      "text/plain": [
       "<Figure size 800x100 with 1 Axes>"
      ]
     },
     "metadata": {},
     "output_type": "display_data"
    }
   ],
   "source": [
    "show_number_line(-4)"
   ]
  },
  {
   "cell_type": "markdown",
   "id": "7db7b051-7722-4859-ba34-19c5ceba3dc4",
   "metadata": {},
   "source": [
    "What we are doing here is giving the name 'one' to a point on the number line that is located four units to the left of the central point 0. In reality, we are changing the semantics of the numbers in a perfectly valid and mathematically accepted way, using the basic assumption for the expression $0^0=1$.\n",
    "\n",
    "Now we will define another extension of the eliminative function, which will allow us to name any point on the number line arbitrarily. This extension is based on the fact that the eliminative function returns the number $1$ at the chosen value $a$. This allows us to introduce the chosen name, which is a real number, by adding a multiplier in front of it. Let’s denote the arbitrary number by $b$. The requirement is that in all cases where the argument $x \\ne a$ is passed, the eliminative function should return the argument $x$ itself; in the case when $x = a$, the eliminative function should return $b$. Here, a switch can again be used. Here’s how we extend the eliminative function to achieve this. Let’s call this extended eliminative function the **replacement function** and denote it by $R$.\n",
    "\n",
    "\n",
    "$$ R_{(x,a, b)}^{[b \\vee  x]} = b^{0^{|a-x|}}E_{(x,a)}^{[1 \\vee  x]},\\quad x, a, b \\in \\mathbb{N},\\quad\\quad\\quad\\quad(5.3.3)$$\n",
    "\n",
    "$$ R_{(x,a, b)}^{[b \\vee  x]} = b^{0^{|a-x|}}x ^ {1-0^{|a-x|}}, \\quad x, a, b \\in \\mathbb{N}, \\quad\\quad\\quad\\quad(5.3.4)$$\n",
    "\n",
    "$$ R_{(x,a, b)}^{[b \\vee  x]} = x, \\quad x \\ne a, \\quad\\quad\\quad\\quad(5.3.5)$$\n",
    "\n",
    "$$ R_{(x,a, b)}^{[b \\vee  x]} = b, \\quad x = a. \\quad\\quad\\quad\\quad(5.3.6)$$\n",
    "\n",
    "Let’s choose again $a=-4$, and $b=10$."
   ]
  },
  {
   "cell_type": "code",
   "execution_count": 4,
   "id": "d8c4ea9e-5cac-4a49-b129-1324fad1b740",
   "metadata": {},
   "outputs": [
    {
     "data": {
      "image/png": "[encoded data removed]",
      "text/plain": [
       "<Figure size 800x100 with 1 Axes>"
      ]
     },
     "metadata": {},
     "output_type": "display_data"
    }
   ],
   "source": [
    "show_number_line(-4, b=10)"
   ]
  },
  {
   "cell_type": "markdown",
   "id": "9a015892-09b0-4aea-ae23-f457e9e84e80",
   "metadata": {},
   "source": [
    "It is clear that the multiplier $b$ can also be replaced with a function or another mathematical expression. Let $b = cos\\frac{\\pi}{3}$ and $a=1$."
   ]
  },
  {
   "cell_type": "code",
   "execution_count": 15,
   "id": "7600e265-271b-42af-b571-a5b24b927c72",
   "metadata": {},
   "outputs": [
    {
     "data": {
      "image/png": "[encoded data removed]",
      "text/plain": [
       "<Figure size 800x100 with 1 Axes>"
      ]
     },
     "metadata": {},
     "output_type": "display_data"
    }
   ],
   "source": [
    "show_number_line(1, b=round(np.cos(np.pi/3), 2))"
   ]
  },
  {
   "cell_type": "code",
   "execution_count": null,
   "id": "6f9ddd60-7e87-46d9-a870-2050f43af5f0",
   "metadata": {},
   "outputs": [],
   "source": []
  }
 ],
 "metadata": {
  "kernelspec": {
   "display_name": "Python 3 (ipykernel)",
   "language": "python",
   "name": "python3"
  },
  "language_info": {
   "codemirror_mode": {
    "name": "ipython",
    "version": 3
   },
   "file_extension": ".py",
   "mimetype": "text/x-python",
   "name": "python",
   "nbconvert_exporter": "python",
   "pygments_lexer": "ipython3",
   "version": "3.9.13"
  }
 },
 "nbformat": 4,
 "nbformat_minor": 5
}
