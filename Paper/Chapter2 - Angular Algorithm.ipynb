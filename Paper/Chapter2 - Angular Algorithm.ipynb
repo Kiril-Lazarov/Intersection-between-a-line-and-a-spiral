{
 "cells": [
  {
   "cell_type": "code",
   "execution_count": 4,
   "id": "4c5f14b2-3cff-4cec-b66e-7fbf62529b45",
   "metadata": {},
   "outputs": [],
   "source": [
    "from IPython.display import HTML\n",
    "from image_functions import *"
   ]
  },
  {
   "cell_type": "markdown",
   "id": "6ce9687e-7138-41cb-b0ff-f3569e5595b4",
   "metadata": {},
   "source": [
    "## <center> 2. Numerical-analytical method for finding intersection points between an Archimedean spiral and a straight line.\n",
    "    \n",
    "Let’s start with a graphical representation of the problem of intersection points."
   ]
  },
  {
   "cell_type": "code",
   "execution_count": 21,
   "id": "9f8025bc-417b-459b-961b-3134d2b224fd",
   "metadata": {},
   "outputs": [
    {
     "data": {
      "text/html": [
       "\n",
       "    <div style=\"display: flex; justify-content: center; align-items: center; height: 300px;\">\n",
       "        <img src=\"Images/fig1.png\" style=\"width: 562px; height: 300px;\">\n",
       "        <div style=\"position: absolute; top: 0px; right: 80px; color: black; font-size: 14px; background-color: rgba(255, 255, 255, 0.7); padding:           5px; border-radius: 5px;\">\n",
       "            Fig.1\n",
       "        </div>\n",
       "    </div>\n",
       "    "
      ],
      "text/plain": [
       "<IPython.core.display.HTML object>"
      ]
     },
     "execution_count": 21,
     "metadata": {},
     "output_type": "execute_result"
    }
   ],
   "source": [
    "load_image(name='fig1')"
   ]
  },
  {
   "cell_type": "markdown",
   "id": "e97e61d0-d200-4508-8455-c3e7af663836",
   "metadata": {},
   "source": [
    "We position the spiral with arbitrary parameters $v$, $\\omega$ and $k$ at the center of the coordinate system. We need to find all the points where the spiral curve intersects the straight line with arbitrary parameters $a$ and $b$ and equation\n",
    "\n",
    "$$y = ax + b, \\quad a,b \\in \\mathbb{R},  \\quad\\quad\\quad\\quad(2.1)$$\n",
    "\n",
    "where $a$ is the slope of the line relative to the $x$-axis, and $b$ is  the intersection point of the line with the $y$-axis.\n",
    "\n",
    "All we have as information for the two objects are the three parameters of the spiral and the two parameters of the line.\n",
    "\n",
    "## <center> 2.1 Angle-based algorithm\n",
    "    \n",
    "\n",
    "We will start deriving the formula for the main algorithm by taking the special case of a vertical line - that is, a line parallel to the $y$-axis - positioned at a specific point on the $x$-axis, denoted by $x_l$. This line has an infinite slope $a$ and no intersection $b$ with the $y$-axis. Therefore, it cannot be represented by the equation 2.1. Its equation is thus:\n",
    "    \n",
    "$$x_l = c, \\quad c \\in \\mathbb{R},  \\quad\\quad\\quad\\quad(2.1.1)$$\n",
    "    \n",
    "where $c$ is the fixed value of the $x$-coordinate for every point on the line. *Figure 2* illustrates a vertical line positioned at the point $x_l = 1$. This line intersects the spiral curve at infinitely many points. The task of finding the intersection points between this vertical line and the spiral is equivalent to determining the moments $t_n$, when the $x$-component of the parametric curve takes the values $x_s=x_l$ (in this case $x_l = 1$)."
   ]
  },
  {
   "cell_type": "code",
   "execution_count": 20,
   "id": "a277db16-def7-4953-9001-3c978d14f9e0",
   "metadata": {},
   "outputs": [
    {
     "data": {
      "text/html": [
       "\n",
       "    <div style=\"display: flex; justify-content: center; align-items: center; height: 300px;\">\n",
       "        <img src=\"Images/fig2.png\" style=\"width: 562px; height: 300px;\">\n",
       "        <div style=\"position: absolute; top: 0px; right: 80px; color: black; font-size: 14px; background-color: rgba(255, 255, 255, 0.7); padding:           5px; border-radius: 5px;\">\n",
       "            Fig.2\n",
       "        </div>\n",
       "    </div>\n",
       "    "
      ],
      "text/plain": [
       "<IPython.core.display.HTML object>"
      ]
     },
     "execution_count": 20,
     "metadata": {},
     "output_type": "execute_result"
    }
   ],
   "source": [
    "load_image(name='fig2')"
   ]
  },
  {
   "cell_type": "markdown",
   "id": "0d967998-7e00-42a7-96b2-0aeb3741b090",
   "metadata": {},
   "source": [
    "As already demonstrated, this problem has no analytical solution. More precisely, there is no analytical solution when $x_l \\ne 0$. However, an analytical solution exists when $x_l = 0$, i.e., when the line coincides with the $y$-axis. The $y$-axis, after all, is also a straight line; it is simply positioned at the center of the coordinate system along the $x$-axis. An analytical solution for $x_l = 0$ exists because the exact moments $t_n$, when the spiral curve intersects the $y$-axis, can be calculated through angle transformation. Since the spiral starts to unfold from the center of the coordinate system, the rotation of its radius vector describes a central angle. Therefore, the angle at which the radius vector must rotate to intersect the $y$-axis can be computed analytically.\n",
    "\n",
    "In *Figure 2*, the spiral begins to unfold counterclockwise with an initial angle of 0 degrees or $k = 0$. On the left side of the image, these correspond to $w$ (in the images, we will use $w$ instead of $\\omega$ due to technical reasons), $k$ and **start_angle**. The radius vector, therefore, must be rotated by 90 degrees to intersect the $y$-axis. Given this angle, its transformation over time is governed by the angular velocity $\\omega$ from the formula 1.1.5. Expressing $t$ we have:\n",
    "\n",
    "$$t = \\frac{\\theta}{\\omega}. \\quad\\quad\\quad\\quad(2.1.1)$$\n",
    "\n",
    "In Figure 3, we have $\\omega = 1$, $k = 0$,  **start_angle** $\\theta_0 = 0$ degrees (or $\\frac{\\pi}{2}$ radians), $\\Delta \\theta = 90$ degrees ($\\frac{\\pi}{2}$ radians).\n",
    "\n",
    "For $t_1$ we get:\n",
    "\n",
    "$$t_1 = \\frac{\\Delta \\theta} {\\omega} = \\frac{\\frac{\\pi}{2}}{1} \\approx 1.5708.\\quad\\quad\\quad\\quad(2.1.2)$$"
   ]
  },
  {
   "cell_type": "code",
   "execution_count": 23,
   "id": "8a8b490c-b150-424f-89ac-291e67ec5261",
   "metadata": {},
   "outputs": [
    {
     "data": {
      "text/html": [
       "\n",
       "    <div style=\"display: flex; justify-content: center; align-items: center; height: 300px;\">\n",
       "        <img src=\"Images/fig3.png\" style=\"width: 562px; height: 300px;\">\n",
       "        <div style=\"position: absolute; top: 0px; right: 80px; color: black; font-size: 14px; background-color: rgba(255, 255, 255, 0.7); padding:           5px; border-radius: 5px;\">\n",
       "            Fig.3\n",
       "        </div>\n",
       "    </div>\n",
       "    "
      ],
      "text/plain": [
       "<IPython.core.display.HTML object>"
      ]
     },
     "execution_count": 23,
     "metadata": {},
     "output_type": "execute_result"
    }
   ],
   "source": [
    "load_image(name='fig3')"
   ]
  },
  {
   "cell_type": "markdown",
   "id": "6bdb840b-170b-446b-b373-b122adce2fca",
   "metadata": {},
   "source": [
    "All other intersection points with the $y$-axis are located at angles that are multiples of 180 degrees after the first intersection point and can be easily computed. These points will serve as the initial values entered into the iterative *angular-based algorithm*, and in this sense, the method is numerically-analytical.\n",
    "\n",
    "Before we begin with the algorithm itself, the first task is to find the first intersection point of the spiral with the $y$-axis.\n",
    "\n"
   ]
  }
 ],
 "metadata": {
  "kernelspec": {
   "display_name": "Python 3 (ipykernel)",
   "language": "python",
   "name": "python3"
  },
  "language_info": {
   "codemirror_mode": {
    "name": "ipython",
    "version": 3
   },
   "file_extension": ".py",
   "mimetype": "text/x-python",
   "name": "python",
   "nbconvert_exporter": "python",
   "pygments_lexer": "ipython3",
   "version": "3.9.13"
  }
 },
 "nbformat": 4,
 "nbformat_minor": 5
}
