{
 "cells": [
  {
   "cell_type": "code",
   "execution_count": 8,
   "id": "4c5f14b2-3cff-4cec-b66e-7fbf62529b45",
   "metadata": {},
   "outputs": [],
   "source": [
    "from IPython.display import Image, HTML"
   ]
  },
  {
   "cell_type": "code",
   "execution_count": 41,
   "id": "9f8025bc-417b-459b-961b-3134d2b224fd",
   "metadata": {},
   "outputs": [
    {
     "data": {
      "text/html": [
       "\n",
       "<div style=\"display: flex; justify-content: center; align-items: center; height: 300px;\">\n",
       "    <img src=\"Images/fig1.png\" style=\"width: 562px; height: 300px;\">\n",
       "    <div style=\"position: absolute; bottom: 10px; left: 10px; color: black; font-size: 14px; background-color: rgba(255, 255, 255, 0.7); padding: 5px; border-radius: 5px;\">\n",
       "        Fig.1\n",
       "    </div>\n",
       "</div>\n"
      ],
      "text/plain": [
       "<IPython.core.display.HTML object>"
      ]
     },
     "execution_count": 41,
     "metadata": {},
     "output_type": "execute_result"
    }
   ],
   "source": [
    "HTML(\"\"\"\n",
    "<div style=\"display: flex; justify-content: center; align-items: center; height: 300px;\">\n",
    "    <img src=\"Images/fig1.png\" style=\"width: 562px; height: 300px;\">\n",
    "    <div style=\"position: absolute; bottom: 10px; left: 10px; color: black; font-size: 14px; background-color: rgba(255, 255, 255, 0.7); padding: 5px; border-radius: 5px;\">\n",
    "        Fig.1\n",
    "    </div>\n",
    "</div>\n",
    "\"\"\")"
   ]
  },
  {
   "cell_type": "code",
   "execution_count": 37,
   "id": "507ad852-5a50-4a69-9789-88bc54bf3a4b",
   "metadata": {},
   "outputs": [
    {
     "data": {
      "text/html": [
       "\n",
       "<div style=\"position: relative; width: 700px; height: 700px;\">\n",
       "    <img src=\"Images/fig1.png\" style=\"width: 700px; height: 700px; display: block;\">\n",
       "    <div style=\"position: absolute; bottom: 10px; left: 10px; color: black; font-size: 14px; background-color: rgba(255, 255, 255, 0.7); padding: 5px; border-radius: 5px;\">\n",
       "        fig 1\n",
       "    </div>\n",
       "</div>\n"
      ],
      "text/plain": [
       "<IPython.core.display.HTML object>"
      ]
     },
     "execution_count": 37,
     "metadata": {},
     "output_type": "execute_result"
    }
   ],
   "source": [
    "HTML(\"\"\"\n",
    "<div style=\"position: relative; width: 700px; height: 700px;\">\n",
    "    <img src=\"Images/fig1.png\" style=\"width: 700px; height: 700px; display: block;\">\n",
    "    <div style=\"position: absolute; bottom: 10px; left: 10px; color: black; font-size: 14px; background-color: rgba(255, 255, 255, 0.7); padding: 5px; border-radius: 5px;\">\n",
    "        fig 1\n",
    "    </div>\n",
    "</div>\n",
    "\"\"\")"
   ]
  }
 ],
 "metadata": {
  "kernelspec": {
   "display_name": "Python 3 (ipykernel)",
   "language": "python",
   "name": "python3"
  },
  "language_info": {
   "codemirror_mode": {
    "name": "ipython",
    "version": 3
   },
   "file_extension": ".py",
   "mimetype": "text/x-python",
   "name": "python",
   "nbconvert_exporter": "python",
   "pygments_lexer": "ipython3",
   "version": "3.9.13"
  }
 },
 "nbformat": 4,
 "nbformat_minor": 5
}
