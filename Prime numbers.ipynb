{
 "cells": [
  {
   "cell_type": "code",
   "execution_count": 1,
   "id": "07155545-31fc-4b13-9b50-a3dceb5c8736",
   "metadata": {},
   "outputs": [],
   "source": [
    "%matplotlib inline"
   ]
  },
  {
   "cell_type": "code",
   "execution_count": 3,
   "id": "6dbdb805-37cd-436b-bbb1-2391dcdfae37",
   "metadata": {},
   "outputs": [],
   "source": [
    "import matplotlib.pyplot as plt\n",
    "\n",
    "from formula_functions import *\n",
    "\n",
    "# import numpy as np\n",
    "\n",
    "import math"
   ]
  },
  {
   "cell_type": "code",
   "execution_count": 4,
   "id": "cd7bcf51-26af-4b47-9ece-6d43af6b0b84",
   "metadata": {},
   "outputs": [],
   "source": [
    "\n",
    "\n",
    "def B_bin(x):\n",
    "    return math.ceil(x) - math.floor(x)\n",
    "\n",
    "def p_factorial(n):\n",
    "    m = 1\n",
    "    num = 3\n",
    "\n",
    "    p_factorial = 2\n",
    "    while m <n:\n",
    "\n",
    "        power_result = 1\n",
    "        for k in range(2,int(math.ceil(math.sqrt(num)))+1):\n",
    "            power_result*=B_bin(num/k)\n",
    "\n",
    "        if num ** power_result != 1:\n",
    "            m += 1\n",
    "\n",
    "        p_factorial *= num**power_result\n",
    "        num += 1\n",
    "\n",
    "    return p_factorial\n",
    "\n",
    "def c_factorial(n):\n",
    "    m = 1\n",
    "    num = 5\n",
    "\n",
    "    c_factorial = 4\n",
    "    while m < n:\n",
    "\n",
    "        power_result = 0\n",
    "        for k in range(2, int(math.ceil(math.sqrt(num)))+1):\n",
    "            power_result = (1 - B_bin(num / k))\n",
    "\n",
    "            if num ** power_result != 1:\n",
    "                m += 1\n",
    "                break\n",
    "\n",
    "        c_factorial *= num ** power_result\n",
    "        num += 1\n",
    "\n",
    "    return c_factorial"
   ]
  },
  {
   "cell_type": "code",
   "execution_count": 7,
   "id": "25a0e2dc-98c9-48ca-b358-5362c9550cfd",
   "metadata": {},
   "outputs": [
    {
     "data": {
      "text/plain": [
       "223092870"
      ]
     },
     "execution_count": 7,
     "metadata": {},
     "output_type": "execute_result"
    }
   ],
   "source": [
    "p_factorial(9)/p_factorial"
   ]
  },
  {
   "cell_type": "code",
   "execution_count": null,
   "id": "e2bbadcc-9b68-44b5-9d4c-891d1665bc53",
   "metadata": {},
   "outputs": [],
   "source": []
  }
 ],
 "metadata": {
  "kernelspec": {
   "display_name": "Python 3 (ipykernel)",
   "language": "python",
   "name": "python3"
  },
  "language_info": {
   "codemirror_mode": {
    "name": "ipython",
    "version": 3
   },
   "file_extension": ".py",
   "mimetype": "text/x-python",
   "name": "python",
   "nbconvert_exporter": "python",
   "pygments_lexer": "ipython3",
   "version": "3.9.13"
  }
 },
 "nbformat": 4,
 "nbformat_minor": 5
}
