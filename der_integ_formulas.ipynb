{
 "cells": [
  {
   "cell_type": "code",
   "execution_count": 4,
   "id": "fb0fa1c1-ce3e-42ee-9dd4-e67ed812ca2e",
   "metadata": {},
   "outputs": [],
   "source": [
    "%matplotlib inline"
   ]
  },
  {
   "cell_type": "code",
   "execution_count": 208,
   "id": "96f9b7a7-a575-40c1-bc5e-a4c0aa295f51",
   "metadata": {},
   "outputs": [],
   "source": [
    "from animation_functions import calc_spiral_coord\n",
    "import matplotlib.pyplot as plt\n",
    "\n",
    "from formula_functions import *\n",
    "\n",
    "import numpy as np\n",
    "\n",
    "from math import log as lg"
   ]
  },
  {
   "cell_type": "code",
   "execution_count": 51,
   "id": "1caeecb8-44c3-4831-91cd-b43a445c9576",
   "metadata": {},
   "outputs": [
    {
     "name": "stdout",
     "output_type": "stream",
     "text": [
      "10.62622230091258\n"
     ]
    },
    {
     "data": {
      "image/png": "[encoded data removed]",
      "text/plain": [
       "<Figure size 500x500 with 1 Axes>"
      ]
     },
     "metadata": {},
     "output_type": "display_data"
    }
   ],
   "source": [
    "x, y, T = calc_spiral_coord(t=0.8603+10)\n",
    "x_t_lengths = np.sqrt(x**2 + T**2)\n",
    "y_t_lengths = np.sqrt(y**2 + T**2)\n",
    "\n",
    "deg= 1\n",
    "v = 1\n",
    "w= 1\n",
    "k=0\n",
    "\n",
    "dx_dt = get_nth_deg_x_derivative(deg,T[-1], v,w,k)\n",
    "print(dx_dt)\n",
    "\n",
    "plt.figure(figsize =(5, 5))  \n",
    "\n",
    "ax = plt.gca()\n",
    "ax.spines['bottom'].set_position('zero')\n",
    "ax.spines['left'].set_position('zero')\n",
    "ax.spines['top'].set_visible(False)   \n",
    "\n",
    "ax.spines['right'].set_visible(False)\n",
    "plt.plot(T, x_t_lengths,color='red')\n",
    "plt.plot(T, y_t_lengths,color='blue')\n",
    "\n",
    "plt.scatter(T[-1],x_t_lengths[-1], color='black', s=20 )\n",
    "plt.scatter(T[-1],dx_dt, color='grey', s=20 )\n",
    "plt.grid()\n",
    "ax.set_aspect('equal')\n",
    "plt.show()"
   ]
  },
  {
   "cell_type": "markdown",
   "id": "900c1ee0-13dc-435e-bdcb-7232fed979ff",
   "metadata": {},
   "source": [
    "$$I = \\lim_{n\\to\\infty}v\\sum_{i=0}^{n} \\sqrt{(t_{n+1} - t_n)^2 + 2t_{n+1}t_n(1-cos(w(t_{n+1} - t_n))}$$\n",
    "\n",
    "\n",
    "$$\\frac{dx}{dt} = v(cos(k\\frac{\\pi}{2} + wt) - wtsin(k\\frac{\\pi}{2} + wt))$$\n",
    "\n",
    "$$\\frac{dy}{dt} = v(sin(k\\frac{\\pi}{2} + wt) + wtcos(k\\frac{\\pi}{2} + wt))$$\n",
    "\n",
    "\n",
    "$$I = \\int_{t_0}^{t_f} \\sqrt{\\left( \\frac{dx}{dt} \\right) ^ 2 + \\left( \\frac{dy}{dt}\\right)^2}dt$$\n",
    "\n",
    "$$I = v\\int_{t_0}^{t_f} \\sqrt{1 + w^2t^2}dt$$\n",
    "\n",
    "$$x(t) = vtcos(k\\frac{\\pi}{2} + wt)$$\n",
    "$$y(t) = vtsin(k\\pi/2 + wt)$$\n",
    "\n",
    "$$d = \\sqrt{(x_{t_{n+1}} - x_{t_n})^2  + (y_{t_{n+1}} - y_{t_n})^2}$$"
   ]
  },
  {
   "cell_type": "markdown",
   "id": "bb3922fe-331f-43bf-861e-9da07d352585",
   "metadata": {},
   "source": [
    "$$\\frac{dx}{dt} = v(cos(k\\frac{\\pi}{2} + wt) - wtsin(k\\frac{\\pi}{2} + wt))$$"
   ]
  },
  {
   "cell_type": "markdown",
   "id": "0544229d-e64e-4125-900b-63c61567eee3",
   "metadata": {},
   "source": [
    "$$x(t) = vtcos(k\\frac{\\pi}{2} + wt)$$\n",
    "\n",
    "$$\\frac{dx}{dt} = v(cos(k\\frac{\\pi}{2} + wt) - wtsin(k\\frac{\\pi}{2} + wt))$$\n",
    "\n",
    "$$\\frac{d^2x}{dt^2} = vw[-2sin(k\\frac{\\pi}{2} + wt) - wtcos(k\\frac{\\pi}{2} + wt)]$$\n",
    "\n",
    "$$\\frac{d^3x}{dt^3} = vw^2[-3cos(k\\frac{\\pi}{2} + wt) + wtsin(k\\frac{\\pi}{2} + wt)]$$\n",
    "\n",
    "$$\\frac{d^4x}{dt^4} = vw^3[4sin(k\\frac{\\pi}{2}) + wtcos(k\\frac{\\pi}{2})]$$\n",
    "\n",
    "General formula for the n-th derivative of $x$ as a function of $t$:\n",
    "\n",
    "$$\\frac{d^nx}{dt^n} = vw^{n-1} \\left[ n\\frac{d^{n-1}x}{dt^{n-1}}cos(k\\frac{\\pi}{2} + wt) - wt\\frac{d^{n-1}x}{dt^{n-1}}sin(k\\frac{\\pi}{2} + wt)\\right]$$"
   ]
  },
  {
   "cell_type": "markdown",
   "id": "b9ac0fea-a5df-437c-b1bb-a44c78ef1972",
   "metadata": {},
   "source": [
    "$$(t) = vtsin(k\\frac{\\pi}{2} + wt)$$\n",
    "\n",
    "$$\\frac{dy}{dt} = v(sin(k\\frac{\\pi}{2} + wt) + wtcos(k\\frac{\\pi}{2} + wt))$$\n",
    "\n",
    "\n",
    "General formula for the n-th derivative of $y$ as a function of $t$:\n",
    "\n",
    "$$\\frac{d^ny}{dt^n} = vw^{n-1} \\left[ n\\frac{d^{n-1}x}{dt^{n-1}}sin(k\\frac{\\pi}{2} + wt) + wt\\frac{d^{n-1}x}{dt^{n-1}}cos(k\\frac{\\pi}{2} + wt)\\right]$$"
   ]
  },
  {
   "cell_type": "code",
   "execution_count": 1,
   "id": "955a9d8d-46b9-4140-b01a-baf2ce8502ee",
   "metadata": {},
   "outputs": [
    {
     "data": {
      "text/plain": [
       "1.3817732906760363"
      ]
     },
     "execution_count": 1,
     "metadata": {},
     "output_type": "execute_result"
    }
   ],
   "source": [
    "import numpy as np\n",
    "v = 1\n",
    "w = 1\n",
    "k = 0\n",
    "t = 1\n",
    "\n",
    "(v / w**2) * (np.sin(k * np.pi/2 + w*t)) + w * t * np.cos(k*np.pi/2 + w * t)"
   ]
  },
  {
   "cell_type": "code",
   "execution_count": null,
   "id": "0b4325d8-e384-4d65-bfac-a4da9484a952",
   "metadata": {},
   "outputs": [],
   "source": []
  },
  {
   "cell_type": "markdown",
   "id": "077cdb71-4556-4317-8c92-2d2a550574f6",
   "metadata": {},
   "source": [
    "$$\\frac{d^nx}{dt^n} = vw^{n-1} \\left[ n\\frac{d^{n-1}x}{dt^{n-1}}cos(k\\frac{\\pi}{2} + wt) - wt\\frac{d^{n-1}x}{dt^{n-1}}sin(k\\frac{\\pi}{2} + wt)\\right]$$\n",
    "\n",
    "$$\\frac{d^ny}{dt^n} = vw^{n-1} \\left[ n\\frac{d^{n-1}y}{dt^{n-1}}sin(k\\frac{\\pi}{2} + wt) + wt\\frac{d^{n-1}y}{dt^{n-1}}cos(k\\frac{\\pi}{2} + wt)\\right]$$"
   ]
  },
  {
   "cell_type": "markdown",
   "id": "1cf0c751-b40c-4149-8e6c-09334286c3c0",
   "metadata": {},
   "source": [
    "# <center>Formula for radius vector<center>\n",
    "\n",
    "$$|\\vec R|_{n, m} = \\sqrt {f^n(x)^2 + f^m(y)^2}$$\n",
    "\n",
    "$$\\theta = k\\frac{\\pi}{2} + wt$$\n",
    "\n",
    "\n",
    "Evaluation for x\n",
    "\n",
    "$$f^n(x) = vw^{n-1}nf^{n-1}cos\\theta - vw^{n-1}wtf^{n-1}sin\\theta$$\n",
    "\n",
    "$$f^n(x) = vw^{n-1} \\left ( nf^{n-1}cos\\theta - wtf^{n-1}sin\\theta\\right)$$\n",
    "\n",
    "$$f^n(x)^2 = (vw^{n-1})^2 \\left ( nf^{n-1}cos\\theta - wtf^{n-1}sin\\theta\\right)^2$$\n",
    "\n",
    "$$f^n(x)^2 = (vw^{n-1})^2 \\left ( n^2f^{n-1}cos^2\\theta - 2nwtf^{n-1}cos\\theta f^{n-1}sin\\theta + (wt)^2f^{n-1}sin^2\\theta\\right)$$\n",
    "\n",
    "\n",
    "For y \n",
    "\n",
    "$$f^m(y) = vw^{m-1} \\left ( mf^{m-1}sin\\theta + wtf^{m-1}cos\\theta\\right)$$\n",
    "\n",
    "$$f^m(y)^2 = (vw^{m-1})^2 \\left ( mf^{m-1}sin\\theta + wtf^{m-1}cos\\theta\\right)^2$$\n",
    "\n",
    "$$f^m(y)^2 = (vw^{m-1})^2 \\left ( m^2f^{m-1}sin^2\\theta + 2mwtf^{m-1}sin\\theta f^{m-1}cos\\theta + (wt)^2f^{m-1}cos^2\\theta\\right)$$\n",
    "\n",
    "From here:\n",
    "\n",
    "$$|\\vec R|_{n, m} = \\sqrt {(vw^{n-1})^2 \\left ( nf^{n-1}cos\\theta - wtf^{n-1}sin\\theta\\right)^2 + (vw^{m-1})^2 \\left ( mf^{m-1}sin\\theta + wtf^{m-1}cos\\theta\\right)^2}$$\n",
    "\n",
    "$$|\\vec R|_{n, m} = v\\sqrt {(w^{n-1})^2 \\left ( nf^{n-1}cos\\theta - wtf^{n-1}sin\\theta\\right)^2 + (w^{m-1})^2 \\left ( mf^{m-1}sin\\theta + wtf^{m-1}cos\\theta\\right)^2}$$\n",
    "\n",
    "If n = m:\n",
    "\n",
    "$$|\\vec R|_n = \\sqrt {f^n(x)^2 + f^n(y)^2}$$\n",
    "\n",
    "$$|\\vec R|_n = \\sqrt {(vw^{n-1})^2 \\left ( nf^{n-1}cos\\theta - wtf^{n-1}sin\\theta\\right)^2 + (vw^{n-1})^2 \\left ( nf^{n-1}sin\\theta + wtf^{n-1}cos\\theta\\right)^2}$$\n",
    "\n",
    "\n",
    "$$|\\vec R|_n = vw^{n-1}\\sqrt { \\left ( nf^{n-1}cos\\theta - wtf^{n-1}sin\\theta\\right)^2 + \\left ( nf^{n-1}sin\\theta + wtf^{n-1}cos\\theta\\right)^2}$$\n",
    "\n",
    "$$|\\vec R|_n = vw^{n-1}\\sqrt { n^2f^{n-1}cos^2\\theta - 2nwtf^{n-1}cos\\theta f^{n-1}sin\\theta + (wt)^2f^{n-1}sin^2\\theta +  n^2f^{n-1}sin^2\\theta + 2nwtf^{n-1}sin\\theta f^{n-1}cos\\theta + (wt)^2f^{n-1}cos^2\\theta}$$\n",
    "\n",
    "$$|\\vec R|_n = vw^{n-1}\\sqrt { n^2f^{n-1}cos^2\\theta + (wt)^2f^{n-1}sin^2\\theta +  n^2f^{n-1}sin^2\\theta + (wt)^2f^{n-1}cos^2\\theta}$$\n",
    "\n",
    "Factor out $n^2$ and $(wt)^2$ terms:\n",
    "\n",
    "$$|\\vec R|_n = vw^{n-1}\\sqrt { n^2(f^{n-1}cos^2\\theta + f^{n-1}sin^2\\theta)  + (wt)^2(f^{n-1}sin^2\\theta + f^{n-1}cos^2\\theta)}$$\n",
    "\n",
    "$$f^{n-1}cos^2\\theta + f^{n-1}sin^2\\theta = sin^2\\theta + cos^2\\theta = 1$$\n",
    "\n",
    "$$|\\vec R|_n = vw^{n-1}\\sqrt { n^2 + (wt)^2}$$\n",
    "\n",
    "for n = 0 we have a radius vector of an Archimedean spiral:\n",
    "\n",
    "$$|\\vec R|_0 = vw^{0-1}\\sqrt { 0^2 + (wt)^2}$$\n",
    "\n",
    "$$|\\vec R|_0 = vw^{-1}wt$$\n",
    "\n",
    "$$|\\vec R|_0 = vt$$\n",
    "\n",
    "for n = 1:\n",
    "\n",
    "$$|\\vec R|_1 = vw^{1-1}\\sqrt { 1^2 + (wt)^2}$$\n",
    "\n",
    "$$|\\vec R|_1 = v\\sqrt { 1 + (wt)^2}$$\n",
    "\n",
    "n=2:\n",
    "\n",
    "$$|\\vec R|_2 = vw\\sqrt { 4 + (wt)^2}$$\n",
    "\n",
    "n = 3:\n",
    "\n",
    "$$|\\vec R|_3 = vw^2\\sqrt { 9 + (wt)^2}$$\n",
    "\n",
    "n = -1:\n",
    "\n",
    "$$|\\vec R|_{-1} = vw^{-1-1}\\sqrt { -1^2 + (wt)^2}$$\n",
    "\n",
    "$$|\\vec R|_{-1} = \\frac{v}{w^2}\\sqrt { 1 + (wt)^2}$$\n",
    "\n",
    "and so on..."
   ]
  },
  {
   "cell_type": "markdown",
   "id": "9d2269a9-ded9-4c85-aec9-012ca959b428",
   "metadata": {},
   "source": [
    "$$\\{T_n\\} = \\frac{\\Delta \\theta_{(w, k)}}{|w|} + (n-1)\\frac{\\pi}{|w|},\\quad w\\neq0, \\quad n>0, \\quad\\quad\\quad\\quad(116)$$\n",
    "\n",
    "$$\\{T_n\\} = \\frac{\\Delta \\theta_{(w, k)} + (n-1)\\pi}{|w|},\\quad w\\neq0, \\quad n>0. \\quad\\quad\\quad\\quad(117)$$"
   ]
  },
  {
   "cell_type": "code",
   "execution_count": null,
   "id": "88e14ea3-97f5-434d-9e7e-05692a960b78",
   "metadata": {},
   "outputs": [],
   "source": []
  },
  {
   "cell_type": "markdown",
   "id": "49f0d6fe-d72e-45eb-bbb7-b25d8f64092f",
   "metadata": {},
   "source": [
    "\n",
    "Y-coordinate of intersection point between the 1st x-derivative when t=0 and dy/dx derivative on the first intersection point of the spiral with ordinate axis.\n",
    "\n",
    "Intersection y of the two lines:\n",
    "\n",
    "$$y = \\frac{a_0b_1}{a_0 - a_1}$$\n",
    "\n",
    "where \n",
    "\n",
    "$$b_1 = y(t_1)$$\n",
    "\n",
    "$$y(t_1) = vt_1sin(k\\frac{\\pi}{2} + wt_1)$$\n",
    "\n",
    "$$a_0 = f^1(x(t_0)),\\quad\\quad\\quad\\quad t_0 = 0$$\n",
    "\n",
    "$$f^1(x(t_0)) = vw^0(1cos(k\\frac{\\pi}{2} + wt_0) - wt_0sin(k\\frac{\\pi}{2} + wt_0))$$\n",
    "\n",
    "$$f^1(x(t_0)) = vcos(k\\frac{\\pi}{2} + wt_0)$$\n",
    "\n",
    "$$f^1(x(t_0)) = v$$\n",
    "\n",
    "$$a_1 = f^1(x(t_1))$$\n",
    "\n",
    "\n",
    "$$f^1(x(t_1)) = vw^0(1cos(k\\frac{\\pi}{2} + wt_1) - wtsin(k\\frac{\\pi}{2} + wt_1))$$\n",
    "\n",
    "\n",
    "\n",
    "\n",
    "$$b_1 = y(t_1)$$\n",
    "\n",
    "$$y(t_1) = vt_1sin(k\\frac{\\pi}{2} + wt_1)$$\n",
    "\n",
    "Replacing\n",
    "\n",
    "$$y = \\frac{vvt_1sin(k\\frac{\\pi}{2} + wt_1)}{v - vw^0(1cos(k\\frac{\\pi}{2} + wt_1) - wtsin(k\\frac{\\pi}{2} + wt_1)) }$$\n",
    "\n",
    "$$y = \\frac{vt_1sin(k\\frac{\\pi}{2} + wt_1)}{1 + wtsin(k\\frac{\\pi}{2} + wt_1)) - w^0(1cos(k\\frac{\\pi}{2} + wt_1)}$$"
   ]
  },
  {
   "cell_type": "markdown",
   "id": "c96a28d1-b9ca-4d1b-b060-ef427168a116",
   "metadata": {},
   "source": [
    "## <center> Formulas for the point of max displacement\n",
    "    \n",
    "    \n",
    "by positive x-axis:\n",
    "    \n",
    "$$x = ywt$$\n",
    "    \n",
    "$$vtcos(\\theta) = vtsin(\\theta)wt$$\n",
    "    \n",
    "$$cos(\\theta) = wtsin(\\theta)$$\n",
    "    \n",
    "or \n",
    "    \n",
    "$$cos(\\frac{k\\pi}{2} + wt) = - tf'cos(\\frac{k\\pi}{2} + wt)$$\n",
    "    \n",
    "$$wt = cot(\\theta)$$\n",
    "    \n",
    "    \n",
    "by positive y-axis:\n",
    "    \n",
    "    \n",
    "$$y=-xwt$$\n",
    "    \n",
    "$$vtsin(\\theta) = -vtcos(\\theta)wt$$\n",
    "    \n",
    "$$sin(\\theta) = -wtcos(\\theta)$$\n",
    "    \n",
    "$$wt = -tan(\\theta)$$"
   ]
  },
  {
   "cell_type": "markdown",
   "id": "7a4f5ce8-1251-46c6-b699-7886a781c163",
   "metadata": {},
   "source": [
    "## <center> Extracting an arbitrary value from a function when the function equals zero.\n",
    "    \n",
    "    \n",
    "$$u = a^{1 - \\frac{x}{X_{(x)}^{[1, x]}}} X_{(x)}^{[1, x]}$$\n",
    "    \n",
    "$$X_{(x)}^{[1, x]} = \\frac{1}    {x^{0^{|x|}-1}}$$    \n"
   ]
  },
  {
   "cell_type": "code",
   "execution_count": 227,
   "id": "fb567469-1ead-4f4f-b2be-d88a829f6d9b",
   "metadata": {},
   "outputs": [
    {
     "name": "stdout",
     "output_type": "stream",
     "text": [
      "x_binary:  -2.0\n",
      "power_degree:  0.0\n",
      "value**power* x_binary:  -2.0\n"
     ]
    },
    {
     "data": {
      "text/plain": [
       "-2.0"
      ]
     },
     "execution_count": 227,
     "metadata": {},
     "output_type": "execute_result"
    }
   ],
   "source": [
    "value = 6\n",
    "variable = -2\n",
    "\n",
    "def create_value(value, variable):\n",
    "    x_binary = X_bin(variable, 1)\n",
    "    power_degree = 1 - (variable/x_binary)\n",
    "    \n",
    "    result = value**power_degree* x_binary\n",
    "    \n",
    "    print('x_binary: ',x_binary)\n",
    "    print('power_degree: ', power_degree)    \n",
    "    print('value**power* x_binary: ', result)\n",
    "    \n",
    "    return result\n",
    "\n",
    "create_value(value, variable)"
   ]
  },
  {
   "cell_type": "code",
   "execution_count": 85,
   "id": "7424dd8c-1769-4d4e-9588-8c181d6bf2cf",
   "metadata": {},
   "outputs": [
    {
     "name": "stdout",
     "output_type": "stream",
     "text": [
      "1.5707963267948966 1.0 -1.5707963267948966 1.0 -0.6366197723675814\n",
      "result:  0.6110154703516573\n",
      "0.6110154703516573\n"
     ]
    }
   ],
   "source": [
    "t, v, k, w, deg = np.pi/2, 1, 0, 1, 1\n",
    "def get_y_zero_entry(deg, t, v, k, w):\n",
    "    \n",
    "    theta = k * np.pi/2 + w * t\n",
    "    y_intersect = get_nth_deg_y_derivative(deg-1, t, v, w, k)\n",
    "    dy_dt = get_nth_deg_y_derivative(deg, t, v, w, k)\n",
    "    dx_dt_y_intersect = get_nth_deg_x_derivative(deg, t, v, w, k)\n",
    "    \n",
    "    dx_dt_start = get_nth_deg_x_derivative(deg, 0, v, w, k)\n",
    "    dy_dx = dy_dt/dx_dt_y_intersect\n",
    "    \n",
    "    numerator = dx_dt_start*y_intersect\n",
    "    denominator = dx_dt_start - dx_dt_y_intersect\n",
    "    \n",
    "    print(y_intersect, dx_dt_start,dx_dt_y_intersect,dy_dt,dy_dx)\n",
    "    \n",
    "    numerator = v**2 * t * np.sin(theta)\n",
    "    down_numerator = np.sin(2*theta) + 2*w*t\n",
    "    down_denominator = 2 * (np.cos(theta) ** 2 - (w*t)**2 * np.sin(theta)**2)\n",
    "    \n",
    "    result =y_intersect/(1 + w*t * np.sin(theta) - np.cos(theta))\n",
    "    print('result: ', result)\n",
    "    \n",
    "    return numerator/ denominator\n",
    "    \n",
    "print(get_y_zero_entry(deg,t, v, k, w))"
   ]
  },
  {
   "cell_type": "code",
   "execution_count": 121,
   "id": "4ea9c4e1-86ce-487f-8ba1-c5b8cc7fbea8",
   "metadata": {},
   "outputs": [],
   "source": []
  },
  {
   "cell_type": "code",
   "execution_count": 133,
   "id": "37a83ba3-bc98-43a0-9ab8-c1d6e13c21d3",
   "metadata": {},
   "outputs": [],
   "source": [
    "\n",
    "v, k, w,= 2.43, 0, 1.24\n",
    "def get_sum(t):\n",
    "    \n",
    "    # v, k, w = 1, 0, 1\n",
    "    \n",
    "    x = get_nth_deg_x_derivative(0, t, v, w, k)\n",
    "    y = get_nth_deg_y_derivative(0, t, v, w, k)\n",
    "    dy_dt = get_nth_deg_y_derivative(1, t, v, w, k)\n",
    "    dx_dt = get_nth_deg_y_derivative(1, t, v, w, k)\n",
    "    \n",
    "    return x + y + dy_dt + dx_dt \n",
    "\n",
    "sums_derivatives = np.array([get_sum(t) for t in times])"
   ]
  },
  {
   "cell_type": "code",
   "execution_count": null,
   "id": "1f639b26-ef5e-49a0-9bf2-1c16fdba88ae",
   "metadata": {},
   "outputs": [],
   "source": []
  },
  {
   "cell_type": "code",
   "execution_count": 146,
   "id": "9fb41588-89b2-456b-9cfe-64356c6b8876",
   "metadata": {},
   "outputs": [
    {
     "data": {
      "image/png": "[encoded data removed]",
      "text/plain": [
       "<Figure size 640x480 with 1 Axes>"
      ]
     },
     "metadata": {},
     "output_type": "display_data"
    }
   ],
   "source": [
    "times = np.linspace(0, 20, 100)\n",
    "\n",
    "a = 1/10\n",
    "\n",
    "x_derivatives = np.array([get_nth_deg_x_derivative(1, t, v, w, k) for t in times])\n",
    "x_ses = np.array([get_nth_deg_x_derivative(0, t, v, w, k) for t in times])\n",
    "y_ses = np.array([X_bin(get_nth_deg_y_derivative(0, t, v, w, k)) for t in times])\n",
    "\n",
    "plt.plot(times, x_ses/y_ses/w)\n",
    "# plt.plot(times, x_derivatives)\n",
    "# plt.plot(times, x_ses)\n",
    "\n",
    "plt.show()"
   ]
  },
  {
   "cell_type": "code",
   "execution_count": 210,
   "id": "b16463b8-9ce7-49c5-b695-879ba8def2ae",
   "metadata": {},
   "outputs": [
    {
     "ename": "ZeroDivisionError",
     "evalue": "0.0 cannot be raised to a negative power",
     "output_type": "error",
     "traceback": [
      "\u001b[1;31m---------------------------------------------------------------------------\u001b[0m",
      "\u001b[1;31mZeroDivisionError\u001b[0m                         Traceback (most recent call last)",
      "\u001b[1;32m~\\AppData\\Local\\Temp\\ipykernel_13424\\224951278.py\u001b[0m in \u001b[0;36m<module>\u001b[1;34m\u001b[0m\n\u001b[0;32m      7\u001b[0m \u001b[1;33m\u001b[0m\u001b[0m\n\u001b[0;32m      8\u001b[0m \u001b[1;32mfor\u001b[0m \u001b[0mk\u001b[0m \u001b[1;32min\u001b[0m \u001b[0mrange\u001b[0m\u001b[1;33m(\u001b[0m\u001b[1;33m-\u001b[0m\u001b[1;36m5\u001b[0m\u001b[1;33m,\u001b[0m\u001b[1;36m5\u001b[0m\u001b[1;33m)\u001b[0m\u001b[1;33m:\u001b[0m\u001b[1;33m\u001b[0m\u001b[1;33m\u001b[0m\u001b[0m\n\u001b[1;32m----> 9\u001b[1;33m     \u001b[0mprint\u001b[0m\u001b[1;33m(\u001b[0m\u001b[1;34m'k: '\u001b[0m\u001b[1;33m,\u001b[0m \u001b[0mk\u001b[0m\u001b[1;33m,\u001b[0m \u001b[1;34m'X_bin: '\u001b[0m\u001b[1;33m,\u001b[0m \u001b[0mX_bin\u001b[0m\u001b[1;33m(\u001b[0m\u001b[0mx\u001b[0m\u001b[1;33m,\u001b[0m \u001b[1;33m-\u001b[0m\u001b[1;36m5\u001b[0m\u001b[1;33m)\u001b[0m\u001b[1;33m)\u001b[0m\u001b[1;33m\u001b[0m\u001b[1;33m\u001b[0m\u001b[0m\n\u001b[0m",
      "\u001b[1;32m~\\AppData\\Local\\Temp\\ipykernel_13424\\224951278.py\u001b[0m in \u001b[0;36mX_bin\u001b[1;34m(x, k)\u001b[0m\n\u001b[0;32m      2\u001b[0m     \u001b[1;31m# print('x: ', x, 'k: ', k)\u001b[0m\u001b[1;33m\u001b[0m\u001b[1;33m\u001b[0m\u001b[0m\n\u001b[0;32m      3\u001b[0m     \u001b[1;31m# print((x ** (0 ** abs(x) - k)) ** -1)\u001b[0m\u001b[1;33m\u001b[0m\u001b[1;33m\u001b[0m\u001b[0m\n\u001b[1;32m----> 4\u001b[1;33m     \u001b[1;32mreturn\u001b[0m \u001b[1;33m(\u001b[0m\u001b[0mx\u001b[0m \u001b[1;33m**\u001b[0m \u001b[1;33m(\u001b[0m\u001b[1;36m0\u001b[0m \u001b[1;33m**\u001b[0m \u001b[0mabs\u001b[0m\u001b[1;33m(\u001b[0m\u001b[0mx\u001b[0m\u001b[1;33m)\u001b[0m \u001b[1;33m-\u001b[0m \u001b[0mk\u001b[0m\u001b[1;33m)\u001b[0m\u001b[1;33m)\u001b[0m \u001b[1;33m**\u001b[0m \u001b[1;33m-\u001b[0m\u001b[1;36m1\u001b[0m\u001b[1;33m\u001b[0m\u001b[1;33m\u001b[0m\u001b[0m\n\u001b[0m\u001b[0;32m      5\u001b[0m \u001b[1;33m\u001b[0m\u001b[0m\n\u001b[0;32m      6\u001b[0m \u001b[0mx\u001b[0m \u001b[1;33m=\u001b[0m \u001b[1;36m0\u001b[0m\u001b[1;33m\u001b[0m\u001b[1;33m\u001b[0m\u001b[0m\n",
      "\u001b[1;31mZeroDivisionError\u001b[0m: 0.0 cannot be raised to a negative power"
     ]
    }
   ],
   "source": [
    "def X_bin(x, k):\n",
    "    # print('x: ', x, 'k: ', k)\n",
    "    # print((x ** (0 ** abs(x) - k)) ** -1)\n",
    "    return (x ** (0 ** abs(x) - k)) ** -1\n",
    "\n",
    "x = 0\n",
    "\n",
    "for k in range(-5,5):\n",
    "    print('k: ', k, 'X_bin: ', X_bin(x, -5))"
   ]
  },
  {
   "cell_type": "code",
   "execution_count": 222,
   "id": "4c98ca99-7d4e-4da7-9749-c5faf6b2919c",
   "metadata": {},
   "outputs": [
    {
     "name": "stdout",
     "output_type": "stream",
     "text": [
      "1.189207115002721\n"
     ]
    },
    {
     "data": {
      "text/plain": [
       "0.24999999999999997"
      ]
     },
     "execution_count": 222,
     "metadata": {},
     "output_type": "execute_result"
    }
   ],
   "source": [
    "base = 2\n",
    "x = X_bin(base, 0.25)\n",
    "print(x)\n",
    "lg(x, base)\n"
   ]
  },
  {
   "cell_type": "code",
   "execution_count": null,
   "id": "ae31e385-c675-470e-881a-cb4eb24436d4",
   "metadata": {},
   "outputs": [],
   "source": []
  },
  {
   "cell_type": "code",
   "execution_count": null,
   "id": "a1a375dc-da1f-49d4-8c74-5ff5e4f2ae73",
   "metadata": {},
   "outputs": [],
   "source": []
  }
 ],
 "metadata": {
  "kernelspec": {
   "display_name": "Python 3 (ipykernel)",
   "language": "python",
   "name": "python3"
  },
  "language_info": {
   "codemirror_mode": {
    "name": "ipython",
    "version": 3
   },
   "file_extension": ".py",
   "mimetype": "text/x-python",
   "name": "python",
   "nbconvert_exporter": "python",
   "pygments_lexer": "ipython3",
   "version": "3.9.13"
  }
 },
 "nbformat": 4,
 "nbformat_minor": 5
}
