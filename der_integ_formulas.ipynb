{
 "cells": [
  {
   "cell_type": "code",
   "execution_count": 1,
   "id": "fb0fa1c1-ce3e-42ee-9dd4-e67ed812ca2e",
   "metadata": {},
   "outputs": [],
   "source": [
    "%matplotlib inline"
   ]
  },
  {
   "cell_type": "code",
   "execution_count": 2,
   "id": "96f9b7a7-a575-40c1-bc5e-a4c0aa295f51",
   "metadata": {},
   "outputs": [
    {
     "name": "stdout",
     "output_type": "stream",
     "text": [
      "pygame 2.4.0 (SDL 2.26.4, Python 3.9.13)\n",
      "Hello from the pygame community. https://www.pygame.org/contribute.html\n"
     ]
    }
   ],
   "source": [
    "from animation_functions import calc_spiral_coord\n",
    "import matplotlib.pyplot as plt\n",
    "\n",
    "from formula_functions import *\n",
    "\n",
    "import numpy as np\n",
    "\n",
    "from math import log as lg"
   ]
  },
  {
   "cell_type": "code",
   "execution_count": 3,
   "id": "1caeecb8-44c3-4831-91cd-b43a445c9576",
   "metadata": {},
   "outputs": [
    {
     "name": "stdout",
     "output_type": "stream",
     "text": [
      "10.62622230091258\n"
     ]
    },
    {
     "data": {
      "image/png": "[encoded data removed]",
      "text/plain": [
       "<Figure size 500x500 with 1 Axes>"
      ]
     },
     "metadata": {},
     "output_type": "display_data"
    }
   ],
   "source": [
    "# x, y, T = calc_spiral_coord(t=0.8603+10)\n",
    "# x_t_lengths = np.sqrt(x**2 + T**2)\n",
    "# y_t_lengths = np.sqrt(y**2 + T**2)\n",
    "\n",
    "# deg= 1\n",
    "# v = 1\n",
    "# w= 1\n",
    "# k=0\n",
    "\n",
    "# dx_dt = get_nth_deg_x_derivative(deg,T[-1], v,w,k)\n",
    "# print(dx_dt)\n",
    "\n",
    "# plt.figure(figsize =(5, 5))  \n",
    "\n",
    "# ax = plt.gca()\n",
    "# ax.spines['bottom'].set_position('zero')\n",
    "# ax.spines['left'].set_position('zero')\n",
    "# ax.spines['top'].set_visible(False)   \n",
    "\n",
    "# ax.spines['right'].set_visible(False)\n",
    "# plt.plot(T, x_t_lengths,color='red')\n",
    "# plt.plot(T, y_t_lengths,color='blue')\n",
    "\n",
    "# plt.scatter(T[-1],x_t_lengths[-1], color='black', s=20 )\n",
    "# plt.scatter(T[-1],dx_dt, color='grey', s=20 )\n",
    "# plt.grid()\n",
    "# ax.set_aspect('equal')\n",
    "# plt.show()"
   ]
  },
  {
   "cell_type": "markdown",
   "id": "900c1ee0-13dc-435e-bdcb-7232fed979ff",
   "metadata": {},
   "source": [
    "$$ I = \\lim_{n\\to\\infty}v\\sum_{i=0}^{n} \\sqrt{(t_{n+1} - t_n)^2 + 2t_{n+1}t_n(1-cos(w(t_{n+1} - t_n))}$$\n",
    "\n",
    "\n",
    "$$\\frac{dx}{dt} = v(cos(k\\frac{\\pi}{2} + wt) - wtsin(k\\frac{\\pi}{2} + wt))$$\n",
    "\n",
    "$$\\frac{dy}{dt} = v(sin(k\\frac{\\pi}{2} + wt) + wtcos(k\\frac{\\pi}{2} + wt))$$\n",
    "\n",
    "\n",
    "$$I = \\int_{t_0}^{t_f} \\sqrt{\\left( \\frac{dx}{dt} \\right) ^ 2 + \\left( \\frac{dy}{dt}\\right)^2}dt$$\n",
    "\n",
    "$$I = v\\int_{t_0}^{t_f} \\sqrt{1 + w^2t^2}dt$$\n",
    "\n",
    "$$x(t) = vtcos(k\\frac{\\pi}{2} + wt)$$\n",
    "$$y(t) = vtsin(k\\pi/2 + wt)$$\n",
    "\n",
    "$$d = \\sqrt{(x_{t_{n+1}} - x_{t_n})^2  + (y_{t_{n+1}} - y_{t_n})^2}$$"
   ]
  },
  {
   "cell_type": "markdown",
   "id": "bb3922fe-331f-43bf-861e-9da07d352585",
   "metadata": {},
   "source": [
    "$$\\frac{dx}{dt} = v(cos(k\\frac{\\pi}{2} + wt) - wtsin(k\\frac{\\pi}{2} + wt))$$"
   ]
  },
  {
   "cell_type": "markdown",
   "id": "0544229d-e64e-4125-900b-63c61567eee3",
   "metadata": {},
   "source": [
    "$$x(t) = vtcos(k\\frac{\\pi}{2} + wt)$$\n",
    "\n",
    "$$\\frac{dx}{dt} = v(cos(k\\frac{\\pi}{2} + wt) - wtsin(k\\frac{\\pi}{2} + wt))$$\n",
    "\n",
    "$$\\frac{d^2x}{dt^2} = vw[-2sin(k\\frac{\\pi}{2} + wt) - wtcos(k\\frac{\\pi}{2} + wt)]$$\n",
    "\n",
    "$$\\frac{d^3x}{dt^3} = vw^2[-3cos(k\\frac{\\pi}{2} + wt) + wtsin(k\\frac{\\pi}{2} + wt)]$$\n",
    "\n",
    "$$\\frac{d^4x}{dt^4} = vw^3[4sin(k\\frac{\\pi}{2}) + wtcos(k\\frac{\\pi}{2})]$$\n",
    "\n",
    "General formula for the n-th derivative of $x$ as a function of $t$:\n",
    "\n",
    "$$\\frac{d^nx}{dt^n} = vw^{n-1} \\left[ n\\frac{d^{n-1}x}{dt^{n-1}}cos(k\\frac{\\pi}{2} + wt) - wt\\frac{d^{n-1}x}{dt^{n-1}}sin(k\\frac{\\pi}{2} + wt)\\right]$$"
   ]
  },
  {
   "cell_type": "markdown",
   "id": "b9ac0fea-a5df-437c-b1bb-a44c78ef1972",
   "metadata": {},
   "source": [
    "$$(t) = vtsin(k\\frac{\\pi}{2} + wt)$$\n",
    "\n",
    "$$\\frac{dy}{dt} = v(sin(k\\frac{\\pi}{2} + wt) + wtcos(k\\frac{\\pi}{2} + wt))$$\n",
    "\n",
    "\n",
    "General formula for the n-th derivative of $y$ as a function of $t$:\n",
    "\n",
    "$$\\frac{d^ny}{dt^n} = vw^{n-1} \\left[ n\\frac{d^{n-1}x}{dt^{n-1}}sin(k\\frac{\\pi}{2} + wt) + wt\\frac{d^{n-1}x}{dt^{n-1}}cos(k\\frac{\\pi}{2} + wt)\\right]$$"
   ]
  },
  {
   "cell_type": "code",
   "execution_count": null,
   "id": "955a9d8d-46b9-4140-b01a-baf2ce8502ee",
   "metadata": {},
   "outputs": [],
   "source": []
  },
  {
   "cell_type": "code",
   "execution_count": null,
   "id": "0b4325d8-e384-4d65-bfac-a4da9484a952",
   "metadata": {},
   "outputs": [],
   "source": []
  },
  {
   "cell_type": "markdown",
   "id": "077cdb71-4556-4317-8c92-2d2a550574f6",
   "metadata": {},
   "source": [
    "$$\\frac{d^nx}{dt^n} = vw^{n-1} \\left( n\\frac{d^{n-1}x}{dt^{n-1}}cos(k\\frac{\\pi}{2} + wt) - wt\\frac{d^{n-1}x}{dt^{n-1}}sin(k\\frac{\\pi}{2} + wt)\\right)$$\n",
    "\n",
    "$$\\frac{d^ny}{dt^n} = vw^{n-1} \\left( n\\frac{d^{n-1}y}{dt^{n-1}}sin(k\\frac{\\pi}{2} + wt) + wt\\frac{d^{n-1}y}{dt^{n-1}}cos(k\\frac{\\pi}{2} + wt)\\right)$$"
   ]
  },
  {
   "cell_type": "markdown",
   "id": "1cf0c751-b40c-4149-8e6c-09334286c3c0",
   "metadata": {},
   "source": [
    "# <center>Formula for radius vector<center>\n",
    "\n",
    "$$|\\vec R|_{n, m} = \\sqrt {f^n(x)^2 + f^m(y)^2}$$\n",
    "\n",
    "$$\\theta = k\\frac{\\pi}{2} + wt$$\n",
    "\n",
    "\n",
    "Evaluation for x\n",
    "\n",
    "$$f^n(x) = vw^{n-1}nf^{n-1}cos\\theta - vw^{n-1}wtf^{n-1}sin\\theta$$\n",
    "\n",
    "$$f^n(x) = vw^{n-1} \\left ( nf^{n-1}cos\\theta - wtf^{n-1}sin\\theta\\right)$$\n",
    "\n",
    "$$f^n(x)^2 = (vw^{n-1})^2 \\left ( nf^{n-1}cos\\theta - wtf^{n-1}sin\\theta\\right)^2$$\n",
    "\n",
    "$$f^n(x)^2 = (vw^{n-1})^2 \\left ( n^2f^{n-1}cos^2\\theta - 2nwtf^{n-1}cos\\theta f^{n-1}sin\\theta + (wt)^2f^{n-1}sin^2\\theta\\right)$$\n",
    "\n",
    "\n",
    "For y \n",
    "\n",
    "$$f^m(y) = vw^{m-1} \\left ( mf^{m-1}sin\\theta + wtf^{m-1}cos\\theta\\right)$$\n",
    "\n",
    "$$f^m(y)^2 = (vw^{m-1})^2 \\left ( mf^{m-1}sin\\theta + wtf^{m-1}cos\\theta\\right)^2$$\n",
    "\n",
    "$$f^m(y)^2 = (vw^{m-1})^2 \\left ( m^2f^{m-1}sin^2\\theta + 2mwtf^{m-1}sin\\theta f^{m-1}cos\\theta + (wt)^2f^{m-1}cos^2\\theta\\right)$$\n",
    "\n",
    "From here:\n",
    "\n",
    "$$|\\vec R|_{n, m} = \\sqrt {(vw^{n-1})^2 \\left ( nf^{n-1}cos\\theta - wtf^{n-1}sin\\theta\\right)^2 + (vw^{m-1})^2 \\left ( mf^{m-1}sin\\theta + wtf^{m-1}cos\\theta\\right)^2}$$\n",
    "\n",
    "$$|\\vec R|_{n, m} = v\\sqrt {(w^{n-1})^2 \\left ( nf^{n-1}cos\\theta - wtf^{n-1}sin\\theta\\right)^2 + (w^{m-1})^2 \\left ( mf^{m-1}sin\\theta + wtf^{m-1}cos\\theta\\right)^2}$$\n",
    "\n",
    "If n = m:\n",
    "\n",
    "$$|\\vec R|_n = \\sqrt {f^n(x)^2 + f^n(y)^2}$$\n",
    "\n",
    "$$|\\vec R|_n = \\sqrt {(vw^{n-1})^2 \\left ( nf^{n-1}cos\\theta - wtf^{n-1}sin\\theta\\right)^2 + (vw^{n-1})^2 \\left ( nf^{n-1}sin\\theta + wtf^{n-1}cos\\theta\\right)^2}$$\n",
    "\n",
    "\n",
    "$$|\\vec R|_n = vw^{n-1}\\sqrt { \\left ( nf^{n-1}cos\\theta - wtf^{n-1}sin\\theta\\right)^2 + \\left ( nf^{n-1}sin\\theta + wtf^{n-1}cos\\theta\\right)^2}$$\n",
    "\n",
    "$$|\\vec R|_n = vw^{n-1}\\sqrt { n^2f^{n-1}cos^2\\theta - 2nwtf^{n-1}cos\\theta f^{n-1}sin\\theta + (wt)^2f^{n-1}sin^2\\theta +  n^2f^{n-1}sin^2\\theta + 2nwtf^{n-1}sin\\theta f^{n-1}cos\\theta + (wt)^2f^{n-1}cos^2\\theta}$$\n",
    "\n",
    "$$|\\vec R|_n = vw^{n-1}\\sqrt { n^2f^{n-1}cos^2\\theta + (wt)^2f^{n-1}sin^2\\theta +  n^2f^{n-1}sin^2\\theta + (wt)^2f^{n-1}cos^2\\theta}$$\n",
    "\n",
    "Factor out $n^2$ and $(wt)^2$ terms:\n",
    "\n",
    "$$|\\vec R|_n = vw^{n-1}\\sqrt { n^2(f^{n-1}cos^2\\theta + f^{n-1}sin^2\\theta)  + (wt)^2(f^{n-1}sin^2\\theta + f^{n-1}cos^2\\theta)}$$\n",
    "\n",
    "$$f^{n-1}cos^2\\theta + f^{n-1}sin^2\\theta = sin^2\\theta + cos^2\\theta = 1$$\n",
    "\n",
    "$$|\\vec R|_n = vw^{n-1}\\sqrt { n^2 + (wt)^2}$$\n",
    "\n",
    "for n = 0 we have a radius vector of an Archimedean spiral:\n",
    "\n",
    "$$|\\vec R|_0 = vw^{0-1}\\sqrt { 0^2 + (wt)^2}$$\n",
    "\n",
    "$$|\\vec R|_0 = vw^{-1}wt$$\n",
    "\n",
    "$$|\\vec R|_0 = vt$$\n",
    "\n",
    "for n = 1:\n",
    "\n",
    "$$|\\vec R|_1 = vw^{1-1}\\sqrt { 1^2 + (wt)^2}$$\n",
    "\n",
    "$$|\\vec R|_1 = v\\sqrt { 1 + (wt)^2}$$\n",
    "\n",
    "n=2:\n",
    "\n",
    "$$|\\vec R|_2 = vw\\sqrt { 4 + (wt)^2}$$\n",
    "\n",
    "n = 3:\n",
    "\n",
    "$$|\\vec R|_3 = vw^2\\sqrt { 9 + (wt)^2}$$\n",
    "\n",
    "n = -1:\n",
    "\n",
    "$$|\\vec R|_{-1} = vw^{-1-1}\\sqrt { -1^2 + (wt)^2}$$\n",
    "\n",
    "$$|\\vec R|_{-1} = \\frac{v}{w^2}\\sqrt { 1 + (wt)^2}$$\n",
    "\n",
    "and so on..."
   ]
  },
  {
   "cell_type": "markdown",
   "id": "9d2269a9-ded9-4c85-aec9-012ca959b428",
   "metadata": {},
   "source": [
    "$$\\{T_n\\} = \\frac{\\Delta \\theta_{(w, k)}}{|w|} + (n-1)\\frac{\\pi}{|w|},\\quad w\\neq0, \\quad n>0, \\quad\\quad\\quad\\quad(116)$$\n",
    "\n",
    "$$\\{T_n\\} = \\frac{\\Delta \\theta_{(w, k)} + (n-1)\\pi}{|w|},\\quad w\\neq0, \\quad n>0. \\quad\\quad\\quad\\quad(117)$$"
   ]
  },
  {
   "cell_type": "code",
   "execution_count": null,
   "id": "88e14ea3-97f5-434d-9e7e-05692a960b78",
   "metadata": {},
   "outputs": [],
   "source": []
  },
  {
   "cell_type": "markdown",
   "id": "49f0d6fe-d72e-45eb-bbb7-b25d8f64092f",
   "metadata": {},
   "source": [
    "\n",
    "Y-coordinate of intersection point between the 1st x-derivative when t=0 and dy/dx derivative on the first intersection point of the spiral with ordinate axis.\n",
    "\n",
    "Intersection y of the two lines:\n",
    "\n",
    "$$y = \\frac{a_0b_1}{a_0 - a_1}$$\n",
    "\n",
    "where \n",
    "\n",
    "$$b_1 = y(t_1)$$\n",
    "\n",
    "$$y(t_1) = vt_1sin(k\\frac{\\pi}{2} + wt_1)$$\n",
    "\n",
    "$$a_0 = f^1(x(t_0)),\\quad\\quad\\quad\\quad t_0 = 0$$\n",
    "\n",
    "$$f^1(x(t_0)) = vw^0(1cos(k\\frac{\\pi}{2} + wt_0) - wt_0sin(k\\frac{\\pi}{2} + wt_0))$$\n",
    "\n",
    "$$f^1(x(t_0)) = vcos(k\\frac{\\pi}{2} + wt_0)$$\n",
    "\n",
    "$$f^1(x(t_0)) = v$$\n",
    "\n",
    "$$a_1 = f^1(x(t_1))$$\n",
    "\n",
    "\n",
    "$$f^1(x(t_1)) = vw^0(1cos(k\\frac{\\pi}{2} + wt_1) - wtsin(k\\frac{\\pi}{2} + wt_1))$$\n",
    "\n",
    "\n",
    "\n",
    "\n",
    "$$b_1 = y(t_1)$$\n",
    "\n",
    "$$y(t_1) = vt_1sin(k\\frac{\\pi}{2} + wt_1)$$\n",
    "\n",
    "Replacing\n",
    "\n",
    "$$y = \\frac{vvt_1sin(k\\frac{\\pi}{2} + wt_1)}{v - vw^0(1cos(k\\frac{\\pi}{2} + wt_1) - wtsin(k\\frac{\\pi}{2} + wt_1)) }$$\n",
    "\n",
    "$$y = \\frac{vt_1sin(k\\frac{\\pi}{2} + wt_1)}{1 + wtsin(k\\frac{\\pi}{2} + wt_1)) - w^0(1cos(k\\frac{\\pi}{2} + wt_1)}$$"
   ]
  },
  {
   "cell_type": "markdown",
   "id": "c96a28d1-b9ca-4d1b-b060-ef427168a116",
   "metadata": {},
   "source": [
    "## <center> Formulas for the point of max displacement\n",
    "    \n",
    "    \n",
    "by positive x-axis:\n",
    "    \n",
    "$$x = ywt$$\n",
    "    \n",
    "$$vtcos(\\theta) = vtsin(\\theta)wt$$\n",
    "    \n",
    "$$cos(\\theta) = wtsin(\\theta)$$\n",
    "    \n",
    "or \n",
    "    \n",
    "$$cos(\\frac{k\\pi}{2} + wt) = - tf'cos(\\frac{k\\pi}{2} + wt)$$\n",
    "    \n",
    "$$wt = cot(\\theta)$$\n",
    "    \n",
    "    \n",
    "by positive y-axis:\n",
    "    \n",
    "    \n",
    "$$y=-xwt$$\n",
    "    \n",
    "$$vtsin(\\theta) = -vtcos(\\theta)wt$$\n",
    "    \n",
    "$$sin(\\theta) = -wtcos(\\theta)$$\n",
    "    \n",
    "$$wt = -tan(\\theta)$$"
   ]
  },
  {
   "cell_type": "markdown",
   "id": "4b1a5fad-5b5f-4216-b64a-2d68965b359e",
   "metadata": {},
   "source": [
    "### <center> Formula for zero term in the intersection points seuence\n",
    "    \n",
    "$$t_0 = \\frac{|x_l|}{v}$$\n",
    "    \n",
    "Switch binary term by nth term for t(0)\n",
    "\n",
    "$$ N_{(n)} = 1 - \\frac{n}{X_{(n)}^{[1, n]}}$$\n",
    "    \n",
    "$$ N_{(n)} = 1, \\quad\\quad n = 0$$\n",
    "    \n",
    "$$ N_{(n)} = 0, \\quad\\quad n > 0$$\n",
    "    \n",
    "and t(n) > 0\n",
    "    \n",
    "$$\\frac{n}{X_{(n)}^{[1, n]}}$$"
   ]
  },
  {
   "cell_type": "markdown",
   "id": "e8362450-10da-4c9a-a9b3-7cd748c99521",
   "metadata": {
    "tags": []
   },
   "source": [
    "### <center>Binary function to determine the state of the current derivative relative to the initial derivative at the corresponding intersection point of the spiral with the y-axis.\n",
    "    \n",
    "    \n",
    "$$D_{(x`_0, x`_t)}^{[0, 1]}  = \\frac{\\frac{x_0}{|{X_{(x_0)}^{[1, x_0]}}|} + \\frac{x_t}{|{X_{(x_t)}^{[1, x_t]}}|}}{X_{(\\frac{x_0}{|{X_{(x_0)}^{[1, x_0]}}|} + \\frac{x_t}{|{X_{(x_t)}^{[1, x_t]}}|})}^{[1, \\frac{x_0}{|{X_{(x_0)}^{[1, x_0]}}|} + \\frac{x_t}{|{X_{(x_t)}^{[1, x_t]}}|}]}}     $$"
   ]
  },
  {
   "cell_type": "code",
   "execution_count": null,
   "id": "4786d6d8-f480-4906-863b-44fd98c92123",
   "metadata": {},
   "outputs": [],
   "source": [
    "x_0 = -3\n",
    "x_t = -56\n",
    "\n",
    "def Der_bin(x_0, x_t):\n",
    "    \n",
    "    x_0_sign = x_0/abs(X_bin(x_0))\n",
    "    x_t_sign = x_t/abs(X_bin(x_t))\n",
    "    print('x_0_sign:', x_0_sign)\n",
    "    print('x_t_sign:', x_t_sign)\n",
    "    \n",
    "    print('x_0_sign + x_t_sign: ', x_0_sign + x_t_sign)\n",
    "    print('X_bin(x_0_sign + x_t_sign): ', X_bin(x_0_sign + x_t_sign))\n",
    "    \n",
    "    return (x_0_sign + x_t_sign)/X_bin(x_0_sign + x_t_sign)\n",
    "\n",
    "Der_bin(x_0, x_t)"
   ]
  },
  {
   "cell_type": "markdown",
   "id": "ef8631a9-438e-46bd-8b13-b59c117ecf5e",
   "metadata": {},
   "source": [
    "$$\\Delta \\theta_{(w,k)} = \\frac{1 - \\frac{w}{|w|}}{2}(\\lceil k \\rceil - \\lfloor k \\rfloor)(\\pi(1 - \\lfloor k + 1 \\rfloor- k + \\frac{1 + (-1)^{\\lfloor k+1\\rfloor}}{2})) +\\frac{\\pi}{2}(\\lfloor k + 1 \\rfloor- k + \\frac{1 + (-1)^{\\lfloor k+1\\rfloor}}{2}).\\quad\\quad\\quad\\quad (114)$$"
   ]
  },
  {
   "cell_type": "markdown",
   "id": "2642f177-81fb-487e-82da-150d74b278f9",
   "metadata": {},
   "source": [
    "### <center> Formula for the zero intersection point coefficients\n",
    "    \n",
    "$$B_{(\\frac{\\lfloor k \\rfloor}{2})}^{[0,1]} = \\lceil \\frac{\\lfloor k \\rfloor}{2} \\rceil - \\lfloor \\frac{\\lfloor k \\rfloor}{2} \\rfloor $$\n",
    "    \n",
    "$$ \\left(\\frac{(k-1)}{X_{(k-1)}^{[1, k-1]}} \\right) \\left( \\frac{(k-3)}{X_{(k-3)}^{[1, k-3]}} \\right)$$    \n",
    "    \n",
    "K_sign - Indicates whether the line is in the 2nd or 3rd quadrant or not.    \n",
    "    \n",
    "$$K = \\lfloor \\frac{1 + \\frac{k-1}{|X_{(k-1)}^{[1, k-1]}|} \\frac{k-3}{|X_{(k-3)}^{[1, k-3]}|} \\frac{x_l}{|X_{(x_l)}^{[1, x_l]}|}}{2} \\rfloor$$\n",
    "    \n",
    "KWX - Indicates whether the initial angle and the line are on the same side of the y-axis.\n",
    "    \n",
    "$$\n",
    "KWX = \\left(\n",
    "1- \\frac{k-1}{|X_{(k-1)}^{[1, k-1]}|}\n",
    "\\right)\n",
    "\\left(\n",
    "\\frac{\\frac{x_l}{|X_{(x_l)}^{[1, x_l]}|} - \\frac{w}{|X_{(w)}^{[1, w]}|} }\n",
    "{X_{(\\frac{x_l}{|X_{(x_l)}^{[1, x_l]}|} - \\frac{w}{|X_{(w)}^{[1, w]}|})}^{[1, \\frac{x_l}{|X_{(x_l)}^{[1, x_l]}|} - \\frac{w}{|X_{(w)}^{[1, w]}|}]}} \n",
    "\\right) + \n",
    "\\left(\n",
    "1- \\frac{k-3}{|X_{(k-3)}^{[1, k-3]}|}\n",
    "\\right)\n",
    "\\left(\n",
    "\\frac{\\frac{x_l}{|X_{(x_l)}^{[1, x_l]}|} + \\frac{w}{|X_{(w)}^{[1, w]}|} }\n",
    "{X_{(\\frac{x_l}{|X_{(x_l)}^{[1, x_l]}|} + \\frac{w}{|X_{(w)}^{[1, w]}|})}^{[1, \\frac{x_l}{|X_{(x_l)}^{[1, x_l]}|} + \\frac{w}{|X_{(w)}^{[1, w]}|}]}} \n",
    "\\right)\n",
    "$$\n",
    "  \n",
    "Initial time     \n",
    "    \n",
    "$$\\Delta\\theta = \\frac{w}{|X_{(w)}^{[1, w]}|}\\left(\\lfloor k+(1+ \\frac{\\frac{w}{|X_{(w)}^{[1, w]}|}}{2})\\rfloor -k \\right) $$\n",
    "    \n",
    "addition term\n",
    "    \n",
    "$$add = \\left( B_{(\\frac{\\lfloor k \\rfloor}{2})}^{[0,1]} \\right) \\lfloor \\frac{(1+ \\frac{w}{|X_{(w)}^{[1, w]}|})}{2} \\rfloor + \\left(1 - B_{(\\frac{\\lfloor k \\rfloor}{2})}^{[0,1]}\\right) \\lfloor \\frac{(1 - \\frac{w}{|X_{(w)}^{[1, w]}|})}{2} \\rfloor  $$\n",
    "\n",
    "Whole formula\n",
    "    \n",
    "$$\\Delta\\theta(w, k)  = \\frac{\\pi}{2}\n",
    "\\left( \\left(\\frac{k-1}{X_{(k-1)}^{[1, k-1]}} \\right)\n",
    "\\left( \\frac{k-3}{X_{(k-3)}^{[1, k-3]}} \\right) \n",
    "\\left(  \\frac{w}{|X_{(w)}^{[1, w]}|}\n",
    "\\left(\\lfloor k+(\\frac{1+ \\frac{w}{|X_{(w)}^{[1, w]}|}}{2})\\rfloor -k \\right)     +  \n",
    "\\left( B_{(\\frac{\\lfloor k \\rfloor}{2})}^{[0,1]} \\right)     \\lfloor \\frac{1+ \\frac{w}{|X_{(w)}^{[1, w]}|}}{2} \\rfloor    +    \n",
    "\\left(1 - B_{(\\frac{\\lfloor k \\rfloor}{2})}^{[0,1]}\\right) \\lfloor \\frac{1 - \\frac{w}{|X_{(w)}^{[1, w]}|}}{2} \\rfloor \\right) +  \n",
    "\\frac{2w}{X_{(w)}^{[1, w]}} \n",
    "\\left( 1 - \\left(\\frac{k-1}{X_{(k-1)}^{[1, k-1]}} \\right) \n",
    "\\left( \\frac{k-3}{X_{(k-3)}^{[1, k-3]}} \\right)\\right) \\right) $$\n"
   ]
  },
  {
   "cell_type": "markdown",
   "id": "351ff34f-93dd-4101-826f-1d097fc92049",
   "metadata": {},
   "source": []
  },
  {
   "cell_type": "markdown",
   "id": "7af7d520-ddc5-4df4-85ca-fa554c2313b8",
   "metadata": {},
   "source": [
    "$$\n",
    "\\left(  + \n",
    "\\lfloor \\frac{1 + \\frac{k-1}{|X_{(k-1)}^{[1, k-1]}|} \\frac{k-3}{|X_{(k-3)}^{[1, k-3]}|} \\frac{x_l}{|X_{(x_l)}^{[1, x_l]}|}}{2} \\rfloor  \\right)\n",
    "\\left (1- \\frac{n} {X_{(n)}^{[1, n]}} \\right) \\left (|\\frac{x_l} {X_{(v)}^{[1, v]}}| \\right) +\n",
    "\\left(\\frac{n} {X_{(n)}^{[1, n]}} \\right)\n",
    "\\left( \\frac{\\Delta\\theta + (n-1)\\pi}{|w|} \\right)$$"
   ]
  },
  {
   "cell_type": "markdown",
   "id": "7a4f5ce8-1251-46c6-b699-7886a781c163",
   "metadata": {},
   "source": [
    "## <center> Extracting an arbitrary value from a function when the function equals zero.\n",
    "    \n",
    "    \n",
    "$$u = a^{1 - \\frac{x}{X_{(x)}^{[1, x]}}} X_{(x)}^{[1, x]}$$\n",
    "    \n",
    "$$X_{(x)}^{[1, x]} = \\frac{1}    {x^{0^{|x|}-1}}$$    \n"
   ]
  },
  {
   "cell_type": "code",
   "execution_count": null,
   "id": "4ea9c4e1-86ce-487f-8ba1-c5b8cc7fbea8",
   "metadata": {},
   "outputs": [],
   "source": [
    "w = np.linspace(0, 10, 200)\n",
    "v = 1\n",
    "t = 1\n",
    "k = 0\n",
    "dy_dw = v * t**2 *np.cos(k*np.pi/2 + w*t)\n",
    "dx_dw = -v * t**2 *np.sin(k*np.pi/2 + w*t)\n",
    "plt.plot(w, dy_dw)\n",
    "plt.plot(w, dx_dw)\n",
    "\n",
    "plt.show()"
   ]
  },
  {
   "cell_type": "code",
   "execution_count": null,
   "id": "1f639b26-ef5e-49a0-9bf2-1c16fdba88ae",
   "metadata": {},
   "outputs": [],
   "source": [
    "def create_value(value, variable, arg_coord):\n",
    "    x_binary = X_bin(variable, 1,arg_coord)\n",
    "    power_degree = 1 - (variable/x_binary)\n",
    "    # print('x_binary: ', x_binary, 'variable: ', variable, 'variable/x_binary: ', variable/x_binary)\n",
    "    # print('power_degree: ', power_degree)\n",
    "    \n",
    "    result = (value**power_degree)* x_binary\n",
    "    \n",
    "    return result"
   ]
  },
  {
   "cell_type": "code",
   "execution_count": null,
   "id": "37a83ba3-bc98-43a0-9ab8-c1d6e13c21d3",
   "metadata": {},
   "outputs": [],
   "source": [
    "\n",
    "v, k, w,= 2.43, 0, 1.24\n",
    "def get_sum(t):\n",
    "    \n",
    "    # v, k, w = 1, 0, 1\n",
    "    \n",
    "    x = get_nth_deg_x_derivative(0, t, v, w, k)\n",
    "    y = get_nth_deg_y_derivative(0, t, v, w, k)\n",
    "    dy_dt = get_nth_deg_y_derivative(1, t, v, w, k)\n",
    "    dx_dt = get_nth_deg_y_derivative(1, t, v, w, k)\n",
    "    \n",
    "    return x + y + dy_dt + dx_dt \n",
    "\n",
    "sums_derivatives = np.array([get_sum(t) for t in times])"
   ]
  },
  {
   "cell_type": "code",
   "execution_count": null,
   "id": "a83c9820-6408-4410-ad6d-775e094ed23e",
   "metadata": {},
   "outputs": [],
   "source": [
    "def X_bin(x, k, arg_coord):\n",
    "    return (x ** (0 ** abs(x - arg_coord) - k)) ** -1\n",
    "\n",
    "\n",
    "def binary_factor(a, x, k, arg):\n",
    "\n",
    "    x_bin_1 = X_bin(x - arg, k, arg)\n",
    "    # x_bin_2 = X_bin(x, k, arg)\n",
    "    \n",
    "    # print('x_bin_1: ', x_bin_1, '  ', 1 - (((x - arg) / x_bin_1)))\n",
    "    return a ** (1 - (((x - arg) / x_bin_1) ))"
   ]
  },
  {
   "cell_type": "code",
   "execution_count": null,
   "id": "9fb41588-89b2-456b-9cfe-64356c6b8876",
   "metadata": {
    "tags": []
   },
   "outputs": [],
   "source": [
    "times = np.linspace(-2*np.pi, 2*np.pi, 100)\n",
    "# arg = 3.9983906500233743\n",
    "k = 1\n",
    "arg = times[60]\n",
    "free_value = 6\n",
    "# plt.plot(times, [binary_factor(2, t,1 , arg) * X_bin(t, 3, arg) for t in times])\n",
    "plt.scatter(times, [binary_factor(free_value, t, k, arg)*X_bin(t, k, arg) for t in times], s=5)\n",
    "\n",
    "\n",
    "plt.show()\n",
    "# print(times)"
   ]
  },
  {
   "cell_type": "code",
   "execution_count": null,
   "id": "b16463b8-9ce7-49c5-b695-879ba8def2ae",
   "metadata": {},
   "outputs": [],
   "source": [
    "x = 0\n",
    "c = 0\n",
    "k = 1\n",
    "a = 2\n",
    "\n",
    "print('a ** (1 - x /(x ** (0 ** abs(x)-1))**-1): ', a ** (1 - x /(x ** (0 ** abs(x)-1))**-1))\n",
    "print()\n",
    "print('0 ** abs(x-c): ', 0 ** abs(x-c))\n",
    "print('1/(x ** (0 ** abs(x)-1)): ', (x ** (0 ** abs(x)-1))**-1)\n",
    "print('k * (x /(x ** (0 ** abs(x)-1))**-1): ', k * (x /(x ** (0 ** abs(x)-1))**-1))\n",
    "print('0 ** abs(x-c) - k * (x /(x ** (0 ** abs(x)-1))**-1): ', 0 ** abs(x-c) - k * (x /(x ** (0 ** abs(x)-1))**-1))\n",
    "print()\n",
    "print('x ** (0 ** abs(x-c) - k * (x /(x ** (0 ** abs(x)-1))**-1)): ', x ** (0 ** abs(x-c) - k * (x /(x ** (0 ** abs(x)-1))**-1)))"
   ]
  },
  {
   "cell_type": "code",
   "execution_count": null,
   "id": "4c98ca99-7d4e-4da7-9749-c5faf6b2919c",
   "metadata": {},
   "outputs": [],
   "source": [
    "base = 2\n",
    "x = X_bin(base, 0.25)\n",
    "print(x)\n",
    "lg(x, base)\n"
   ]
  },
  {
   "cell_type": "code",
   "execution_count": null,
   "id": "ae31e385-c675-470e-881a-cb4eb24436d4",
   "metadata": {},
   "outputs": [],
   "source": []
  },
  {
   "cell_type": "code",
   "execution_count": null,
   "id": "a1a375dc-da1f-49d4-8c74-5ff5e4f2ae73",
   "metadata": {},
   "outputs": [],
   "source": []
  }
 ],
 "metadata": {
  "kernelspec": {
   "display_name": "Python 3 (ipykernel)",
   "language": "python",
   "name": "python3"
  },
  "language_info": {
   "codemirror_mode": {
    "name": "ipython",
    "version": 3
   },
   "file_extension": ".py",
   "mimetype": "text/x-python",
   "name": "python",
   "nbconvert_exporter": "python",
   "pygments_lexer": "ipython3",
   "version": "3.9.13"
  }
 },
 "nbformat": 4,
 "nbformat_minor": 5
}
