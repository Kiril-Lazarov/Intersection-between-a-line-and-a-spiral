{
 "cells": [
  {
   "cell_type": "markdown",
   "id": "900c1ee0-13dc-435e-bdcb-7232fed979ff",
   "metadata": {},
   "source": [
    "$$I = \\lim_{n\\to\\infty}v\\sum_{i=0}^{n} \\sqrt{(t_{n+1} - t_n)^2 + 2t_{n+1}t_n(1-cos(w(t_{n+1} - t_n))}$$\n",
    "\n",
    "\n",
    "$$\\frac{dx}{dt} = v(cos(k\\frac{\\pi}{2} + wt) - wtsin(k\\frac{\\pi}{2} + wt))$$\n",
    "\n",
    "$$\\frac{dy}{dt} = v(sin(k\\frac{\\pi}{2} + wt) + wtcos(k\\frac{\\pi}{2} + wt))$$\n",
    "\n",
    "\n",
    "$$I = \\int_{t_0}^{t_f} \\sqrt{\\left( \\frac{dx}{dt} \\right) ^ 2 + \\left( \\frac{dy}{dt}\\right)^2}dt$$\n",
    "\n",
    "$$I = v\\int_{t_0}^{t_f} \\sqrt{1 + w^2t^2}dt$$\n",
    "\n",
    "$$x(t) = vtcos(k\\frac{\\pi}{2} + wt)$$\n",
    "$$y(t) = vtsin(k\\pi/2 + wt)$$\n",
    "\n",
    "$$d = \\sqrt{(x_{t_{n+1}} - x_{t_n})^2  + (y_{t_{n+1}} - y_{t_n})^2}$$"
   ]
  },
  {
   "cell_type": "markdown",
   "id": "bb3922fe-331f-43bf-861e-9da07d352585",
   "metadata": {},
   "source": [
    "$$\\frac{dx}{dt} = v(cos(k\\frac{\\pi}{2} + wt) - wtsin(k\\frac{\\pi}{2} + wt))$$"
   ]
  },
  {
   "cell_type": "markdown",
   "id": "0544229d-e64e-4125-900b-63c61567eee3",
   "metadata": {},
   "source": [
    "$$x(t) = vtcos(k\\frac{\\pi}{2} + wt)$$\n",
    "\n",
    "$$\\frac{dx}{dt} = v(cos(k\\frac{\\pi}{2} + wt) - wtsin(k\\frac{\\pi}{2} + wt))$$\n",
    "\n",
    "$$\\frac{d^2x}{dt^2} = vw[-2sin(k\\frac{\\pi}{2} + wt) - wtcos(k\\frac{\\pi}{2} + wt)]$$\n",
    "\n",
    "$$\\frac{d^3x}{dt^3} = vw^2[-3cos(k\\frac{\\pi}{2} + wt) + wtsin(k\\frac{\\pi}{2} + wt)]$$\n",
    "\n",
    "$$\\frac{d^4x}{dt^4} = vw^3[4sin(k\\frac{\\pi}{2}) + wtcos(k\\frac{\\pi}{2})]$$\n",
    "\n",
    "General formula for the n-th derivative of $x$ as a function of $t$:\n",
    "\n",
    "$$\\frac{d^nx}{dt^n} = vw^{n-1} \\left[ n\\frac{d^{n-1}x}{dt^{n-1}}cos(k\\frac{\\pi}{2} + wt) - wt\\frac{d^{n-1}x}{dt^{n-1}}sin(k\\frac{\\pi}{2} + wt)\\right]$$"
   ]
  },
  {
   "cell_type": "markdown",
   "id": "b9ac0fea-a5df-437c-b1bb-a44c78ef1972",
   "metadata": {},
   "source": [
    "$$(t) = vtsin(k\\frac{\\pi}{2} + wt)$$\n",
    "\n",
    "$$\\frac{dy}{dt} = v(sin(k\\frac{\\pi}{2} + wt) + wtcos(k\\frac{\\pi}{2} + wt))$$\n",
    "\n",
    "\n",
    "General formula for the n-th derivative of $y$ as a function of $t$:\n",
    "\n",
    "$$\\frac{d^ny}{dt^n} = vw^{n-1} \\left[ n\\frac{d^{n-1}x}{dt^{n-1}}sin(k\\frac{\\pi}{2} + wt) + wt\\frac{d^{n-1}x}{dt^{n-1}}cos(k\\frac{\\pi}{2} + wt)\\right]$$"
   ]
  },
  {
   "cell_type": "code",
   "execution_count": 1,
   "id": "955a9d8d-46b9-4140-b01a-baf2ce8502ee",
   "metadata": {},
   "outputs": [
    {
     "data": {
      "text/plain": [
       "1.3817732906760363"
      ]
     },
     "execution_count": 1,
     "metadata": {},
     "output_type": "execute_result"
    }
   ],
   "source": [
    "import numpy as np\n",
    "v = 1\n",
    "w = 1\n",
    "k = 0\n",
    "t = 1\n",
    "\n",
    "(v / w**2) * (np.sin(k * np.pi/2 + w*t)) + w * t * np.cos(k*np.pi/2 + w * t)"
   ]
  },
  {
   "cell_type": "code",
   "execution_count": null,
   "id": "0b4325d8-e384-4d65-bfac-a4da9484a952",
   "metadata": {},
   "outputs": [],
   "source": []
  },
  {
   "cell_type": "markdown",
   "id": "077cdb71-4556-4317-8c92-2d2a550574f6",
   "metadata": {},
   "source": [
    "$$\\frac{d^nx}{dt^n} = vw^{n-1} \\left[ n\\frac{d^{n-1}x}{dt^{n-1}}cos(k\\frac{\\pi}{2} + wt) - wt\\frac{d^{n-1}x}{dt^{n-1}}sin(k\\frac{\\pi}{2} + wt)\\right]$$\n",
    "\n",
    "$$\\frac{d^ny}{dt^n} = vw^{n-1} \\left[ n\\frac{d^{n-1}y}{dt^{n-1}}sin(k\\frac{\\pi}{2} + wt) + wt\\frac{d^{n-1}y}{dt^{n-1}}cos(k\\frac{\\pi}{2} + wt)\\right]$$"
   ]
  },
  {
   "cell_type": "markdown",
   "id": "1cf0c751-b40c-4149-8e6c-09334286c3c0",
   "metadata": {},
   "source": [
    "$$Formula for radius vector$$\n",
    "\n",
    "$$|\\vec R|_{n, m} = \\sqrt {f^n(x)^2 + f^m(y)^2}$$\n",
    "\n",
    "$$\\theta = k\\frac{\\pi}{2} + wt$$\n",
    "\n",
    "\n",
    "Evaluation for x\n",
    "\n",
    "$$f^n(x) = vw^{n-1}nf^{n-1}cos\\theta - vw^{n-1}wtf^{n-1}sin\\theta$$\n",
    "\n",
    "$$f^n(x) = vw^{n-1} \\left ( nf^{n-1}cos\\theta - wtf^{n-1}sin\\theta\\right)$$\n",
    "\n",
    "$$f^n(x)^2 = (vw^{n-1})^2 \\left ( nf^{n-1}cos\\theta - wtf^{n-1}sin\\theta\\right)^2$$\n",
    "\n",
    "$$f^n(x)^2 = (vw^{n-1})^2 \\left ( n^2f^{n-1}cos^2\\theta - 2nwtf^{n-1}cos\\theta f^{n-1}sin\\theta + (wt)^2f^{n-1}sin^2\\theta\\right)$$\n",
    "\n",
    "\n",
    "For y \n",
    "\n",
    "$$f^m(y) = vw^{m-1} \\left ( mf^{m-1}sin\\theta + wtf^{m-1}cos\\theta\\right)$$\n",
    "\n",
    "$$f^m(y)^2 = (vw^{m-1})^2 \\left ( mf^{m-1}sin\\theta + wtf^{m-1}cos\\theta\\right)^2$$\n",
    "\n",
    "$$f^m(y)^2 = (vw^{m-1})^2 \\left ( m^2f^{m-1}sin^2\\theta + 2mwtf^{m-1}sin\\theta f^{m-1}cos\\theta + (wt)^2f^{m-1}cos^2\\theta\\right)$$\n",
    "\n",
    "From here:\n",
    "\n",
    "$$|\\vec R|_{n, m} = \\sqrt {(vw^{n-1})^2 \\left ( nf^{n-1}cos\\theta - wtf^{n-1}sin\\theta\\right)^2 + (vw^{m-1})^2 \\left ( mf^{m-1}sin\\theta + wtf^{m-1}cos\\theta\\right)^2}$$\n",
    "\n",
    "$$|\\vec R|_{n, m} = v\\sqrt {(w^{n-1})^2 \\left ( nf^{n-1}cos\\theta - wtf^{n-1}sin\\theta\\right)^2 + (w^{m-1})^2 \\left ( mf^{m-1}sin\\theta + wtf^{m-1}cos\\theta\\right)^2}$$\n",
    "\n",
    "If n = m:\n",
    "\n",
    "$$|\\vec R|_n = \\sqrt {f^n(x)^2 + f^n(y)^2}$$\n",
    "\n",
    "$$|\\vec R|_n = \\sqrt {(vw^{n-1})^2 \\left ( nf^{n-1}cos\\theta - wtf^{n-1}sin\\theta\\right)^2 + (vw^{n-1})^2 \\left ( nf^{n-1}sin\\theta + wtf^{n-1}cos\\theta\\right)^2}$$\n",
    "\n",
    "\n",
    "$$|\\vec R|_n = vw^{n-1}\\sqrt { \\left ( nf^{n-1}cos\\theta - wtf^{n-1}sin\\theta\\right)^2 + \\left ( nf^{n-1}sin\\theta + wtf^{n-1}cos\\theta\\right)^2}$$\n",
    "\n",
    "$$|\\vec R|_n = vw^{n-1}\\sqrt { n^2f^{n-1}cos^2\\theta - 2nwtf^{n-1}cos\\theta f^{n-1}sin\\theta + (wt)^2f^{n-1}sin^2\\theta +  n^2f^{n-1}sin^2\\theta + 2nwtf^{n-1}sin\\theta f^{n-1}cos\\theta + (wt)^2f^{n-1}cos^2\\theta}$$\n",
    "\n",
    "$$|\\vec R|_n = vw^{n-1}\\sqrt { n^2f^{n-1}cos^2\\theta + (wt)^2f^{n-1}sin^2\\theta +  n^2f^{n-1}sin^2\\theta + (wt)^2f^{n-1}cos^2\\theta}$$\n",
    "\n",
    "Factor out $n^2$ and $(wt)^2$ terms:\n",
    "\n",
    "$$|\\vec R|_n = vw^{n-1}\\sqrt { n^2(f^{n-1}cos^2\\theta + f^{n-1}sin^2\\theta)  + (wt)^2(f^{n-1}sin^2\\theta + f^{n-1}cos^2\\theta)}$$\n",
    "\n",
    "$$f^{n-1}cos^2\\theta + f^{n-1}sin^2\\theta = sin^2\\theta + cos^2\\theta = 1$$\n",
    "\n",
    "$$|\\vec R|_n = vw^{n-1}\\sqrt { n^2 + (wt)^2}$$\n",
    "\n",
    "for n = 0 we have a radius vector of an Archimedean spiral:\n",
    "\n",
    "$$|\\vec R|_0 = vw^{0-1}\\sqrt { 0^2 + (wt)^2}$$\n",
    "\n",
    "$$|\\vec R|_0 = vw^{-1}wt$$\n",
    "\n",
    "$$|\\vec R|_0 = vt$$\n",
    "\n",
    "for n = 1:\n",
    "\n",
    "$$|\\vec R|_1 = vw^{1-1}\\sqrt { 1^2 + (wt)^2}$$\n",
    "\n",
    "$$|\\vec R|_1 = v\\sqrt { 1 + (wt)^2}$$\n",
    "\n",
    "n=2:\n",
    "\n",
    "$$|\\vec R|_2 = vw\\sqrt { 4 + (wt)^2}$$\n",
    "\n",
    "n = 3:\n",
    "\n",
    "$$|\\vec R|_3 = vw^2\\sqrt { 9 + (wt)^2}$$\n",
    "\n",
    "n = -1:\n",
    "\n",
    "$$|\\vec R|_{-1} = vw^{-1-1}\\sqrt { -1^2 + (wt)^2}$$\n",
    "\n",
    "$$|\\vec R|_{-1} = \\frac{v}{w^2}\\sqrt { 1 + (wt)^2}$$\n",
    "\n",
    "and so on..."
   ]
  }
 ],
 "metadata": {
  "kernelspec": {
   "display_name": "Python 3 (ipykernel)",
   "language": "python",
   "name": "python3"
  },
  "language_info": {
   "codemirror_mode": {
    "name": "ipython",
    "version": 3
   },
   "file_extension": ".py",
   "mimetype": "text/x-python",
   "name": "python",
   "nbconvert_exporter": "python",
   "pygments_lexer": "ipython3",
   "version": "3.9.13"
  }
 },
 "nbformat": 4,
 "nbformat_minor": 5
}
