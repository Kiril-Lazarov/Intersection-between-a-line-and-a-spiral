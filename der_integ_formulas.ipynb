{
 "cells": [
  {
   "cell_type": "markdown",
   "id": "900c1ee0-13dc-435e-bdcb-7232fed979ff",
   "metadata": {},
   "source": [
    "$$I = \\lim_{n\\to\\infty}v\\sum_{i=0}^{n} \\sqrt{(t_{n+1} - t_n)^2 + 2t_{n+1}t_n(1-cos(w(t_{n+1} - t_n))}$$\n",
    "\n",
    "\n",
    "$$\\frac{dx}{dt} = v(cos(k\\frac{\\pi}{2} + wt) - wtsin(k\\frac{\\pi}{2} + wt))$$\n",
    "\n",
    "$$\\frac{dy}{dt} = v(sin(k\\frac{\\pi}{2} + wt) + wtcos(k\\frac{\\pi}{2} + wt))$$\n",
    "\n",
    "\n",
    "$$I = \\int_{t_0}^{t_f} \\sqrt{\\left( \\frac{dx}{dt} \\right) ^ 2 + \\left( \\frac{dy}{dt}\\right)^2}dt$$\n",
    "\n",
    "$$I = v\\int_{t_0}^{t_f} \\sqrt{1 + w^2t^2}dt$$\n",
    "\n",
    "$$x(t) = vtcos(k\\frac{\\pi}{2} + wt)$$\n",
    "$$y(t) = vtsin(k\\pi/2 + wt)$$\n",
    "\n",
    "$$d = \\sqrt{(x_{t_{n+1}} - x_{t_n})^2  + (y_{t_{n+1}} - y_{t_n})^2}$$"
   ]
  },
  {
   "cell_type": "markdown",
   "id": "bb3922fe-331f-43bf-861e-9da07d352585",
   "metadata": {},
   "source": [
    "$$\\frac{dx}{dt} = v(cos(k\\frac{\\pi}{2} + wt) - wtsin(k\\frac{\\pi}{2} + wt))$$"
   ]
  },
  {
   "cell_type": "markdown",
   "id": "0544229d-e64e-4125-900b-63c61567eee3",
   "metadata": {},
   "source": [
    "$$x(t) = vtcos(k\\frac{\\pi}{2} + wt)$$\n",
    "\n",
    "$$\\frac{dx}{dt} = v(cos(k\\frac{\\pi}{2} + wt) - wtsin(k\\frac{\\pi}{2} + wt))$$\n",
    "\n",
    "$$\\frac{d^2x}{dt^2} = vw[-2sin(k\\frac{\\pi}{2} + wt) - wtcos(k\\frac{\\pi}{2} + wt)]$$\n",
    "\n",
    "$$\\frac{d^3x}{dt^3} = vw^2[-3cos(k\\frac{\\pi}{2} + wt) + wtsin(k\\frac{\\pi}{2} + wt)]$$\n",
    "\n",
    "$$\\frac{d^4x}{dt^4} = vw^3[4sin(k\\frac{\\pi}{2}) + wtcos(k\\frac{\\pi}{2})]$$\n",
    "\n",
    "General formula for the n-th derivative of $x$ as a function of $t$:\n",
    "\n",
    "$$\\frac{d^nx}{dt^n} = vw^{n-1} \\left[ n\\frac{d^{n-1}x}{dt^{n-1}}cos(k\\frac{\\pi}{2} + wt) - wt\\frac{d^{n-1}x}{dt^{n-1}}sin(k\\frac{\\pi}{2} + wt)\\right]$$"
   ]
  },
  {
   "cell_type": "code",
   "execution_count": null,
   "id": "5f745eb4-bcda-497b-af0d-060b22696612",
   "metadata": {},
   "outputs": [],
   "source": []
  }
 ],
 "metadata": {
  "kernelspec": {
   "display_name": "Python 3 (ipykernel)",
   "language": "python",
   "name": "python3"
  },
  "language_info": {
   "codemirror_mode": {
    "name": "ipython",
    "version": 3
   },
   "file_extension": ".py",
   "mimetype": "text/x-python",
   "name": "python",
   "nbconvert_exporter": "python",
   "pygments_lexer": "ipython3",
   "version": "3.9.13"
  }
 },
 "nbformat": 4,
 "nbformat_minor": 5
}
